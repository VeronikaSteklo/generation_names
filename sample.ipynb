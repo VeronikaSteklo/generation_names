{
 "cells": [
  {
   "metadata": {
    "ExecuteTime": {
     "end_time": "2025-07-19T10:22:53.043029Z",
     "start_time": "2025-07-19T10:22:53.039820Z"
    }
   },
   "cell_type": "code",
   "source": [
    "import json\n",
    "import csv\n",
    "\n",
    "import pandas as pd"
   ],
   "id": "fbc121e30a2defb3",
   "outputs": [],
   "execution_count": 6
  },
  {
   "metadata": {
    "ExecuteTime": {
     "end_time": "2025-07-19T10:21:59.395305Z",
     "start_time": "2025-07-19T10:21:59.380670Z"
    }
   },
   "cell_type": "code",
   "source": [
    "with open(\"data/data_proza_ru.json\", \"r\") as f:\n",
    "    data = json.load(f)"
   ],
   "id": "106ea760f19e1974",
   "outputs": [],
   "execution_count": 4
  },
  {
   "metadata": {
    "ExecuteTime": {
     "end_time": "2025-07-19T10:24:05.671677Z",
     "start_time": "2025-07-19T10:24:05.668244Z"
    }
   },
   "cell_type": "code",
   "source": [
    "csv_data = []\n",
    "for category, works in data.items():\n",
    "    for work_name, work_data in works.items():\n",
    "        csv_data.append({\n",
    "            \"genre\": category,\n",
    "            \"name\": work_name,\n",
    "            \"author\": work_data.get(\"author\", \"\"),\n",
    "            \"link\": work_data.get(\"link\", \"\"),\n",
    "            \"text\": work_data.get(\"text\", \"\")\n",
    "        })"
   ],
   "id": "280fa4f5ea154f03",
   "outputs": [],
   "execution_count": 8
  },
  {
   "metadata": {
    "ExecuteTime": {
     "end_time": "2025-07-19T10:24:06.137139Z",
     "start_time": "2025-07-19T10:24:06.117457Z"
    }
   },
   "cell_type": "code",
   "source": [
    "with open('data/data_proza_ru.csv', 'w', encoding='utf-8', newline='') as csv_file:\n",
    "    fieldnames = [\"genre\", \"name\", \"author\", \"link\", \"text\"]\n",
    "    writer = csv.DictWriter(csv_file, fieldnames=fieldnames)\n",
    "    writer.writeheader()\n",
    "    writer.writerows(csv_data)"
   ],
   "id": "cfb383e3835d8444",
   "outputs": [],
   "execution_count": 9
  },
  {
   "metadata": {},
   "cell_type": "code",
   "outputs": [],
   "execution_count": null,
   "source": "",
   "id": "5cbd3263f50d41a3"
  }
 ],
 "metadata": {
  "kernelspec": {
   "display_name": "Python 3",
   "language": "python",
   "name": "python3"
  },
  "language_info": {
   "codemirror_mode": {
    "name": "ipython",
    "version": 2
   },
   "file_extension": ".py",
   "mimetype": "text/x-python",
   "name": "python",
   "nbconvert_exporter": "python",
   "pygments_lexer": "ipython2",
   "version": "2.7.6"
  }
 },
 "nbformat": 4,
 "nbformat_minor": 5
}
