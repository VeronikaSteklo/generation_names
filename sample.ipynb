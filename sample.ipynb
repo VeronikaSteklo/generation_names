{
 "cells": [
  {
   "metadata": {
    "ExecuteTime": {
     "end_time": "2025-07-19T10:22:53.043029Z",
     "start_time": "2025-07-19T10:22:53.039820Z"
    }
   },
   "cell_type": "code",
   "source": [
    "import json\n",
    "import csv\n",
    "\n",
    "import pandas as pd"
   ],
   "id": "fbc121e30a2defb3",
   "outputs": [],
   "execution_count": 6
  },
  {
   "metadata": {
    "ExecuteTime": {
     "end_time": "2025-07-19T10:21:59.395305Z",
     "start_time": "2025-07-19T10:21:59.380670Z"
    }
   },
   "cell_type": "code",
   "source": [
    "with open(\"data/data_proza_ru.json\", \"r\") as f:\n",
    "    data = json.load(f)"
   ],
   "id": "106ea760f19e1974",
   "outputs": [],
   "execution_count": 4
  },
  {
   "metadata": {
    "ExecuteTime": {
     "end_time": "2025-07-19T10:24:05.671677Z",
     "start_time": "2025-07-19T10:24:05.668244Z"
    }
   },
   "cell_type": "code",
   "source": [
    "csv_data = []\n",
    "for category, works in data.items():\n",
    "    for work_name, work_data in works.items():\n",
    "        csv_data.append({\n",
    "            \"genre\": category,\n",
    "            \"name\": work_name,\n",
    "            \"author\": work_data.get(\"author\", \"\"),\n",
    "            \"link\": work_data.get(\"link\", \"\"),\n",
    "            \"text\": work_data.get(\"text\", \"\")\n",
    "        })"
   ],
   "id": "280fa4f5ea154f03",
   "outputs": [],
   "execution_count": 8
  },
  {
   "metadata": {
    "ExecuteTime": {
     "end_time": "2025-07-19T10:24:06.137139Z",
     "start_time": "2025-07-19T10:24:06.117457Z"
    }
   },
   "cell_type": "code",
   "source": [
    "with open('data/data_proza_ru.csv', 'w', encoding='utf-8', newline='') as csv_file:\n",
    "    fieldnames = [\"genre\", \"name\", \"author\", \"link\", \"text\"]\n",
    "    writer = csv.DictWriter(csv_file, fieldnames=fieldnames)\n",
    "    writer.writeheader()\n",
    "    writer.writerows(csv_data)"
   ],
   "id": "cfb383e3835d8444",
   "outputs": [],
   "execution_count": 9
  },
  {
   "metadata": {
    "ExecuteTime": {
     "end_time": "2025-07-22T10:05:40.882899Z",
     "start_time": "2025-07-22T10:05:40.676381Z"
    }
   },
   "cell_type": "code",
   "source": "import pandas as pd",
   "id": "5cbd3263f50d41a3",
   "outputs": [],
   "execution_count": 1
  },
  {
   "metadata": {
    "ExecuteTime": {
     "end_time": "2025-07-22T10:06:07.175915Z",
     "start_time": "2025-07-22T10:06:01.031822Z"
    }
   },
   "cell_type": "code",
   "source": "ds = pd.read_csv(\"data/data_tokenize.csv\")",
   "id": "50fa597b49fb19c5",
   "outputs": [],
   "execution_count": 2
  },
  {
   "metadata": {
    "ExecuteTime": {
     "end_time": "2025-07-22T10:06:35.320695Z",
     "start_time": "2025-07-22T10:06:35.313238Z"
    }
   },
   "cell_type": "code",
   "source": "ds.head()",
   "id": "ad3172bcc5068707",
   "outputs": [
    {
     "data": {
      "text/plain": [
       "                           title  \\\n",
       "0     Скромный Подиум Кристаллов   \n",
       "1                 Нас не догонят   \n",
       "2  Снежный шар. 200. Не по плану   \n",
       "3   Космическая Свита Примадонны   \n",
       "4                Боровая кантата   \n",
       "\n",
       "                                                text  \n",
       "0  ['скромный', 'подиум', 'кристаллов', 'иные', '...  \n",
       "1  ['правая', 'нога', 'словно', 'приросла', 'к', ...  \n",
       "2  ['снежный', 'шар', '200', 'не', 'по', 'плану',...  \n",
       "3  ['космическая', 'свита', 'примадонны', 'вокруг...  \n",
       "4  ['пасхальное', 'о', 'это', 'божественный', 'ле...  "
      ],
      "text/html": [
       "<div>\n",
       "<style scoped>\n",
       "    .dataframe tbody tr th:only-of-type {\n",
       "        vertical-align: middle;\n",
       "    }\n",
       "\n",
       "    .dataframe tbody tr th {\n",
       "        vertical-align: top;\n",
       "    }\n",
       "\n",
       "    .dataframe thead th {\n",
       "        text-align: right;\n",
       "    }\n",
       "</style>\n",
       "<table border=\"1\" class=\"dataframe\">\n",
       "  <thead>\n",
       "    <tr style=\"text-align: right;\">\n",
       "      <th></th>\n",
       "      <th>title</th>\n",
       "      <th>text</th>\n",
       "    </tr>\n",
       "  </thead>\n",
       "  <tbody>\n",
       "    <tr>\n",
       "      <th>0</th>\n",
       "      <td>Скромный Подиум Кристаллов</td>\n",
       "      <td>['скромный', 'подиум', 'кристаллов', 'иные', '...</td>\n",
       "    </tr>\n",
       "    <tr>\n",
       "      <th>1</th>\n",
       "      <td>Нас не догонят</td>\n",
       "      <td>['правая', 'нога', 'словно', 'приросла', 'к', ...</td>\n",
       "    </tr>\n",
       "    <tr>\n",
       "      <th>2</th>\n",
       "      <td>Снежный шар. 200. Не по плану</td>\n",
       "      <td>['снежный', 'шар', '200', 'не', 'по', 'плану',...</td>\n",
       "    </tr>\n",
       "    <tr>\n",
       "      <th>3</th>\n",
       "      <td>Космическая Свита Примадонны</td>\n",
       "      <td>['космическая', 'свита', 'примадонны', 'вокруг...</td>\n",
       "    </tr>\n",
       "    <tr>\n",
       "      <th>4</th>\n",
       "      <td>Боровая кантата</td>\n",
       "      <td>['пасхальное', 'о', 'это', 'божественный', 'ле...</td>\n",
       "    </tr>\n",
       "  </tbody>\n",
       "</table>\n",
       "</div>"
      ]
     },
     "execution_count": 3,
     "metadata": {},
     "output_type": "execute_result"
    }
   ],
   "execution_count": 3
  },
  {
   "metadata": {
    "ExecuteTime": {
     "end_time": "2025-07-22T10:08:01.926782Z",
     "start_time": "2025-07-22T10:08:01.925060Z"
    }
   },
   "cell_type": "code",
   "source": "first_row = ds.head(1)",
   "id": "93faf2020149d793",
   "outputs": [],
   "execution_count": 6
  },
  {
   "metadata": {
    "ExecuteTime": {
     "end_time": "2025-07-22T10:08:05.750685Z",
     "start_time": "2025-07-22T10:08:05.745889Z"
    }
   },
   "cell_type": "code",
   "source": "first_row",
   "id": "41b37fabf0d69534",
   "outputs": [
    {
     "data": {
      "text/plain": [
       "                        title  \\\n",
       "0  Скромный Подиум Кристаллов   \n",
       "\n",
       "                                                text  \n",
       "0  ['скромный', 'подиум', 'кристаллов', 'иные', '...  "
      ],
      "text/html": [
       "<div>\n",
       "<style scoped>\n",
       "    .dataframe tbody tr th:only-of-type {\n",
       "        vertical-align: middle;\n",
       "    }\n",
       "\n",
       "    .dataframe tbody tr th {\n",
       "        vertical-align: top;\n",
       "    }\n",
       "\n",
       "    .dataframe thead th {\n",
       "        text-align: right;\n",
       "    }\n",
       "</style>\n",
       "<table border=\"1\" class=\"dataframe\">\n",
       "  <thead>\n",
       "    <tr style=\"text-align: right;\">\n",
       "      <th></th>\n",
       "      <th>title</th>\n",
       "      <th>text</th>\n",
       "    </tr>\n",
       "  </thead>\n",
       "  <tbody>\n",
       "    <tr>\n",
       "      <th>0</th>\n",
       "      <td>Скромный Подиум Кристаллов</td>\n",
       "      <td>['скромный', 'подиум', 'кристаллов', 'иные', '...</td>\n",
       "    </tr>\n",
       "  </tbody>\n",
       "</table>\n",
       "</div>"
      ]
     },
     "execution_count": 7,
     "metadata": {},
     "output_type": "execute_result"
    }
   ],
   "execution_count": 7
  },
  {
   "metadata": {
    "ExecuteTime": {
     "end_time": "2025-07-22T10:09:45.332317Z",
     "start_time": "2025-07-22T10:09:45.330608Z"
    }
   },
   "cell_type": "code",
   "source": "a = first_row[\"text\"].values",
   "id": "d02c2e13e33b7532",
   "outputs": [],
   "execution_count": 13
  },
  {
   "metadata": {
    "ExecuteTime": {
     "end_time": "2025-07-22T10:09:45.840690Z",
     "start_time": "2025-07-22T10:09:45.838104Z"
    }
   },
   "cell_type": "code",
   "source": "a",
   "id": "f05cf887e725dc3",
   "outputs": [
    {
     "data": {
      "text/plain": [
       "array([\"['скромный', 'подиум', 'кристаллов', 'иные', 'камни', 'без', 'примерок', 'стоят', 'веками', 'в', 'музейном', 'сквере', '28', 'мая', '2022', 'г', 'когда', 'бог', 'создавал', 'человека', 'он', 'дал', 'ему', 'многое', 'но', 'самое', 'главное', 'бог', 'наделил', 'человека', 'мозгами', 'это', 'не', 'значит', 'что', 'остальным', 'жителям', 'планеты', 'не', 'дали', 'того', 'же', 'я', 'сейчас', 'говорю', 'о', 'людях', 'так', 'как', 'пишу', 'на', 'языке', 'людей', 'мои', 'стихи', 'не', 'велики', 'по', 'размеру', 'но', 'в', 'каждом', 'из', 'них', 'я', 'выразил', 'чтото', 'особое', 'надеюсь', 'что', 'данные', 'мысли', 'волнуют', 'не', 'только', 'меня', 'ведь', 'каждый', 'из', 'моих', 'читателей', 'является', 'соучастником', 'моих', 'чувств', 'и', 'хоть', 'большинство', 'моих', 'стихов', 'не', 'раскрыто', 'до', 'конца', 'надеюсь', 'что', 'дальше', 'над', 'каждой', 'темой', 'мы', 'будем', 'работать', 'вместе', 'если', 'же', 'когото', 'заинтересует', 'более', 'подробно', 'то', 'чем', 'я', 'занимаюсь', 'моя', 'авторская', 'школа', 'разработки', 'или', 'я', 'сам', 'то', 'свяжитесь', 'со', 'мной', 'с', 'уважением', 'автор', 'творческой', 'лаборатории', 'созвездие', 'леонардо', 'дмитрий', 'пинский']\"],\n",
       "      dtype=object)"
      ]
     },
     "execution_count": 14,
     "metadata": {},
     "output_type": "execute_result"
    }
   ],
   "execution_count": 14
  },
  {
   "metadata": {
    "ExecuteTime": {
     "end_time": "2025-07-22T10:11:56.767904Z",
     "start_time": "2025-07-22T10:11:56.759378Z"
    }
   },
   "cell_type": "code",
   "source": "ds['text_length'] = ds['text'].str.len()",
   "id": "c8c983dccce3f924",
   "outputs": [],
   "execution_count": 15
  },
  {
   "metadata": {
    "ExecuteTime": {
     "end_time": "2025-07-22T10:12:09.043430Z",
     "start_time": "2025-07-22T10:12:09.041729Z"
    }
   },
   "cell_type": "code",
   "source": "longest_row = ds.loc[ds['text_length'].idxmax()]",
   "id": "e486ba4bc136feab",
   "outputs": [],
   "execution_count": 16
  },
  {
   "metadata": {
    "ExecuteTime": {
     "end_time": "2025-07-22T10:12:14.387024Z",
     "start_time": "2025-07-22T10:12:14.380586Z"
    }
   },
   "cell_type": "code",
   "source": "longest_row",
   "id": "3698156b7d49dc9c",
   "outputs": [
    {
     "data": {
      "text/plain": [
       "title                            Чистый хозяин Собственного Мира\n",
       "text           ['чистый', 'хозяин', 'собственного', 'мира', '...\n",
       "text_length                                              3548505\n",
       "Name: 13478, dtype: object"
      ]
     },
     "execution_count": 17,
     "metadata": {},
     "output_type": "execute_result"
    }
   ],
   "execution_count": 17
  },
  {
   "metadata": {
    "ExecuteTime": {
     "end_time": "2025-07-22T10:15:35.305044Z",
     "start_time": "2025-07-22T10:15:34.598156Z"
    }
   },
   "cell_type": "code",
   "source": [
    "import re\n",
    "from typing import List\n",
    "\n",
    "import pandas as pd\n",
    "import nltk\n",
    "from nltk.tokenize import word_tokenize\n",
    "from nltk.corpus import stopwords\n",
    "from pymorphy3 import MorphAnalyzer"
   ],
   "id": "eea181f946c71a8b",
   "outputs": [],
   "execution_count": 20
  },
  {
   "metadata": {
    "ExecuteTime": {
     "end_time": "2025-07-22T10:15:35.673225Z",
     "start_time": "2025-07-22T10:15:35.308539Z"
    }
   },
   "cell_type": "code",
   "source": [
    "nltk.download(\"punkt\")\n",
    "nltk.download('stopwords')\n",
    "nltk.download('punkt_tab')"
   ],
   "id": "2f75b1b09ec051c5",
   "outputs": [
    {
     "name": "stderr",
     "output_type": "stream",
     "text": [
      "[nltk_data] Downloading package punkt to\n",
      "[nltk_data]     /Users/veronika_steklo/nltk_data...\n",
      "[nltk_data]   Package punkt is already up-to-date!\n",
      "[nltk_data] Downloading package stopwords to\n",
      "[nltk_data]     /Users/veronika_steklo/nltk_data...\n",
      "[nltk_data]   Package stopwords is already up-to-date!\n",
      "[nltk_data] Downloading package punkt_tab to\n",
      "[nltk_data]     /Users/veronika_steklo/nltk_data...\n",
      "[nltk_data]   Package punkt_tab is already up-to-date!\n"
     ]
    },
    {
     "data": {
      "text/plain": [
       "True"
      ]
     },
     "execution_count": 21,
     "metadata": {},
     "output_type": "execute_result"
    }
   ],
   "execution_count": 21
  },
  {
   "metadata": {
    "ExecuteTime": {
     "end_time": "2025-07-22T10:15:37.273698Z",
     "start_time": "2025-07-22T10:15:37.235500Z"
    }
   },
   "cell_type": "code",
   "source": [
    "morph = MorphAnalyzer()\n",
    "stop_words = stopwords.words('russian')\n",
    "extra_stopwords = ['это', 'который', 'весь', 'свой', 'такой', 'тем', 'чтобы']\n",
    "stop_words.extend(extra_stopwords)"
   ],
   "id": "5bc144216c2dda59",
   "outputs": [],
   "execution_count": 22
  },
  {
   "metadata": {
    "ExecuteTime": {
     "end_time": "2025-07-22T10:14:58.223157Z",
     "start_time": "2025-07-22T10:14:58.221351Z"
    }
   },
   "cell_type": "code",
   "source": "text = longest_row[\"text\"]",
   "id": "828763b457b59e49",
   "outputs": [],
   "execution_count": 19
  },
  {
   "metadata": {
    "ExecuteTime": {
     "end_time": "2025-07-22T10:19:56.735444Z",
     "start_time": "2025-07-22T10:15:56.194814Z"
    }
   },
   "cell_type": "code",
   "source": "text_ = [word for word in text if morph.parse(word)[0].normal_form.replace('ё', 'е') not in stop_words]",
   "id": "cde9ea595470dea9",
   "outputs": [
    {
     "ename": "KeyboardInterrupt",
     "evalue": "",
     "output_type": "error",
     "traceback": [
      "\u001B[31m---------------------------------------------------------------------------\u001B[39m",
      "\u001B[31mKeyboardInterrupt\u001B[39m                         Traceback (most recent call last)",
      "\u001B[36mCell\u001B[39m\u001B[36m \u001B[39m\u001B[32mIn[23]\u001B[39m\u001B[32m, line 1\u001B[39m\n\u001B[32m----> \u001B[39m\u001B[32m1\u001B[39m text_ = [word \u001B[38;5;28;01mfor\u001B[39;00m word \u001B[38;5;129;01min\u001B[39;00m text \u001B[38;5;28;01mif\u001B[39;00m \u001B[43mmorph\u001B[49m\u001B[43m.\u001B[49m\u001B[43mparse\u001B[49m\u001B[43m(\u001B[49m\u001B[43mword\u001B[49m\u001B[43m)\u001B[49m[\u001B[32m0\u001B[39m].normal_form.replace(\u001B[33m'\u001B[39m\u001B[33mё\u001B[39m\u001B[33m'\u001B[39m, \u001B[33m'\u001B[39m\u001B[33mе\u001B[39m\u001B[33m'\u001B[39m) \u001B[38;5;129;01mnot\u001B[39;00m \u001B[38;5;129;01min\u001B[39;00m stop_words]\n",
      "\u001B[36mFile \u001B[39m\u001B[32m/Library/Frameworks/Python.framework/Versions/3.12/lib/python3.12/site-packages/pymorphy3/analyzer.py:336\u001B[39m, in \u001B[36mMorphAnalyzer.parse\u001B[39m\u001B[34m(self, word)\u001B[39m\n\u001B[32m    333\u001B[39m         \u001B[38;5;28;01mbreak\u001B[39;00m\n\u001B[32m    335\u001B[39m \u001B[38;5;28;01mif\u001B[39;00m \u001B[38;5;28mself\u001B[39m.prob_estimator \u001B[38;5;129;01mis\u001B[39;00m \u001B[38;5;129;01mnot\u001B[39;00m \u001B[38;5;28;01mNone\u001B[39;00m:\n\u001B[32m--> \u001B[39m\u001B[32m336\u001B[39m     res = \u001B[38;5;28;43mself\u001B[39;49m\u001B[43m.\u001B[49m\u001B[43mprob_estimator\u001B[49m\u001B[43m.\u001B[49m\u001B[43mapply_to_parses\u001B[49m\u001B[43m(\u001B[49m\u001B[43mword\u001B[49m\u001B[43m,\u001B[49m\u001B[43m \u001B[49m\u001B[43mword_lower\u001B[49m\u001B[43m,\u001B[49m\u001B[43m \u001B[49m\u001B[43mres\u001B[49m\u001B[43m)\u001B[49m\n\u001B[32m    338\u001B[39m \u001B[38;5;28;01mif\u001B[39;00m \u001B[38;5;28mself\u001B[39m._result_type \u001B[38;5;129;01mis\u001B[39;00m \u001B[38;5;28;01mNone\u001B[39;00m:\n\u001B[32m    339\u001B[39m     \u001B[38;5;28;01mreturn\u001B[39;00m res\n",
      "\u001B[36mFile \u001B[39m\u001B[32m/Library/Frameworks/Python.framework/Versions/3.12/lib/python3.12/site-packages/pymorphy3/analyzer.py:80\u001B[39m, in \u001B[36mProbabilityEstimator.apply_to_parses\u001B[39m\u001B[34m(self, word, word_lower, parses)\u001B[39m\n\u001B[32m     77\u001B[39m \u001B[38;5;28;01mif\u001B[39;00m \u001B[38;5;129;01mnot\u001B[39;00m parses:\n\u001B[32m     78\u001B[39m     \u001B[38;5;28;01mreturn\u001B[39;00m []\n\u001B[32m---> \u001B[39m\u001B[32m80\u001B[39m probs = [\u001B[38;5;28;43mself\u001B[39;49m\u001B[43m.\u001B[49m\u001B[43mp_t_given_w\u001B[49m\u001B[43m.\u001B[49m\u001B[43mprob\u001B[49m\u001B[43m(\u001B[49m\u001B[43mword_lower\u001B[49m\u001B[43m,\u001B[49m\u001B[43m \u001B[49m\u001B[43mtag\u001B[49m\u001B[43m)\u001B[49m\n\u001B[32m     81\u001B[39m         \u001B[38;5;28;01mfor\u001B[39;00m (word, tag, normal_form, score, methods_stack) \u001B[38;5;129;01min\u001B[39;00m parses]\n\u001B[32m     83\u001B[39m \u001B[38;5;28;01mif\u001B[39;00m \u001B[38;5;28msum\u001B[39m(probs) == \u001B[32m0\u001B[39m:\n\u001B[32m     84\u001B[39m     \u001B[38;5;66;03m# no P(t|w) information is available; return normalized estimate\u001B[39;00m\n\u001B[32m     85\u001B[39m     k = \u001B[32m1.0\u001B[39m / \u001B[38;5;28msum\u001B[39m(\u001B[38;5;28mmap\u001B[39m(_score_getter, parses))\n",
      "\u001B[36mFile \u001B[39m\u001B[32m/Library/Frameworks/Python.framework/Versions/3.12/lib/python3.12/site-packages/pymorphy3/dawg.py:63\u001B[39m, in \u001B[36mConditionalProbDistDAWG.prob\u001B[39m\u001B[34m(self, word, tag)\u001B[39m\n\u001B[32m     61\u001B[39m \u001B[38;5;28;01mdef\u001B[39;00m\u001B[38;5;250m \u001B[39m\u001B[34mprob\u001B[39m(\u001B[38;5;28mself\u001B[39m, word, tag):\n\u001B[32m     62\u001B[39m     dawg_key = \u001B[33mf\u001B[39m\u001B[33m\"\u001B[39m\u001B[38;5;132;01m{\u001B[39;00mword\u001B[38;5;132;01m}\u001B[39;00m\u001B[33m:\u001B[39m\u001B[38;5;132;01m{\u001B[39;00mtag\u001B[38;5;132;01m}\u001B[39;00m\u001B[33m\"\u001B[39m\n\u001B[32m---> \u001B[39m\u001B[32m63\u001B[39m     \u001B[38;5;28;01mreturn\u001B[39;00m \u001B[38;5;28;43mself\u001B[39;49m\u001B[43m.\u001B[49m\u001B[43mget\u001B[49m\u001B[43m(\u001B[49m\u001B[43mdawg_key\u001B[49m\u001B[43m,\u001B[49m\u001B[43m \u001B[49m\u001B[32;43m0\u001B[39;49m\u001B[43m)\u001B[49m / \u001B[38;5;28mself\u001B[39m.MULTIPLIER\n",
      "\u001B[36mFile \u001B[39m\u001B[32m/Library/Frameworks/Python.framework/Versions/3.12/lib/python3.12/site-packages/dawg_python/dawgs.py:416\u001B[39m, in \u001B[36mIntDAWG.get\u001B[39m\u001B[34m(self, key, default)\u001B[39m\n\u001B[32m    413\u001B[39m         \u001B[38;5;28;01mraise\u001B[39;00m \u001B[38;5;167;01mKeyError\u001B[39;00m(key)\n\u001B[32m    414\u001B[39m     \u001B[38;5;28;01mreturn\u001B[39;00m res\n\u001B[32m--> \u001B[39m\u001B[32m416\u001B[39m \u001B[38;5;28;01mdef\u001B[39;00m\u001B[38;5;250m \u001B[39m\u001B[34mget\u001B[39m(\u001B[38;5;28mself\u001B[39m, key: \u001B[38;5;28mstr\u001B[39m | \u001B[38;5;28mbytes\u001B[39m, default: \u001B[38;5;28mint\u001B[39m | \u001B[38;5;28;01mNone\u001B[39;00m = \u001B[38;5;28;01mNone\u001B[39;00m) -> \u001B[38;5;28mint\u001B[39m | \u001B[38;5;28;01mNone\u001B[39;00m:\n\u001B[32m    417\u001B[39m \u001B[38;5;250m    \u001B[39m\u001B[33;03m\"\"\"\u001B[39;00m\n\u001B[32m    418\u001B[39m \u001B[33;03m    Return value for the given key or ``default`` if the key is not found.\u001B[39;00m\n\u001B[32m    419\u001B[39m \u001B[33;03m    \"\"\"\u001B[39;00m\n\u001B[32m    420\u001B[39m     \u001B[38;5;28;01mif\u001B[39;00m \u001B[38;5;129;01mnot\u001B[39;00m \u001B[38;5;28misinstance\u001B[39m(key, \u001B[38;5;28mbytes\u001B[39m):\n",
      "\u001B[31mKeyboardInterrupt\u001B[39m: "
     ]
    }
   ],
   "execution_count": 23
  },
  {
   "metadata": {},
   "cell_type": "code",
   "source": [
    "from tqdm import tqdm\n",
    "ans = []\n",
    "for word in tqdm(text, desc=\"Обработка слов\"):\n",
    "    if morph.parse(word)[0].normal_form.replace('ё', 'е') not in stop_words:\n",
    "        ans.append(word)"
   ],
   "id": "13d16f9e4d88514c",
   "outputs": [],
   "execution_count": null
  },
  {
   "metadata": {
    "ExecuteTime": {
     "end_time": "2025-07-22T10:24:35.856816Z",
     "start_time": "2025-07-22T10:24:35.853975Z"
    }
   },
   "cell_type": "code",
   "source": "ds['text_length'].mean()",
   "id": "e517ebf476cfc714",
   "outputs": [
    {
     "data": {
      "text/plain": [
       "np.float64(44051.45441438967)"
      ]
     },
     "execution_count": 25,
     "metadata": {},
     "output_type": "execute_result"
    }
   ],
   "execution_count": 25
  },
  {
   "metadata": {
    "ExecuteTime": {
     "end_time": "2025-07-22T10:24:44.104149Z",
     "start_time": "2025-07-22T10:24:44.101109Z"
    }
   },
   "cell_type": "code",
   "source": "ds['text_length'].median()",
   "id": "623f7c970d5e218c",
   "outputs": [
    {
     "data": {
      "text/plain": [
       "np.float64(7694.0)"
      ]
     },
     "execution_count": 26,
     "metadata": {},
     "output_type": "execute_result"
    }
   ],
   "execution_count": 26
  },
  {
   "metadata": {
    "ExecuteTime": {
     "end_time": "2025-07-22T10:25:16.677686Z",
     "start_time": "2025-07-22T10:25:16.671787Z"
    }
   },
   "cell_type": "code",
   "source": "ds['text_length'].describe()",
   "id": "3dcae8c949175f0e",
   "outputs": [
    {
     "data": {
      "text/plain": [
       "count    1.456600e+04\n",
       "mean     4.405145e+04\n",
       "std      1.563953e+05\n",
       "min      2.330000e+02\n",
       "25%      3.069500e+03\n",
       "50%      7.694000e+03\n",
       "75%      2.129125e+04\n",
       "max      3.548505e+06\n",
       "Name: text_length, dtype: float64"
      ]
     },
     "execution_count": 27,
     "metadata": {},
     "output_type": "execute_result"
    }
   ],
   "execution_count": 27
  },
  {
   "metadata": {
    "ExecuteTime": {
     "end_time": "2025-07-22T10:25:52.947107Z",
     "start_time": "2025-07-22T10:25:52.944454Z"
    }
   },
   "cell_type": "code",
   "source": "ds['text_length'].sum()",
   "id": "ddd0730d25edcf93",
   "outputs": [
    {
     "data": {
      "text/plain": [
       "np.int64(641653485)"
      ]
     },
     "execution_count": 28,
     "metadata": {},
     "output_type": "execute_result"
    }
   ],
   "execution_count": 28
  },
  {
   "metadata": {
    "ExecuteTime": {
     "end_time": "2025-07-22T10:26:26.469319Z",
     "start_time": "2025-07-22T10:26:26.467243Z"
    }
   },
   "cell_type": "code",
   "source": "((641653485 / 1_000_000) * 110) / 60**2",
   "id": "7deb1579a3defa71",
   "outputs": [
    {
     "data": {
      "text/plain": [
       "19.606078708333335"
      ]
     },
     "execution_count": 30,
     "metadata": {},
     "output_type": "execute_result"
    }
   ],
   "execution_count": 30
  },
  {
   "metadata": {
    "ExecuteTime": {
     "end_time": "2025-07-22T11:41:38.781066Z",
     "start_time": "2025-07-22T11:41:38.763207Z"
    }
   },
   "cell_type": "code",
   "source": "len(ds)",
   "id": "6605e40d68c21532",
   "outputs": [
    {
     "data": {
      "text/plain": [
       "14566"
      ]
     },
     "execution_count": 31,
     "metadata": {},
     "output_type": "execute_result"
    }
   ],
   "execution_count": 31
  },
  {
   "metadata": {},
   "cell_type": "code",
   "outputs": [],
   "execution_count": null,
   "source": "",
   "id": "6a7ad5c5d83c23f0"
  }
 ],
 "metadata": {
  "kernelspec": {
   "display_name": "Python 3",
   "language": "python",
   "name": "python3"
  },
  "language_info": {
   "codemirror_mode": {
    "name": "ipython",
    "version": 2
   },
   "file_extension": ".py",
   "mimetype": "text/x-python",
   "name": "python",
   "nbconvert_exporter": "python",
   "pygments_lexer": "ipython2",
   "version": "2.7.6"
  }
 },
 "nbformat": 4,
 "nbformat_minor": 5
}
