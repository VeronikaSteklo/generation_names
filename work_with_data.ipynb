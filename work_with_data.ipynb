{
 "cells": [
  {
   "cell_type": "code",
   "id": "initial_id",
   "metadata": {
    "collapsed": true,
    "ExecuteTime": {
     "end_time": "2025-07-21T10:15:12.312268Z",
     "start_time": "2025-07-21T10:15:12.308848Z"
    }
   },
   "source": [
    "import re\n",
    "from typing import List\n",
    "\n",
    "import pandas as pd\n",
    "import torch\n",
    "import nltk\n",
    "from nltk.tokenize import word_tokenize\n",
    "from nltk.corpus import stopwords"
   ],
   "outputs": [],
   "execution_count": 21
  },
  {
   "metadata": {
    "ExecuteTime": {
     "end_time": "2025-07-21T10:09:37.349467Z",
     "start_time": "2025-07-21T10:09:36.953013Z"
    }
   },
   "cell_type": "code",
   "source": [
    "nltk.download(\"punkt\")\n",
    "nltk.download('stopwords')\n",
    "nltk.download('punkt_tab')"
   ],
   "id": "3c53f24f9721a34e",
   "outputs": [
    {
     "name": "stderr",
     "output_type": "stream",
     "text": [
      "[nltk_data] Downloading package punkt to\n",
      "[nltk_data]     /Users/veronika_steklo/nltk_data...\n",
      "[nltk_data]   Package punkt is already up-to-date!\n",
      "[nltk_data] Downloading package stopwords to\n",
      "[nltk_data]     /Users/veronika_steklo/nltk_data...\n",
      "[nltk_data]   Package stopwords is already up-to-date!\n",
      "[nltk_data] Downloading package punkt_tab to\n",
      "[nltk_data]     /Users/veronika_steklo/nltk_data...\n",
      "[nltk_data]   Package punkt_tab is already up-to-date!\n"
     ]
    },
    {
     "data": {
      "text/plain": [
       "True"
      ]
     },
     "execution_count": 3,
     "metadata": {},
     "output_type": "execute_result"
    }
   ],
   "execution_count": 3
  },
  {
   "metadata": {
    "ExecuteTime": {
     "end_time": "2025-07-21T10:10:44.740723Z",
     "start_time": "2025-07-21T10:10:39.763693Z"
    }
   },
   "cell_type": "code",
   "source": "all_data_text = pd.read_csv('data/data.csv')",
   "id": "ce1b62cd6822c31f",
   "outputs": [],
   "execution_count": 5
  },
  {
   "metadata": {
    "ExecuteTime": {
     "end_time": "2025-07-21T10:10:44.752346Z",
     "start_time": "2025-07-21T10:10:44.747223Z"
    }
   },
   "cell_type": "code",
   "source": "all_data_text.head()",
   "id": "c83c914830260696",
   "outputs": [
    {
     "data": {
      "text/plain": [
       "       genre                          title                         author  \\\n",
       "0  миниатюры     Скромный Подиум Кристаллов     Скромный Подиум Кристаллов   \n",
       "1  миниатюры                 Нас не догонят                 Нас не догонят   \n",
       "2  миниатюры  Снежный шар. 200. Не по плану  Снежный шар. 200. Не по плану   \n",
       "3  миниатюры      Новая кврейская поговорка      Новая кврейская поговорка   \n",
       "4  миниатюры   Космическая Свита Примадонны   Космическая Свита Примадонны   \n",
       "\n",
       "                                   link  \\\n",
       "0  https://www.proza.ru/2025/07/19/1660   \n",
       "1  https://www.proza.ru/2025/07/19/1653   \n",
       "2  https://www.proza.ru/2025/07/19/1644   \n",
       "3  https://www.proza.ru/2025/07/19/1641   \n",
       "4  https://www.proza.ru/2025/07/19/1630   \n",
       "\n",
       "                                                text  \n",
       "0  Скромный Подиум Кристаллов.\\n.\\nИные\\nКамни\\nБ...  \n",
       "1  Правая нога словно приросла к педали газа. Стр...  \n",
       "2  Снежный шар. 200. Не по плану…\\nСолнце давно у...  \n",
       "3           Всё, что дороже, чем бесплатно - дорого!  \n",
       "4  Космическая Свита Примадонны.\\n.\\nВокруг\\nЗемл...  "
      ],
      "text/html": [
       "<div>\n",
       "<style scoped>\n",
       "    .dataframe tbody tr th:only-of-type {\n",
       "        vertical-align: middle;\n",
       "    }\n",
       "\n",
       "    .dataframe tbody tr th {\n",
       "        vertical-align: top;\n",
       "    }\n",
       "\n",
       "    .dataframe thead th {\n",
       "        text-align: right;\n",
       "    }\n",
       "</style>\n",
       "<table border=\"1\" class=\"dataframe\">\n",
       "  <thead>\n",
       "    <tr style=\"text-align: right;\">\n",
       "      <th></th>\n",
       "      <th>genre</th>\n",
       "      <th>title</th>\n",
       "      <th>author</th>\n",
       "      <th>link</th>\n",
       "      <th>text</th>\n",
       "    </tr>\n",
       "  </thead>\n",
       "  <tbody>\n",
       "    <tr>\n",
       "      <th>0</th>\n",
       "      <td>миниатюры</td>\n",
       "      <td>Скромный Подиум Кристаллов</td>\n",
       "      <td>Скромный Подиум Кристаллов</td>\n",
       "      <td>https://www.proza.ru/2025/07/19/1660</td>\n",
       "      <td>Скромный Подиум Кристаллов.\\n.\\nИные\\nКамни\\nБ...</td>\n",
       "    </tr>\n",
       "    <tr>\n",
       "      <th>1</th>\n",
       "      <td>миниатюры</td>\n",
       "      <td>Нас не догонят</td>\n",
       "      <td>Нас не догонят</td>\n",
       "      <td>https://www.proza.ru/2025/07/19/1653</td>\n",
       "      <td>Правая нога словно приросла к педали газа. Стр...</td>\n",
       "    </tr>\n",
       "    <tr>\n",
       "      <th>2</th>\n",
       "      <td>миниатюры</td>\n",
       "      <td>Снежный шар. 200. Не по плану</td>\n",
       "      <td>Снежный шар. 200. Не по плану</td>\n",
       "      <td>https://www.proza.ru/2025/07/19/1644</td>\n",
       "      <td>Снежный шар. 200. Не по плану…\\nСолнце давно у...</td>\n",
       "    </tr>\n",
       "    <tr>\n",
       "      <th>3</th>\n",
       "      <td>миниатюры</td>\n",
       "      <td>Новая кврейская поговорка</td>\n",
       "      <td>Новая кврейская поговорка</td>\n",
       "      <td>https://www.proza.ru/2025/07/19/1641</td>\n",
       "      <td>Всё, что дороже, чем бесплатно - дорого!</td>\n",
       "    </tr>\n",
       "    <tr>\n",
       "      <th>4</th>\n",
       "      <td>миниатюры</td>\n",
       "      <td>Космическая Свита Примадонны</td>\n",
       "      <td>Космическая Свита Примадонны</td>\n",
       "      <td>https://www.proza.ru/2025/07/19/1630</td>\n",
       "      <td>Космическая Свита Примадонны.\\n.\\nВокруг\\nЗемл...</td>\n",
       "    </tr>\n",
       "  </tbody>\n",
       "</table>\n",
       "</div>"
      ]
     },
     "execution_count": 6,
     "metadata": {},
     "output_type": "execute_result"
    }
   ],
   "execution_count": 6
  },
  {
   "metadata": {
    "ExecuteTime": {
     "end_time": "2025-07-21T10:10:44.760424Z",
     "start_time": "2025-07-21T10:10:44.757689Z"
    }
   },
   "cell_type": "code",
   "source": "all_data_text = all_data_text.drop(columns=[\"genre\", \"author\", \"link\"])",
   "id": "4a271624ee2e70db",
   "outputs": [],
   "execution_count": 7
  },
  {
   "metadata": {
    "ExecuteTime": {
     "end_time": "2025-07-21T10:10:44.782542Z",
     "start_time": "2025-07-21T10:10:44.779562Z"
    }
   },
   "cell_type": "code",
   "source": "all_data_text.head()",
   "id": "a8ec2d558e808e2b",
   "outputs": [
    {
     "data": {
      "text/plain": [
       "                           title  \\\n",
       "0     Скромный Подиум Кристаллов   \n",
       "1                 Нас не догонят   \n",
       "2  Снежный шар. 200. Не по плану   \n",
       "3      Новая кврейская поговорка   \n",
       "4   Космическая Свита Примадонны   \n",
       "\n",
       "                                                text  \n",
       "0  Скромный Подиум Кристаллов.\\n.\\nИные\\nКамни\\nБ...  \n",
       "1  Правая нога словно приросла к педали газа. Стр...  \n",
       "2  Снежный шар. 200. Не по плану…\\nСолнце давно у...  \n",
       "3           Всё, что дороже, чем бесплатно - дорого!  \n",
       "4  Космическая Свита Примадонны.\\n.\\nВокруг\\nЗемл...  "
      ],
      "text/html": [
       "<div>\n",
       "<style scoped>\n",
       "    .dataframe tbody tr th:only-of-type {\n",
       "        vertical-align: middle;\n",
       "    }\n",
       "\n",
       "    .dataframe tbody tr th {\n",
       "        vertical-align: top;\n",
       "    }\n",
       "\n",
       "    .dataframe thead th {\n",
       "        text-align: right;\n",
       "    }\n",
       "</style>\n",
       "<table border=\"1\" class=\"dataframe\">\n",
       "  <thead>\n",
       "    <tr style=\"text-align: right;\">\n",
       "      <th></th>\n",
       "      <th>title</th>\n",
       "      <th>text</th>\n",
       "    </tr>\n",
       "  </thead>\n",
       "  <tbody>\n",
       "    <tr>\n",
       "      <th>0</th>\n",
       "      <td>Скромный Подиум Кристаллов</td>\n",
       "      <td>Скромный Подиум Кристаллов.\\n.\\nИные\\nКамни\\nБ...</td>\n",
       "    </tr>\n",
       "    <tr>\n",
       "      <th>1</th>\n",
       "      <td>Нас не догонят</td>\n",
       "      <td>Правая нога словно приросла к педали газа. Стр...</td>\n",
       "    </tr>\n",
       "    <tr>\n",
       "      <th>2</th>\n",
       "      <td>Снежный шар. 200. Не по плану</td>\n",
       "      <td>Снежный шар. 200. Не по плану…\\nСолнце давно у...</td>\n",
       "    </tr>\n",
       "    <tr>\n",
       "      <th>3</th>\n",
       "      <td>Новая кврейская поговорка</td>\n",
       "      <td>Всё, что дороже, чем бесплатно - дорого!</td>\n",
       "    </tr>\n",
       "    <tr>\n",
       "      <th>4</th>\n",
       "      <td>Космическая Свита Примадонны</td>\n",
       "      <td>Космическая Свита Примадонны.\\n.\\nВокруг\\nЗемл...</td>\n",
       "    </tr>\n",
       "  </tbody>\n",
       "</table>\n",
       "</div>"
      ]
     },
     "execution_count": 8,
     "metadata": {},
     "output_type": "execute_result"
    }
   ],
   "execution_count": 8
  },
  {
   "metadata": {
    "ExecuteTime": {
     "end_time": "2025-07-21T10:12:24.822361Z",
     "start_time": "2025-07-21T10:12:24.815204Z"
    }
   },
   "cell_type": "code",
   "source": "all_data_text = all_data_text.dropna().reset_index(drop=True)",
   "id": "c48e10fae0d46211",
   "outputs": [],
   "execution_count": 13
  },
  {
   "metadata": {
    "ExecuteTime": {
     "end_time": "2025-07-21T10:12:38.122393Z",
     "start_time": "2025-07-21T10:12:38.118698Z"
    }
   },
   "cell_type": "code",
   "source": "all_data_text.head()",
   "id": "c253e8a6ee2a076f",
   "outputs": [
    {
     "data": {
      "text/plain": [
       "                           title  \\\n",
       "0     Скромный Подиум Кристаллов   \n",
       "1                 Нас не догонят   \n",
       "2  Снежный шар. 200. Не по плану   \n",
       "3      Новая кврейская поговорка   \n",
       "4   Космическая Свита Примадонны   \n",
       "\n",
       "                                                text  \n",
       "0  Скромный Подиум Кристаллов.\\n.\\nИные\\nКамни\\nБ...  \n",
       "1  Правая нога словно приросла к педали газа. Стр...  \n",
       "2  Снежный шар. 200. Не по плану…\\nСолнце давно у...  \n",
       "3           Всё, что дороже, чем бесплатно - дорого!  \n",
       "4  Космическая Свита Примадонны.\\n.\\nВокруг\\nЗемл...  "
      ],
      "text/html": [
       "<div>\n",
       "<style scoped>\n",
       "    .dataframe tbody tr th:only-of-type {\n",
       "        vertical-align: middle;\n",
       "    }\n",
       "\n",
       "    .dataframe tbody tr th {\n",
       "        vertical-align: top;\n",
       "    }\n",
       "\n",
       "    .dataframe thead th {\n",
       "        text-align: right;\n",
       "    }\n",
       "</style>\n",
       "<table border=\"1\" class=\"dataframe\">\n",
       "  <thead>\n",
       "    <tr style=\"text-align: right;\">\n",
       "      <th></th>\n",
       "      <th>title</th>\n",
       "      <th>text</th>\n",
       "    </tr>\n",
       "  </thead>\n",
       "  <tbody>\n",
       "    <tr>\n",
       "      <th>0</th>\n",
       "      <td>Скромный Подиум Кристаллов</td>\n",
       "      <td>Скромный Подиум Кристаллов.\\n.\\nИные\\nКамни\\nБ...</td>\n",
       "    </tr>\n",
       "    <tr>\n",
       "      <th>1</th>\n",
       "      <td>Нас не догонят</td>\n",
       "      <td>Правая нога словно приросла к педали газа. Стр...</td>\n",
       "    </tr>\n",
       "    <tr>\n",
       "      <th>2</th>\n",
       "      <td>Снежный шар. 200. Не по плану</td>\n",
       "      <td>Снежный шар. 200. Не по плану…\\nСолнце давно у...</td>\n",
       "    </tr>\n",
       "    <tr>\n",
       "      <th>3</th>\n",
       "      <td>Новая кврейская поговорка</td>\n",
       "      <td>Всё, что дороже, чем бесплатно - дорого!</td>\n",
       "    </tr>\n",
       "    <tr>\n",
       "      <th>4</th>\n",
       "      <td>Космическая Свита Примадонны</td>\n",
       "      <td>Космическая Свита Примадонны.\\n.\\nВокруг\\nЗемл...</td>\n",
       "    </tr>\n",
       "  </tbody>\n",
       "</table>\n",
       "</div>"
      ]
     },
     "execution_count": 15,
     "metadata": {},
     "output_type": "execute_result"
    }
   ],
   "execution_count": 15
  },
  {
   "metadata": {
    "ExecuteTime": {
     "end_time": "2025-07-21T10:12:41.523656Z",
     "start_time": "2025-07-21T10:12:41.520120Z"
    }
   },
   "cell_type": "code",
   "source": [
    "def clean_text(text):\n",
    "    text = text.lower()\n",
    "    text = re.sub(r\"http\\S+\", \"\", text)\n",
    "    text = re.sub(r'<[^>]+>', '', text)\n",
    "    text = re.sub(r'[^\\w\\s]', '', text)\n",
    "    text = re.sub(r'\\s+', ' ', text).strip()\n",
    "    return text"
   ],
   "id": "c920403a9b47baf6",
   "outputs": [],
   "execution_count": 16
  },
  {
   "metadata": {
    "ExecuteTime": {
     "end_time": "2025-07-21T10:15:15.509208Z",
     "start_time": "2025-07-21T10:15:15.506765Z"
    }
   },
   "cell_type": "code",
   "source": [
    "def tokenize(text: str) -> List[str]:\n",
    "    tokens = word_tokenize(text)\n",
    "    return tokens"
   ],
   "id": "9d5f5fcffc03ab58",
   "outputs": [],
   "execution_count": 22
  },
  {
   "metadata": {
    "ExecuteTime": {
     "end_time": "2025-07-21T10:12:56.196080Z",
     "start_time": "2025-07-21T10:12:42.051837Z"
    }
   },
   "cell_type": "code",
   "source": "all_data_text[\"text\"] = all_data_text[\"text\"].apply(clean_text)",
   "id": "199954b0d0f85d69",
   "outputs": [],
   "execution_count": 17
  },
  {
   "metadata": {
    "ExecuteTime": {
     "end_time": "2025-07-21T10:13:10.421159Z",
     "start_time": "2025-07-21T10:13:10.418209Z"
    }
   },
   "cell_type": "code",
   "source": "all_data_text.head()",
   "id": "f42a46f86f33bc72",
   "outputs": [
    {
     "data": {
      "text/plain": [
       "                           title  \\\n",
       "0     Скромный Подиум Кристаллов   \n",
       "1                 Нас не догонят   \n",
       "2  Снежный шар. 200. Не по плану   \n",
       "3      Новая кврейская поговорка   \n",
       "4   Космическая Свита Примадонны   \n",
       "\n",
       "                                                text  \n",
       "0  скромный подиум кристаллов иные камни без прим...  \n",
       "1  правая нога словно приросла к педали газа стре...  \n",
       "2  снежный шар 200 не по плану солнце давно укати...  \n",
       "3                всё что дороже чем бесплатно дорого  \n",
       "4  космическая свита примадонны вокруг земли лета...  "
      ],
      "text/html": [
       "<div>\n",
       "<style scoped>\n",
       "    .dataframe tbody tr th:only-of-type {\n",
       "        vertical-align: middle;\n",
       "    }\n",
       "\n",
       "    .dataframe tbody tr th {\n",
       "        vertical-align: top;\n",
       "    }\n",
       "\n",
       "    .dataframe thead th {\n",
       "        text-align: right;\n",
       "    }\n",
       "</style>\n",
       "<table border=\"1\" class=\"dataframe\">\n",
       "  <thead>\n",
       "    <tr style=\"text-align: right;\">\n",
       "      <th></th>\n",
       "      <th>title</th>\n",
       "      <th>text</th>\n",
       "    </tr>\n",
       "  </thead>\n",
       "  <tbody>\n",
       "    <tr>\n",
       "      <th>0</th>\n",
       "      <td>Скромный Подиум Кристаллов</td>\n",
       "      <td>скромный подиум кристаллов иные камни без прим...</td>\n",
       "    </tr>\n",
       "    <tr>\n",
       "      <th>1</th>\n",
       "      <td>Нас не догонят</td>\n",
       "      <td>правая нога словно приросла к педали газа стре...</td>\n",
       "    </tr>\n",
       "    <tr>\n",
       "      <th>2</th>\n",
       "      <td>Снежный шар. 200. Не по плану</td>\n",
       "      <td>снежный шар 200 не по плану солнце давно укати...</td>\n",
       "    </tr>\n",
       "    <tr>\n",
       "      <th>3</th>\n",
       "      <td>Новая кврейская поговорка</td>\n",
       "      <td>всё что дороже чем бесплатно дорого</td>\n",
       "    </tr>\n",
       "    <tr>\n",
       "      <th>4</th>\n",
       "      <td>Космическая Свита Примадонны</td>\n",
       "      <td>космическая свита примадонны вокруг земли лета...</td>\n",
       "    </tr>\n",
       "  </tbody>\n",
       "</table>\n",
       "</div>"
      ]
     },
     "execution_count": 18,
     "metadata": {},
     "output_type": "execute_result"
    }
   ],
   "execution_count": 18
  },
  {
   "metadata": {
    "ExecuteTime": {
     "end_time": "2025-07-21T10:16:50.400009Z",
     "start_time": "2025-07-21T10:15:37.535496Z"
    }
   },
   "cell_type": "code",
   "source": "all_data_text[\"text\"] = all_data_text[\"text\"].apply(tokenize)",
   "id": "b1c80b8b01630d89",
   "outputs": [],
   "execution_count": 23
  },
  {
   "metadata": {
    "ExecuteTime": {
     "end_time": "2025-07-21T10:17:00.153679Z",
     "start_time": "2025-07-21T10:17:00.142635Z"
    }
   },
   "cell_type": "code",
   "source": "all_data_text.head()",
   "id": "15a09846a372eda9",
   "outputs": [
    {
     "data": {
      "text/plain": [
       "                           title  \\\n",
       "0     Скромный Подиум Кристаллов   \n",
       "1                 Нас не догонят   \n",
       "2  Снежный шар. 200. Не по плану   \n",
       "3      Новая кврейская поговорка   \n",
       "4   Космическая Свита Примадонны   \n",
       "\n",
       "                                                text  \n",
       "0  [скромный, подиум, кристаллов, иные, камни, бе...  \n",
       "1  [правая, нога, словно, приросла, к, педали, га...  \n",
       "2  [снежный, шар, 200, не, по, плану, солнце, дав...  \n",
       "3         [всё, что, дороже, чем, бесплатно, дорого]  \n",
       "4  [космическая, свита, примадонны, вокруг, земли...  "
      ],
      "text/html": [
       "<div>\n",
       "<style scoped>\n",
       "    .dataframe tbody tr th:only-of-type {\n",
       "        vertical-align: middle;\n",
       "    }\n",
       "\n",
       "    .dataframe tbody tr th {\n",
       "        vertical-align: top;\n",
       "    }\n",
       "\n",
       "    .dataframe thead th {\n",
       "        text-align: right;\n",
       "    }\n",
       "</style>\n",
       "<table border=\"1\" class=\"dataframe\">\n",
       "  <thead>\n",
       "    <tr style=\"text-align: right;\">\n",
       "      <th></th>\n",
       "      <th>title</th>\n",
       "      <th>text</th>\n",
       "    </tr>\n",
       "  </thead>\n",
       "  <tbody>\n",
       "    <tr>\n",
       "      <th>0</th>\n",
       "      <td>Скромный Подиум Кристаллов</td>\n",
       "      <td>[скромный, подиум, кристаллов, иные, камни, бе...</td>\n",
       "    </tr>\n",
       "    <tr>\n",
       "      <th>1</th>\n",
       "      <td>Нас не догонят</td>\n",
       "      <td>[правая, нога, словно, приросла, к, педали, га...</td>\n",
       "    </tr>\n",
       "    <tr>\n",
       "      <th>2</th>\n",
       "      <td>Снежный шар. 200. Не по плану</td>\n",
       "      <td>[снежный, шар, 200, не, по, плану, солнце, дав...</td>\n",
       "    </tr>\n",
       "    <tr>\n",
       "      <th>3</th>\n",
       "      <td>Новая кврейская поговорка</td>\n",
       "      <td>[всё, что, дороже, чем, бесплатно, дорого]</td>\n",
       "    </tr>\n",
       "    <tr>\n",
       "      <th>4</th>\n",
       "      <td>Космическая Свита Примадонны</td>\n",
       "      <td>[космическая, свита, примадонны, вокруг, земли...</td>\n",
       "    </tr>\n",
       "  </tbody>\n",
       "</table>\n",
       "</div>"
      ]
     },
     "execution_count": 24,
     "metadata": {},
     "output_type": "execute_result"
    }
   ],
   "execution_count": 24
  },
  {
   "metadata": {
    "ExecuteTime": {
     "end_time": "2025-07-21T10:18:37.251590Z",
     "start_time": "2025-07-21T10:18:37.233619Z"
    }
   },
   "cell_type": "code",
   "source": "all_data_text = all_data_text[all_data_text[\"text\"].apply(len) >= 30]",
   "id": "c8dc750f57074c63",
   "outputs": [],
   "execution_count": 27
  },
  {
   "metadata": {
    "ExecuteTime": {
     "end_time": "2025-07-21T10:18:43.860080Z",
     "start_time": "2025-07-21T10:18:43.850221Z"
    }
   },
   "cell_type": "code",
   "source": "all_data_text.head()",
   "id": "aa5d5530a81c7604",
   "outputs": [
    {
     "data": {
      "text/plain": [
       "                           title  \\\n",
       "0     Скромный Подиум Кристаллов   \n",
       "1                 Нас не догонят   \n",
       "2  Снежный шар. 200. Не по плану   \n",
       "4   Космическая Свита Примадонны   \n",
       "5                Боровая кантата   \n",
       "\n",
       "                                                text  \n",
       "0  [скромный, подиум, кристаллов, иные, камни, бе...  \n",
       "1  [правая, нога, словно, приросла, к, педали, га...  \n",
       "2  [снежный, шар, 200, не, по, плану, солнце, дав...  \n",
       "4  [космическая, свита, примадонны, вокруг, земли...  \n",
       "5  [пасхальное, о, это, божественный, лес, где, с...  "
      ],
      "text/html": [
       "<div>\n",
       "<style scoped>\n",
       "    .dataframe tbody tr th:only-of-type {\n",
       "        vertical-align: middle;\n",
       "    }\n",
       "\n",
       "    .dataframe tbody tr th {\n",
       "        vertical-align: top;\n",
       "    }\n",
       "\n",
       "    .dataframe thead th {\n",
       "        text-align: right;\n",
       "    }\n",
       "</style>\n",
       "<table border=\"1\" class=\"dataframe\">\n",
       "  <thead>\n",
       "    <tr style=\"text-align: right;\">\n",
       "      <th></th>\n",
       "      <th>title</th>\n",
       "      <th>text</th>\n",
       "    </tr>\n",
       "  </thead>\n",
       "  <tbody>\n",
       "    <tr>\n",
       "      <th>0</th>\n",
       "      <td>Скромный Подиум Кристаллов</td>\n",
       "      <td>[скромный, подиум, кристаллов, иные, камни, бе...</td>\n",
       "    </tr>\n",
       "    <tr>\n",
       "      <th>1</th>\n",
       "      <td>Нас не догонят</td>\n",
       "      <td>[правая, нога, словно, приросла, к, педали, га...</td>\n",
       "    </tr>\n",
       "    <tr>\n",
       "      <th>2</th>\n",
       "      <td>Снежный шар. 200. Не по плану</td>\n",
       "      <td>[снежный, шар, 200, не, по, плану, солнце, дав...</td>\n",
       "    </tr>\n",
       "    <tr>\n",
       "      <th>4</th>\n",
       "      <td>Космическая Свита Примадонны</td>\n",
       "      <td>[космическая, свита, примадонны, вокруг, земли...</td>\n",
       "    </tr>\n",
       "    <tr>\n",
       "      <th>5</th>\n",
       "      <td>Боровая кантата</td>\n",
       "      <td>[пасхальное, о, это, божественный, лес, где, с...</td>\n",
       "    </tr>\n",
       "  </tbody>\n",
       "</table>\n",
       "</div>"
      ]
     },
     "execution_count": 28,
     "metadata": {},
     "output_type": "execute_result"
    }
   ],
   "execution_count": 28
  },
  {
   "metadata": {
    "ExecuteTime": {
     "end_time": "2025-07-21T10:18:50.212467Z",
     "start_time": "2025-07-21T10:18:50.209129Z"
    }
   },
   "cell_type": "code",
   "source": "len(all_data_text)",
   "id": "9bec5cecb71b06c4",
   "outputs": [
    {
     "data": {
      "text/plain": [
       "14566"
      ]
     },
     "execution_count": 29,
     "metadata": {},
     "output_type": "execute_result"
    }
   ],
   "execution_count": 29
  },
  {
   "metadata": {
    "ExecuteTime": {
     "end_time": "2025-07-21T10:19:28.065137Z",
     "start_time": "2025-07-21T10:19:28.055903Z"
    }
   },
   "cell_type": "code",
   "source": "all_data_text = all_data_text.reset_index(drop=True)",
   "id": "cb4184598330aae7",
   "outputs": [],
   "execution_count": 30
  },
  {
   "metadata": {
    "ExecuteTime": {
     "end_time": "2025-07-21T10:20:35.086080Z",
     "start_time": "2025-07-21T10:20:26.491240Z"
    }
   },
   "cell_type": "code",
   "source": "all_data_text.to_csv(\"data/data_tokenize.csv\", index=False)",
   "id": "76c52965b56ac1fe",
   "outputs": [],
   "execution_count": 31
  },
  {
   "metadata": {},
   "cell_type": "code",
   "outputs": [],
   "execution_count": null,
   "source": "",
   "id": "368aef05ae7729e2"
  }
 ],
 "metadata": {
  "kernelspec": {
   "display_name": "Python 3 (ipykernel)",
   "language": "python",
   "name": "python3"
  },
  "language_info": {
   "codemirror_mode": {
    "name": "ipython",
    "version": 2
   },
   "file_extension": ".py",
   "mimetype": "text/x-python",
   "name": "python",
   "nbconvert_exporter": "python",
   "pygments_lexer": "ipython2",
   "version": "2.7.6"
  }
 },
 "nbformat": 4,
 "nbformat_minor": 5
}
