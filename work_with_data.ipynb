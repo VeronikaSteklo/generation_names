{
 "cells": [
  {
   "metadata": {},
   "cell_type": "markdown",
   "source": "# Обработка текстов - токенизация, лемматизация и удаление стоп слов",
   "id": "b3e03920ed06e684"
  },
  {
   "cell_type": "code",
   "id": "initial_id",
   "metadata": {
    "collapsed": true,
    "ExecuteTime": {
     "end_time": "2025-07-23T09:01:20.086391Z",
     "start_time": "2025-07-23T09:01:16.132034Z"
    }
   },
   "source": [
    "import re\n",
    "import swifter\n",
    "from functools import lru_cache\n",
    "from typing import List\n",
    "from ast import literal_eval\n",
    "\n",
    "import pandas as pd\n",
    "import nltk\n",
    "from nltk.tokenize import word_tokenize\n",
    "from nltk.corpus import stopwords\n",
    "from pymorphy3 import MorphAnalyzer\n",
    "\n",
    "from tqdm import TqdmWarning\n",
    "import warnings\n",
    "from tqdm.auto import tqdm\n",
    "tqdm.pandas()\n",
    "warnings.filterwarnings(\"ignore\", category=TqdmWarning)"
   ],
   "outputs": [
    {
     "name": "stderr",
     "output_type": "stream",
     "text": [
      "/Library/Frameworks/Python.framework/Versions/3.12/lib/python3.12/site-packages/tqdm/auto.py:21: TqdmWarning: IProgress not found. Please update jupyter and ipywidgets. See https://ipywidgets.readthedocs.io/en/stable/user_install.html\n",
      "  from .autonotebook import tqdm as notebook_tqdm\n"
     ]
    }
   ],
   "execution_count": 1
  },
  {
   "metadata": {
    "ExecuteTime": {
     "end_time": "2025-07-23T09:01:20.121382Z",
     "start_time": "2025-07-23T09:01:20.094176Z"
    }
   },
   "cell_type": "code",
   "source": [
    "morph = MorphAnalyzer()\n",
    "stop_words = stopwords.words('russian')\n",
    "extra_stopwords = ['это', 'который', 'весь', 'свой', 'такой', 'тем', 'чтобы']\n",
    "stop_words.extend(extra_stopwords)\n",
    "stop_words = set(stop_words)"
   ],
   "id": "dae57ced72f36ec0",
   "outputs": [],
   "execution_count": 2
  },
  {
   "metadata": {
    "ExecuteTime": {
     "end_time": "2025-07-23T09:01:20.675756Z",
     "start_time": "2025-07-23T09:01:20.126006Z"
    }
   },
   "cell_type": "code",
   "source": [
    "nltk.download(\"punkt\")\n",
    "nltk.download('stopwords')\n",
    "nltk.download('punkt_tab')"
   ],
   "id": "3c53f24f9721a34e",
   "outputs": [
    {
     "name": "stderr",
     "output_type": "stream",
     "text": [
      "[nltk_data] Downloading package punkt to\n",
      "[nltk_data]     /Users/veronika_steklo/nltk_data...\n",
      "[nltk_data]   Package punkt is already up-to-date!\n",
      "[nltk_data] Downloading package stopwords to\n",
      "[nltk_data]     /Users/veronika_steklo/nltk_data...\n",
      "[nltk_data]   Package stopwords is already up-to-date!\n",
      "[nltk_data] Downloading package punkt_tab to\n",
      "[nltk_data]     /Users/veronika_steklo/nltk_data...\n",
      "[nltk_data]   Package punkt_tab is already up-to-date!\n"
     ]
    },
    {
     "data": {
      "text/plain": [
       "True"
      ]
     },
     "execution_count": 3,
     "metadata": {},
     "output_type": "execute_result"
    }
   ],
   "execution_count": 3
  },
  {
   "metadata": {},
   "cell_type": "markdown",
   "source": "## Считывание данных",
   "id": "4550305bcd41f7f0"
  },
  {
   "metadata": {
    "ExecuteTime": {
     "end_time": "2025-07-22T08:39:07.598723Z",
     "start_time": "2025-07-22T08:39:02.280340Z"
    }
   },
   "cell_type": "code",
   "source": "all_data_text = pd.read_csv('data/data.csv')",
   "id": "ce1b62cd6822c31f",
   "outputs": [],
   "execution_count": 8
  },
  {
   "metadata": {
    "ExecuteTime": {
     "end_time": "2025-07-21T10:10:44.752346Z",
     "start_time": "2025-07-21T10:10:44.747223Z"
    }
   },
   "cell_type": "code",
   "source": "all_data_text.head()",
   "id": "c83c914830260696",
   "outputs": [
    {
     "data": {
      "text/plain": [
       "       genre                          title                         author  \\\n",
       "0  миниатюры     Скромный Подиум Кристаллов     Скромный Подиум Кристаллов   \n",
       "1  миниатюры                 Нас не догонят                 Нас не догонят   \n",
       "2  миниатюры  Снежный шар. 200. Не по плану  Снежный шар. 200. Не по плану   \n",
       "3  миниатюры      Новая кврейская поговорка      Новая кврейская поговорка   \n",
       "4  миниатюры   Космическая Свита Примадонны   Космическая Свита Примадонны   \n",
       "\n",
       "                                   link  \\\n",
       "0  https://www.proza.ru/2025/07/19/1660   \n",
       "1  https://www.proza.ru/2025/07/19/1653   \n",
       "2  https://www.proza.ru/2025/07/19/1644   \n",
       "3  https://www.proza.ru/2025/07/19/1641   \n",
       "4  https://www.proza.ru/2025/07/19/1630   \n",
       "\n",
       "                                                text  \n",
       "0  Скромный Подиум Кристаллов.\\n.\\nИные\\nКамни\\nБ...  \n",
       "1  Правая нога словно приросла к педали газа. Стр...  \n",
       "2  Снежный шар. 200. Не по плану…\\nСолнце давно у...  \n",
       "3           Всё, что дороже, чем бесплатно - дорого!  \n",
       "4  Космическая Свита Примадонны.\\n.\\nВокруг\\nЗемл...  "
      ],
      "text/html": [
       "<div>\n",
       "<style scoped>\n",
       "    .dataframe tbody tr th:only-of-type {\n",
       "        vertical-align: middle;\n",
       "    }\n",
       "\n",
       "    .dataframe tbody tr th {\n",
       "        vertical-align: top;\n",
       "    }\n",
       "\n",
       "    .dataframe thead th {\n",
       "        text-align: right;\n",
       "    }\n",
       "</style>\n",
       "<table border=\"1\" class=\"dataframe\">\n",
       "  <thead>\n",
       "    <tr style=\"text-align: right;\">\n",
       "      <th></th>\n",
       "      <th>genre</th>\n",
       "      <th>title</th>\n",
       "      <th>author</th>\n",
       "      <th>link</th>\n",
       "      <th>text</th>\n",
       "    </tr>\n",
       "  </thead>\n",
       "  <tbody>\n",
       "    <tr>\n",
       "      <th>0</th>\n",
       "      <td>миниатюры</td>\n",
       "      <td>Скромный Подиум Кристаллов</td>\n",
       "      <td>Скромный Подиум Кристаллов</td>\n",
       "      <td>https://www.proza.ru/2025/07/19/1660</td>\n",
       "      <td>Скромный Подиум Кристаллов.\\n.\\nИные\\nКамни\\nБ...</td>\n",
       "    </tr>\n",
       "    <tr>\n",
       "      <th>1</th>\n",
       "      <td>миниатюры</td>\n",
       "      <td>Нас не догонят</td>\n",
       "      <td>Нас не догонят</td>\n",
       "      <td>https://www.proza.ru/2025/07/19/1653</td>\n",
       "      <td>Правая нога словно приросла к педали газа. Стр...</td>\n",
       "    </tr>\n",
       "    <tr>\n",
       "      <th>2</th>\n",
       "      <td>миниатюры</td>\n",
       "      <td>Снежный шар. 200. Не по плану</td>\n",
       "      <td>Снежный шар. 200. Не по плану</td>\n",
       "      <td>https://www.proza.ru/2025/07/19/1644</td>\n",
       "      <td>Снежный шар. 200. Не по плану…\\nСолнце давно у...</td>\n",
       "    </tr>\n",
       "    <tr>\n",
       "      <th>3</th>\n",
       "      <td>миниатюры</td>\n",
       "      <td>Новая кврейская поговорка</td>\n",
       "      <td>Новая кврейская поговорка</td>\n",
       "      <td>https://www.proza.ru/2025/07/19/1641</td>\n",
       "      <td>Всё, что дороже, чем бесплатно - дорого!</td>\n",
       "    </tr>\n",
       "    <tr>\n",
       "      <th>4</th>\n",
       "      <td>миниатюры</td>\n",
       "      <td>Космическая Свита Примадонны</td>\n",
       "      <td>Космическая Свита Примадонны</td>\n",
       "      <td>https://www.proza.ru/2025/07/19/1630</td>\n",
       "      <td>Космическая Свита Примадонны.\\n.\\nВокруг\\nЗемл...</td>\n",
       "    </tr>\n",
       "  </tbody>\n",
       "</table>\n",
       "</div>"
      ]
     },
     "execution_count": 6,
     "metadata": {},
     "output_type": "execute_result"
    }
   ],
   "execution_count": 6
  },
  {
   "metadata": {
    "ExecuteTime": {
     "end_time": "2025-07-21T10:10:44.760424Z",
     "start_time": "2025-07-21T10:10:44.757689Z"
    }
   },
   "cell_type": "code",
   "source": "all_data_text = all_data_text.drop(columns=[\"genre\", \"author\", \"link\"])",
   "id": "4a271624ee2e70db",
   "outputs": [],
   "execution_count": 7
  },
  {
   "metadata": {
    "ExecuteTime": {
     "end_time": "2025-07-21T10:10:44.782542Z",
     "start_time": "2025-07-21T10:10:44.779562Z"
    }
   },
   "cell_type": "code",
   "source": "all_data_text.head()",
   "id": "a8ec2d558e808e2b",
   "outputs": [
    {
     "data": {
      "text/plain": [
       "                           title  \\\n",
       "0     Скромный Подиум Кристаллов   \n",
       "1                 Нас не догонят   \n",
       "2  Снежный шар. 200. Не по плану   \n",
       "3      Новая кврейская поговорка   \n",
       "4   Космическая Свита Примадонны   \n",
       "\n",
       "                                                text  \n",
       "0  Скромный Подиум Кристаллов.\\n.\\nИные\\nКамни\\nБ...  \n",
       "1  Правая нога словно приросла к педали газа. Стр...  \n",
       "2  Снежный шар. 200. Не по плану…\\nСолнце давно у...  \n",
       "3           Всё, что дороже, чем бесплатно - дорого!  \n",
       "4  Космическая Свита Примадонны.\\n.\\nВокруг\\nЗемл...  "
      ],
      "text/html": [
       "<div>\n",
       "<style scoped>\n",
       "    .dataframe tbody tr th:only-of-type {\n",
       "        vertical-align: middle;\n",
       "    }\n",
       "\n",
       "    .dataframe tbody tr th {\n",
       "        vertical-align: top;\n",
       "    }\n",
       "\n",
       "    .dataframe thead th {\n",
       "        text-align: right;\n",
       "    }\n",
       "</style>\n",
       "<table border=\"1\" class=\"dataframe\">\n",
       "  <thead>\n",
       "    <tr style=\"text-align: right;\">\n",
       "      <th></th>\n",
       "      <th>title</th>\n",
       "      <th>text</th>\n",
       "    </tr>\n",
       "  </thead>\n",
       "  <tbody>\n",
       "    <tr>\n",
       "      <th>0</th>\n",
       "      <td>Скромный Подиум Кристаллов</td>\n",
       "      <td>Скромный Подиум Кристаллов.\\n.\\nИные\\nКамни\\nБ...</td>\n",
       "    </tr>\n",
       "    <tr>\n",
       "      <th>1</th>\n",
       "      <td>Нас не догонят</td>\n",
       "      <td>Правая нога словно приросла к педали газа. Стр...</td>\n",
       "    </tr>\n",
       "    <tr>\n",
       "      <th>2</th>\n",
       "      <td>Снежный шар. 200. Не по плану</td>\n",
       "      <td>Снежный шар. 200. Не по плану…\\nСолнце давно у...</td>\n",
       "    </tr>\n",
       "    <tr>\n",
       "      <th>3</th>\n",
       "      <td>Новая кврейская поговорка</td>\n",
       "      <td>Всё, что дороже, чем бесплатно - дорого!</td>\n",
       "    </tr>\n",
       "    <tr>\n",
       "      <th>4</th>\n",
       "      <td>Космическая Свита Примадонны</td>\n",
       "      <td>Космическая Свита Примадонны.\\n.\\nВокруг\\nЗемл...</td>\n",
       "    </tr>\n",
       "  </tbody>\n",
       "</table>\n",
       "</div>"
      ]
     },
     "execution_count": 8,
     "metadata": {},
     "output_type": "execute_result"
    }
   ],
   "execution_count": 8
  },
  {
   "metadata": {},
   "cell_type": "markdown",
   "source": "### Удаление пустых текстов",
   "id": "7bbc74717a93815d"
  },
  {
   "metadata": {
    "ExecuteTime": {
     "end_time": "2025-07-21T10:12:24.822361Z",
     "start_time": "2025-07-21T10:12:24.815204Z"
    }
   },
   "cell_type": "code",
   "source": "all_data_text = all_data_text.dropna().reset_index(drop=True)",
   "id": "c48e10fae0d46211",
   "outputs": [],
   "execution_count": 13
  },
  {
   "metadata": {
    "ExecuteTime": {
     "end_time": "2025-07-21T10:12:38.122393Z",
     "start_time": "2025-07-21T10:12:38.118698Z"
    }
   },
   "cell_type": "code",
   "source": "all_data_text.head()",
   "id": "c253e8a6ee2a076f",
   "outputs": [
    {
     "data": {
      "text/plain": [
       "                           title  \\\n",
       "0     Скромный Подиум Кристаллов   \n",
       "1                 Нас не догонят   \n",
       "2  Снежный шар. 200. Не по плану   \n",
       "3      Новая кврейская поговорка   \n",
       "4   Космическая Свита Примадонны   \n",
       "\n",
       "                                                text  \n",
       "0  Скромный Подиум Кристаллов.\\n.\\nИные\\nКамни\\nБ...  \n",
       "1  Правая нога словно приросла к педали газа. Стр...  \n",
       "2  Снежный шар. 200. Не по плану…\\nСолнце давно у...  \n",
       "3           Всё, что дороже, чем бесплатно - дорого!  \n",
       "4  Космическая Свита Примадонны.\\n.\\nВокруг\\nЗемл...  "
      ],
      "text/html": [
       "<div>\n",
       "<style scoped>\n",
       "    .dataframe tbody tr th:only-of-type {\n",
       "        vertical-align: middle;\n",
       "    }\n",
       "\n",
       "    .dataframe tbody tr th {\n",
       "        vertical-align: top;\n",
       "    }\n",
       "\n",
       "    .dataframe thead th {\n",
       "        text-align: right;\n",
       "    }\n",
       "</style>\n",
       "<table border=\"1\" class=\"dataframe\">\n",
       "  <thead>\n",
       "    <tr style=\"text-align: right;\">\n",
       "      <th></th>\n",
       "      <th>title</th>\n",
       "      <th>text</th>\n",
       "    </tr>\n",
       "  </thead>\n",
       "  <tbody>\n",
       "    <tr>\n",
       "      <th>0</th>\n",
       "      <td>Скромный Подиум Кристаллов</td>\n",
       "      <td>Скромный Подиум Кристаллов.\\n.\\nИные\\nКамни\\nБ...</td>\n",
       "    </tr>\n",
       "    <tr>\n",
       "      <th>1</th>\n",
       "      <td>Нас не догонят</td>\n",
       "      <td>Правая нога словно приросла к педали газа. Стр...</td>\n",
       "    </tr>\n",
       "    <tr>\n",
       "      <th>2</th>\n",
       "      <td>Снежный шар. 200. Не по плану</td>\n",
       "      <td>Снежный шар. 200. Не по плану…\\nСолнце давно у...</td>\n",
       "    </tr>\n",
       "    <tr>\n",
       "      <th>3</th>\n",
       "      <td>Новая кврейская поговорка</td>\n",
       "      <td>Всё, что дороже, чем бесплатно - дорого!</td>\n",
       "    </tr>\n",
       "    <tr>\n",
       "      <th>4</th>\n",
       "      <td>Космическая Свита Примадонны</td>\n",
       "      <td>Космическая Свита Примадонны.\\n.\\nВокруг\\nЗемл...</td>\n",
       "    </tr>\n",
       "  </tbody>\n",
       "</table>\n",
       "</div>"
      ]
     },
     "execution_count": 15,
     "metadata": {},
     "output_type": "execute_result"
    }
   ],
   "execution_count": 15
  },
  {
   "metadata": {},
   "cell_type": "markdown",
   "source": "## Чистка текстов от лишних символов",
   "id": "725e0228c2cd3463"
  },
  {
   "metadata": {
    "ExecuteTime": {
     "end_time": "2025-07-21T10:12:41.523656Z",
     "start_time": "2025-07-21T10:12:41.520120Z"
    }
   },
   "cell_type": "code",
   "outputs": [],
   "execution_count": 16,
   "source": [
    "def clean_text(text):\n",
    "    text = text.lower()\n",
    "    text = re.sub(r\"http\\S+\", \"\", text)\n",
    "    text = re.sub(r'<[^>]+>', '', text)\n",
    "    text = re.sub(r'[^\\w\\s]', '', text)\n",
    "    text = re.sub(r'\\s+', ' ', text).strip()\n",
    "    return text"
   ],
   "id": "ba98238be7e68e4b"
  },
  {
   "metadata": {
    "ExecuteTime": {
     "end_time": "2025-07-21T10:12:56.196080Z",
     "start_time": "2025-07-21T10:12:42.051837Z"
    }
   },
   "cell_type": "code",
   "source": "all_data_text[\"text\"] = all_data_text[\"text\"].apply(clean_text)",
   "id": "199954b0d0f85d69",
   "outputs": [],
   "execution_count": 17
  },
  {
   "metadata": {
    "ExecuteTime": {
     "end_time": "2025-07-21T10:13:10.421159Z",
     "start_time": "2025-07-21T10:13:10.418209Z"
    }
   },
   "cell_type": "code",
   "source": "all_data_text.head()",
   "id": "f42a46f86f33bc72",
   "outputs": [
    {
     "data": {
      "text/plain": [
       "                           title  \\\n",
       "0     Скромный Подиум Кристаллов   \n",
       "1                 Нас не догонят   \n",
       "2  Снежный шар. 200. Не по плану   \n",
       "3      Новая кврейская поговорка   \n",
       "4   Космическая Свита Примадонны   \n",
       "\n",
       "                                                text  \n",
       "0  скромный подиум кристаллов иные камни без прим...  \n",
       "1  правая нога словно приросла к педали газа стре...  \n",
       "2  снежный шар 200 не по плану солнце давно укати...  \n",
       "3                всё что дороже чем бесплатно дорого  \n",
       "4  космическая свита примадонны вокруг земли лета...  "
      ],
      "text/html": [
       "<div>\n",
       "<style scoped>\n",
       "    .dataframe tbody tr th:only-of-type {\n",
       "        vertical-align: middle;\n",
       "    }\n",
       "\n",
       "    .dataframe tbody tr th {\n",
       "        vertical-align: top;\n",
       "    }\n",
       "\n",
       "    .dataframe thead th {\n",
       "        text-align: right;\n",
       "    }\n",
       "</style>\n",
       "<table border=\"1\" class=\"dataframe\">\n",
       "  <thead>\n",
       "    <tr style=\"text-align: right;\">\n",
       "      <th></th>\n",
       "      <th>title</th>\n",
       "      <th>text</th>\n",
       "    </tr>\n",
       "  </thead>\n",
       "  <tbody>\n",
       "    <tr>\n",
       "      <th>0</th>\n",
       "      <td>Скромный Подиум Кристаллов</td>\n",
       "      <td>скромный подиум кристаллов иные камни без прим...</td>\n",
       "    </tr>\n",
       "    <tr>\n",
       "      <th>1</th>\n",
       "      <td>Нас не догонят</td>\n",
       "      <td>правая нога словно приросла к педали газа стре...</td>\n",
       "    </tr>\n",
       "    <tr>\n",
       "      <th>2</th>\n",
       "      <td>Снежный шар. 200. Не по плану</td>\n",
       "      <td>снежный шар 200 не по плану солнце давно укати...</td>\n",
       "    </tr>\n",
       "    <tr>\n",
       "      <th>3</th>\n",
       "      <td>Новая кврейская поговорка</td>\n",
       "      <td>всё что дороже чем бесплатно дорого</td>\n",
       "    </tr>\n",
       "    <tr>\n",
       "      <th>4</th>\n",
       "      <td>Космическая Свита Примадонны</td>\n",
       "      <td>космическая свита примадонны вокруг земли лета...</td>\n",
       "    </tr>\n",
       "  </tbody>\n",
       "</table>\n",
       "</div>"
      ]
     },
     "execution_count": 18,
     "metadata": {},
     "output_type": "execute_result"
    }
   ],
   "execution_count": 18
  },
  {
   "metadata": {},
   "cell_type": "markdown",
   "source": "## Токенизация",
   "id": "c2f3c6bb2a8cdcaf"
  },
  {
   "metadata": {
    "ExecuteTime": {
     "end_time": "2025-07-21T10:15:15.509208Z",
     "start_time": "2025-07-21T10:15:15.506765Z"
    }
   },
   "cell_type": "code",
   "outputs": [],
   "execution_count": 22,
   "source": [
    "def tokenize(text: str) -> List[str]:\n",
    "    tokens = word_tokenize(text)\n",
    "\n",
    "    return tokens"
   ],
   "id": "ec9cde4c2cf9d1cf"
  },
  {
   "metadata": {
    "ExecuteTime": {
     "end_time": "2025-07-21T10:16:50.400009Z",
     "start_time": "2025-07-21T10:15:37.535496Z"
    }
   },
   "cell_type": "code",
   "source": "all_data_text[\"text\"] = all_data_text[\"text\"].apply(tokenize)",
   "id": "b1c80b8b01630d89",
   "outputs": [],
   "execution_count": 23
  },
  {
   "metadata": {
    "ExecuteTime": {
     "end_time": "2025-07-21T10:17:00.153679Z",
     "start_time": "2025-07-21T10:17:00.142635Z"
    }
   },
   "cell_type": "code",
   "source": "all_data_text.head()",
   "id": "15a09846a372eda9",
   "outputs": [
    {
     "data": {
      "text/plain": [
       "                           title  \\\n",
       "0     Скромный Подиум Кристаллов   \n",
       "1                 Нас не догонят   \n",
       "2  Снежный шар. 200. Не по плану   \n",
       "3      Новая кврейская поговорка   \n",
       "4   Космическая Свита Примадонны   \n",
       "\n",
       "                                                text  \n",
       "0  [скромный, подиум, кристаллов, иные, камни, бе...  \n",
       "1  [правая, нога, словно, приросла, к, педали, га...  \n",
       "2  [снежный, шар, 200, не, по, плану, солнце, дав...  \n",
       "3         [всё, что, дороже, чем, бесплатно, дорого]  \n",
       "4  [космическая, свита, примадонны, вокруг, земли...  "
      ],
      "text/html": [
       "<div>\n",
       "<style scoped>\n",
       "    .dataframe tbody tr th:only-of-type {\n",
       "        vertical-align: middle;\n",
       "    }\n",
       "\n",
       "    .dataframe tbody tr th {\n",
       "        vertical-align: top;\n",
       "    }\n",
       "\n",
       "    .dataframe thead th {\n",
       "        text-align: right;\n",
       "    }\n",
       "</style>\n",
       "<table border=\"1\" class=\"dataframe\">\n",
       "  <thead>\n",
       "    <tr style=\"text-align: right;\">\n",
       "      <th></th>\n",
       "      <th>title</th>\n",
       "      <th>text</th>\n",
       "    </tr>\n",
       "  </thead>\n",
       "  <tbody>\n",
       "    <tr>\n",
       "      <th>0</th>\n",
       "      <td>Скромный Подиум Кристаллов</td>\n",
       "      <td>[скромный, подиум, кристаллов, иные, камни, бе...</td>\n",
       "    </tr>\n",
       "    <tr>\n",
       "      <th>1</th>\n",
       "      <td>Нас не догонят</td>\n",
       "      <td>[правая, нога, словно, приросла, к, педали, га...</td>\n",
       "    </tr>\n",
       "    <tr>\n",
       "      <th>2</th>\n",
       "      <td>Снежный шар. 200. Не по плану</td>\n",
       "      <td>[снежный, шар, 200, не, по, плану, солнце, дав...</td>\n",
       "    </tr>\n",
       "    <tr>\n",
       "      <th>3</th>\n",
       "      <td>Новая кврейская поговорка</td>\n",
       "      <td>[всё, что, дороже, чем, бесплатно, дорого]</td>\n",
       "    </tr>\n",
       "    <tr>\n",
       "      <th>4</th>\n",
       "      <td>Космическая Свита Примадонны</td>\n",
       "      <td>[космическая, свита, примадонны, вокруг, земли...</td>\n",
       "    </tr>\n",
       "  </tbody>\n",
       "</table>\n",
       "</div>"
      ]
     },
     "execution_count": 24,
     "metadata": {},
     "output_type": "execute_result"
    }
   ],
   "execution_count": 24
  },
  {
   "metadata": {},
   "cell_type": "markdown",
   "source": "## Удаление строк с небольшими текстами",
   "id": "e8ac761c20cedaa"
  },
  {
   "metadata": {
    "ExecuteTime": {
     "end_time": "2025-07-21T10:18:37.251590Z",
     "start_time": "2025-07-21T10:18:37.233619Z"
    }
   },
   "cell_type": "code",
   "source": "all_data_text = all_data_text[all_data_text[\"text\"].apply(len) >= 30]",
   "id": "c8dc750f57074c63",
   "outputs": [],
   "execution_count": 27
  },
  {
   "metadata": {
    "ExecuteTime": {
     "end_time": "2025-07-21T10:18:43.860080Z",
     "start_time": "2025-07-21T10:18:43.850221Z"
    }
   },
   "cell_type": "code",
   "source": "all_data_text.head()",
   "id": "aa5d5530a81c7604",
   "outputs": [
    {
     "data": {
      "text/plain": [
       "                           title  \\\n",
       "0     Скромный Подиум Кристаллов   \n",
       "1                 Нас не догонят   \n",
       "2  Снежный шар. 200. Не по плану   \n",
       "4   Космическая Свита Примадонны   \n",
       "5                Боровая кантата   \n",
       "\n",
       "                                                text  \n",
       "0  [скромный, подиум, кристаллов, иные, камни, бе...  \n",
       "1  [правая, нога, словно, приросла, к, педали, га...  \n",
       "2  [снежный, шар, 200, не, по, плану, солнце, дав...  \n",
       "4  [космическая, свита, примадонны, вокруг, земли...  \n",
       "5  [пасхальное, о, это, божественный, лес, где, с...  "
      ],
      "text/html": [
       "<div>\n",
       "<style scoped>\n",
       "    .dataframe tbody tr th:only-of-type {\n",
       "        vertical-align: middle;\n",
       "    }\n",
       "\n",
       "    .dataframe tbody tr th {\n",
       "        vertical-align: top;\n",
       "    }\n",
       "\n",
       "    .dataframe thead th {\n",
       "        text-align: right;\n",
       "    }\n",
       "</style>\n",
       "<table border=\"1\" class=\"dataframe\">\n",
       "  <thead>\n",
       "    <tr style=\"text-align: right;\">\n",
       "      <th></th>\n",
       "      <th>title</th>\n",
       "      <th>text</th>\n",
       "    </tr>\n",
       "  </thead>\n",
       "  <tbody>\n",
       "    <tr>\n",
       "      <th>0</th>\n",
       "      <td>Скромный Подиум Кристаллов</td>\n",
       "      <td>[скромный, подиум, кристаллов, иные, камни, бе...</td>\n",
       "    </tr>\n",
       "    <tr>\n",
       "      <th>1</th>\n",
       "      <td>Нас не догонят</td>\n",
       "      <td>[правая, нога, словно, приросла, к, педали, га...</td>\n",
       "    </tr>\n",
       "    <tr>\n",
       "      <th>2</th>\n",
       "      <td>Снежный шар. 200. Не по плану</td>\n",
       "      <td>[снежный, шар, 200, не, по, плану, солнце, дав...</td>\n",
       "    </tr>\n",
       "    <tr>\n",
       "      <th>4</th>\n",
       "      <td>Космическая Свита Примадонны</td>\n",
       "      <td>[космическая, свита, примадонны, вокруг, земли...</td>\n",
       "    </tr>\n",
       "    <tr>\n",
       "      <th>5</th>\n",
       "      <td>Боровая кантата</td>\n",
       "      <td>[пасхальное, о, это, божественный, лес, где, с...</td>\n",
       "    </tr>\n",
       "  </tbody>\n",
       "</table>\n",
       "</div>"
      ]
     },
     "execution_count": 28,
     "metadata": {},
     "output_type": "execute_result"
    }
   ],
   "execution_count": 28
  },
  {
   "metadata": {
    "ExecuteTime": {
     "end_time": "2025-07-21T10:18:50.212467Z",
     "start_time": "2025-07-21T10:18:50.209129Z"
    }
   },
   "cell_type": "code",
   "source": "len(all_data_text)",
   "id": "9bec5cecb71b06c4",
   "outputs": [
    {
     "data": {
      "text/plain": [
       "14566"
      ]
     },
     "execution_count": 29,
     "metadata": {},
     "output_type": "execute_result"
    }
   ],
   "execution_count": 29
  },
  {
   "metadata": {
    "ExecuteTime": {
     "end_time": "2025-07-21T10:19:28.065137Z",
     "start_time": "2025-07-21T10:19:28.055903Z"
    }
   },
   "cell_type": "code",
   "source": "all_data_text = all_data_text.reset_index(drop=True)",
   "id": "cb4184598330aae7",
   "outputs": [],
   "execution_count": 30
  },
  {
   "metadata": {
    "ExecuteTime": {
     "end_time": "2025-07-21T10:20:35.086080Z",
     "start_time": "2025-07-21T10:20:26.491240Z"
    }
   },
   "cell_type": "code",
   "source": "all_data_text.to_csv(\"data/data_tokenize.csv\", index=False)",
   "id": "76c52965b56ac1fe",
   "outputs": [],
   "execution_count": 31
  },
  {
   "metadata": {
    "ExecuteTime": {
     "end_time": "2025-07-22T10:47:25.785206Z",
     "start_time": "2025-07-22T10:47:20.256186Z"
    }
   },
   "cell_type": "code",
   "source": "data_tokenize = pd.read_csv(\"data/data_tokenize.csv\")",
   "id": "368aef05ae7729e2",
   "outputs": [],
   "execution_count": 4
  },
  {
   "metadata": {
    "ExecuteTime": {
     "end_time": "2025-07-22T10:48:44.232686Z",
     "start_time": "2025-07-22T10:47:25.793197Z"
    }
   },
   "cell_type": "code",
   "source": "data_tokenize['text'] = data_tokenize['text'].apply(literal_eval)",
   "id": "d0292acc223ad31e",
   "outputs": [],
   "execution_count": 6
  },
  {
   "metadata": {},
   "cell_type": "markdown",
   "source": "## Нормализация",
   "id": "3672497afe7b41a6"
  },
  {
   "metadata": {
    "ExecuteTime": {
     "end_time": "2025-07-23T09:02:20.478648Z",
     "start_time": "2025-07-23T09:02:16.722973Z"
    }
   },
   "cell_type": "code",
   "source": "data_normalize = pd.read_csv(\"data/data_tokenize.csv\")",
   "id": "999a7b93708588ee",
   "outputs": [],
   "execution_count": 4
  },
  {
   "metadata": {
    "ExecuteTime": {
     "end_time": "2025-07-23T09:03:47.656786Z",
     "start_time": "2025-07-23T09:03:45.577560Z"
    }
   },
   "cell_type": "code",
   "source": "data_normalize[\"text\"] = data_normalize['text'].str.split()",
   "id": "585c5dd7b47d43bc",
   "outputs": [],
   "execution_count": 5
  },
  {
   "metadata": {
    "ExecuteTime": {
     "end_time": "2025-07-23T09:03:57.504763Z",
     "start_time": "2025-07-23T09:03:57.493252Z"
    }
   },
   "cell_type": "code",
   "source": "data_normalize.head()",
   "id": "c3a9a7da39116c91",
   "outputs": [
    {
     "data": {
      "text/plain": [
       "                           title  \\\n",
       "0     Скромный Подиум Кристаллов   \n",
       "1                 Нас не догонят   \n",
       "2  Снежный шар. 200. Не по плану   \n",
       "3   Космическая Свита Примадонны   \n",
       "4                Боровая кантата   \n",
       "\n",
       "                                                text  \n",
       "0  [скромный, подиум, кристаллов, иные, камни, пр...  \n",
       "1  [правая, нога, словно, приросла, педали, газа,...  \n",
       "2  [снежный, шар, 200, плану, солнце, давно, укат...  \n",
       "3  [космическая, свита, примадонны, вокруг, земли...  \n",
       "4  [пасхальное, божественный, лес, сосны, доверчи...  "
      ],
      "text/html": [
       "<div>\n",
       "<style scoped>\n",
       "    .dataframe tbody tr th:only-of-type {\n",
       "        vertical-align: middle;\n",
       "    }\n",
       "\n",
       "    .dataframe tbody tr th {\n",
       "        vertical-align: top;\n",
       "    }\n",
       "\n",
       "    .dataframe thead th {\n",
       "        text-align: right;\n",
       "    }\n",
       "</style>\n",
       "<table border=\"1\" class=\"dataframe\">\n",
       "  <thead>\n",
       "    <tr style=\"text-align: right;\">\n",
       "      <th></th>\n",
       "      <th>title</th>\n",
       "      <th>text</th>\n",
       "    </tr>\n",
       "  </thead>\n",
       "  <tbody>\n",
       "    <tr>\n",
       "      <th>0</th>\n",
       "      <td>Скромный Подиум Кристаллов</td>\n",
       "      <td>[скромный, подиум, кристаллов, иные, камни, пр...</td>\n",
       "    </tr>\n",
       "    <tr>\n",
       "      <th>1</th>\n",
       "      <td>Нас не догонят</td>\n",
       "      <td>[правая, нога, словно, приросла, педали, газа,...</td>\n",
       "    </tr>\n",
       "    <tr>\n",
       "      <th>2</th>\n",
       "      <td>Снежный шар. 200. Не по плану</td>\n",
       "      <td>[снежный, шар, 200, плану, солнце, давно, укат...</td>\n",
       "    </tr>\n",
       "    <tr>\n",
       "      <th>3</th>\n",
       "      <td>Космическая Свита Примадонны</td>\n",
       "      <td>[космическая, свита, примадонны, вокруг, земли...</td>\n",
       "    </tr>\n",
       "    <tr>\n",
       "      <th>4</th>\n",
       "      <td>Боровая кантата</td>\n",
       "      <td>[пасхальное, божественный, лес, сосны, доверчи...</td>\n",
       "    </tr>\n",
       "  </tbody>\n",
       "</table>\n",
       "</div>"
      ]
     },
     "execution_count": 6,
     "metadata": {},
     "output_type": "execute_result"
    }
   ],
   "execution_count": 6
  },
  {
   "metadata": {
    "ExecuteTime": {
     "end_time": "2025-07-23T09:04:59.499299Z",
     "start_time": "2025-07-23T09:04:59.496229Z"
    }
   },
   "cell_type": "code",
   "source": [
    "@lru_cache(maxsize=10000)\n",
    "def normalize_word(word: str) -> str:\n",
    "    return morph.parse(word)[0].normal_form.replace('ё', 'е')\n",
    "\n",
    "def normalization(text: List[str]) -> List[str]:\n",
    "    return [normalize_word(word) for word in text]"
   ],
   "id": "446d39c0aa76611f",
   "outputs": [],
   "execution_count": 7
  },
  {
   "metadata": {
    "ExecuteTime": {
     "end_time": "2025-07-23T09:18:14.688962Z",
     "start_time": "2025-07-23T09:05:39.982593Z"
    }
   },
   "cell_type": "code",
   "source": [
    "data_normalize[\"text\"] = (\n",
    "    data_normalize[\"text\"]\n",
    "    .swifter\n",
    "    .progress_bar(enable=True, desc=\"Нормализация текстов\")\n",
    "    .apply(normalization)\n",
    ")"
   ],
   "id": "ecd7506c906fabad",
   "outputs": [
    {
     "name": "stderr",
     "output_type": "stream",
     "text": [
      "Нормализация текстов: 100%|██████████| 14566/14566 [11:21<00:00, 21.39it/s] \n"
     ]
    }
   ],
   "execution_count": 9
  },
  {
   "metadata": {
    "ExecuteTime": {
     "end_time": "2025-07-23T09:18:32.098210Z",
     "start_time": "2025-07-23T09:18:32.091017Z"
    }
   },
   "cell_type": "code",
   "source": "data_normalize.head()",
   "id": "4dca3cc3b3b461f9",
   "outputs": [
    {
     "data": {
      "text/plain": [
       "                           title  \\\n",
       "0     Скромный Подиум Кристаллов   \n",
       "1                 Нас не догонят   \n",
       "2  Снежный шар. 200. Не по плану   \n",
       "3   Космическая Свита Примадонны   \n",
       "4                Боровая кантата   \n",
       "\n",
       "                                                text  \n",
       "0  [скромный, подиум, кристалл, иной, камень, при...  \n",
       "1  [правый, нога, словно, прирасти, педаль, газ, ...  \n",
       "2  [снежный, шар, 200, план, солнце, давно, укати...  \n",
       "3  [космический, свита, примадонна, вокруг, земля...  \n",
       "4  [пасхальный, божественный, лес, сосна, доверчи...  "
      ],
      "text/html": [
       "<div>\n",
       "<style scoped>\n",
       "    .dataframe tbody tr th:only-of-type {\n",
       "        vertical-align: middle;\n",
       "    }\n",
       "\n",
       "    .dataframe tbody tr th {\n",
       "        vertical-align: top;\n",
       "    }\n",
       "\n",
       "    .dataframe thead th {\n",
       "        text-align: right;\n",
       "    }\n",
       "</style>\n",
       "<table border=\"1\" class=\"dataframe\">\n",
       "  <thead>\n",
       "    <tr style=\"text-align: right;\">\n",
       "      <th></th>\n",
       "      <th>title</th>\n",
       "      <th>text</th>\n",
       "    </tr>\n",
       "  </thead>\n",
       "  <tbody>\n",
       "    <tr>\n",
       "      <th>0</th>\n",
       "      <td>Скромный Подиум Кристаллов</td>\n",
       "      <td>[скромный, подиум, кристалл, иной, камень, при...</td>\n",
       "    </tr>\n",
       "    <tr>\n",
       "      <th>1</th>\n",
       "      <td>Нас не догонят</td>\n",
       "      <td>[правый, нога, словно, прирасти, педаль, газ, ...</td>\n",
       "    </tr>\n",
       "    <tr>\n",
       "      <th>2</th>\n",
       "      <td>Снежный шар. 200. Не по плану</td>\n",
       "      <td>[снежный, шар, 200, план, солнце, давно, укати...</td>\n",
       "    </tr>\n",
       "    <tr>\n",
       "      <th>3</th>\n",
       "      <td>Космическая Свита Примадонны</td>\n",
       "      <td>[космический, свита, примадонна, вокруг, земля...</td>\n",
       "    </tr>\n",
       "    <tr>\n",
       "      <th>4</th>\n",
       "      <td>Боровая кантата</td>\n",
       "      <td>[пасхальный, божественный, лес, сосна, доверчи...</td>\n",
       "    </tr>\n",
       "  </tbody>\n",
       "</table>\n",
       "</div>"
      ]
     },
     "execution_count": 10,
     "metadata": {},
     "output_type": "execute_result"
    }
   ],
   "execution_count": 10
  },
  {
   "metadata": {
    "ExecuteTime": {
     "end_time": "2025-07-23T09:19:11.176633Z",
     "start_time": "2025-07-23T09:19:05.846240Z"
    }
   },
   "cell_type": "code",
   "source": "data_normalize.to_csv(\"data/data_tokenize.csv\", index=False)",
   "id": "2da96f94fb005b06",
   "outputs": [],
   "execution_count": 11
  },
  {
   "metadata": {},
   "cell_type": "markdown",
   "source": "## Удаление стоп слов",
   "id": "b4fca744fbce82eb"
  },
  {
   "metadata": {
    "ExecuteTime": {
     "end_time": "2025-07-22T10:48:48.594833Z",
     "start_time": "2025-07-22T10:48:48.590676Z"
    }
   },
   "cell_type": "code",
   "source": [
    "def delete_stop_words(text: List[str]) -> List[str]:\n",
    "    return [word for word in text if normalize_word(word) not in stop_words]"
   ],
   "id": "c45c9e43fc206146",
   "outputs": [],
   "execution_count": 7
  },
  {
   "metadata": {},
   "cell_type": "markdown",
   "source": "Функция нормализации текста нужна, чтобы удалить стоп-слова, так как в списке они все в нормальной форме",
   "id": "c9f6557388f086e4"
  },
  {
   "metadata": {
    "ExecuteTime": {
     "end_time": "2025-07-22T11:01:56.356440Z",
     "start_time": "2025-07-22T10:48:51.074155Z"
    }
   },
   "cell_type": "code",
   "source": [
    "data_tokenize[\"text\"] = (\n",
    "    data_tokenize[\"text\"]\n",
    "    .swifter\n",
    "    .progress_bar(enable=True, desc=\"Обработка текстов\")\n",
    "    .apply(delete_stop_words)\n",
    ")"
   ],
   "id": "c13f1de0785510a6",
   "outputs": [
    {
     "name": "stderr",
     "output_type": "stream",
     "text": [
      "Обработка текстов: 100%|██████████| 14566/14566 [11:35<00:00, 20.96it/s] \n"
     ]
    }
   ],
   "execution_count": 9
  },
  {
   "metadata": {},
   "cell_type": "markdown",
   "source": "Для ускорения работы была сделана параллельная обработка - использовались все ядра устройства",
   "id": "a7f8042433855c54"
  },
  {
   "metadata": {
    "ExecuteTime": {
     "end_time": "2025-07-22T11:01:56.369674Z",
     "start_time": "2025-07-22T11:01:56.364297Z"
    }
   },
   "cell_type": "code",
   "source": "data_tokenize.head()",
   "id": "9b2a155444e8ccbe",
   "outputs": [
    {
     "data": {
      "text/plain": [
       "                           title  \\\n",
       "0     Скромный Подиум Кристаллов   \n",
       "1                 Нас не догонят   \n",
       "2  Снежный шар. 200. Не по плану   \n",
       "3   Космическая Свита Примадонны   \n",
       "4                Боровая кантата   \n",
       "\n",
       "                                                text  \n",
       "0  [скромный, подиум, кристаллов, иные, камни, пр...  \n",
       "1  [правая, нога, словно, приросла, педали, газа,...  \n",
       "2  [снежный, шар, 200, плану, солнце, давно, укат...  \n",
       "3  [космическая, свита, примадонны, вокруг, земли...  \n",
       "4  [пасхальное, божественный, лес, сосны, доверчи...  "
      ],
      "text/html": [
       "<div>\n",
       "<style scoped>\n",
       "    .dataframe tbody tr th:only-of-type {\n",
       "        vertical-align: middle;\n",
       "    }\n",
       "\n",
       "    .dataframe tbody tr th {\n",
       "        vertical-align: top;\n",
       "    }\n",
       "\n",
       "    .dataframe thead th {\n",
       "        text-align: right;\n",
       "    }\n",
       "</style>\n",
       "<table border=\"1\" class=\"dataframe\">\n",
       "  <thead>\n",
       "    <tr style=\"text-align: right;\">\n",
       "      <th></th>\n",
       "      <th>title</th>\n",
       "      <th>text</th>\n",
       "    </tr>\n",
       "  </thead>\n",
       "  <tbody>\n",
       "    <tr>\n",
       "      <th>0</th>\n",
       "      <td>Скромный Подиум Кристаллов</td>\n",
       "      <td>[скромный, подиум, кристаллов, иные, камни, пр...</td>\n",
       "    </tr>\n",
       "    <tr>\n",
       "      <th>1</th>\n",
       "      <td>Нас не догонят</td>\n",
       "      <td>[правая, нога, словно, приросла, педали, газа,...</td>\n",
       "    </tr>\n",
       "    <tr>\n",
       "      <th>2</th>\n",
       "      <td>Снежный шар. 200. Не по плану</td>\n",
       "      <td>[снежный, шар, 200, плану, солнце, давно, укат...</td>\n",
       "    </tr>\n",
       "    <tr>\n",
       "      <th>3</th>\n",
       "      <td>Космическая Свита Примадонны</td>\n",
       "      <td>[космическая, свита, примадонны, вокруг, земли...</td>\n",
       "    </tr>\n",
       "    <tr>\n",
       "      <th>4</th>\n",
       "      <td>Боровая кантата</td>\n",
       "      <td>[пасхальное, божественный, лес, сосны, доверчи...</td>\n",
       "    </tr>\n",
       "  </tbody>\n",
       "</table>\n",
       "</div>"
      ]
     },
     "execution_count": 10,
     "metadata": {},
     "output_type": "execute_result"
    }
   ],
   "execution_count": 10
  },
  {
   "metadata": {
    "ExecuteTime": {
     "end_time": "2025-07-22T11:04:47.598484Z",
     "start_time": "2025-07-22T11:04:46.855095Z"
    }
   },
   "cell_type": "code",
   "source": [
    "data_tokenize[\"text\"] = data_tokenize[\"text\"].apply(' '.join)\n",
    "data_tokenize.head()"
   ],
   "id": "b28ea88da6546df1",
   "outputs": [
    {
     "data": {
      "text/plain": [
       "                           title  \\\n",
       "0     Скромный Подиум Кристаллов   \n",
       "1                 Нас не догонят   \n",
       "2  Снежный шар. 200. Не по плану   \n",
       "3   Космическая Свита Примадонны   \n",
       "4                Боровая кантата   \n",
       "\n",
       "                                                text  \n",
       "0  скромный подиум кристаллов иные камни примерок...  \n",
       "1  правая нога словно приросла педали газа стрелк...  \n",
       "2  снежный шар 200 плану солнце давно укатилось г...  \n",
       "3  космическая свита примадонны вокруг земли лета...  \n",
       "4  пасхальное божественный лес сосны доверчиво во...  "
      ],
      "text/html": [
       "<div>\n",
       "<style scoped>\n",
       "    .dataframe tbody tr th:only-of-type {\n",
       "        vertical-align: middle;\n",
       "    }\n",
       "\n",
       "    .dataframe tbody tr th {\n",
       "        vertical-align: top;\n",
       "    }\n",
       "\n",
       "    .dataframe thead th {\n",
       "        text-align: right;\n",
       "    }\n",
       "</style>\n",
       "<table border=\"1\" class=\"dataframe\">\n",
       "  <thead>\n",
       "    <tr style=\"text-align: right;\">\n",
       "      <th></th>\n",
       "      <th>title</th>\n",
       "      <th>text</th>\n",
       "    </tr>\n",
       "  </thead>\n",
       "  <tbody>\n",
       "    <tr>\n",
       "      <th>0</th>\n",
       "      <td>Скромный Подиум Кристаллов</td>\n",
       "      <td>скромный подиум кристаллов иные камни примерок...</td>\n",
       "    </tr>\n",
       "    <tr>\n",
       "      <th>1</th>\n",
       "      <td>Нас не догонят</td>\n",
       "      <td>правая нога словно приросла педали газа стрелк...</td>\n",
       "    </tr>\n",
       "    <tr>\n",
       "      <th>2</th>\n",
       "      <td>Снежный шар. 200. Не по плану</td>\n",
       "      <td>снежный шар 200 плану солнце давно укатилось г...</td>\n",
       "    </tr>\n",
       "    <tr>\n",
       "      <th>3</th>\n",
       "      <td>Космическая Свита Примадонны</td>\n",
       "      <td>космическая свита примадонны вокруг земли лета...</td>\n",
       "    </tr>\n",
       "    <tr>\n",
       "      <th>4</th>\n",
       "      <td>Боровая кантата</td>\n",
       "      <td>пасхальное божественный лес сосны доверчиво во...</td>\n",
       "    </tr>\n",
       "  </tbody>\n",
       "</table>\n",
       "</div>"
      ]
     },
     "execution_count": 11,
     "metadata": {},
     "output_type": "execute_result"
    }
   ],
   "execution_count": 11
  },
  {
   "metadata": {},
   "cell_type": "markdown",
   "source": "Перевод списка токенов в строку нужно, так как pandas списки считывает строкой",
   "id": "fe91981cde02810f"
  },
  {
   "metadata": {
    "ExecuteTime": {
     "end_time": "2025-07-22T11:05:16.154784Z",
     "start_time": "2025-07-22T11:05:13.673161Z"
    }
   },
   "cell_type": "code",
   "source": "data_tokenize.to_csv(\"data/data_tokenize.csv\", index=False)",
   "id": "5e46b8ae247a58d8",
   "outputs": [],
   "execution_count": 12
  },
  {
   "metadata": {
    "ExecuteTime": {
     "end_time": "2025-07-22T11:41:30.904875Z",
     "start_time": "2025-07-22T11:41:30.900647Z"
    }
   },
   "cell_type": "code",
   "source": "len(data_tokenize)",
   "id": "64d1f3479f715392",
   "outputs": [
    {
     "data": {
      "text/plain": [
       "14566"
      ]
     },
     "execution_count": 13,
     "metadata": {},
     "output_type": "execute_result"
    }
   ],
   "execution_count": 13
  },
  {
   "metadata": {
    "ExecuteTime": {
     "end_time": "2025-07-22T11:51:05.165680Z",
     "start_time": "2025-07-22T11:51:05.156120Z"
    }
   },
   "cell_type": "code",
   "source": [
    "middle_part = data_tokenize.iloc[len(data_tokenize)//4 : 3*len(data_tokenize)//4]\n",
    "middle_part"
   ],
   "id": "546b26c46b7aec89",
   "outputs": [
    {
     "data": {
      "text/plain": [
       "                                             title  \\\n",
       "3641   Просл Муч Бессер Космы и Дамиану Римск Чуд!   \n",
       "3642      Блаж Матроне Моск, Ксении Петерб Чудотв!   \n",
       "3643        Пророку Ев Ап Иоанну Богослову Чудотв!   \n",
       "3644     М-вы Анг Хр Сщмч Леониду Прилузск Чудотв!   \n",
       "3645        Воспом Чуда Архистратига Михаила и др!   \n",
       "...                                            ...   \n",
       "10919                              Медитация Трейи   \n",
       "10920                               Со слов собаки   \n",
       "10921                                     Изолятор   \n",
       "10922                                         Саня   \n",
       "10923                        Мексиканские каникулы   \n",
       "\n",
       "                                                    text  \n",
       "3641   постоянное место публикации сборник встречаем ...  \n",
       "3642   мвы блаж матроне моск ксении петерб чуд постоя...  \n",
       "3643   постоянное место публикации сборник встречаем ...  \n",
       "3644   постоянное место публикации сборник встречаем ...  \n",
       "3645   мпостоянное место публикации сборник встречаем...  \n",
       "...                                                  ...  \n",
       "10919  возможно схожие видеотрейлеры архивированы ген...  \n",
       "10920  может ктото думает представляете вашей собаки ...  \n",
       "10921  сны мишке прохорову снились часто хотя точным ...  \n",
       "10922  стремительно пронесся вверх карьерной лестнице...  \n",
       "10923  мексиканские каникулы день первый аэропорт кан...  \n",
       "\n",
       "[7283 rows x 2 columns]"
      ],
      "text/html": [
       "<div>\n",
       "<style scoped>\n",
       "    .dataframe tbody tr th:only-of-type {\n",
       "        vertical-align: middle;\n",
       "    }\n",
       "\n",
       "    .dataframe tbody tr th {\n",
       "        vertical-align: top;\n",
       "    }\n",
       "\n",
       "    .dataframe thead th {\n",
       "        text-align: right;\n",
       "    }\n",
       "</style>\n",
       "<table border=\"1\" class=\"dataframe\">\n",
       "  <thead>\n",
       "    <tr style=\"text-align: right;\">\n",
       "      <th></th>\n",
       "      <th>title</th>\n",
       "      <th>text</th>\n",
       "    </tr>\n",
       "  </thead>\n",
       "  <tbody>\n",
       "    <tr>\n",
       "      <th>3641</th>\n",
       "      <td>Просл Муч Бессер Космы и Дамиану Римск Чуд!</td>\n",
       "      <td>постоянное место публикации сборник встречаем ...</td>\n",
       "    </tr>\n",
       "    <tr>\n",
       "      <th>3642</th>\n",
       "      <td>Блаж Матроне Моск, Ксении Петерб Чудотв!</td>\n",
       "      <td>мвы блаж матроне моск ксении петерб чуд постоя...</td>\n",
       "    </tr>\n",
       "    <tr>\n",
       "      <th>3643</th>\n",
       "      <td>Пророку Ев Ап Иоанну Богослову Чудотв!</td>\n",
       "      <td>постоянное место публикации сборник встречаем ...</td>\n",
       "    </tr>\n",
       "    <tr>\n",
       "      <th>3644</th>\n",
       "      <td>М-вы Анг Хр Сщмч Леониду Прилузск Чудотв!</td>\n",
       "      <td>постоянное место публикации сборник встречаем ...</td>\n",
       "    </tr>\n",
       "    <tr>\n",
       "      <th>3645</th>\n",
       "      <td>Воспом Чуда Архистратига Михаила и др!</td>\n",
       "      <td>мпостоянное место публикации сборник встречаем...</td>\n",
       "    </tr>\n",
       "    <tr>\n",
       "      <th>...</th>\n",
       "      <td>...</td>\n",
       "      <td>...</td>\n",
       "    </tr>\n",
       "    <tr>\n",
       "      <th>10919</th>\n",
       "      <td>Медитация Трейи</td>\n",
       "      <td>возможно схожие видеотрейлеры архивированы ген...</td>\n",
       "    </tr>\n",
       "    <tr>\n",
       "      <th>10920</th>\n",
       "      <td>Со слов собаки</td>\n",
       "      <td>может ктото думает представляете вашей собаки ...</td>\n",
       "    </tr>\n",
       "    <tr>\n",
       "      <th>10921</th>\n",
       "      <td>Изолятор</td>\n",
       "      <td>сны мишке прохорову снились часто хотя точным ...</td>\n",
       "    </tr>\n",
       "    <tr>\n",
       "      <th>10922</th>\n",
       "      <td>Саня</td>\n",
       "      <td>стремительно пронесся вверх карьерной лестнице...</td>\n",
       "    </tr>\n",
       "    <tr>\n",
       "      <th>10923</th>\n",
       "      <td>Мексиканские каникулы</td>\n",
       "      <td>мексиканские каникулы день первый аэропорт кан...</td>\n",
       "    </tr>\n",
       "  </tbody>\n",
       "</table>\n",
       "<p>7283 rows × 2 columns</p>\n",
       "</div>"
      ]
     },
     "execution_count": 14,
     "metadata": {},
     "output_type": "execute_result"
    }
   ],
   "execution_count": 14
  },
  {
   "metadata": {},
   "cell_type": "code",
   "outputs": [],
   "execution_count": null,
   "source": "",
   "id": "7234202735a9dfa"
  }
 ],
 "metadata": {
  "kernelspec": {
   "display_name": "Python 3 (ipykernel)",
   "language": "python",
   "name": "python3"
  },
  "language_info": {
   "codemirror_mode": {
    "name": "ipython",
    "version": 2
   },
   "file_extension": ".py",
   "mimetype": "text/x-python",
   "name": "python",
   "nbconvert_exporter": "python",
   "pygments_lexer": "ipython2",
   "version": "2.7.6"
  }
 },
 "nbformat": 4,
 "nbformat_minor": 5
}
