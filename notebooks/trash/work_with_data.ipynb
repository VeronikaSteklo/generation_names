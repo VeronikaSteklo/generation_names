{
 "cells": [
  {
   "metadata": {},
   "cell_type": "markdown",
   "source": "# Обработка датасета - токенизация, лемматизация и удаление стоп слов",
   "id": "b3e03920ed06e684"
  },
  {
   "cell_type": "code",
   "id": "initial_id",
   "metadata": {
    "collapsed": true,
    "ExecuteTime": {
     "end_time": "2025-08-24T05:20:28.930399Z",
     "start_time": "2025-08-24T05:20:27.107687Z"
    }
   },
   "source": [
    "import re\n",
    "import swifter\n",
    "from functools import lru_cache\n",
    "from typing import List\n",
    "from ast import literal_eval\n",
    "\n",
    "import pandas as pd\n",
    "import nltk\n",
    "from nltk.tokenize import word_tokenize\n",
    "from nltk.corpus import stopwords\n",
    "from pymorphy3 import MorphAnalyzer\n",
    "\n",
    "from tqdm import TqdmWarning\n",
    "import warnings\n",
    "from tqdm.auto import tqdm\n",
    "tqdm.pandas()\n",
    "warnings.filterwarnings(\"ignore\", category=TqdmWarning)"
   ],
   "outputs": [
    {
     "name": "stderr",
     "output_type": "stream",
     "text": [
      "/Library/Frameworks/Python.framework/Versions/3.12/lib/python3.12/site-packages/tqdm/auto.py:21: TqdmWarning: IProgress not found. Please update jupyter and ipywidgets. See https://ipywidgets.readthedocs.io/en/stable/user_install.html\n",
      "  from .autonotebook import tqdm as notebook_tqdm\n"
     ]
    }
   ],
   "execution_count": 1
  },
  {
   "metadata": {
    "ExecuteTime": {
     "end_time": "2025-08-24T05:20:31.279076Z",
     "start_time": "2025-08-24T05:20:31.236303Z"
    }
   },
   "cell_type": "code",
   "source": [
    "morph = MorphAnalyzer()\n",
    "stop_words = stopwords.words('russian')\n",
    "extra_stopwords = ['это', 'который', 'весь', 'свой', 'такой', 'тем', 'чтобы']\n",
    "stop_words.extend(extra_stopwords)\n",
    "stop_words = set(stop_words)"
   ],
   "id": "dae57ced72f36ec0",
   "outputs": [],
   "execution_count": 2
  },
  {
   "metadata": {
    "ExecuteTime": {
     "end_time": "2025-08-24T05:20:32.208577Z",
     "start_time": "2025-08-24T05:20:31.860078Z"
    }
   },
   "cell_type": "code",
   "source": [
    "nltk.download(\"punkt\")\n",
    "nltk.download('stopwords')\n",
    "nltk.download('punkt_tab')"
   ],
   "id": "3c53f24f9721a34e",
   "outputs": [
    {
     "name": "stderr",
     "output_type": "stream",
     "text": [
      "[nltk_data] Downloading package punkt to\n",
      "[nltk_data]     /Users/veronika_steklo/nltk_data...\n",
      "[nltk_data]   Package punkt is already up-to-date!\n",
      "[nltk_data] Downloading package stopwords to\n",
      "[nltk_data]     /Users/veronika_steklo/nltk_data...\n",
      "[nltk_data]   Package stopwords is already up-to-date!\n",
      "[nltk_data] Downloading package punkt_tab to\n",
      "[nltk_data]     /Users/veronika_steklo/nltk_data...\n",
      "[nltk_data]   Package punkt_tab is already up-to-date!\n"
     ]
    },
    {
     "data": {
      "text/plain": [
       "True"
      ]
     },
     "execution_count": 3,
     "metadata": {},
     "output_type": "execute_result"
    }
   ],
   "execution_count": 3
  },
  {
   "metadata": {},
   "cell_type": "markdown",
   "source": "## Считывание данных",
   "id": "4550305bcd41f7f0"
  },
  {
   "metadata": {
    "ExecuteTime": {
     "end_time": "2025-08-24T05:20:40.232419Z",
     "start_time": "2025-08-24T05:20:35.493568Z"
    }
   },
   "cell_type": "code",
   "source": "all_data_text = pd.read_csv('../data/data.csv')",
   "id": "ce1b62cd6822c31f",
   "outputs": [],
   "execution_count": 4
  },
  {
   "metadata": {
    "ExecuteTime": {
     "end_time": "2025-08-24T05:20:40.850563Z",
     "start_time": "2025-08-24T05:20:40.838549Z"
    }
   },
   "cell_type": "code",
   "source": "all_data_text.head()",
   "id": "c83c914830260696",
   "outputs": [
    {
     "data": {
      "text/plain": [
       "       genre                          title                         author  \\\n",
       "0  миниатюры     Скромный Подиум Кристаллов     Скромный Подиум Кристаллов   \n",
       "1  миниатюры                 Нас не догонят                 Нас не догонят   \n",
       "2  миниатюры  Снежный шар. 200. Не по плану  Снежный шар. 200. Не по плану   \n",
       "3  миниатюры      Новая кврейская поговорка      Новая кврейская поговорка   \n",
       "4  миниатюры   Космическая Свита Примадонны   Космическая Свита Примадонны   \n",
       "\n",
       "                                   link  \\\n",
       "0  https://www.proza.ru/2025/07/19/1660   \n",
       "1  https://www.proza.ru/2025/07/19/1653   \n",
       "2  https://www.proza.ru/2025/07/19/1644   \n",
       "3  https://www.proza.ru/2025/07/19/1641   \n",
       "4  https://www.proza.ru/2025/07/19/1630   \n",
       "\n",
       "                                                text  \n",
       "0  Скромный Подиум Кристаллов.\\n.\\nИные\\nКамни\\nБ...  \n",
       "1  Правая нога словно приросла к педали газа. Стр...  \n",
       "2  Снежный шар. 200. Не по плану…\\nСолнце давно у...  \n",
       "3           Всё, что дороже, чем бесплатно - дорого!  \n",
       "4  Космическая Свита Примадонны.\\n.\\nВокруг\\nЗемл...  "
      ],
      "text/html": [
       "<div>\n",
       "<style scoped>\n",
       "    .dataframe tbody tr th:only-of-type {\n",
       "        vertical-align: middle;\n",
       "    }\n",
       "\n",
       "    .dataframe tbody tr th {\n",
       "        vertical-align: top;\n",
       "    }\n",
       "\n",
       "    .dataframe thead th {\n",
       "        text-align: right;\n",
       "    }\n",
       "</style>\n",
       "<table border=\"1\" class=\"dataframe\">\n",
       "  <thead>\n",
       "    <tr style=\"text-align: right;\">\n",
       "      <th></th>\n",
       "      <th>genre</th>\n",
       "      <th>title</th>\n",
       "      <th>author</th>\n",
       "      <th>link</th>\n",
       "      <th>text</th>\n",
       "    </tr>\n",
       "  </thead>\n",
       "  <tbody>\n",
       "    <tr>\n",
       "      <th>0</th>\n",
       "      <td>миниатюры</td>\n",
       "      <td>Скромный Подиум Кристаллов</td>\n",
       "      <td>Скромный Подиум Кристаллов</td>\n",
       "      <td>https://www.proza.ru/2025/07/19/1660</td>\n",
       "      <td>Скромный Подиум Кристаллов.\\n.\\nИные\\nКамни\\nБ...</td>\n",
       "    </tr>\n",
       "    <tr>\n",
       "      <th>1</th>\n",
       "      <td>миниатюры</td>\n",
       "      <td>Нас не догонят</td>\n",
       "      <td>Нас не догонят</td>\n",
       "      <td>https://www.proza.ru/2025/07/19/1653</td>\n",
       "      <td>Правая нога словно приросла к педали газа. Стр...</td>\n",
       "    </tr>\n",
       "    <tr>\n",
       "      <th>2</th>\n",
       "      <td>миниатюры</td>\n",
       "      <td>Снежный шар. 200. Не по плану</td>\n",
       "      <td>Снежный шар. 200. Не по плану</td>\n",
       "      <td>https://www.proza.ru/2025/07/19/1644</td>\n",
       "      <td>Снежный шар. 200. Не по плану…\\nСолнце давно у...</td>\n",
       "    </tr>\n",
       "    <tr>\n",
       "      <th>3</th>\n",
       "      <td>миниатюры</td>\n",
       "      <td>Новая кврейская поговорка</td>\n",
       "      <td>Новая кврейская поговорка</td>\n",
       "      <td>https://www.proza.ru/2025/07/19/1641</td>\n",
       "      <td>Всё, что дороже, чем бесплатно - дорого!</td>\n",
       "    </tr>\n",
       "    <tr>\n",
       "      <th>4</th>\n",
       "      <td>миниатюры</td>\n",
       "      <td>Космическая Свита Примадонны</td>\n",
       "      <td>Космическая Свита Примадонны</td>\n",
       "      <td>https://www.proza.ru/2025/07/19/1630</td>\n",
       "      <td>Космическая Свита Примадонны.\\n.\\nВокруг\\nЗемл...</td>\n",
       "    </tr>\n",
       "  </tbody>\n",
       "</table>\n",
       "</div>"
      ]
     },
     "execution_count": 5,
     "metadata": {},
     "output_type": "execute_result"
    }
   ],
   "execution_count": 5
  },
  {
   "metadata": {
    "ExecuteTime": {
     "end_time": "2025-08-24T05:20:43.655442Z",
     "start_time": "2025-08-24T05:20:43.647588Z"
    }
   },
   "cell_type": "code",
   "source": "all_data_text = all_data_text.drop(columns=[\"genre\", \"author\", \"link\"])",
   "id": "4a271624ee2e70db",
   "outputs": [],
   "execution_count": 6
  },
  {
   "metadata": {
    "ExecuteTime": {
     "end_time": "2025-08-24T05:20:44.151404Z",
     "start_time": "2025-08-24T05:20:44.144448Z"
    }
   },
   "cell_type": "code",
   "source": "all_data_text.head()",
   "id": "a8ec2d558e808e2b",
   "outputs": [
    {
     "data": {
      "text/plain": [
       "                           title  \\\n",
       "0     Скромный Подиум Кристаллов   \n",
       "1                 Нас не догонят   \n",
       "2  Снежный шар. 200. Не по плану   \n",
       "3      Новая кврейская поговорка   \n",
       "4   Космическая Свита Примадонны   \n",
       "\n",
       "                                                text  \n",
       "0  Скромный Подиум Кристаллов.\\n.\\nИные\\nКамни\\nБ...  \n",
       "1  Правая нога словно приросла к педали газа. Стр...  \n",
       "2  Снежный шар. 200. Не по плану…\\nСолнце давно у...  \n",
       "3           Всё, что дороже, чем бесплатно - дорого!  \n",
       "4  Космическая Свита Примадонны.\\n.\\nВокруг\\nЗемл...  "
      ],
      "text/html": [
       "<div>\n",
       "<style scoped>\n",
       "    .dataframe tbody tr th:only-of-type {\n",
       "        vertical-align: middle;\n",
       "    }\n",
       "\n",
       "    .dataframe tbody tr th {\n",
       "        vertical-align: top;\n",
       "    }\n",
       "\n",
       "    .dataframe thead th {\n",
       "        text-align: right;\n",
       "    }\n",
       "</style>\n",
       "<table border=\"1\" class=\"dataframe\">\n",
       "  <thead>\n",
       "    <tr style=\"text-align: right;\">\n",
       "      <th></th>\n",
       "      <th>title</th>\n",
       "      <th>text</th>\n",
       "    </tr>\n",
       "  </thead>\n",
       "  <tbody>\n",
       "    <tr>\n",
       "      <th>0</th>\n",
       "      <td>Скромный Подиум Кристаллов</td>\n",
       "      <td>Скромный Подиум Кристаллов.\\n.\\nИные\\nКамни\\nБ...</td>\n",
       "    </tr>\n",
       "    <tr>\n",
       "      <th>1</th>\n",
       "      <td>Нас не догонят</td>\n",
       "      <td>Правая нога словно приросла к педали газа. Стр...</td>\n",
       "    </tr>\n",
       "    <tr>\n",
       "      <th>2</th>\n",
       "      <td>Снежный шар. 200. Не по плану</td>\n",
       "      <td>Снежный шар. 200. Не по плану…\\nСолнце давно у...</td>\n",
       "    </tr>\n",
       "    <tr>\n",
       "      <th>3</th>\n",
       "      <td>Новая кврейская поговорка</td>\n",
       "      <td>Всё, что дороже, чем бесплатно - дорого!</td>\n",
       "    </tr>\n",
       "    <tr>\n",
       "      <th>4</th>\n",
       "      <td>Космическая Свита Примадонны</td>\n",
       "      <td>Космическая Свита Примадонны.\\n.\\nВокруг\\nЗемл...</td>\n",
       "    </tr>\n",
       "  </tbody>\n",
       "</table>\n",
       "</div>"
      ]
     },
     "execution_count": 7,
     "metadata": {},
     "output_type": "execute_result"
    }
   ],
   "execution_count": 7
  },
  {
   "metadata": {},
   "cell_type": "markdown",
   "source": "### Удаление пустых текстов",
   "id": "7bbc74717a93815d"
  },
  {
   "metadata": {
    "ExecuteTime": {
     "end_time": "2025-08-24T05:20:48.722739Z",
     "start_time": "2025-08-24T05:20:48.711867Z"
    }
   },
   "cell_type": "code",
   "source": "all_data_text = all_data_text.dropna().reset_index(drop=True)",
   "id": "c48e10fae0d46211",
   "outputs": [],
   "execution_count": 8
  },
  {
   "metadata": {
    "ExecuteTime": {
     "end_time": "2025-08-24T05:20:49.192849Z",
     "start_time": "2025-08-24T05:20:49.188197Z"
    }
   },
   "cell_type": "code",
   "source": "all_data_text.head()",
   "id": "c253e8a6ee2a076f",
   "outputs": [
    {
     "data": {
      "text/plain": [
       "                           title  \\\n",
       "0     Скромный Подиум Кристаллов   \n",
       "1                 Нас не догонят   \n",
       "2  Снежный шар. 200. Не по плану   \n",
       "3      Новая кврейская поговорка   \n",
       "4   Космическая Свита Примадонны   \n",
       "\n",
       "                                                text  \n",
       "0  Скромный Подиум Кристаллов.\\n.\\nИные\\nКамни\\nБ...  \n",
       "1  Правая нога словно приросла к педали газа. Стр...  \n",
       "2  Снежный шар. 200. Не по плану…\\nСолнце давно у...  \n",
       "3           Всё, что дороже, чем бесплатно - дорого!  \n",
       "4  Космическая Свита Примадонны.\\n.\\nВокруг\\nЗемл...  "
      ],
      "text/html": [
       "<div>\n",
       "<style scoped>\n",
       "    .dataframe tbody tr th:only-of-type {\n",
       "        vertical-align: middle;\n",
       "    }\n",
       "\n",
       "    .dataframe tbody tr th {\n",
       "        vertical-align: top;\n",
       "    }\n",
       "\n",
       "    .dataframe thead th {\n",
       "        text-align: right;\n",
       "    }\n",
       "</style>\n",
       "<table border=\"1\" class=\"dataframe\">\n",
       "  <thead>\n",
       "    <tr style=\"text-align: right;\">\n",
       "      <th></th>\n",
       "      <th>title</th>\n",
       "      <th>text</th>\n",
       "    </tr>\n",
       "  </thead>\n",
       "  <tbody>\n",
       "    <tr>\n",
       "      <th>0</th>\n",
       "      <td>Скромный Подиум Кристаллов</td>\n",
       "      <td>Скромный Подиум Кристаллов.\\n.\\nИные\\nКамни\\nБ...</td>\n",
       "    </tr>\n",
       "    <tr>\n",
       "      <th>1</th>\n",
       "      <td>Нас не догонят</td>\n",
       "      <td>Правая нога словно приросла к педали газа. Стр...</td>\n",
       "    </tr>\n",
       "    <tr>\n",
       "      <th>2</th>\n",
       "      <td>Снежный шар. 200. Не по плану</td>\n",
       "      <td>Снежный шар. 200. Не по плану…\\nСолнце давно у...</td>\n",
       "    </tr>\n",
       "    <tr>\n",
       "      <th>3</th>\n",
       "      <td>Новая кврейская поговорка</td>\n",
       "      <td>Всё, что дороже, чем бесплатно - дорого!</td>\n",
       "    </tr>\n",
       "    <tr>\n",
       "      <th>4</th>\n",
       "      <td>Космическая Свита Примадонны</td>\n",
       "      <td>Космическая Свита Примадонны.\\n.\\nВокруг\\nЗемл...</td>\n",
       "    </tr>\n",
       "  </tbody>\n",
       "</table>\n",
       "</div>"
      ]
     },
     "execution_count": 9,
     "metadata": {},
     "output_type": "execute_result"
    }
   ],
   "execution_count": 9
  },
  {
   "metadata": {},
   "cell_type": "markdown",
   "source": "## Чистка текстов от лишних символов",
   "id": "725e0228c2cd3463"
  },
  {
   "metadata": {
    "ExecuteTime": {
     "end_time": "2025-08-24T05:20:52.154493Z",
     "start_time": "2025-08-24T05:20:52.150354Z"
    }
   },
   "cell_type": "code",
   "source": [
    "def clean_text(text):\n",
    "    text = text.lower()\n",
    "    text = re.sub(r\"http\\S+\", \"\", text)\n",
    "    text = re.sub(r'<[^>]+>', '', text)\n",
    "    text = re.sub(r'[^\\w\\s]', '', text)\n",
    "    text = re.sub(r'\\s+', ' ', text).strip()\n",
    "    return text"
   ],
   "id": "ba98238be7e68e4b",
   "outputs": [],
   "execution_count": 10
  },
  {
   "metadata": {
    "ExecuteTime": {
     "end_time": "2025-08-24T05:21:58.767374Z",
     "start_time": "2025-08-24T05:21:44.693990Z"
    }
   },
   "cell_type": "code",
   "source": "all_data_text.text = all_data_text.text.apply(clean_text)",
   "id": "199954b0d0f85d69",
   "outputs": [],
   "execution_count": 11
  },
  {
   "metadata": {
    "ExecuteTime": {
     "end_time": "2025-08-24T05:22:36.244732Z",
     "start_time": "2025-08-24T05:22:36.231292Z"
    }
   },
   "cell_type": "code",
   "source": "all_data_text.title = all_data_text.title.str.lower().str.strip()",
   "id": "2a7cf630307def1a",
   "outputs": [],
   "execution_count": 13
  },
  {
   "metadata": {
    "ExecuteTime": {
     "end_time": "2025-08-24T05:22:37.386206Z",
     "start_time": "2025-08-24T05:22:37.379560Z"
    }
   },
   "cell_type": "code",
   "source": "all_data_text.head()",
   "id": "f42a46f86f33bc72",
   "outputs": [
    {
     "data": {
      "text/plain": [
       "                           title  \\\n",
       "0     скромный подиум кристаллов   \n",
       "1                 нас не догонят   \n",
       "2  снежный шар. 200. не по плану   \n",
       "3      новая кврейская поговорка   \n",
       "4   космическая свита примадонны   \n",
       "\n",
       "                                                text  \n",
       "0  скромный подиум кристаллов иные камни без прим...  \n",
       "1  правая нога словно приросла к педали газа стре...  \n",
       "2  снежный шар 200 не по плану солнце давно укати...  \n",
       "3                всё что дороже чем бесплатно дорого  \n",
       "4  космическая свита примадонны вокруг земли лета...  "
      ],
      "text/html": [
       "<div>\n",
       "<style scoped>\n",
       "    .dataframe tbody tr th:only-of-type {\n",
       "        vertical-align: middle;\n",
       "    }\n",
       "\n",
       "    .dataframe tbody tr th {\n",
       "        vertical-align: top;\n",
       "    }\n",
       "\n",
       "    .dataframe thead th {\n",
       "        text-align: right;\n",
       "    }\n",
       "</style>\n",
       "<table border=\"1\" class=\"dataframe\">\n",
       "  <thead>\n",
       "    <tr style=\"text-align: right;\">\n",
       "      <th></th>\n",
       "      <th>title</th>\n",
       "      <th>text</th>\n",
       "    </tr>\n",
       "  </thead>\n",
       "  <tbody>\n",
       "    <tr>\n",
       "      <th>0</th>\n",
       "      <td>скромный подиум кристаллов</td>\n",
       "      <td>скромный подиум кристаллов иные камни без прим...</td>\n",
       "    </tr>\n",
       "    <tr>\n",
       "      <th>1</th>\n",
       "      <td>нас не догонят</td>\n",
       "      <td>правая нога словно приросла к педали газа стре...</td>\n",
       "    </tr>\n",
       "    <tr>\n",
       "      <th>2</th>\n",
       "      <td>снежный шар. 200. не по плану</td>\n",
       "      <td>снежный шар 200 не по плану солнце давно укати...</td>\n",
       "    </tr>\n",
       "    <tr>\n",
       "      <th>3</th>\n",
       "      <td>новая кврейская поговорка</td>\n",
       "      <td>всё что дороже чем бесплатно дорого</td>\n",
       "    </tr>\n",
       "    <tr>\n",
       "      <th>4</th>\n",
       "      <td>космическая свита примадонны</td>\n",
       "      <td>космическая свита примадонны вокруг земли лета...</td>\n",
       "    </tr>\n",
       "  </tbody>\n",
       "</table>\n",
       "</div>"
      ]
     },
     "execution_count": 14,
     "metadata": {},
     "output_type": "execute_result"
    }
   ],
   "execution_count": 14
  },
  {
   "metadata": {},
   "cell_type": "markdown",
   "source": "## Токенизация",
   "id": "c2f3c6bb2a8cdcaf"
  },
  {
   "metadata": {
    "ExecuteTime": {
     "end_time": "2025-08-24T05:22:43.094432Z",
     "start_time": "2025-08-24T05:22:43.091654Z"
    }
   },
   "cell_type": "code",
   "source": [
    "def tokenize(text: str) -> List[str]:\n",
    "    tokens = word_tokenize(text)\n",
    "\n",
    "    return tokens"
   ],
   "id": "ec9cde4c2cf9d1cf",
   "outputs": [],
   "execution_count": 15
  },
  {
   "metadata": {
    "ExecuteTime": {
     "end_time": "2025-08-24T05:24:24.826155Z",
     "start_time": "2025-08-24T05:23:11.518943Z"
    }
   },
   "cell_type": "code",
   "source": [
    "all_data_text.text = all_data_text.text.apply(tokenize)\n",
    "all_data_text.title = all_data_text.title.apply(tokenize)"
   ],
   "id": "b1c80b8b01630d89",
   "outputs": [],
   "execution_count": 16
  },
  {
   "metadata": {
    "ExecuteTime": {
     "end_time": "2025-08-24T05:24:29.229899Z",
     "start_time": "2025-08-24T05:24:29.217638Z"
    }
   },
   "cell_type": "code",
   "source": "all_data_text.head()",
   "id": "15a09846a372eda9",
   "outputs": [
    {
     "data": {
      "text/plain": [
       "                                    title  \\\n",
       "0          [скромный, подиум, кристаллов]   \n",
       "1                      [нас, не, догонят]   \n",
       "2  [снежный, шар, ., 200., не, по, плану]   \n",
       "3           [новая, кврейская, поговорка]   \n",
       "4        [космическая, свита, примадонны]   \n",
       "\n",
       "                                                text  \n",
       "0  [скромный, подиум, кристаллов, иные, камни, бе...  \n",
       "1  [правая, нога, словно, приросла, к, педали, га...  \n",
       "2  [снежный, шар, 200, не, по, плану, солнце, дав...  \n",
       "3         [всё, что, дороже, чем, бесплатно, дорого]  \n",
       "4  [космическая, свита, примадонны, вокруг, земли...  "
      ],
      "text/html": [
       "<div>\n",
       "<style scoped>\n",
       "    .dataframe tbody tr th:only-of-type {\n",
       "        vertical-align: middle;\n",
       "    }\n",
       "\n",
       "    .dataframe tbody tr th {\n",
       "        vertical-align: top;\n",
       "    }\n",
       "\n",
       "    .dataframe thead th {\n",
       "        text-align: right;\n",
       "    }\n",
       "</style>\n",
       "<table border=\"1\" class=\"dataframe\">\n",
       "  <thead>\n",
       "    <tr style=\"text-align: right;\">\n",
       "      <th></th>\n",
       "      <th>title</th>\n",
       "      <th>text</th>\n",
       "    </tr>\n",
       "  </thead>\n",
       "  <tbody>\n",
       "    <tr>\n",
       "      <th>0</th>\n",
       "      <td>[скромный, подиум, кристаллов]</td>\n",
       "      <td>[скромный, подиум, кристаллов, иные, камни, бе...</td>\n",
       "    </tr>\n",
       "    <tr>\n",
       "      <th>1</th>\n",
       "      <td>[нас, не, догонят]</td>\n",
       "      <td>[правая, нога, словно, приросла, к, педали, га...</td>\n",
       "    </tr>\n",
       "    <tr>\n",
       "      <th>2</th>\n",
       "      <td>[снежный, шар, ., 200., не, по, плану]</td>\n",
       "      <td>[снежный, шар, 200, не, по, плану, солнце, дав...</td>\n",
       "    </tr>\n",
       "    <tr>\n",
       "      <th>3</th>\n",
       "      <td>[новая, кврейская, поговорка]</td>\n",
       "      <td>[всё, что, дороже, чем, бесплатно, дорого]</td>\n",
       "    </tr>\n",
       "    <tr>\n",
       "      <th>4</th>\n",
       "      <td>[космическая, свита, примадонны]</td>\n",
       "      <td>[космическая, свита, примадонны, вокруг, земли...</td>\n",
       "    </tr>\n",
       "  </tbody>\n",
       "</table>\n",
       "</div>"
      ]
     },
     "execution_count": 17,
     "metadata": {},
     "output_type": "execute_result"
    }
   ],
   "execution_count": 17
  },
  {
   "metadata": {},
   "cell_type": "markdown",
   "source": "## Удаление строк с небольшими текстами",
   "id": "e8ac761c20cedaa"
  },
  {
   "metadata": {
    "ExecuteTime": {
     "end_time": "2025-08-24T05:24:37.623976Z",
     "start_time": "2025-08-24T05:24:37.608647Z"
    }
   },
   "cell_type": "code",
   "source": "all_data_text = all_data_text[all_data_text[\"text\"].apply(len) >= 30]",
   "id": "c8dc750f57074c63",
   "outputs": [],
   "execution_count": 18
  },
  {
   "metadata": {
    "ExecuteTime": {
     "end_time": "2025-08-24T05:24:38.580782Z",
     "start_time": "2025-08-24T05:24:38.569739Z"
    }
   },
   "cell_type": "code",
   "source": "all_data_text.head()",
   "id": "aa5d5530a81c7604",
   "outputs": [
    {
     "data": {
      "text/plain": [
       "                                    title  \\\n",
       "0          [скромный, подиум, кристаллов]   \n",
       "1                      [нас, не, догонят]   \n",
       "2  [снежный, шар, ., 200., не, по, плану]   \n",
       "4        [космическая, свита, примадонны]   \n",
       "5                      [боровая, кантата]   \n",
       "\n",
       "                                                text  \n",
       "0  [скромный, подиум, кристаллов, иные, камни, бе...  \n",
       "1  [правая, нога, словно, приросла, к, педали, га...  \n",
       "2  [снежный, шар, 200, не, по, плану, солнце, дав...  \n",
       "4  [космическая, свита, примадонны, вокруг, земли...  \n",
       "5  [пасхальное, о, это, божественный, лес, где, с...  "
      ],
      "text/html": [
       "<div>\n",
       "<style scoped>\n",
       "    .dataframe tbody tr th:only-of-type {\n",
       "        vertical-align: middle;\n",
       "    }\n",
       "\n",
       "    .dataframe tbody tr th {\n",
       "        vertical-align: top;\n",
       "    }\n",
       "\n",
       "    .dataframe thead th {\n",
       "        text-align: right;\n",
       "    }\n",
       "</style>\n",
       "<table border=\"1\" class=\"dataframe\">\n",
       "  <thead>\n",
       "    <tr style=\"text-align: right;\">\n",
       "      <th></th>\n",
       "      <th>title</th>\n",
       "      <th>text</th>\n",
       "    </tr>\n",
       "  </thead>\n",
       "  <tbody>\n",
       "    <tr>\n",
       "      <th>0</th>\n",
       "      <td>[скромный, подиум, кристаллов]</td>\n",
       "      <td>[скромный, подиум, кристаллов, иные, камни, бе...</td>\n",
       "    </tr>\n",
       "    <tr>\n",
       "      <th>1</th>\n",
       "      <td>[нас, не, догонят]</td>\n",
       "      <td>[правая, нога, словно, приросла, к, педали, га...</td>\n",
       "    </tr>\n",
       "    <tr>\n",
       "      <th>2</th>\n",
       "      <td>[снежный, шар, ., 200., не, по, плану]</td>\n",
       "      <td>[снежный, шар, 200, не, по, плану, солнце, дав...</td>\n",
       "    </tr>\n",
       "    <tr>\n",
       "      <th>4</th>\n",
       "      <td>[космическая, свита, примадонны]</td>\n",
       "      <td>[космическая, свита, примадонны, вокруг, земли...</td>\n",
       "    </tr>\n",
       "    <tr>\n",
       "      <th>5</th>\n",
       "      <td>[боровая, кантата]</td>\n",
       "      <td>[пасхальное, о, это, божественный, лес, где, с...</td>\n",
       "    </tr>\n",
       "  </tbody>\n",
       "</table>\n",
       "</div>"
      ]
     },
     "execution_count": 19,
     "metadata": {},
     "output_type": "execute_result"
    }
   ],
   "execution_count": 19
  },
  {
   "metadata": {
    "ExecuteTime": {
     "end_time": "2025-08-24T05:26:06.389013Z",
     "start_time": "2025-08-24T05:26:06.384922Z"
    }
   },
   "cell_type": "code",
   "source": "len(all_data_text)",
   "id": "9bec5cecb71b06c4",
   "outputs": [
    {
     "data": {
      "text/plain": [
       "14566"
      ]
     },
     "execution_count": 22,
     "metadata": {},
     "output_type": "execute_result"
    }
   ],
   "execution_count": 22
  },
  {
   "metadata": {
    "ExecuteTime": {
     "end_time": "2025-08-24T05:24:47.523247Z",
     "start_time": "2025-08-24T05:24:47.515921Z"
    }
   },
   "cell_type": "code",
   "source": "all_data_text = all_data_text.reset_index(drop=True)",
   "id": "cb4184598330aae7",
   "outputs": [],
   "execution_count": 21
  },
  {
   "metadata": {},
   "cell_type": "markdown",
   "source": "## Нормализация",
   "id": "3672497afe7b41a6"
  },
  {
   "metadata": {
    "ExecuteTime": {
     "end_time": "2025-08-24T05:26:46.978074Z",
     "start_time": "2025-08-24T05:26:46.968958Z"
    }
   },
   "cell_type": "code",
   "source": "all_data_text.head()",
   "id": "c3a9a7da39116c91",
   "outputs": [
    {
     "data": {
      "text/plain": [
       "                                    title  \\\n",
       "0          [скромный, подиум, кристаллов]   \n",
       "1                      [нас, не, догонят]   \n",
       "2  [снежный, шар, ., 200., не, по, плану]   \n",
       "3        [космическая, свита, примадонны]   \n",
       "4                      [боровая, кантата]   \n",
       "\n",
       "                                                text  \n",
       "0  [скромный, подиум, кристаллов, иные, камни, бе...  \n",
       "1  [правая, нога, словно, приросла, к, педали, га...  \n",
       "2  [снежный, шар, 200, не, по, плану, солнце, дав...  \n",
       "3  [космическая, свита, примадонны, вокруг, земли...  \n",
       "4  [пасхальное, о, это, божественный, лес, где, с...  "
      ],
      "text/html": [
       "<div>\n",
       "<style scoped>\n",
       "    .dataframe tbody tr th:only-of-type {\n",
       "        vertical-align: middle;\n",
       "    }\n",
       "\n",
       "    .dataframe tbody tr th {\n",
       "        vertical-align: top;\n",
       "    }\n",
       "\n",
       "    .dataframe thead th {\n",
       "        text-align: right;\n",
       "    }\n",
       "</style>\n",
       "<table border=\"1\" class=\"dataframe\">\n",
       "  <thead>\n",
       "    <tr style=\"text-align: right;\">\n",
       "      <th></th>\n",
       "      <th>title</th>\n",
       "      <th>text</th>\n",
       "    </tr>\n",
       "  </thead>\n",
       "  <tbody>\n",
       "    <tr>\n",
       "      <th>0</th>\n",
       "      <td>[скромный, подиум, кристаллов]</td>\n",
       "      <td>[скромный, подиум, кристаллов, иные, камни, бе...</td>\n",
       "    </tr>\n",
       "    <tr>\n",
       "      <th>1</th>\n",
       "      <td>[нас, не, догонят]</td>\n",
       "      <td>[правая, нога, словно, приросла, к, педали, га...</td>\n",
       "    </tr>\n",
       "    <tr>\n",
       "      <th>2</th>\n",
       "      <td>[снежный, шар, ., 200., не, по, плану]</td>\n",
       "      <td>[снежный, шар, 200, не, по, плану, солнце, дав...</td>\n",
       "    </tr>\n",
       "    <tr>\n",
       "      <th>3</th>\n",
       "      <td>[космическая, свита, примадонны]</td>\n",
       "      <td>[космическая, свита, примадонны, вокруг, земли...</td>\n",
       "    </tr>\n",
       "    <tr>\n",
       "      <th>4</th>\n",
       "      <td>[боровая, кантата]</td>\n",
       "      <td>[пасхальное, о, это, божественный, лес, где, с...</td>\n",
       "    </tr>\n",
       "  </tbody>\n",
       "</table>\n",
       "</div>"
      ]
     },
     "execution_count": 24,
     "metadata": {},
     "output_type": "execute_result"
    }
   ],
   "execution_count": 24
  },
  {
   "metadata": {
    "ExecuteTime": {
     "end_time": "2025-08-24T05:27:01.957574Z",
     "start_time": "2025-08-24T05:27:01.952499Z"
    }
   },
   "cell_type": "code",
   "source": [
    "@lru_cache(maxsize=10000)\n",
    "def normalize_word(word: str) -> str:\n",
    "    return morph.parse(word)[0].normal_form.replace('ё', 'е')\n",
    "\n",
    "def normalization(text: List[str]) -> List[str]:\n",
    "    return [normalize_word(word) for word in text]"
   ],
   "id": "446d39c0aa76611f",
   "outputs": [],
   "execution_count": 25
  },
  {
   "metadata": {
    "ExecuteTime": {
     "end_time": "2025-08-24T05:27:06.318138Z",
     "start_time": "2025-08-24T05:27:05.501582Z"
    }
   },
   "cell_type": "code",
   "source": [
    "all_data_text.title = (\n",
    "    all_data_text.title\n",
    "    .swifter\n",
    "    .progress_bar(enable=True, desc=\"Нормализация названий\")\n",
    "    .apply(normalization)\n",
    ")"
   ],
   "id": "d01e114027838c69",
   "outputs": [
    {
     "name": "stderr",
     "output_type": "stream",
     "text": [
      "Нормализация названий: 100%|██████████| 14566/14566 [00:00<00:00, 21585.04it/s]\n"
     ]
    }
   ],
   "execution_count": 26
  },
  {
   "metadata": {
    "ExecuteTime": {
     "end_time": "2025-08-24T05:40:01.993822Z",
     "start_time": "2025-08-24T05:27:26.984452Z"
    }
   },
   "cell_type": "code",
   "source": [
    "all_data_text.text = (\n",
    "    all_data_text.text\n",
    "    .swifter\n",
    "    .progress_bar(enable=True, desc=\"Нормализация текстов\")\n",
    "    .apply(normalization)\n",
    ")"
   ],
   "id": "ecd7506c906fabad",
   "outputs": [
    {
     "name": "stderr",
     "output_type": "stream",
     "text": [
      "Нормализация текстов: 100%|██████████| 14566/14566 [11:24<00:00, 21.28it/s] \n"
     ]
    }
   ],
   "execution_count": 27
  },
  {
   "metadata": {
    "ExecuteTime": {
     "end_time": "2025-08-24T05:40:32.330720Z",
     "start_time": "2025-08-24T05:40:32.319161Z"
    }
   },
   "cell_type": "code",
   "source": "all_data_text.head()",
   "id": "4dca3cc3b3b461f9",
   "outputs": [
    {
     "data": {
      "text/plain": [
       "                                   title  \\\n",
       "0           [скромный, подиум, кристалл]   \n",
       "1                      [мы, не, догнать]   \n",
       "2  [снежный, шар, ., 200., не, по, план]   \n",
       "3       [космический, свита, примадонна]   \n",
       "4                     [боровой, кантата]   \n",
       "\n",
       "                                                text  \n",
       "0  [скромный, подиум, кристалл, иной, камень, без...  \n",
       "1  [правый, нога, словно, прирасти, к, педаль, га...  \n",
       "2  [снежный, шар, 200, не, по, план, солнце, давн...  \n",
       "3  [космический, свита, примадонна, вокруг, земля...  \n",
       "4  [пасхальный, о, это, божественный, лес, где, с...  "
      ],
      "text/html": [
       "<div>\n",
       "<style scoped>\n",
       "    .dataframe tbody tr th:only-of-type {\n",
       "        vertical-align: middle;\n",
       "    }\n",
       "\n",
       "    .dataframe tbody tr th {\n",
       "        vertical-align: top;\n",
       "    }\n",
       "\n",
       "    .dataframe thead th {\n",
       "        text-align: right;\n",
       "    }\n",
       "</style>\n",
       "<table border=\"1\" class=\"dataframe\">\n",
       "  <thead>\n",
       "    <tr style=\"text-align: right;\">\n",
       "      <th></th>\n",
       "      <th>title</th>\n",
       "      <th>text</th>\n",
       "    </tr>\n",
       "  </thead>\n",
       "  <tbody>\n",
       "    <tr>\n",
       "      <th>0</th>\n",
       "      <td>[скромный, подиум, кристалл]</td>\n",
       "      <td>[скромный, подиум, кристалл, иной, камень, без...</td>\n",
       "    </tr>\n",
       "    <tr>\n",
       "      <th>1</th>\n",
       "      <td>[мы, не, догнать]</td>\n",
       "      <td>[правый, нога, словно, прирасти, к, педаль, га...</td>\n",
       "    </tr>\n",
       "    <tr>\n",
       "      <th>2</th>\n",
       "      <td>[снежный, шар, ., 200., не, по, план]</td>\n",
       "      <td>[снежный, шар, 200, не, по, план, солнце, давн...</td>\n",
       "    </tr>\n",
       "    <tr>\n",
       "      <th>3</th>\n",
       "      <td>[космический, свита, примадонна]</td>\n",
       "      <td>[космический, свита, примадонна, вокруг, земля...</td>\n",
       "    </tr>\n",
       "    <tr>\n",
       "      <th>4</th>\n",
       "      <td>[боровой, кантата]</td>\n",
       "      <td>[пасхальный, о, это, божественный, лес, где, с...</td>\n",
       "    </tr>\n",
       "  </tbody>\n",
       "</table>\n",
       "</div>"
      ]
     },
     "execution_count": 28,
     "metadata": {},
     "output_type": "execute_result"
    }
   ],
   "execution_count": 28
  },
  {
   "metadata": {},
   "cell_type": "markdown",
   "source": "## Удаление стоп слов",
   "id": "b4fca744fbce82eb"
  },
  {
   "metadata": {
    "ExecuteTime": {
     "end_time": "2025-08-24T05:41:02.868269Z",
     "start_time": "2025-08-24T05:41:02.863959Z"
    }
   },
   "cell_type": "code",
   "source": [
    "def delete_stop_words(text: List[str]) -> List[str]:\n",
    "    return [word for word in text if word not in stop_words]"
   ],
   "id": "c45c9e43fc206146",
   "outputs": [],
   "execution_count": 30
  },
  {
   "metadata": {},
   "cell_type": "markdown",
   "source": "Функция нормализации текста нужна, чтобы удалить стоп-слова, так как в списке они все в нормальной форме",
   "id": "c9f6557388f086e4"
  },
  {
   "metadata": {
    "ExecuteTime": {
     "end_time": "2025-08-24T05:41:14.584835Z",
     "start_time": "2025-08-24T05:41:12.384539Z"
    }
   },
   "cell_type": "code",
   "source": [
    "all_data_text.text = (\n",
    "    all_data_text.text\n",
    "    .swifter\n",
    "    .progress_bar(enable=True, desc=\"Обработка текстов\")\n",
    "    .apply(delete_stop_words)\n",
    ")"
   ],
   "id": "c13f1de0785510a6",
   "outputs": [
    {
     "name": "stderr",
     "output_type": "stream",
     "text": [
      "Обработка текстов: 100%|██████████| 14566/14566 [00:01<00:00, 7393.31it/s]\n"
     ]
    }
   ],
   "execution_count": 31
  },
  {
   "metadata": {},
   "cell_type": "markdown",
   "source": "Для ускорения работы была сделана параллельная обработка - использовались все ядра устройства",
   "id": "a7f8042433855c54"
  },
  {
   "metadata": {
    "ExecuteTime": {
     "end_time": "2025-08-24T05:41:23.273317Z",
     "start_time": "2025-08-24T05:41:23.253464Z"
    }
   },
   "cell_type": "code",
   "source": "all_data_text.head()",
   "id": "9b2a155444e8ccbe",
   "outputs": [
    {
     "data": {
      "text/plain": [
       "                                   title  \\\n",
       "0           [скромный, подиум, кристалл]   \n",
       "1                      [мы, не, догнать]   \n",
       "2  [снежный, шар, ., 200., не, по, план]   \n",
       "3       [космический, свита, примадонна]   \n",
       "4                     [боровой, кантата]   \n",
       "\n",
       "                                                text  \n",
       "0  [скромный, подиум, кристалл, иной, камень, при...  \n",
       "1  [правый, нога, словно, прирасти, педаль, газ, ...  \n",
       "2  [снежный, шар, 200, план, солнце, давно, укати...  \n",
       "3  [космический, свита, примадонна, вокруг, земля...  \n",
       "4  [пасхальный, божественный, лес, сосна, доверчи...  "
      ],
      "text/html": [
       "<div>\n",
       "<style scoped>\n",
       "    .dataframe tbody tr th:only-of-type {\n",
       "        vertical-align: middle;\n",
       "    }\n",
       "\n",
       "    .dataframe tbody tr th {\n",
       "        vertical-align: top;\n",
       "    }\n",
       "\n",
       "    .dataframe thead th {\n",
       "        text-align: right;\n",
       "    }\n",
       "</style>\n",
       "<table border=\"1\" class=\"dataframe\">\n",
       "  <thead>\n",
       "    <tr style=\"text-align: right;\">\n",
       "      <th></th>\n",
       "      <th>title</th>\n",
       "      <th>text</th>\n",
       "    </tr>\n",
       "  </thead>\n",
       "  <tbody>\n",
       "    <tr>\n",
       "      <th>0</th>\n",
       "      <td>[скромный, подиум, кристалл]</td>\n",
       "      <td>[скромный, подиум, кристалл, иной, камень, при...</td>\n",
       "    </tr>\n",
       "    <tr>\n",
       "      <th>1</th>\n",
       "      <td>[мы, не, догнать]</td>\n",
       "      <td>[правый, нога, словно, прирасти, педаль, газ, ...</td>\n",
       "    </tr>\n",
       "    <tr>\n",
       "      <th>2</th>\n",
       "      <td>[снежный, шар, ., 200., не, по, план]</td>\n",
       "      <td>[снежный, шар, 200, план, солнце, давно, укати...</td>\n",
       "    </tr>\n",
       "    <tr>\n",
       "      <th>3</th>\n",
       "      <td>[космический, свита, примадонна]</td>\n",
       "      <td>[космический, свита, примадонна, вокруг, земля...</td>\n",
       "    </tr>\n",
       "    <tr>\n",
       "      <th>4</th>\n",
       "      <td>[боровой, кантата]</td>\n",
       "      <td>[пасхальный, божественный, лес, сосна, доверчи...</td>\n",
       "    </tr>\n",
       "  </tbody>\n",
       "</table>\n",
       "</div>"
      ]
     },
     "execution_count": 33,
     "metadata": {},
     "output_type": "execute_result"
    }
   ],
   "execution_count": 33
  },
  {
   "metadata": {
    "ExecuteTime": {
     "end_time": "2025-08-24T05:41:58.956143Z",
     "start_time": "2025-08-24T05:41:58.264043Z"
    }
   },
   "cell_type": "code",
   "source": [
    "all_data_text.text = all_data_text.text.apply(' '.join)\n",
    "all_data_text.title = all_data_text.title.apply(' '.join)\n",
    "all_data_text.head()"
   ],
   "id": "b28ea88da6546df1",
   "outputs": [
    {
     "data": {
      "text/plain": [
       "                           title  \\\n",
       "0       скромный подиум кристалл   \n",
       "1                  мы не догнать   \n",
       "2  снежный шар . 200. не по план   \n",
       "3   космический свита примадонна   \n",
       "4                боровой кантата   \n",
       "\n",
       "                                                text  \n",
       "0  скромный подиум кристалл иной камень примерка ...  \n",
       "1  правый нога словно прирасти педаль газ стрелка...  \n",
       "2  снежный шар 200 план солнце давно укатиться го...  \n",
       "3  космический свита примадонна вокруг земля лета...  \n",
       "4  пасхальный божественный лес сосна доверчиво во...  "
      ],
      "text/html": [
       "<div>\n",
       "<style scoped>\n",
       "    .dataframe tbody tr th:only-of-type {\n",
       "        vertical-align: middle;\n",
       "    }\n",
       "\n",
       "    .dataframe tbody tr th {\n",
       "        vertical-align: top;\n",
       "    }\n",
       "\n",
       "    .dataframe thead th {\n",
       "        text-align: right;\n",
       "    }\n",
       "</style>\n",
       "<table border=\"1\" class=\"dataframe\">\n",
       "  <thead>\n",
       "    <tr style=\"text-align: right;\">\n",
       "      <th></th>\n",
       "      <th>title</th>\n",
       "      <th>text</th>\n",
       "    </tr>\n",
       "  </thead>\n",
       "  <tbody>\n",
       "    <tr>\n",
       "      <th>0</th>\n",
       "      <td>скромный подиум кристалл</td>\n",
       "      <td>скромный подиум кристалл иной камень примерка ...</td>\n",
       "    </tr>\n",
       "    <tr>\n",
       "      <th>1</th>\n",
       "      <td>мы не догнать</td>\n",
       "      <td>правый нога словно прирасти педаль газ стрелка...</td>\n",
       "    </tr>\n",
       "    <tr>\n",
       "      <th>2</th>\n",
       "      <td>снежный шар . 200. не по план</td>\n",
       "      <td>снежный шар 200 план солнце давно укатиться го...</td>\n",
       "    </tr>\n",
       "    <tr>\n",
       "      <th>3</th>\n",
       "      <td>космический свита примадонна</td>\n",
       "      <td>космический свита примадонна вокруг земля лета...</td>\n",
       "    </tr>\n",
       "    <tr>\n",
       "      <th>4</th>\n",
       "      <td>боровой кантата</td>\n",
       "      <td>пасхальный божественный лес сосна доверчиво во...</td>\n",
       "    </tr>\n",
       "  </tbody>\n",
       "</table>\n",
       "</div>"
      ]
     },
     "execution_count": 34,
     "metadata": {},
     "output_type": "execute_result"
    }
   ],
   "execution_count": 34
  },
  {
   "metadata": {},
   "cell_type": "markdown",
   "source": "Перевод списка токенов в строку нужно, так как pandas списки считывает строкой",
   "id": "fe91981cde02810f"
  },
  {
   "metadata": {
    "ExecuteTime": {
     "end_time": "2025-08-24T05:42:34.667243Z",
     "start_time": "2025-08-24T05:42:34.664066Z"
    }
   },
   "cell_type": "code",
   "source": "len(all_data_text)",
   "id": "64d1f3479f715392",
   "outputs": [
    {
     "data": {
      "text/plain": [
       "14566"
      ]
     },
     "execution_count": 35,
     "metadata": {},
     "output_type": "execute_result"
    }
   ],
   "execution_count": 35
  },
  {
   "metadata": {
    "ExecuteTime": {
     "end_time": "2025-08-24T05:43:49.256250Z",
     "start_time": "2025-08-24T05:43:46.672252Z"
    }
   },
   "cell_type": "code",
   "source": "all_data_text.to_csv(\"../data/data_lit_proza.csv\", index=False)",
   "id": "ce5c0cd370b8c243",
   "outputs": [],
   "execution_count": 38
  }
 ],
 "metadata": {
  "kernelspec": {
   "display_name": "Python 3 (ipykernel)",
   "language": "python",
   "name": "python3"
  },
  "language_info": {
   "codemirror_mode": {
    "name": "ipython",
    "version": 2
   },
   "file_extension": ".py",
   "mimetype": "text/x-python",
   "name": "python",
   "nbconvert_exporter": "python",
   "pygments_lexer": "ipython2",
   "version": "2.7.6"
  }
 },
 "nbformat": 4,
 "nbformat_minor": 5
}
