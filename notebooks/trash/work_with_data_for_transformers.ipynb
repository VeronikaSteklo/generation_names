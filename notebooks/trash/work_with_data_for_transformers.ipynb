{
 "cells": [
  {
   "cell_type": "code",
   "id": "initial_id",
   "metadata": {
    "collapsed": true,
    "ExecuteTime": {
     "end_time": "2025-08-20T05:25:30.452532Z",
     "start_time": "2025-08-20T05:25:30.448876Z"
    }
   },
   "source": [
    "import re\n",
    "\n",
    "import pandas as pd\n"
   ],
   "outputs": [],
   "execution_count": 13
  },
  {
   "metadata": {
    "ExecuteTime": {
     "end_time": "2025-08-20T05:20:35.785875Z",
     "start_time": "2025-08-20T05:20:30.254652Z"
    }
   },
   "cell_type": "code",
   "source": "data = pd.read_csv(\"../data/data.csv\")",
   "id": "ccc2088285bb7896",
   "outputs": [],
   "execution_count": 2
  },
  {
   "metadata": {
    "ExecuteTime": {
     "end_time": "2025-08-20T05:20:36.889728Z",
     "start_time": "2025-08-20T05:20:36.880556Z"
    }
   },
   "cell_type": "code",
   "source": "data.head()",
   "id": "66eea3b893f6e0b",
   "outputs": [
    {
     "data": {
      "text/plain": [
       "       genre                          title                         author  \\\n",
       "0  миниатюры     Скромный Подиум Кристаллов     Скромный Подиум Кристаллов   \n",
       "1  миниатюры                 Нас не догонят                 Нас не догонят   \n",
       "2  миниатюры  Снежный шар. 200. Не по плану  Снежный шар. 200. Не по плану   \n",
       "3  миниатюры      Новая кврейская поговорка      Новая кврейская поговорка   \n",
       "4  миниатюры   Космическая Свита Примадонны   Космическая Свита Примадонны   \n",
       "\n",
       "                                   link  \\\n",
       "0  https://www.proza.ru/2025/07/19/1660   \n",
       "1  https://www.proza.ru/2025/07/19/1653   \n",
       "2  https://www.proza.ru/2025/07/19/1644   \n",
       "3  https://www.proza.ru/2025/07/19/1641   \n",
       "4  https://www.proza.ru/2025/07/19/1630   \n",
       "\n",
       "                                                text  \n",
       "0  Скромный Подиум Кристаллов.\\n.\\nИные\\nКамни\\nБ...  \n",
       "1  Правая нога словно приросла к педали газа. Стр...  \n",
       "2  Снежный шар. 200. Не по плану…\\nСолнце давно у...  \n",
       "3           Всё, что дороже, чем бесплатно - дорого!  \n",
       "4  Космическая Свита Примадонны.\\n.\\nВокруг\\nЗемл...  "
      ],
      "text/html": [
       "<div>\n",
       "<style scoped>\n",
       "    .dataframe tbody tr th:only-of-type {\n",
       "        vertical-align: middle;\n",
       "    }\n",
       "\n",
       "    .dataframe tbody tr th {\n",
       "        vertical-align: top;\n",
       "    }\n",
       "\n",
       "    .dataframe thead th {\n",
       "        text-align: right;\n",
       "    }\n",
       "</style>\n",
       "<table border=\"1\" class=\"dataframe\">\n",
       "  <thead>\n",
       "    <tr style=\"text-align: right;\">\n",
       "      <th></th>\n",
       "      <th>genre</th>\n",
       "      <th>title</th>\n",
       "      <th>author</th>\n",
       "      <th>link</th>\n",
       "      <th>text</th>\n",
       "    </tr>\n",
       "  </thead>\n",
       "  <tbody>\n",
       "    <tr>\n",
       "      <th>0</th>\n",
       "      <td>миниатюры</td>\n",
       "      <td>Скромный Подиум Кристаллов</td>\n",
       "      <td>Скромный Подиум Кристаллов</td>\n",
       "      <td>https://www.proza.ru/2025/07/19/1660</td>\n",
       "      <td>Скромный Подиум Кристаллов.\\n.\\nИные\\nКамни\\nБ...</td>\n",
       "    </tr>\n",
       "    <tr>\n",
       "      <th>1</th>\n",
       "      <td>миниатюры</td>\n",
       "      <td>Нас не догонят</td>\n",
       "      <td>Нас не догонят</td>\n",
       "      <td>https://www.proza.ru/2025/07/19/1653</td>\n",
       "      <td>Правая нога словно приросла к педали газа. Стр...</td>\n",
       "    </tr>\n",
       "    <tr>\n",
       "      <th>2</th>\n",
       "      <td>миниатюры</td>\n",
       "      <td>Снежный шар. 200. Не по плану</td>\n",
       "      <td>Снежный шар. 200. Не по плану</td>\n",
       "      <td>https://www.proza.ru/2025/07/19/1644</td>\n",
       "      <td>Снежный шар. 200. Не по плану…\\nСолнце давно у...</td>\n",
       "    </tr>\n",
       "    <tr>\n",
       "      <th>3</th>\n",
       "      <td>миниатюры</td>\n",
       "      <td>Новая кврейская поговорка</td>\n",
       "      <td>Новая кврейская поговорка</td>\n",
       "      <td>https://www.proza.ru/2025/07/19/1641</td>\n",
       "      <td>Всё, что дороже, чем бесплатно - дорого!</td>\n",
       "    </tr>\n",
       "    <tr>\n",
       "      <th>4</th>\n",
       "      <td>миниатюры</td>\n",
       "      <td>Космическая Свита Примадонны</td>\n",
       "      <td>Космическая Свита Примадонны</td>\n",
       "      <td>https://www.proza.ru/2025/07/19/1630</td>\n",
       "      <td>Космическая Свита Примадонны.\\n.\\nВокруг\\nЗемл...</td>\n",
       "    </tr>\n",
       "  </tbody>\n",
       "</table>\n",
       "</div>"
      ]
     },
     "execution_count": 3,
     "metadata": {},
     "output_type": "execute_result"
    }
   ],
   "execution_count": 3
  },
  {
   "metadata": {
    "ExecuteTime": {
     "end_time": "2025-08-20T05:21:21.232419Z",
     "start_time": "2025-08-20T05:21:21.227475Z"
    }
   },
   "cell_type": "code",
   "source": "data = data.drop(columns=[\"genre\", \"author\", \"link\"])",
   "id": "76c25a3a547632a5",
   "outputs": [],
   "execution_count": 4
  },
  {
   "metadata": {
    "ExecuteTime": {
     "end_time": "2025-08-20T05:21:23.885903Z",
     "start_time": "2025-08-20T05:21:23.879203Z"
    }
   },
   "cell_type": "code",
   "source": "data.head()",
   "id": "ca531aa8bc217d1b",
   "outputs": [
    {
     "data": {
      "text/plain": [
       "                           title  \\\n",
       "0     Скромный Подиум Кристаллов   \n",
       "1                 Нас не догонят   \n",
       "2  Снежный шар. 200. Не по плану   \n",
       "3      Новая кврейская поговорка   \n",
       "4   Космическая Свита Примадонны   \n",
       "\n",
       "                                                text  \n",
       "0  Скромный Подиум Кристаллов.\\n.\\nИные\\nКамни\\nБ...  \n",
       "1  Правая нога словно приросла к педали газа. Стр...  \n",
       "2  Снежный шар. 200. Не по плану…\\nСолнце давно у...  \n",
       "3           Всё, что дороже, чем бесплатно - дорого!  \n",
       "4  Космическая Свита Примадонны.\\n.\\nВокруг\\nЗемл...  "
      ],
      "text/html": [
       "<div>\n",
       "<style scoped>\n",
       "    .dataframe tbody tr th:only-of-type {\n",
       "        vertical-align: middle;\n",
       "    }\n",
       "\n",
       "    .dataframe tbody tr th {\n",
       "        vertical-align: top;\n",
       "    }\n",
       "\n",
       "    .dataframe thead th {\n",
       "        text-align: right;\n",
       "    }\n",
       "</style>\n",
       "<table border=\"1\" class=\"dataframe\">\n",
       "  <thead>\n",
       "    <tr style=\"text-align: right;\">\n",
       "      <th></th>\n",
       "      <th>title</th>\n",
       "      <th>text</th>\n",
       "    </tr>\n",
       "  </thead>\n",
       "  <tbody>\n",
       "    <tr>\n",
       "      <th>0</th>\n",
       "      <td>Скромный Подиум Кристаллов</td>\n",
       "      <td>Скромный Подиум Кристаллов.\\n.\\nИные\\nКамни\\nБ...</td>\n",
       "    </tr>\n",
       "    <tr>\n",
       "      <th>1</th>\n",
       "      <td>Нас не догонят</td>\n",
       "      <td>Правая нога словно приросла к педали газа. Стр...</td>\n",
       "    </tr>\n",
       "    <tr>\n",
       "      <th>2</th>\n",
       "      <td>Снежный шар. 200. Не по плану</td>\n",
       "      <td>Снежный шар. 200. Не по плану…\\nСолнце давно у...</td>\n",
       "    </tr>\n",
       "    <tr>\n",
       "      <th>3</th>\n",
       "      <td>Новая кврейская поговорка</td>\n",
       "      <td>Всё, что дороже, чем бесплатно - дорого!</td>\n",
       "    </tr>\n",
       "    <tr>\n",
       "      <th>4</th>\n",
       "      <td>Космическая Свита Примадонны</td>\n",
       "      <td>Космическая Свита Примадонны.\\n.\\nВокруг\\nЗемл...</td>\n",
       "    </tr>\n",
       "  </tbody>\n",
       "</table>\n",
       "</div>"
      ]
     },
     "execution_count": 5,
     "metadata": {},
     "output_type": "execute_result"
    }
   ],
   "execution_count": 5
  },
  {
   "metadata": {
    "ExecuteTime": {
     "end_time": "2025-08-20T05:22:08.251122Z",
     "start_time": "2025-08-20T05:22:07.134761Z"
    }
   },
   "cell_type": "code",
   "source": [
    "data.title = data.title.str.lower()\n",
    "data.text = data.text.str.lower()"
   ],
   "id": "1dba1ec1ebe483b0",
   "outputs": [],
   "execution_count": 6
  },
  {
   "metadata": {
    "ExecuteTime": {
     "end_time": "2025-08-20T05:22:11.699534Z",
     "start_time": "2025-08-20T05:22:11.693272Z"
    }
   },
   "cell_type": "code",
   "source": "data.head()",
   "id": "d79bcc38e7adba35",
   "outputs": [
    {
     "data": {
      "text/plain": [
       "                           title  \\\n",
       "0     скромный подиум кристаллов   \n",
       "1                 нас не догонят   \n",
       "2  снежный шар. 200. не по плану   \n",
       "3      новая кврейская поговорка   \n",
       "4   космическая свита примадонны   \n",
       "\n",
       "                                                text  \n",
       "0  скромный подиум кристаллов.\\n.\\nиные\\nкамни\\nб...  \n",
       "1  правая нога словно приросла к педали газа. стр...  \n",
       "2  снежный шар. 200. не по плану…\\nсолнце давно у...  \n",
       "3           всё, что дороже, чем бесплатно - дорого!  \n",
       "4  космическая свита примадонны.\\n.\\nвокруг\\nземл...  "
      ],
      "text/html": [
       "<div>\n",
       "<style scoped>\n",
       "    .dataframe tbody tr th:only-of-type {\n",
       "        vertical-align: middle;\n",
       "    }\n",
       "\n",
       "    .dataframe tbody tr th {\n",
       "        vertical-align: top;\n",
       "    }\n",
       "\n",
       "    .dataframe thead th {\n",
       "        text-align: right;\n",
       "    }\n",
       "</style>\n",
       "<table border=\"1\" class=\"dataframe\">\n",
       "  <thead>\n",
       "    <tr style=\"text-align: right;\">\n",
       "      <th></th>\n",
       "      <th>title</th>\n",
       "      <th>text</th>\n",
       "    </tr>\n",
       "  </thead>\n",
       "  <tbody>\n",
       "    <tr>\n",
       "      <th>0</th>\n",
       "      <td>скромный подиум кристаллов</td>\n",
       "      <td>скромный подиум кристаллов.\\n.\\nиные\\nкамни\\nб...</td>\n",
       "    </tr>\n",
       "    <tr>\n",
       "      <th>1</th>\n",
       "      <td>нас не догонят</td>\n",
       "      <td>правая нога словно приросла к педали газа. стр...</td>\n",
       "    </tr>\n",
       "    <tr>\n",
       "      <th>2</th>\n",
       "      <td>снежный шар. 200. не по плану</td>\n",
       "      <td>снежный шар. 200. не по плану…\\nсолнце давно у...</td>\n",
       "    </tr>\n",
       "    <tr>\n",
       "      <th>3</th>\n",
       "      <td>новая кврейская поговорка</td>\n",
       "      <td>всё, что дороже, чем бесплатно - дорого!</td>\n",
       "    </tr>\n",
       "    <tr>\n",
       "      <th>4</th>\n",
       "      <td>космическая свита примадонны</td>\n",
       "      <td>космическая свита примадонны.\\n.\\nвокруг\\nземл...</td>\n",
       "    </tr>\n",
       "  </tbody>\n",
       "</table>\n",
       "</div>"
      ]
     },
     "execution_count": 7,
     "metadata": {},
     "output_type": "execute_result"
    }
   ],
   "execution_count": 7
  },
  {
   "metadata": {
    "ExecuteTime": {
     "end_time": "2025-08-20T05:22:53.094003Z",
     "start_time": "2025-08-20T05:22:53.081086Z"
    }
   },
   "cell_type": "code",
   "source": "data = data.dropna()",
   "id": "da848b8014b27fc2",
   "outputs": [],
   "execution_count": 9
  },
  {
   "metadata": {
    "ExecuteTime": {
     "end_time": "2025-08-20T05:23:51.370507Z",
     "start_time": "2025-08-20T05:23:51.361856Z"
    }
   },
   "cell_type": "code",
   "source": "data = data.reset_index(drop=True)",
   "id": "f370de601c9dc391",
   "outputs": [],
   "execution_count": 11
  },
  {
   "metadata": {
    "ExecuteTime": {
     "end_time": "2025-08-20T05:24:00.224368Z",
     "start_time": "2025-08-20T05:24:00.220231Z"
    }
   },
   "cell_type": "code",
   "source": "data.head()",
   "id": "94e316d5c73f7012",
   "outputs": [
    {
     "data": {
      "text/plain": [
       "                           title  \\\n",
       "0     скромный подиум кристаллов   \n",
       "1                 нас не догонят   \n",
       "2  снежный шар. 200. не по плану   \n",
       "3      новая кврейская поговорка   \n",
       "4   космическая свита примадонны   \n",
       "\n",
       "                                                text  \n",
       "0  скромный подиум кристаллов.\\n.\\nиные\\nкамни\\nб...  \n",
       "1  правая нога словно приросла к педали газа. стр...  \n",
       "2  снежный шар. 200. не по плану…\\nсолнце давно у...  \n",
       "3           всё, что дороже, чем бесплатно - дорого!  \n",
       "4  космическая свита примадонны.\\n.\\nвокруг\\nземл...  "
      ],
      "text/html": [
       "<div>\n",
       "<style scoped>\n",
       "    .dataframe tbody tr th:only-of-type {\n",
       "        vertical-align: middle;\n",
       "    }\n",
       "\n",
       "    .dataframe tbody tr th {\n",
       "        vertical-align: top;\n",
       "    }\n",
       "\n",
       "    .dataframe thead th {\n",
       "        text-align: right;\n",
       "    }\n",
       "</style>\n",
       "<table border=\"1\" class=\"dataframe\">\n",
       "  <thead>\n",
       "    <tr style=\"text-align: right;\">\n",
       "      <th></th>\n",
       "      <th>title</th>\n",
       "      <th>text</th>\n",
       "    </tr>\n",
       "  </thead>\n",
       "  <tbody>\n",
       "    <tr>\n",
       "      <th>0</th>\n",
       "      <td>скромный подиум кристаллов</td>\n",
       "      <td>скромный подиум кристаллов.\\n.\\nиные\\nкамни\\nб...</td>\n",
       "    </tr>\n",
       "    <tr>\n",
       "      <th>1</th>\n",
       "      <td>нас не догонят</td>\n",
       "      <td>правая нога словно приросла к педали газа. стр...</td>\n",
       "    </tr>\n",
       "    <tr>\n",
       "      <th>2</th>\n",
       "      <td>снежный шар. 200. не по плану</td>\n",
       "      <td>снежный шар. 200. не по плану…\\nсолнце давно у...</td>\n",
       "    </tr>\n",
       "    <tr>\n",
       "      <th>3</th>\n",
       "      <td>новая кврейская поговорка</td>\n",
       "      <td>всё, что дороже, чем бесплатно - дорого!</td>\n",
       "    </tr>\n",
       "    <tr>\n",
       "      <th>4</th>\n",
       "      <td>космическая свита примадонны</td>\n",
       "      <td>космическая свита примадонны.\\n.\\nвокруг\\nземл...</td>\n",
       "    </tr>\n",
       "  </tbody>\n",
       "</table>\n",
       "</div>"
      ]
     },
     "execution_count": 12,
     "metadata": {},
     "output_type": "execute_result"
    }
   ],
   "execution_count": 12
  },
  {
   "metadata": {
    "ExecuteTime": {
     "end_time": "2025-08-20T05:34:12.137539Z",
     "start_time": "2025-08-20T05:34:12.134597Z"
    }
   },
   "cell_type": "code",
   "source": [
    "def clean_text(text):\n",
    "    text = text.lower()\n",
    "    text = text.replace(\"\\n\", \" \")\n",
    "    text = re.sub(r\"http\\S+\", \"\", text)\n",
    "    text = text.strip()\n",
    "    return text"
   ],
   "id": "dbecd2f1e575e5a1",
   "outputs": [],
   "execution_count": 17
  },
  {
   "metadata": {
    "ExecuteTime": {
     "end_time": "2025-08-20T05:34:13.936676Z",
     "start_time": "2025-08-20T05:34:12.567829Z"
    }
   },
   "cell_type": "code",
   "source": "data.text = data.text.apply(clean_text)",
   "id": "512decfed1d324ed",
   "outputs": [],
   "execution_count": 18
  },
  {
   "metadata": {
    "ExecuteTime": {
     "end_time": "2025-08-20T05:34:14.342408Z",
     "start_time": "2025-08-20T05:34:14.333824Z"
    }
   },
   "cell_type": "code",
   "source": "data.head()",
   "id": "9cb599d2c4d6a8e6",
   "outputs": [
    {
     "data": {
      "text/plain": [
       "                           title  \\\n",
       "0     скромный подиум кристаллов   \n",
       "1                 нас не догонят   \n",
       "2  снежный шар. 200. не по плану   \n",
       "3      новая кврейская поговорка   \n",
       "4   космическая свита примадонны   \n",
       "\n",
       "                                                text  \n",
       "0  скромный подиум кристаллов. . иные камни без п...  \n",
       "1  правая нога словно приросла к педали газа. стр...  \n",
       "2  снежный шар. 200. не по плану… солнце давно ук...  \n",
       "3           всё, что дороже, чем бесплатно - дорого!  \n",
       "4  космическая свита примадонны. . вокруг земли л...  "
      ],
      "text/html": [
       "<div>\n",
       "<style scoped>\n",
       "    .dataframe tbody tr th:only-of-type {\n",
       "        vertical-align: middle;\n",
       "    }\n",
       "\n",
       "    .dataframe tbody tr th {\n",
       "        vertical-align: top;\n",
       "    }\n",
       "\n",
       "    .dataframe thead th {\n",
       "        text-align: right;\n",
       "    }\n",
       "</style>\n",
       "<table border=\"1\" class=\"dataframe\">\n",
       "  <thead>\n",
       "    <tr style=\"text-align: right;\">\n",
       "      <th></th>\n",
       "      <th>title</th>\n",
       "      <th>text</th>\n",
       "    </tr>\n",
       "  </thead>\n",
       "  <tbody>\n",
       "    <tr>\n",
       "      <th>0</th>\n",
       "      <td>скромный подиум кристаллов</td>\n",
       "      <td>скромный подиум кристаллов. . иные камни без п...</td>\n",
       "    </tr>\n",
       "    <tr>\n",
       "      <th>1</th>\n",
       "      <td>нас не догонят</td>\n",
       "      <td>правая нога словно приросла к педали газа. стр...</td>\n",
       "    </tr>\n",
       "    <tr>\n",
       "      <th>2</th>\n",
       "      <td>снежный шар. 200. не по плану</td>\n",
       "      <td>снежный шар. 200. не по плану… солнце давно ук...</td>\n",
       "    </tr>\n",
       "    <tr>\n",
       "      <th>3</th>\n",
       "      <td>новая кврейская поговорка</td>\n",
       "      <td>всё, что дороже, чем бесплатно - дорого!</td>\n",
       "    </tr>\n",
       "    <tr>\n",
       "      <th>4</th>\n",
       "      <td>космическая свита примадонны</td>\n",
       "      <td>космическая свита примадонны. . вокруг земли л...</td>\n",
       "    </tr>\n",
       "  </tbody>\n",
       "</table>\n",
       "</div>"
      ]
     },
     "execution_count": 19,
     "metadata": {},
     "output_type": "execute_result"
    }
   ],
   "execution_count": 19
  },
  {
   "metadata": {
    "ExecuteTime": {
     "end_time": "2025-08-20T05:34:34.354987Z",
     "start_time": "2025-08-20T05:34:30.495071Z"
    }
   },
   "cell_type": "code",
   "source": "data.to_csv(\"data/data.csv\", index=False)",
   "id": "b271f551a6938641",
   "outputs": [],
   "execution_count": 20
  },
  {
   "metadata": {},
   "cell_type": "code",
   "outputs": [],
   "execution_count": null,
   "source": "",
   "id": "b47c30ef7df3e81d"
  }
 ],
 "metadata": {
  "kernelspec": {
   "display_name": "Python 3",
   "language": "python",
   "name": "python3"
  },
  "language_info": {
   "codemirror_mode": {
    "name": "ipython",
    "version": 2
   },
   "file_extension": ".py",
   "mimetype": "text/x-python",
   "name": "python",
   "nbconvert_exporter": "python",
   "pygments_lexer": "ipython2",
   "version": "2.7.6"
  }
 },
 "nbformat": 4,
 "nbformat_minor": 5
}
