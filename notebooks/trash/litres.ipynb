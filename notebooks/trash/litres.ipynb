{
 "cells": [
  {
   "cell_type": "code",
   "id": "initial_id",
   "metadata": {
    "collapsed": true,
    "ExecuteTime": {
     "end_time": "2025-08-23T17:35:32.661624Z",
     "start_time": "2025-08-23T17:35:32.489078Z"
    }
   },
   "source": "import pandas as pd\n",
   "outputs": [],
   "execution_count": 1
  },
  {
   "metadata": {
    "ExecuteTime": {
     "end_time": "2025-08-23T17:35:32.772752Z",
     "start_time": "2025-08-23T17:35:32.669854Z"
    }
   },
   "cell_type": "code",
   "source": [
    "litres_data = pd.read_csv(\"../../data/temp_data/litres.csv\")\n",
    "litres_data.head()"
   ],
   "id": "c5299c9bc187b869",
   "outputs": [
    {
     "data": {
      "text/plain": [
       "                                               title  \\\n",
       "0                 письма баламута. расторжение брака   \n",
       "1  две жизни. все части. сборник в обновленной ре...   \n",
       "2                             атлант расправил плечи   \n",
       "3                                вино из одуванчиков   \n",
       "4                  две жизни. роман в четырех частях   \n",
       "\n",
       "                                                text  \n",
       "0  три произведения в одном сборнике!«письма бала...  \n",
       "1  книга «две жизни» – мистический роман, который...  \n",
       "2  к власти в сша приходят социалисты и правитель...  \n",
       "3  войдите в светлый мир двенадцатилетнего мальчи...  \n",
       "4  все части культовых «двух жизней» конкордии ан...  "
      ],
      "text/html": [
       "<div>\n",
       "<style scoped>\n",
       "    .dataframe tbody tr th:only-of-type {\n",
       "        vertical-align: middle;\n",
       "    }\n",
       "\n",
       "    .dataframe tbody tr th {\n",
       "        vertical-align: top;\n",
       "    }\n",
       "\n",
       "    .dataframe thead th {\n",
       "        text-align: right;\n",
       "    }\n",
       "</style>\n",
       "<table border=\"1\" class=\"dataframe\">\n",
       "  <thead>\n",
       "    <tr style=\"text-align: right;\">\n",
       "      <th></th>\n",
       "      <th>title</th>\n",
       "      <th>text</th>\n",
       "    </tr>\n",
       "  </thead>\n",
       "  <tbody>\n",
       "    <tr>\n",
       "      <th>0</th>\n",
       "      <td>письма баламута. расторжение брака</td>\n",
       "      <td>три произведения в одном сборнике!«письма бала...</td>\n",
       "    </tr>\n",
       "    <tr>\n",
       "      <th>1</th>\n",
       "      <td>две жизни. все части. сборник в обновленной ре...</td>\n",
       "      <td>книга «две жизни» – мистический роман, который...</td>\n",
       "    </tr>\n",
       "    <tr>\n",
       "      <th>2</th>\n",
       "      <td>атлант расправил плечи</td>\n",
       "      <td>к власти в сша приходят социалисты и правитель...</td>\n",
       "    </tr>\n",
       "    <tr>\n",
       "      <th>3</th>\n",
       "      <td>вино из одуванчиков</td>\n",
       "      <td>войдите в светлый мир двенадцатилетнего мальчи...</td>\n",
       "    </tr>\n",
       "    <tr>\n",
       "      <th>4</th>\n",
       "      <td>две жизни. роман в четырех частях</td>\n",
       "      <td>все части культовых «двух жизней» конкордии ан...</td>\n",
       "    </tr>\n",
       "  </tbody>\n",
       "</table>\n",
       "</div>"
      ]
     },
     "execution_count": 2,
     "metadata": {},
     "output_type": "execute_result"
    }
   ],
   "execution_count": 2
  },
  {
   "metadata": {
    "ExecuteTime": {
     "end_time": "2025-08-23T17:35:32.794593Z",
     "start_time": "2025-08-23T17:35:32.780114Z"
    }
   },
   "cell_type": "code",
   "source": "litres_data.describe()",
   "id": "a19cea44c7702857",
   "outputs": [
    {
     "data": {
      "text/plain": [
       "                                     title  \\\n",
       "count                                11743   \n",
       "unique                               11743   \n",
       "top     письма баламута. расторжение брака   \n",
       "freq                                     1   \n",
       "\n",
       "                                                     text  \n",
       "count                                               11742  \n",
       "unique                                              11742  \n",
       "top     три произведения в одном сборнике!«письма бала...  \n",
       "freq                                                    1  "
      ],
      "text/html": [
       "<div>\n",
       "<style scoped>\n",
       "    .dataframe tbody tr th:only-of-type {\n",
       "        vertical-align: middle;\n",
       "    }\n",
       "\n",
       "    .dataframe tbody tr th {\n",
       "        vertical-align: top;\n",
       "    }\n",
       "\n",
       "    .dataframe thead th {\n",
       "        text-align: right;\n",
       "    }\n",
       "</style>\n",
       "<table border=\"1\" class=\"dataframe\">\n",
       "  <thead>\n",
       "    <tr style=\"text-align: right;\">\n",
       "      <th></th>\n",
       "      <th>title</th>\n",
       "      <th>text</th>\n",
       "    </tr>\n",
       "  </thead>\n",
       "  <tbody>\n",
       "    <tr>\n",
       "      <th>count</th>\n",
       "      <td>11743</td>\n",
       "      <td>11742</td>\n",
       "    </tr>\n",
       "    <tr>\n",
       "      <th>unique</th>\n",
       "      <td>11743</td>\n",
       "      <td>11742</td>\n",
       "    </tr>\n",
       "    <tr>\n",
       "      <th>top</th>\n",
       "      <td>письма баламута. расторжение брака</td>\n",
       "      <td>три произведения в одном сборнике!«письма бала...</td>\n",
       "    </tr>\n",
       "    <tr>\n",
       "      <th>freq</th>\n",
       "      <td>1</td>\n",
       "      <td>1</td>\n",
       "    </tr>\n",
       "  </tbody>\n",
       "</table>\n",
       "</div>"
      ]
     },
     "execution_count": 3,
     "metadata": {},
     "output_type": "execute_result"
    }
   ],
   "execution_count": 3
  },
  {
   "metadata": {
    "ExecuteTime": {
     "end_time": "2025-08-23T17:35:32.826201Z",
     "start_time": "2025-08-23T17:35:32.798145Z"
    }
   },
   "cell_type": "code",
   "source": [
    "litres_data.title = litres_data.title.str.lower().str.strip()\n",
    "litres_data.text = litres_data.text.str.lower().str.strip()\n",
    "litres_data.head()"
   ],
   "id": "fc90910c1aac4750",
   "outputs": [
    {
     "data": {
      "text/plain": [
       "                                               title  \\\n",
       "0                 письма баламута. расторжение брака   \n",
       "1  две жизни. все части. сборник в обновленной ре...   \n",
       "2                             атлант расправил плечи   \n",
       "3                                вино из одуванчиков   \n",
       "4                  две жизни. роман в четырех частях   \n",
       "\n",
       "                                                text  \n",
       "0  три произведения в одном сборнике!«письма бала...  \n",
       "1  книга «две жизни» – мистический роман, который...  \n",
       "2  к власти в сша приходят социалисты и правитель...  \n",
       "3  войдите в светлый мир двенадцатилетнего мальчи...  \n",
       "4  все части культовых «двух жизней» конкордии ан...  "
      ],
      "text/html": [
       "<div>\n",
       "<style scoped>\n",
       "    .dataframe tbody tr th:only-of-type {\n",
       "        vertical-align: middle;\n",
       "    }\n",
       "\n",
       "    .dataframe tbody tr th {\n",
       "        vertical-align: top;\n",
       "    }\n",
       "\n",
       "    .dataframe thead th {\n",
       "        text-align: right;\n",
       "    }\n",
       "</style>\n",
       "<table border=\"1\" class=\"dataframe\">\n",
       "  <thead>\n",
       "    <tr style=\"text-align: right;\">\n",
       "      <th></th>\n",
       "      <th>title</th>\n",
       "      <th>text</th>\n",
       "    </tr>\n",
       "  </thead>\n",
       "  <tbody>\n",
       "    <tr>\n",
       "      <th>0</th>\n",
       "      <td>письма баламута. расторжение брака</td>\n",
       "      <td>три произведения в одном сборнике!«письма бала...</td>\n",
       "    </tr>\n",
       "    <tr>\n",
       "      <th>1</th>\n",
       "      <td>две жизни. все части. сборник в обновленной ре...</td>\n",
       "      <td>книга «две жизни» – мистический роман, который...</td>\n",
       "    </tr>\n",
       "    <tr>\n",
       "      <th>2</th>\n",
       "      <td>атлант расправил плечи</td>\n",
       "      <td>к власти в сша приходят социалисты и правитель...</td>\n",
       "    </tr>\n",
       "    <tr>\n",
       "      <th>3</th>\n",
       "      <td>вино из одуванчиков</td>\n",
       "      <td>войдите в светлый мир двенадцатилетнего мальчи...</td>\n",
       "    </tr>\n",
       "    <tr>\n",
       "      <th>4</th>\n",
       "      <td>две жизни. роман в четырех частях</td>\n",
       "      <td>все части культовых «двух жизней» конкордии ан...</td>\n",
       "    </tr>\n",
       "  </tbody>\n",
       "</table>\n",
       "</div>"
      ]
     },
     "execution_count": 4,
     "metadata": {},
     "output_type": "execute_result"
    }
   ],
   "execution_count": 4
  },
  {
   "metadata": {
    "ExecuteTime": {
     "end_time": "2025-08-23T17:35:32.832675Z",
     "start_time": "2025-08-23T17:35:32.829564Z"
    }
   },
   "cell_type": "code",
   "source": "litres_data.isna().sum(axis=0)",
   "id": "e266a81673746eda",
   "outputs": [
    {
     "data": {
      "text/plain": [
       "title    0\n",
       "text     1\n",
       "dtype: int64"
      ]
     },
     "execution_count": 5,
     "metadata": {},
     "output_type": "execute_result"
    }
   ],
   "execution_count": 5
  },
  {
   "metadata": {
    "ExecuteTime": {
     "end_time": "2025-08-23T17:35:32.842827Z",
     "start_time": "2025-08-23T17:35:32.837879Z"
    }
   },
   "cell_type": "code",
   "source": [
    "litres_data = litres_data.dropna().reset_index(drop=True)\n",
    "litres_data.isna().sum(axis=0)"
   ],
   "id": "1add14cce133116d",
   "outputs": [
    {
     "data": {
      "text/plain": [
       "title    0\n",
       "text     0\n",
       "dtype: int64"
      ]
     },
     "execution_count": 6,
     "metadata": {},
     "output_type": "execute_result"
    }
   ],
   "execution_count": 6
  },
  {
   "metadata": {
    "ExecuteTime": {
     "end_time": "2025-08-23T17:35:32.857659Z",
     "start_time": "2025-08-23T17:35:32.849603Z"
    }
   },
   "cell_type": "code",
   "source": [
    "print(f\"Количество дубликатов в названиях: {litres_data.title.duplicated().sum()}\")\n",
    "print(f\"Количество дубликатов в текстах: {litres_data.text.duplicated().sum()}\")"
   ],
   "id": "3e97377bcb61479c",
   "outputs": [
    {
     "name": "stdout",
     "output_type": "stream",
     "text": [
      "Количество дубликатов в названиях: 0\n",
      "Количество дубликатов в текстах: 0\n"
     ]
    }
   ],
   "execution_count": 7
  },
  {
   "metadata": {
    "ExecuteTime": {
     "end_time": "2025-08-23T17:35:32.863393Z",
     "start_time": "2025-08-23T17:35:32.860461Z"
    }
   },
   "cell_type": "code",
   "source": [
    "litres_data = litres_data.drop_duplicates(subset=[\"title\"]).reset_index(drop=True)\n",
    "litres_data = litres_data.drop_duplicates(subset=['text']).reset_index(drop=True)"
   ],
   "id": "f47fee4e9d563b0e",
   "outputs": [],
   "execution_count": 8
  },
  {
   "metadata": {
    "ExecuteTime": {
     "end_time": "2025-08-23T17:35:32.870191Z",
     "start_time": "2025-08-23T17:35:32.867257Z"
    }
   },
   "cell_type": "code",
   "source": [
    "print(f\"Количество дубликатов в названиях: {litres_data.title.duplicated().sum()}\")\n",
    "print(f\"Количество дубликатов в текстах: {litres_data.text.duplicated().sum()}\")"
   ],
   "id": "8ed16042b3fa603d",
   "outputs": [
    {
     "name": "stdout",
     "output_type": "stream",
     "text": [
      "Количество дубликатов в названиях: 0\n",
      "Количество дубликатов в текстах: 0\n"
     ]
    }
   ],
   "execution_count": 9
  },
  {
   "metadata": {
    "ExecuteTime": {
     "end_time": "2025-08-23T17:35:32.882464Z",
     "start_time": "2025-08-23T17:35:32.875045Z"
    }
   },
   "cell_type": "code",
   "source": "litres_data.describe()",
   "id": "a1533564775f8772",
   "outputs": [
    {
     "data": {
      "text/plain": [
       "                                     title  \\\n",
       "count                                11742   \n",
       "unique                               11742   \n",
       "top     письма баламута. расторжение брака   \n",
       "freq                                     1   \n",
       "\n",
       "                                                     text  \n",
       "count                                               11742  \n",
       "unique                                              11742  \n",
       "top     три произведения в одном сборнике!«письма бала...  \n",
       "freq                                                    1  "
      ],
      "text/html": [
       "<div>\n",
       "<style scoped>\n",
       "    .dataframe tbody tr th:only-of-type {\n",
       "        vertical-align: middle;\n",
       "    }\n",
       "\n",
       "    .dataframe tbody tr th {\n",
       "        vertical-align: top;\n",
       "    }\n",
       "\n",
       "    .dataframe thead th {\n",
       "        text-align: right;\n",
       "    }\n",
       "</style>\n",
       "<table border=\"1\" class=\"dataframe\">\n",
       "  <thead>\n",
       "    <tr style=\"text-align: right;\">\n",
       "      <th></th>\n",
       "      <th>title</th>\n",
       "      <th>text</th>\n",
       "    </tr>\n",
       "  </thead>\n",
       "  <tbody>\n",
       "    <tr>\n",
       "      <th>count</th>\n",
       "      <td>11742</td>\n",
       "      <td>11742</td>\n",
       "    </tr>\n",
       "    <tr>\n",
       "      <th>unique</th>\n",
       "      <td>11742</td>\n",
       "      <td>11742</td>\n",
       "    </tr>\n",
       "    <tr>\n",
       "      <th>top</th>\n",
       "      <td>письма баламута. расторжение брака</td>\n",
       "      <td>три произведения в одном сборнике!«письма бала...</td>\n",
       "    </tr>\n",
       "    <tr>\n",
       "      <th>freq</th>\n",
       "      <td>1</td>\n",
       "      <td>1</td>\n",
       "    </tr>\n",
       "  </tbody>\n",
       "</table>\n",
       "</div>"
      ]
     },
     "execution_count": 10,
     "metadata": {},
     "output_type": "execute_result"
    }
   ],
   "execution_count": 10
  },
  {
   "metadata": {
    "ExecuteTime": {
     "end_time": "2025-08-23T17:35:32.890109Z",
     "start_time": "2025-08-23T17:35:32.887241Z"
    }
   },
   "cell_type": "code",
   "source": "litres_data.head()",
   "id": "19ff3f71e063cca7",
   "outputs": [
    {
     "data": {
      "text/plain": [
       "                                               title  \\\n",
       "0                 письма баламута. расторжение брака   \n",
       "1  две жизни. все части. сборник в обновленной ре...   \n",
       "2                             атлант расправил плечи   \n",
       "3                                вино из одуванчиков   \n",
       "4                  две жизни. роман в четырех частях   \n",
       "\n",
       "                                                text  \n",
       "0  три произведения в одном сборнике!«письма бала...  \n",
       "1  книга «две жизни» – мистический роман, который...  \n",
       "2  к власти в сша приходят социалисты и правитель...  \n",
       "3  войдите в светлый мир двенадцатилетнего мальчи...  \n",
       "4  все части культовых «двух жизней» конкордии ан...  "
      ],
      "text/html": [
       "<div>\n",
       "<style scoped>\n",
       "    .dataframe tbody tr th:only-of-type {\n",
       "        vertical-align: middle;\n",
       "    }\n",
       "\n",
       "    .dataframe tbody tr th {\n",
       "        vertical-align: top;\n",
       "    }\n",
       "\n",
       "    .dataframe thead th {\n",
       "        text-align: right;\n",
       "    }\n",
       "</style>\n",
       "<table border=\"1\" class=\"dataframe\">\n",
       "  <thead>\n",
       "    <tr style=\"text-align: right;\">\n",
       "      <th></th>\n",
       "      <th>title</th>\n",
       "      <th>text</th>\n",
       "    </tr>\n",
       "  </thead>\n",
       "  <tbody>\n",
       "    <tr>\n",
       "      <th>0</th>\n",
       "      <td>письма баламута. расторжение брака</td>\n",
       "      <td>три произведения в одном сборнике!«письма бала...</td>\n",
       "    </tr>\n",
       "    <tr>\n",
       "      <th>1</th>\n",
       "      <td>две жизни. все части. сборник в обновленной ре...</td>\n",
       "      <td>книга «две жизни» – мистический роман, который...</td>\n",
       "    </tr>\n",
       "    <tr>\n",
       "      <th>2</th>\n",
       "      <td>атлант расправил плечи</td>\n",
       "      <td>к власти в сша приходят социалисты и правитель...</td>\n",
       "    </tr>\n",
       "    <tr>\n",
       "      <th>3</th>\n",
       "      <td>вино из одуванчиков</td>\n",
       "      <td>войдите в светлый мир двенадцатилетнего мальчи...</td>\n",
       "    </tr>\n",
       "    <tr>\n",
       "      <th>4</th>\n",
       "      <td>две жизни. роман в четырех частях</td>\n",
       "      <td>все части культовых «двух жизней» конкордии ан...</td>\n",
       "    </tr>\n",
       "  </tbody>\n",
       "</table>\n",
       "</div>"
      ]
     },
     "execution_count": 11,
     "metadata": {},
     "output_type": "execute_result"
    }
   ],
   "execution_count": 11
  },
  {
   "metadata": {
    "ExecuteTime": {
     "end_time": "2025-08-23T17:35:32.990924Z",
     "start_time": "2025-08-23T17:35:32.905789Z"
    }
   },
   "cell_type": "code",
   "source": "litres_data.to_csv(\"../data/litres.csv\", index=False)",
   "id": "cbf1f1fa51cd948",
   "outputs": [],
   "execution_count": 12
  },
  {
   "metadata": {
    "ExecuteTime": {
     "end_time": "2025-08-23T17:35:37.827310Z",
     "start_time": "2025-08-23T17:35:32.994044Z"
    }
   },
   "cell_type": "code",
   "source": "another_data = pd.read_csv(\"../../data/temp_data/data_lit_proza.csv\")",
   "id": "3e4295a53c673862",
   "outputs": [],
   "execution_count": 13
  },
  {
   "metadata": {
    "ExecuteTime": {
     "end_time": "2025-08-23T17:35:54.015381Z",
     "start_time": "2025-08-23T17:35:54.011919Z"
    }
   },
   "cell_type": "code",
   "source": "all_data = pd.concat([litres_data, another_data])",
   "id": "51932181a62d620d",
   "outputs": [],
   "execution_count": 15
  },
  {
   "metadata": {
    "ExecuteTime": {
     "end_time": "2025-08-23T17:36:06.651530Z",
     "start_time": "2025-08-23T17:36:06.649188Z"
    }
   },
   "cell_type": "code",
   "source": "all_data.reset_index(drop=True, inplace=True)",
   "id": "70c19bf3af1c0491",
   "outputs": [],
   "execution_count": 16
  },
  {
   "metadata": {
    "ExecuteTime": {
     "end_time": "2025-08-23T17:36:10.713217Z",
     "start_time": "2025-08-23T17:36:10.706150Z"
    }
   },
   "cell_type": "code",
   "source": "all_data",
   "id": "2f725e61015a0518",
   "outputs": [
    {
     "data": {
      "text/plain": [
       "                                                   title  \\\n",
       "0                     письма баламута. расторжение брака   \n",
       "1      две жизни. все части. сборник в обновленной ре...   \n",
       "2                                 атлант расправил плечи   \n",
       "3                                    вино из одуванчиков   \n",
       "4                      две жизни. роман в четырех частях   \n",
       "...                                                  ...   \n",
       "26886                                           подтяжки   \n",
       "26887                         как хорошо быть человеком!   \n",
       "26888                                          глава№18.   \n",
       "26889                 приложение v к снг-овому словарику   \n",
       "26890                                    красивые письма   \n",
       "\n",
       "                                                    text  \n",
       "0      три произведения в одном сборнике!«письма бала...  \n",
       "1      книга «две жизни» – мистический роман, который...  \n",
       "2      к власти в сша приходят социалисты и правитель...  \n",
       "3      войдите в светлый мир двенадцатилетнего мальчи...  \n",
       "4      все части культовых «двух жизней» конкордии ан...  \n",
       "...                                                  ...  \n",
       "26886  это произошло на именинах. пока жена хлопотала...  \n",
       "26887  в тот вечер я приехал домой рано. припарковавш...  \n",
       "26888  глава№18. [серж юрецкий]  версия для печати ре...  \n",
       "26889  российская демократическая мода 1. демосезонны...  \n",
       "26890  это случай из молодости, когда я дружил со сво...  \n",
       "\n",
       "[26891 rows x 2 columns]"
      ],
      "text/html": [
       "<div>\n",
       "<style scoped>\n",
       "    .dataframe tbody tr th:only-of-type {\n",
       "        vertical-align: middle;\n",
       "    }\n",
       "\n",
       "    .dataframe tbody tr th {\n",
       "        vertical-align: top;\n",
       "    }\n",
       "\n",
       "    .dataframe thead th {\n",
       "        text-align: right;\n",
       "    }\n",
       "</style>\n",
       "<table border=\"1\" class=\"dataframe\">\n",
       "  <thead>\n",
       "    <tr style=\"text-align: right;\">\n",
       "      <th></th>\n",
       "      <th>title</th>\n",
       "      <th>text</th>\n",
       "    </tr>\n",
       "  </thead>\n",
       "  <tbody>\n",
       "    <tr>\n",
       "      <th>0</th>\n",
       "      <td>письма баламута. расторжение брака</td>\n",
       "      <td>три произведения в одном сборнике!«письма бала...</td>\n",
       "    </tr>\n",
       "    <tr>\n",
       "      <th>1</th>\n",
       "      <td>две жизни. все части. сборник в обновленной ре...</td>\n",
       "      <td>книга «две жизни» – мистический роман, который...</td>\n",
       "    </tr>\n",
       "    <tr>\n",
       "      <th>2</th>\n",
       "      <td>атлант расправил плечи</td>\n",
       "      <td>к власти в сша приходят социалисты и правитель...</td>\n",
       "    </tr>\n",
       "    <tr>\n",
       "      <th>3</th>\n",
       "      <td>вино из одуванчиков</td>\n",
       "      <td>войдите в светлый мир двенадцатилетнего мальчи...</td>\n",
       "    </tr>\n",
       "    <tr>\n",
       "      <th>4</th>\n",
       "      <td>две жизни. роман в четырех частях</td>\n",
       "      <td>все части культовых «двух жизней» конкордии ан...</td>\n",
       "    </tr>\n",
       "    <tr>\n",
       "      <th>...</th>\n",
       "      <td>...</td>\n",
       "      <td>...</td>\n",
       "    </tr>\n",
       "    <tr>\n",
       "      <th>26886</th>\n",
       "      <td>подтяжки</td>\n",
       "      <td>это произошло на именинах. пока жена хлопотала...</td>\n",
       "    </tr>\n",
       "    <tr>\n",
       "      <th>26887</th>\n",
       "      <td>как хорошо быть человеком!</td>\n",
       "      <td>в тот вечер я приехал домой рано. припарковавш...</td>\n",
       "    </tr>\n",
       "    <tr>\n",
       "      <th>26888</th>\n",
       "      <td>глава№18.</td>\n",
       "      <td>глава№18. [серж юрецкий]  версия для печати ре...</td>\n",
       "    </tr>\n",
       "    <tr>\n",
       "      <th>26889</th>\n",
       "      <td>приложение v к снг-овому словарику</td>\n",
       "      <td>российская демократическая мода 1. демосезонны...</td>\n",
       "    </tr>\n",
       "    <tr>\n",
       "      <th>26890</th>\n",
       "      <td>красивые письма</td>\n",
       "      <td>это случай из молодости, когда я дружил со сво...</td>\n",
       "    </tr>\n",
       "  </tbody>\n",
       "</table>\n",
       "<p>26891 rows × 2 columns</p>\n",
       "</div>"
      ]
     },
     "execution_count": 17,
     "metadata": {},
     "output_type": "execute_result"
    }
   ],
   "execution_count": 17
  },
  {
   "metadata": {
    "ExecuteTime": {
     "end_time": "2025-08-23T17:36:39.209940Z",
     "start_time": "2025-08-23T17:36:35.585124Z"
    }
   },
   "cell_type": "code",
   "source": "all_data.to_csv(\"../data/all_data.csv\", index=False)",
   "id": "2810c740105486d1",
   "outputs": [],
   "execution_count": 18
  },
  {
   "metadata": {},
   "cell_type": "code",
   "outputs": [],
   "execution_count": null,
   "source": "",
   "id": "cd371a7aeaf48f85"
  }
 ],
 "metadata": {
  "kernelspec": {
   "display_name": "Python 3",
   "language": "python",
   "name": "python3"
  },
  "language_info": {
   "codemirror_mode": {
    "name": "ipython",
    "version": 2
   },
   "file_extension": ".py",
   "mimetype": "text/x-python",
   "name": "python",
   "nbconvert_exporter": "python",
   "pygments_lexer": "ipython2",
   "version": "2.7.6"
  }
 },
 "nbformat": 4,
 "nbformat_minor": 5
}
