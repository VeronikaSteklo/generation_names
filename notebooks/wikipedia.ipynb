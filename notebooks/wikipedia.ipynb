{
 "cells": [
  {
   "metadata": {
    "ExecuteTime": {
     "end_time": "2025-08-29T10:30:34.989765Z",
     "start_time": "2025-08-29T10:30:34.746377Z"
    }
   },
   "cell_type": "code",
   "source": [
    "import re\n",
    "\n",
    "import pandas as pd"
   ],
   "id": "97511333b2bbbeb0",
   "outputs": [],
   "execution_count": 1
  },
  {
   "metadata": {
    "ExecuteTime": {
     "end_time": "2025-08-29T10:30:35.853863Z",
     "start_time": "2025-08-29T10:30:35.204166Z"
    }
   },
   "cell_type": "code",
   "source": [
    "wiki_data = pd.read_csv(\"../data/temp_data/russian_fiction_dataset_parallel.csv\")\n",
    "wiki_data.describe()"
   ],
   "id": "ac01b68af5287ac0",
   "outputs": [
    {
     "data": {
      "text/plain": [
       "                    title                                    text\n",
       "count              153349                                  153349\n",
       "unique               6281                                  137751\n",
       "top     Warhammer Fantasy  Фотографии на сайте fototeka.fn.org.pl\n",
       "freq                 1520                                     111"
      ],
      "text/html": [
       "<div>\n",
       "<style scoped>\n",
       "    .dataframe tbody tr th:only-of-type {\n",
       "        vertical-align: middle;\n",
       "    }\n",
       "\n",
       "    .dataframe tbody tr th {\n",
       "        vertical-align: top;\n",
       "    }\n",
       "\n",
       "    .dataframe thead th {\n",
       "        text-align: right;\n",
       "    }\n",
       "</style>\n",
       "<table border=\"1\" class=\"dataframe\">\n",
       "  <thead>\n",
       "    <tr style=\"text-align: right;\">\n",
       "      <th></th>\n",
       "      <th>title</th>\n",
       "      <th>text</th>\n",
       "    </tr>\n",
       "  </thead>\n",
       "  <tbody>\n",
       "    <tr>\n",
       "      <th>count</th>\n",
       "      <td>153349</td>\n",
       "      <td>153349</td>\n",
       "    </tr>\n",
       "    <tr>\n",
       "      <th>unique</th>\n",
       "      <td>6281</td>\n",
       "      <td>137751</td>\n",
       "    </tr>\n",
       "    <tr>\n",
       "      <th>top</th>\n",
       "      <td>Warhammer Fantasy</td>\n",
       "      <td>Фотографии на сайте fototeka.fn.org.pl</td>\n",
       "    </tr>\n",
       "    <tr>\n",
       "      <th>freq</th>\n",
       "      <td>1520</td>\n",
       "      <td>111</td>\n",
       "    </tr>\n",
       "  </tbody>\n",
       "</table>\n",
       "</div>"
      ]
     },
     "execution_count": 2,
     "metadata": {},
     "output_type": "execute_result"
    }
   ],
   "execution_count": 2
  },
  {
   "metadata": {
    "ExecuteTime": {
     "end_time": "2025-08-29T10:30:36.558959Z",
     "start_time": "2025-08-29T10:30:36.369049Z"
    }
   },
   "cell_type": "code",
   "source": [
    "wiki_data.title = wiki_data.title.str.lower()\n",
    "wiki_data.text = wiki_data.text.str.lower()\n",
    "wiki_data.describe()"
   ],
   "id": "b8c061f261bb2ab5",
   "outputs": [
    {
     "data": {
      "text/plain": [
       "                    title                                    text\n",
       "count              153349                                  153349\n",
       "unique               6281                                  137710\n",
       "top     warhammer fantasy  фотографии на сайте fototeka.fn.org.pl\n",
       "freq                 1520                                     111"
      ],
      "text/html": [
       "<div>\n",
       "<style scoped>\n",
       "    .dataframe tbody tr th:only-of-type {\n",
       "        vertical-align: middle;\n",
       "    }\n",
       "\n",
       "    .dataframe tbody tr th {\n",
       "        vertical-align: top;\n",
       "    }\n",
       "\n",
       "    .dataframe thead th {\n",
       "        text-align: right;\n",
       "    }\n",
       "</style>\n",
       "<table border=\"1\" class=\"dataframe\">\n",
       "  <thead>\n",
       "    <tr style=\"text-align: right;\">\n",
       "      <th></th>\n",
       "      <th>title</th>\n",
       "      <th>text</th>\n",
       "    </tr>\n",
       "  </thead>\n",
       "  <tbody>\n",
       "    <tr>\n",
       "      <th>count</th>\n",
       "      <td>153349</td>\n",
       "      <td>153349</td>\n",
       "    </tr>\n",
       "    <tr>\n",
       "      <th>unique</th>\n",
       "      <td>6281</td>\n",
       "      <td>137710</td>\n",
       "    </tr>\n",
       "    <tr>\n",
       "      <th>top</th>\n",
       "      <td>warhammer fantasy</td>\n",
       "      <td>фотографии на сайте fototeka.fn.org.pl</td>\n",
       "    </tr>\n",
       "    <tr>\n",
       "      <th>freq</th>\n",
       "      <td>1520</td>\n",
       "      <td>111</td>\n",
       "    </tr>\n",
       "  </tbody>\n",
       "</table>\n",
       "</div>"
      ]
     },
     "execution_count": 3,
     "metadata": {},
     "output_type": "execute_result"
    }
   ],
   "execution_count": 3
  },
  {
   "metadata": {
    "ExecuteTime": {
     "end_time": "2025-08-29T10:30:41.580658Z",
     "start_time": "2025-08-29T10:30:41.490540Z"
    }
   },
   "cell_type": "code",
   "source": [
    "max_per_title = 500\n",
    "wiki_data = wiki_data.groupby(\"title\").head(max_per_title).reset_index(drop=True)\n",
    "wiki_data.describe()"
   ],
   "id": "7167646062ea8392",
   "outputs": [
    {
     "data": {
      "text/plain": [
       "                           title                                    text\n",
       "count                     151685                                  151685\n",
       "unique                      6281                                  137152\n",
       "top     гаджиев, асиф аббас оглы  фотографии на сайте fototeka.fn.org.pl\n",
       "freq                         500                                     111"
      ],
      "text/html": [
       "<div>\n",
       "<style scoped>\n",
       "    .dataframe tbody tr th:only-of-type {\n",
       "        vertical-align: middle;\n",
       "    }\n",
       "\n",
       "    .dataframe tbody tr th {\n",
       "        vertical-align: top;\n",
       "    }\n",
       "\n",
       "    .dataframe thead th {\n",
       "        text-align: right;\n",
       "    }\n",
       "</style>\n",
       "<table border=\"1\" class=\"dataframe\">\n",
       "  <thead>\n",
       "    <tr style=\"text-align: right;\">\n",
       "      <th></th>\n",
       "      <th>title</th>\n",
       "      <th>text</th>\n",
       "    </tr>\n",
       "  </thead>\n",
       "  <tbody>\n",
       "    <tr>\n",
       "      <th>count</th>\n",
       "      <td>151685</td>\n",
       "      <td>151685</td>\n",
       "    </tr>\n",
       "    <tr>\n",
       "      <th>unique</th>\n",
       "      <td>6281</td>\n",
       "      <td>137152</td>\n",
       "    </tr>\n",
       "    <tr>\n",
       "      <th>top</th>\n",
       "      <td>гаджиев, асиф аббас оглы</td>\n",
       "      <td>фотографии на сайте fototeka.fn.org.pl</td>\n",
       "    </tr>\n",
       "    <tr>\n",
       "      <th>freq</th>\n",
       "      <td>500</td>\n",
       "      <td>111</td>\n",
       "    </tr>\n",
       "  </tbody>\n",
       "</table>\n",
       "</div>"
      ]
     },
     "execution_count": 4,
     "metadata": {},
     "output_type": "execute_result"
    }
   ],
   "execution_count": 4
  },
  {
   "metadata": {
    "ExecuteTime": {
     "end_time": "2025-08-29T10:30:44.097587Z",
     "start_time": "2025-08-29T10:30:44.093190Z"
    }
   },
   "cell_type": "code",
   "source": [
    "def is_meaningful(text):\n",
    "    return bool(re.search(r\"[А-Яа-яA-Za-z0-9]\", text))\n",
    "\n",
    "def clean_leading_punct(text):\n",
    "    return re.sub(r\"^[^\\wА-Яа-я0-9]+\", \"\", text).strip()"
   ],
   "id": "12840dea963dffcb",
   "outputs": [],
   "execution_count": 5
  },
  {
   "metadata": {
    "ExecuteTime": {
     "end_time": "2025-08-29T10:30:46.069370Z",
     "start_time": "2025-08-29T10:30:46.001213Z"
    }
   },
   "cell_type": "code",
   "source": "wiki_data = wiki_data[wiki_data.text.apply(is_meaningful)].reset_index(drop=True)",
   "id": "74975a69e91e529c",
   "outputs": [],
   "execution_count": 6
  },
  {
   "metadata": {
    "ExecuteTime": {
     "end_time": "2025-08-29T10:30:48.555809Z",
     "start_time": "2025-08-29T10:30:48.159241Z"
    }
   },
   "cell_type": "code",
   "source": [
    "wiki_data = wiki_data[wiki_data.text.str.len() > 10]\n",
    "wiki_data = wiki_data[wiki_data.text.str.split().str.len() > 5]"
   ],
   "id": "88da7c81e0bf6da2",
   "outputs": [],
   "execution_count": 7
  },
  {
   "metadata": {
    "ExecuteTime": {
     "end_time": "2025-08-29T10:30:49.079097Z",
     "start_time": "2025-08-29T10:30:49.075834Z"
    }
   },
   "cell_type": "code",
   "source": [
    "def clean_leading_punct(text):\n",
    "    return re.sub(r\"^[^\\wА-Яа-я0-9]+\", \"\", text).strip()"
   ],
   "id": "827c9806ac81edf",
   "outputs": [],
   "execution_count": 8
  },
  {
   "metadata": {
    "ExecuteTime": {
     "end_time": "2025-08-29T10:30:49.847566Z",
     "start_time": "2025-08-29T10:30:49.782192Z"
    }
   },
   "cell_type": "code",
   "source": "wiki_data.text = wiki_data.text.apply(clean_leading_punct)",
   "id": "a76c20daea550ee6",
   "outputs": [],
   "execution_count": 9
  },
  {
   "metadata": {
    "ExecuteTime": {
     "end_time": "2025-08-29T10:30:50.864479Z",
     "start_time": "2025-08-29T10:30:50.750189Z"
    }
   },
   "cell_type": "code",
   "source": "wiki_data.describe()",
   "id": "bf9fb9e05479f6e0",
   "outputs": [
    {
     "data": {
      "text/plain": [
       "                                          title  \\\n",
       "count                                    139541   \n",
       "unique                                     6276   \n",
       "top     список песен на стихи леонида дербенёва   \n",
       "freq                                        500   \n",
       "\n",
       "                                     text  \n",
       "count                              139541  \n",
       "unique                             126607  \n",
       "top     стихи и ноты на сайте a-pesni.org  \n",
       "freq                                   28  "
      ],
      "text/html": [
       "<div>\n",
       "<style scoped>\n",
       "    .dataframe tbody tr th:only-of-type {\n",
       "        vertical-align: middle;\n",
       "    }\n",
       "\n",
       "    .dataframe tbody tr th {\n",
       "        vertical-align: top;\n",
       "    }\n",
       "\n",
       "    .dataframe thead th {\n",
       "        text-align: right;\n",
       "    }\n",
       "</style>\n",
       "<table border=\"1\" class=\"dataframe\">\n",
       "  <thead>\n",
       "    <tr style=\"text-align: right;\">\n",
       "      <th></th>\n",
       "      <th>title</th>\n",
       "      <th>text</th>\n",
       "    </tr>\n",
       "  </thead>\n",
       "  <tbody>\n",
       "    <tr>\n",
       "      <th>count</th>\n",
       "      <td>139541</td>\n",
       "      <td>139541</td>\n",
       "    </tr>\n",
       "    <tr>\n",
       "      <th>unique</th>\n",
       "      <td>6276</td>\n",
       "      <td>126607</td>\n",
       "    </tr>\n",
       "    <tr>\n",
       "      <th>top</th>\n",
       "      <td>список песен на стихи леонида дербенёва</td>\n",
       "      <td>стихи и ноты на сайте a-pesni.org</td>\n",
       "    </tr>\n",
       "    <tr>\n",
       "      <th>freq</th>\n",
       "      <td>500</td>\n",
       "      <td>28</td>\n",
       "    </tr>\n",
       "  </tbody>\n",
       "</table>\n",
       "</div>"
      ]
     },
     "execution_count": 10,
     "metadata": {},
     "output_type": "execute_result"
    }
   ],
   "execution_count": 10
  },
  {
   "metadata": {
    "ExecuteTime": {
     "end_time": "2025-08-29T10:30:54.750686Z",
     "start_time": "2025-08-29T10:30:54.724953Z"
    }
   },
   "cell_type": "code",
   "source": "wiki_data = wiki_data[~wiki_data.text.duplicated()]",
   "id": "691e99e174411482",
   "outputs": [],
   "execution_count": 11
  },
  {
   "metadata": {
    "ExecuteTime": {
     "end_time": "2025-08-29T10:34:33.129344Z",
     "start_time": "2025-08-29T10:34:32.932122Z"
    }
   },
   "cell_type": "code",
   "source": [
    "dup_titles = (\n",
    "    wiki_data.groupby(\"text\")[\"title\"]\n",
    "    .nunique()\n",
    "    .reset_index()\n",
    "    .query(\"title > 1\")\n",
    ")\n",
    "\n",
    "print(f\"Текстов с одинаковыми содержаниями, но разными названиями: {len(dup_titles)}\")"
   ],
   "id": "709e671da1be2d51",
   "outputs": [
    {
     "name": "stdout",
     "output_type": "stream",
     "text": [
      "Текстов с одинаковыми содержаниями, но разными названиями: 0\n"
     ]
    }
   ],
   "execution_count": 16
  },
  {
   "metadata": {
    "ExecuteTime": {
     "end_time": "2025-08-29T10:35:20.382521Z",
     "start_time": "2025-08-29T10:35:20.035210Z"
    }
   },
   "cell_type": "code",
   "source": "wiki_data.to_csv(\"../data/temp_data/wiki_data.csv\", index=False)",
   "id": "5b531cf3078afa14",
   "outputs": [],
   "execution_count": 17
  },
  {
   "metadata": {},
   "cell_type": "code",
   "outputs": [],
   "execution_count": null,
   "source": "",
   "id": "c768956195a62887"
  }
 ],
 "metadata": {
  "kernelspec": {
   "name": "python3",
   "language": "python",
   "display_name": "Python 3 (ipykernel)"
  }
 },
 "nbformat": 4,
 "nbformat_minor": 5
}
