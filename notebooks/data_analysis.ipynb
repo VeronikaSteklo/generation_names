{
 "cells": [
  {
   "cell_type": "code",
   "id": "initial_id",
   "metadata": {
    "collapsed": true,
    "ExecuteTime": {
     "end_time": "2025-09-01T08:27:37.608475Z",
     "start_time": "2025-09-01T08:27:37.597260Z"
    }
   },
   "source": [
    "import re\n",
    "\n",
    "import pandas as pd\n",
    "from matplotlib import pyplot as plt\n",
    "import plotly.graph_objects as go"
   ],
   "outputs": [],
   "execution_count": 70
  },
  {
   "metadata": {
    "ExecuteTime": {
     "end_time": "2025-08-31T10:22:45.283754Z",
     "start_time": "2025-08-31T10:22:39.899520Z"
    }
   },
   "cell_type": "code",
   "source": "data = pd.read_csv(\"../data/temp_data/all_data.csv\")",
   "id": "35813f3f6fda1bc0",
   "outputs": [],
   "execution_count": 2
  },
  {
   "metadata": {},
   "cell_type": "markdown",
   "source": "# Переделаю датасет до аугментации, чтобы убрать из названий нумерацию (том, эпизод и т.п.)",
   "id": "24171a57f05629bb"
  },
  {
   "metadata": {
    "ExecuteTime": {
     "end_time": "2025-09-01T07:59:50.478805Z",
     "start_time": "2025-09-01T07:59:50.469832Z"
    }
   },
   "cell_type": "code",
   "source": "data.head()",
   "id": "9c061dd4d03c04f2",
   "outputs": [
    {
     "data": {
      "text/plain": [
       "                                               title  \\\n",
       "0                                 время - октябрь...   \n",
       "1                                          переписка   \n",
       "2  айвенго (спектакль) часть 3-я. ричард – львино...   \n",
       "3                                           калевала   \n",
       "4       янки из коннектикута при дворе короля артура   \n",
       "\n",
       "                                                text  title_len  \n",
       "0  ­­… сказки осенних вечеров ...  монохромные во...          3  \n",
       "1  здравствуйте, вы установили мессенджер max, по...          1  \n",
       "2  радиоспектакль по роману.англия времен царство...          8  \n",
       "3  где можно найти наиболее полный литературный о...          1  \n",
       "4  новый, адаптированный перевод алексея козлова ...          7  "
      ],
      "text/html": [
       "<div>\n",
       "<style scoped>\n",
       "    .dataframe tbody tr th:only-of-type {\n",
       "        vertical-align: middle;\n",
       "    }\n",
       "\n",
       "    .dataframe tbody tr th {\n",
       "        vertical-align: top;\n",
       "    }\n",
       "\n",
       "    .dataframe thead th {\n",
       "        text-align: right;\n",
       "    }\n",
       "</style>\n",
       "<table border=\"1\" class=\"dataframe\">\n",
       "  <thead>\n",
       "    <tr style=\"text-align: right;\">\n",
       "      <th></th>\n",
       "      <th>title</th>\n",
       "      <th>text</th>\n",
       "      <th>title_len</th>\n",
       "    </tr>\n",
       "  </thead>\n",
       "  <tbody>\n",
       "    <tr>\n",
       "      <th>0</th>\n",
       "      <td>время - октябрь...</td>\n",
       "      <td>­­… сказки осенних вечеров ...  монохромные во...</td>\n",
       "      <td>3</td>\n",
       "    </tr>\n",
       "    <tr>\n",
       "      <th>1</th>\n",
       "      <td>переписка</td>\n",
       "      <td>здравствуйте, вы установили мессенджер max, по...</td>\n",
       "      <td>1</td>\n",
       "    </tr>\n",
       "    <tr>\n",
       "      <th>2</th>\n",
       "      <td>айвенго (спектакль) часть 3-я. ричард – львино...</td>\n",
       "      <td>радиоспектакль по роману.англия времен царство...</td>\n",
       "      <td>8</td>\n",
       "    </tr>\n",
       "    <tr>\n",
       "      <th>3</th>\n",
       "      <td>калевала</td>\n",
       "      <td>где можно найти наиболее полный литературный о...</td>\n",
       "      <td>1</td>\n",
       "    </tr>\n",
       "    <tr>\n",
       "      <th>4</th>\n",
       "      <td>янки из коннектикута при дворе короля артура</td>\n",
       "      <td>новый, адаптированный перевод алексея козлова ...</td>\n",
       "      <td>7</td>\n",
       "    </tr>\n",
       "  </tbody>\n",
       "</table>\n",
       "</div>"
      ]
     },
     "execution_count": 39,
     "metadata": {},
     "output_type": "execute_result"
    }
   ],
   "execution_count": 39
  },
  {
   "metadata": {
    "ExecuteTime": {
     "end_time": "2025-09-01T08:00:36.201969Z",
     "start_time": "2025-09-01T08:00:36.194201Z"
    }
   },
   "cell_type": "code",
   "source": [
    "def remove_complex_volume_numbers(title):\n",
    "    \"\"\"\n",
    "    Удаляет сложные формы нумерации: (139 эпизод 2 том 2.)\n",
    "    \"\"\"\n",
    "    if pd.isna(title):\n",
    "        return title\n",
    "\n",
    "    title_str = str(title)\n",
    "\n",
    "    patterns = [\n",
    "        r'\\(?\\s*\\d+\\s+(?:эпизод|серия|глава|часть)\\s+\\d+\\s+(?:том|книга|т\\.)\\s*\\d*\\s*\\.?\\)?',\n",
    "        r'\\(?\\s*\\d+\\s+(?:том|книга|т\\.)\\s+\\d+\\s+(?:эпизод|серия|глава|часть)\\s*\\d*\\s*\\.?\\)?',\n",
    "\n",
    "        r'\\b\\d+\\s+\\d+\\s+(?:том|часть|книга|эпизод|серия)\\b',\n",
    "        r'\\b(?:том|часть|книга|эпизод|серия)\\s+\\d+\\s+\\d+\\b',\n",
    "\n",
    "        r'\\b\\d+[-\\.,]\\s*\\d+\\s+(?:том|часть|книга)',\n",
    "        r'\\b(?:том|часть|книга)\\s+\\d+[-\\.,]\\s*\\d+\\b',\n",
    "    ]\n",
    "\n",
    "    cleaned_title = title_str\n",
    "    for pattern in patterns:\n",
    "        cleaned_title = re.sub(pattern, '', cleaned_title, flags=re.IGNORECASE)\n",
    "\n",
    "    return cleaned_title\n",
    "\n",
    "def clean_title_completely(title):\n",
    "    \"\"\"\n",
    "    Полная очистка названия от всех видов нумерации\n",
    "    \"\"\"\n",
    "    if pd.isna(title):\n",
    "        return title\n",
    "\n",
    "    cleaned = remove_complex_volume_numbers(title)\n",
    "\n",
    "    basic_patterns = [\n",
    "        r'\\s*(?:том|часть|книга|т\\.|vol\\.?|эпизод|серия|глава|выпуск)\\s*[ivxlcdm0-9]+',\n",
    "        r'\\s*[ivxlcdm0-9]+\\s*(?:том|часть|книга|т\\.|vol\\.?|эпизод|серия|глава|выпуск)',\n",
    "        r'\\s*\\d+[-\\.,]?\\s*(?:том|часть|книга)',\n",
    "        r'\\s*(?:том|часть|книга)[-\\.,]?\\s*\\d+',\n",
    "    ]\n",
    "\n",
    "    for pattern in basic_patterns:\n",
    "        cleaned = re.sub(pattern, '', cleaned, flags=re.IGNORECASE)\n",
    "\n",
    "    cleaned = re.sub(r'\\([^)]*\\d+[^)]*\\)', '', cleaned)\n",
    "    cleaned = re.sub(r'\\s+\\d+\\s*\\.?$', '', cleaned)\n",
    "    cleaned = re.sub(r'^\\d+\\s+', '', cleaned)\n",
    "\n",
    "    cleaned = re.sub(r'\\s+', ' ', cleaned)\n",
    "    cleaned = re.sub(r'^\\s+|\\s+$', '', cleaned)\n",
    "    cleaned = re.sub(r'[\\(\\)\\[\\]]', '', cleaned)\n",
    "    cleaned = re.sub(r'[,\\-\\.:;]+$', '', cleaned)\n",
    "\n",
    "    return cleaned\n"
   ],
   "id": "75cf52bea96dec2",
   "outputs": [],
   "execution_count": 40
  },
  {
   "metadata": {
    "ExecuteTime": {
     "end_time": "2025-09-01T08:01:09.785981Z",
     "start_time": "2025-09-01T08:01:09.443654Z"
    }
   },
   "cell_type": "code",
   "source": "data[\"cleaned_title\"] = data.title.apply(clean_title_completely)",
   "id": "bb0a1b0cae85801b",
   "outputs": [],
   "execution_count": 41
  },
  {
   "metadata": {
    "ExecuteTime": {
     "end_time": "2025-09-01T08:01:36.112899Z",
     "start_time": "2025-09-01T08:01:36.108167Z"
    }
   },
   "cell_type": "code",
   "source": [
    "changed_count = (data['title'] != data['cleaned_title']).sum()\n",
    "print(f\"Изменено названий: {changed_count} из {len(data)}\")"
   ],
   "id": "b2ac09a95ec3563",
   "outputs": [
    {
     "name": "stdout",
     "output_type": "stream",
     "text": [
      "Изменено названий: 5801 из 31122\n"
     ]
    }
   ],
   "execution_count": 42
  },
  {
   "metadata": {
    "ExecuteTime": {
     "end_time": "2025-09-01T08:03:05.168594Z",
     "start_time": "2025-09-01T08:03:05.146465Z"
    }
   },
   "cell_type": "code",
   "source": "data.title_len = data.cleaned_title.apply(lambda x: len(str(x).split()))",
   "id": "b3574bef9220cab8",
   "outputs": [],
   "execution_count": 44
  },
  {
   "metadata": {
    "ExecuteTime": {
     "end_time": "2025-09-01T08:05:37.267633Z",
     "start_time": "2025-09-01T08:05:36.938423Z"
    }
   },
   "cell_type": "code",
   "source": "data.describe(include=\"O\")",
   "id": "4e27626174a3b7e1",
   "outputs": [
    {
     "data": {
      "text/plain": [
       "                                     title  \\\n",
       "count                                31122   \n",
       "unique                               28839   \n",
       "top     латырь-камень бел-горюч... сказка?   \n",
       "freq                                    38   \n",
       "\n",
       "                                                     text  \\\n",
       "count                                               31101   \n",
       "unique                                              30640   \n",
       "top     ; ; «энцикловикипедия»- -имена. посвящается ми...   \n",
       "freq                                                   38   \n",
       "\n",
       "                             cleaned_title  \n",
       "count                                31122  \n",
       "unique                               27913  \n",
       "top     латырь-камень бел-горюч... сказка?  \n",
       "freq                                    38  "
      ],
      "text/html": [
       "<div>\n",
       "<style scoped>\n",
       "    .dataframe tbody tr th:only-of-type {\n",
       "        vertical-align: middle;\n",
       "    }\n",
       "\n",
       "    .dataframe tbody tr th {\n",
       "        vertical-align: top;\n",
       "    }\n",
       "\n",
       "    .dataframe thead th {\n",
       "        text-align: right;\n",
       "    }\n",
       "</style>\n",
       "<table border=\"1\" class=\"dataframe\">\n",
       "  <thead>\n",
       "    <tr style=\"text-align: right;\">\n",
       "      <th></th>\n",
       "      <th>title</th>\n",
       "      <th>text</th>\n",
       "      <th>cleaned_title</th>\n",
       "    </tr>\n",
       "  </thead>\n",
       "  <tbody>\n",
       "    <tr>\n",
       "      <th>count</th>\n",
       "      <td>31122</td>\n",
       "      <td>31101</td>\n",
       "      <td>31122</td>\n",
       "    </tr>\n",
       "    <tr>\n",
       "      <th>unique</th>\n",
       "      <td>28839</td>\n",
       "      <td>30640</td>\n",
       "      <td>27913</td>\n",
       "    </tr>\n",
       "    <tr>\n",
       "      <th>top</th>\n",
       "      <td>латырь-камень бел-горюч... сказка?</td>\n",
       "      <td>; ; «энцикловикипедия»- -имена. посвящается ми...</td>\n",
       "      <td>латырь-камень бел-горюч... сказка?</td>\n",
       "    </tr>\n",
       "    <tr>\n",
       "      <th>freq</th>\n",
       "      <td>38</td>\n",
       "      <td>38</td>\n",
       "      <td>38</td>\n",
       "    </tr>\n",
       "  </tbody>\n",
       "</table>\n",
       "</div>"
      ]
     },
     "execution_count": 47,
     "metadata": {},
     "output_type": "execute_result"
    }
   ],
   "execution_count": 47
  },
  {
   "metadata": {
    "ExecuteTime": {
     "end_time": "2025-09-01T08:06:44.935655Z",
     "start_time": "2025-09-01T08:06:44.919552Z"
    }
   },
   "cell_type": "code",
   "source": "data = data[~data.text.duplicated(keep=False)].reset_index(drop=True)",
   "id": "201ffc62fffe0e92",
   "outputs": [],
   "execution_count": 49
  },
  {
   "metadata": {
    "ExecuteTime": {
     "end_time": "2025-09-01T08:06:54.243288Z",
     "start_time": "2025-09-01T08:06:54.221370Z"
    }
   },
   "cell_type": "code",
   "source": "data.describe(include=\"O\")",
   "id": "e7198e9be0d29568",
   "outputs": [
    {
     "data": {
      "text/plain": [
       "        title                                               text cleaned_title\n",
       "count   30588                                              30588         30588\n",
       "unique  28730                                              30588         27806\n",
       "top       ***  ­­… сказки осенних вечеров ...  монохромные во...              \n",
       "freq       20                                                  1            28"
      ],
      "text/html": [
       "<div>\n",
       "<style scoped>\n",
       "    .dataframe tbody tr th:only-of-type {\n",
       "        vertical-align: middle;\n",
       "    }\n",
       "\n",
       "    .dataframe tbody tr th {\n",
       "        vertical-align: top;\n",
       "    }\n",
       "\n",
       "    .dataframe thead th {\n",
       "        text-align: right;\n",
       "    }\n",
       "</style>\n",
       "<table border=\"1\" class=\"dataframe\">\n",
       "  <thead>\n",
       "    <tr style=\"text-align: right;\">\n",
       "      <th></th>\n",
       "      <th>title</th>\n",
       "      <th>text</th>\n",
       "      <th>cleaned_title</th>\n",
       "    </tr>\n",
       "  </thead>\n",
       "  <tbody>\n",
       "    <tr>\n",
       "      <th>count</th>\n",
       "      <td>30588</td>\n",
       "      <td>30588</td>\n",
       "      <td>30588</td>\n",
       "    </tr>\n",
       "    <tr>\n",
       "      <th>unique</th>\n",
       "      <td>28730</td>\n",
       "      <td>30588</td>\n",
       "      <td>27806</td>\n",
       "    </tr>\n",
       "    <tr>\n",
       "      <th>top</th>\n",
       "      <td>***</td>\n",
       "      <td>­­… сказки осенних вечеров ...  монохромные во...</td>\n",
       "      <td></td>\n",
       "    </tr>\n",
       "    <tr>\n",
       "      <th>freq</th>\n",
       "      <td>20</td>\n",
       "      <td>1</td>\n",
       "      <td>28</td>\n",
       "    </tr>\n",
       "  </tbody>\n",
       "</table>\n",
       "</div>"
      ]
     },
     "execution_count": 50,
     "metadata": {},
     "output_type": "execute_result"
    }
   ],
   "execution_count": 50
  },
  {
   "metadata": {
    "ExecuteTime": {
     "end_time": "2025-09-01T08:08:26.492812Z",
     "start_time": "2025-09-01T08:08:26.450313Z"
    }
   },
   "cell_type": "code",
   "source": [
    "data = data[data.cleaned_title != \"\"].reset_index(drop=True)\n",
    "data.describe(include=\"O\")"
   ],
   "id": "375bfe34d94a7eea",
   "outputs": [
    {
     "data": {
      "text/plain": [
       "        title                                               text  \\\n",
       "count   30560                                              30560   \n",
       "unique  28705                                              30560   \n",
       "top       ***  ­­… сказки осенних вечеров ...  монохромные во...   \n",
       "freq       20                                                  1   \n",
       "\n",
       "                          cleaned_title  \n",
       "count                             30560  \n",
       "unique                            27805  \n",
       "top     классика зарубежного рассказа №  \n",
       "freq                                 25  "
      ],
      "text/html": [
       "<div>\n",
       "<style scoped>\n",
       "    .dataframe tbody tr th:only-of-type {\n",
       "        vertical-align: middle;\n",
       "    }\n",
       "\n",
       "    .dataframe tbody tr th {\n",
       "        vertical-align: top;\n",
       "    }\n",
       "\n",
       "    .dataframe thead th {\n",
       "        text-align: right;\n",
       "    }\n",
       "</style>\n",
       "<table border=\"1\" class=\"dataframe\">\n",
       "  <thead>\n",
       "    <tr style=\"text-align: right;\">\n",
       "      <th></th>\n",
       "      <th>title</th>\n",
       "      <th>text</th>\n",
       "      <th>cleaned_title</th>\n",
       "    </tr>\n",
       "  </thead>\n",
       "  <tbody>\n",
       "    <tr>\n",
       "      <th>count</th>\n",
       "      <td>30560</td>\n",
       "      <td>30560</td>\n",
       "      <td>30560</td>\n",
       "    </tr>\n",
       "    <tr>\n",
       "      <th>unique</th>\n",
       "      <td>28705</td>\n",
       "      <td>30560</td>\n",
       "      <td>27805</td>\n",
       "    </tr>\n",
       "    <tr>\n",
       "      <th>top</th>\n",
       "      <td>***</td>\n",
       "      <td>­­… сказки осенних вечеров ...  монохромные во...</td>\n",
       "      <td>классика зарубежного рассказа №</td>\n",
       "    </tr>\n",
       "    <tr>\n",
       "      <th>freq</th>\n",
       "      <td>20</td>\n",
       "      <td>1</td>\n",
       "      <td>25</td>\n",
       "    </tr>\n",
       "  </tbody>\n",
       "</table>\n",
       "</div>"
      ]
     },
     "execution_count": 53,
     "metadata": {},
     "output_type": "execute_result"
    }
   ],
   "execution_count": 53
  },
  {
   "metadata": {
    "ExecuteTime": {
     "end_time": "2025-09-01T08:09:40.644984Z",
     "start_time": "2025-09-01T08:09:40.636286Z"
    }
   },
   "cell_type": "code",
   "source": "data.drop(columns=[\"title\"], inplace=True)",
   "id": "3e67178068afff96",
   "outputs": [],
   "execution_count": 55
  },
  {
   "metadata": {
    "ExecuteTime": {
     "end_time": "2025-09-01T08:10:31.495721Z",
     "start_time": "2025-09-01T08:10:31.493353Z"
    }
   },
   "cell_type": "code",
   "source": "data.rename(columns={\"cleaned_title\": \"title\"}, inplace=True)",
   "id": "9cbcf446c5b555",
   "outputs": [],
   "execution_count": 57
  },
  {
   "metadata": {
    "ExecuteTime": {
     "end_time": "2025-09-01T08:10:48.405209Z",
     "start_time": "2025-09-01T08:10:48.395225Z"
    }
   },
   "cell_type": "code",
   "source": "data.head()",
   "id": "5652616727892eb6",
   "outputs": [
    {
     "data": {
      "text/plain": [
       "                                                text  \\\n",
       "0  ­­… сказки осенних вечеров ...  монохромные во...   \n",
       "1  здравствуйте, вы установили мессенджер max, по...   \n",
       "2  радиоспектакль по роману.англия времен царство...   \n",
       "3  где можно найти наиболее полный литературный о...   \n",
       "4  новый, адаптированный перевод алексея козлова ...   \n",
       "\n",
       "                                          title  \n",
       "0                               время - октябрь  \n",
       "1                                     переписка  \n",
       "2  айвенго спектакль-я. ричард – львиное сердце  \n",
       "3                                      калевала  \n",
       "4  янки из коннектикута при дворе короля артура  "
      ],
      "text/html": [
       "<div>\n",
       "<style scoped>\n",
       "    .dataframe tbody tr th:only-of-type {\n",
       "        vertical-align: middle;\n",
       "    }\n",
       "\n",
       "    .dataframe tbody tr th {\n",
       "        vertical-align: top;\n",
       "    }\n",
       "\n",
       "    .dataframe thead th {\n",
       "        text-align: right;\n",
       "    }\n",
       "</style>\n",
       "<table border=\"1\" class=\"dataframe\">\n",
       "  <thead>\n",
       "    <tr style=\"text-align: right;\">\n",
       "      <th></th>\n",
       "      <th>text</th>\n",
       "      <th>title</th>\n",
       "    </tr>\n",
       "  </thead>\n",
       "  <tbody>\n",
       "    <tr>\n",
       "      <th>0</th>\n",
       "      <td>­­… сказки осенних вечеров ...  монохромные во...</td>\n",
       "      <td>время - октябрь</td>\n",
       "    </tr>\n",
       "    <tr>\n",
       "      <th>1</th>\n",
       "      <td>здравствуйте, вы установили мессенджер max, по...</td>\n",
       "      <td>переписка</td>\n",
       "    </tr>\n",
       "    <tr>\n",
       "      <th>2</th>\n",
       "      <td>радиоспектакль по роману.англия времен царство...</td>\n",
       "      <td>айвенго спектакль-я. ричард – львиное сердце</td>\n",
       "    </tr>\n",
       "    <tr>\n",
       "      <th>3</th>\n",
       "      <td>где можно найти наиболее полный литературный о...</td>\n",
       "      <td>калевала</td>\n",
       "    </tr>\n",
       "    <tr>\n",
       "      <th>4</th>\n",
       "      <td>новый, адаптированный перевод алексея козлова ...</td>\n",
       "      <td>янки из коннектикута при дворе короля артура</td>\n",
       "    </tr>\n",
       "  </tbody>\n",
       "</table>\n",
       "</div>"
      ]
     },
     "execution_count": 59,
     "metadata": {},
     "output_type": "execute_result"
    }
   ],
   "execution_count": 59
  },
  {
   "metadata": {
    "ExecuteTime": {
     "end_time": "2025-09-01T08:11:16.050416Z",
     "start_time": "2025-09-01T08:11:13.197612Z"
    }
   },
   "cell_type": "code",
   "source": "data.to_csv(\"../data/temp_data/all_data.csv\", index=False)",
   "id": "c37cca3cf853839a",
   "outputs": [],
   "execution_count": 60
  },
  {
   "metadata": {},
   "cell_type": "markdown",
   "source": "# Анализ длины слов в названиях",
   "id": "4a873bf8b7b5a1fd"
  },
  {
   "metadata": {
    "ExecuteTime": {
     "end_time": "2025-09-01T08:18:48.331643Z",
     "start_time": "2025-09-01T08:18:48.316826Z"
    }
   },
   "cell_type": "code",
   "source": [
    "title_counts = data['title'].value_counts()\n",
    "title_counts.head(10)"
   ],
   "id": "520104243baa8410",
   "outputs": [
    {
     "data": {
      "text/plain": [
       "title\n",
       "классика зарубежного рассказа №             25\n",
       "наследник ссср - фрагмент                   20\n",
       "сергей степанов. постлюбовь. новый роман    20\n",
       "выкладка                                    20\n",
       "***                                         20\n",
       "классика русского рассказа №                18\n",
       "самая длинная история на свете              17\n",
       "тихий дон                                   14\n",
       "встреча                                     14\n",
       "две жизни                                   13\n",
       "Name: count, dtype: int64"
      ]
     },
     "execution_count": 61,
     "metadata": {},
     "output_type": "execute_result"
    }
   ],
   "execution_count": 61
  },
  {
   "metadata": {
    "ExecuteTime": {
     "end_time": "2025-09-01T08:18:56.182074Z",
     "start_time": "2025-09-01T08:18:56.092413Z"
    }
   },
   "cell_type": "code",
   "source": [
    "data[\"title_len\"] = data.title.apply(lambda x: len(str(x).split()))\n",
    "\n",
    "length_counts = data.groupby('title_len').size()\n",
    "\n",
    "plt.figure(figsize=(12,6))\n",
    "length_counts.plot(kind='bar')\n",
    "plt.xlabel(\"Длина названия (слов)\")\n",
    "plt.ylabel(\"Количество названий\")\n",
    "plt.title(\"Распределение длин названий в датасете без аугментации\")\n",
    "plt.show()"
   ],
   "id": "880f2d46ad354373",
   "outputs": [
    {
     "data": {
      "text/plain": [
       "<Figure size 1200x600 with 1 Axes>"
      ],
      "image/png": "[encoded data removed]"
     },
     "metadata": {},
     "output_type": "display_data"
    }
   ],
   "execution_count": 62
  },
  {
   "metadata": {
    "ExecuteTime": {
     "end_time": "2025-09-01T08:19:06.299113Z",
     "start_time": "2025-09-01T08:19:03.497203Z"
    }
   },
   "cell_type": "code",
   "source": "train_df = pd.read_csv(\"../data/all_data_augmented/train_df.csv\")",
   "id": "26a6480b61e59baf",
   "outputs": [],
   "execution_count": 63
  },
  {
   "metadata": {
    "ExecuteTime": {
     "end_time": "2025-09-01T08:19:08.478644Z",
     "start_time": "2025-09-01T08:19:08.205831Z"
    }
   },
   "cell_type": "code",
   "source": [
    "train_df[\"title_len\"] = train_df.title.apply(lambda x: len(str(x).split()))\n",
    "\n",
    "length_counts_aug = train_df.groupby('title_len').size()\n",
    "\n",
    "plt.figure(figsize=(12,6))\n",
    "length_counts_aug.plot(kind='bar')\n",
    "plt.xlabel(\"Длина названия (слов)\")\n",
    "plt.ylabel(\"Количество названий\")\n",
    "plt.title(\"Распределение длин названий в датасете после аугментации\")\n",
    "plt.show()"
   ],
   "id": "bc7de6d12b84e6f3",
   "outputs": [
    {
     "data": {
      "text/plain": [
       "<Figure size 1200x600 with 1 Axes>"
      ],
      "image/png": "[encoded data removed]"
     },
     "metadata": {},
     "output_type": "display_data"
    }
   ],
   "execution_count": 64
  },
  {
   "metadata": {
    "ExecuteTime": {
     "end_time": "2025-09-01T08:24:00.239976Z",
     "start_time": "2025-09-01T08:23:59.757454Z"
    }
   },
   "cell_type": "code",
   "source": "val_df = pd.read_csv(\"../data/all_data_augmented/val_df.csv\")",
   "id": "bee83d7687c774f6",
   "outputs": [],
   "execution_count": 66
  },
  {
   "metadata": {
    "ExecuteTime": {
     "end_time": "2025-09-01T08:24:25.326140Z",
     "start_time": "2025-09-01T08:24:25.245166Z"
    }
   },
   "cell_type": "code",
   "source": [
    "val_df[\"title_len\"] = val_df.title.apply(lambda x: len(str(x).split()))\n",
    "\n",
    "length_counts_aug_val = val_df.groupby('title_len').size()\n",
    "\n",
    "plt.figure(figsize=(12,6))\n",
    "length_counts_aug.plot(kind='bar')\n",
    "plt.xlabel(\"Длина названия (слов)\")\n",
    "plt.ylabel(\"Количество названий\")\n",
    "plt.title(\"Распределение длин названий в val-датасете после аугментации\")\n",
    "plt.show()"
   ],
   "id": "b26c892ffdaa63ec",
   "outputs": [
    {
     "data": {
      "text/plain": [
       "<Figure size 1200x600 with 1 Axes>"
      ],
      "image/png": "[encoded data removed]"
     },
     "metadata": {},
     "output_type": "display_data"
    }
   ],
   "execution_count": 67
  },
  {
   "metadata": {
    "ExecuteTime": {
     "end_time": "2025-09-01T08:30:19.262481Z",
     "start_time": "2025-09-01T08:30:19.249283Z"
    }
   },
   "cell_type": "code",
   "source": [
    "\n",
    "fig = go.Figure()\n",
    "\n",
    "fig.add_trace(go.Bar(\n",
    "    x=length_counts.index,\n",
    "    y=length_counts.values,\n",
    "    name=\"Без аугментации\",\n",
    "    marker_color=\"blue\"\n",
    "))\n",
    "\n",
    "fig.add_trace(go.Bar(\n",
    "    x=length_counts_aug.index,\n",
    "    y=length_counts_aug.values,\n",
    "    name=\"train после аугментации\",\n",
    "    marker_color=\"orange\"\n",
    "))\n",
    "\n",
    "fig.add_trace(go.Bar(\n",
    "    x=length_counts_aug_val.index,\n",
    "    y=length_counts_aug_val.values,\n",
    "    name=\"test после аугментации\",\n",
    "    marker_color=\"green\"\n",
    "))\n",
    "\n",
    "fig.update_layout(\n",
    "    title=\"Сравнение распределения длин названий до и после аугментации\",\n",
    "    xaxis_title=\"Длина названия (слов)\",\n",
    "    yaxis_title=\"Количество названий\",\n",
    "    barmode=\"group\",\n",
    "    bargap=0.2,\n",
    "    bargroupgap=0.1,\n",
    "    width=1000,\n",
    "    height=500\n",
    ")\n",
    "\n",
    "fig.show()"
   ],
   "id": "8bc964dbf0281c82",
   "outputs": [
    {
     "data": {
      "application/vnd.plotly.v1+json": {
       "data": [
        {
         "marker": {
          "color": "blue"
         },
         "name": "Без аугментации",
         "x": {
          "dtype": "i1",
          "bdata": "AQIDBAUGBwgJCgsMDQ4PEBESExQVFhcZHR8j"
         },
         "y": {
          "dtype": "i2",
          "bdata": "ABScHoMXTg/3ChIH7QTKAm8B2ACHAF4ARwA/ACgAGAATAA0ACAAMAAQAAwACAAEAAQABAAEA"
         },
         "type": "bar"
        },
        {
         "marker": {
          "color": "orange"
         },
         "name": "train после аугментации",
         "x": {
          "dtype": "i1",
          "bdata": "AQIDBAUGBwgJCgsMDQ4PEBESExQVFhcZHR8j"
         },
         "y": {
          "dtype": "i4",
          "bdata": "7SkCALQ2AwBHkgIAiMEBAIE1AQBpzwAAU5AAAFY6AABCEwAApAwAAO8BAADbAAAAbAAAAHQAAABBAAAAKAAAABgAAAARAAAAFAAAAA4AAAAGAAAABwAAAAIAAAABAAAAAwAAAAEAAAACAAAA"
         },
         "type": "bar"
        },
        {
         "marker": {
          "color": "green"
         },
         "name": "test после аугментации",
         "x": {
          "dtype": "i1",
          "bdata": "AQIDBAUGBwgJCgsMDQ4PEBESEx0f"
         },
         "y": {
          "dtype": "i2",
          "bdata": "yQHyAk0CnwEnAc4AeABfACUAEAAMAAoACgAGAAgABQAEAAIAAQABAAEA"
         },
         "type": "bar"
        }
       ],
       "layout": {
        "template": {
         "data": {
          "histogram2dcontour": [
           {
            "type": "histogram2dcontour",
            "colorbar": {
             "outlinewidth": 0,
             "ticks": ""
            },
            "colorscale": [
             [
              0.0,
              "#0d0887"
             ],
             [
              0.1111111111111111,
              "#46039f"
             ],
             [
              0.2222222222222222,
              "#7201a8"
             ],
             [
              0.3333333333333333,
              "#9c179e"
             ],
             [
              0.4444444444444444,
              "#bd3786"
             ],
             [
              0.5555555555555556,
              "#d8576b"
             ],
             [
              0.6666666666666666,
              "#ed7953"
             ],
             [
              0.7777777777777778,
              "#fb9f3a"
             ],
             [
              0.8888888888888888,
              "#fdca26"
             ],
             [
              1.0,
              "#f0f921"
             ]
            ]
           }
          ],
          "choropleth": [
           {
            "type": "choropleth",
            "colorbar": {
             "outlinewidth": 0,
             "ticks": ""
            }
           }
          ],
          "histogram2d": [
           {
            "type": "histogram2d",
            "colorbar": {
             "outlinewidth": 0,
             "ticks": ""
            },
            "colorscale": [
             [
              0.0,
              "#0d0887"
             ],
             [
              0.1111111111111111,
              "#46039f"
             ],
             [
              0.2222222222222222,
              "#7201a8"
             ],
             [
              0.3333333333333333,
              "#9c179e"
             ],
             [
              0.4444444444444444,
              "#bd3786"
             ],
             [
              0.5555555555555556,
              "#d8576b"
             ],
             [
              0.6666666666666666,
              "#ed7953"
             ],
             [
              0.7777777777777778,
              "#fb9f3a"
             ],
             [
              0.8888888888888888,
              "#fdca26"
             ],
             [
              1.0,
              "#f0f921"
             ]
            ]
           }
          ],
          "heatmap": [
           {
            "type": "heatmap",
            "colorbar": {
             "outlinewidth": 0,
             "ticks": ""
            },
            "colorscale": [
             [
              0.0,
              "#0d0887"
             ],
             [
              0.1111111111111111,
              "#46039f"
             ],
             [
              0.2222222222222222,
              "#7201a8"
             ],
             [
              0.3333333333333333,
              "#9c179e"
             ],
             [
              0.4444444444444444,
              "#bd3786"
             ],
             [
              0.5555555555555556,
              "#d8576b"
             ],
             [
              0.6666666666666666,
              "#ed7953"
             ],
             [
              0.7777777777777778,
              "#fb9f3a"
             ],
             [
              0.8888888888888888,
              "#fdca26"
             ],
             [
              1.0,
              "#f0f921"
             ]
            ]
           }
          ],
          "contourcarpet": [
           {
            "type": "contourcarpet",
            "colorbar": {
             "outlinewidth": 0,
             "ticks": ""
            }
           }
          ],
          "contour": [
           {
            "type": "contour",
            "colorbar": {
             "outlinewidth": 0,
             "ticks": ""
            },
            "colorscale": [
             [
              0.0,
              "#0d0887"
             ],
             [
              0.1111111111111111,
              "#46039f"
             ],
             [
              0.2222222222222222,
              "#7201a8"
             ],
             [
              0.3333333333333333,
              "#9c179e"
             ],
             [
              0.4444444444444444,
              "#bd3786"
             ],
             [
              0.5555555555555556,
              "#d8576b"
             ],
             [
              0.6666666666666666,
              "#ed7953"
             ],
             [
              0.7777777777777778,
              "#fb9f3a"
             ],
             [
              0.8888888888888888,
              "#fdca26"
             ],
             [
              1.0,
              "#f0f921"
             ]
            ]
           }
          ],
          "surface": [
           {
            "type": "surface",
            "colorbar": {
             "outlinewidth": 0,
             "ticks": ""
            },
            "colorscale": [
             [
              0.0,
              "#0d0887"
             ],
             [
              0.1111111111111111,
              "#46039f"
             ],
             [
              0.2222222222222222,
              "#7201a8"
             ],
             [
              0.3333333333333333,
              "#9c179e"
             ],
             [
              0.4444444444444444,
              "#bd3786"
             ],
             [
              0.5555555555555556,
              "#d8576b"
             ],
             [
              0.6666666666666666,
              "#ed7953"
             ],
             [
              0.7777777777777778,
              "#fb9f3a"
             ],
             [
              0.8888888888888888,
              "#fdca26"
             ],
             [
              1.0,
              "#f0f921"
             ]
            ]
           }
          ],
          "mesh3d": [
           {
            "type": "mesh3d",
            "colorbar": {
             "outlinewidth": 0,
             "ticks": ""
            }
           }
          ],
          "scatter": [
           {
            "fillpattern": {
             "fillmode": "overlay",
             "size": 10,
             "solidity": 0.2
            },
            "type": "scatter"
           }
          ],
          "parcoords": [
           {
            "type": "parcoords",
            "line": {
             "colorbar": {
              "outlinewidth": 0,
              "ticks": ""
             }
            }
           }
          ],
          "scatterpolargl": [
           {
            "type": "scatterpolargl",
            "marker": {
             "colorbar": {
              "outlinewidth": 0,
              "ticks": ""
             }
            }
           }
          ],
          "bar": [
           {
            "error_x": {
             "color": "#2a3f5f"
            },
            "error_y": {
             "color": "#2a3f5f"
            },
            "marker": {
             "line": {
              "color": "#E5ECF6",
              "width": 0.5
             },
             "pattern": {
              "fillmode": "overlay",
              "size": 10,
              "solidity": 0.2
             }
            },
            "type": "bar"
           }
          ],
          "scattergeo": [
           {
            "type": "scattergeo",
            "marker": {
             "colorbar": {
              "outlinewidth": 0,
              "ticks": ""
             }
            }
           }
          ],
          "scatterpolar": [
           {
            "type": "scatterpolar",
            "marker": {
             "colorbar": {
              "outlinewidth": 0,
              "ticks": ""
             }
            }
           }
          ],
          "histogram": [
           {
            "marker": {
             "pattern": {
              "fillmode": "overlay",
              "size": 10,
              "solidity": 0.2
             }
            },
            "type": "histogram"
           }
          ],
          "scattergl": [
           {
            "type": "scattergl",
            "marker": {
             "colorbar": {
              "outlinewidth": 0,
              "ticks": ""
             }
            }
           }
          ],
          "scatter3d": [
           {
            "type": "scatter3d",
            "line": {
             "colorbar": {
              "outlinewidth": 0,
              "ticks": ""
             }
            },
            "marker": {
             "colorbar": {
              "outlinewidth": 0,
              "ticks": ""
             }
            }
           }
          ],
          "scattermap": [
           {
            "type": "scattermap",
            "marker": {
             "colorbar": {
              "outlinewidth": 0,
              "ticks": ""
             }
            }
           }
          ],
          "scattermapbox": [
           {
            "type": "scattermapbox",
            "marker": {
             "colorbar": {
              "outlinewidth": 0,
              "ticks": ""
             }
            }
           }
          ],
          "scatterternary": [
           {
            "type": "scatterternary",
            "marker": {
             "colorbar": {
              "outlinewidth": 0,
              "ticks": ""
             }
            }
           }
          ],
          "scattercarpet": [
           {
            "type": "scattercarpet",
            "marker": {
             "colorbar": {
              "outlinewidth": 0,
              "ticks": ""
             }
            }
           }
          ],
          "carpet": [
           {
            "aaxis": {
             "endlinecolor": "#2a3f5f",
             "gridcolor": "white",
             "linecolor": "white",
             "minorgridcolor": "white",
             "startlinecolor": "#2a3f5f"
            },
            "baxis": {
             "endlinecolor": "#2a3f5f",
             "gridcolor": "white",
             "linecolor": "white",
             "minorgridcolor": "white",
             "startlinecolor": "#2a3f5f"
            },
            "type": "carpet"
           }
          ],
          "table": [
           {
            "cells": {
             "fill": {
              "color": "#EBF0F8"
             },
             "line": {
              "color": "white"
             }
            },
            "header": {
             "fill": {
              "color": "#C8D4E3"
             },
             "line": {
              "color": "white"
             }
            },
            "type": "table"
           }
          ],
          "barpolar": [
           {
            "marker": {
             "line": {
              "color": "#E5ECF6",
              "width": 0.5
             },
             "pattern": {
              "fillmode": "overlay",
              "size": 10,
              "solidity": 0.2
             }
            },
            "type": "barpolar"
           }
          ],
          "pie": [
           {
            "automargin": true,
            "type": "pie"
           }
          ]
         },
         "layout": {
          "autotypenumbers": "strict",
          "colorway": [
           "#636efa",
           "#EF553B",
           "#00cc96",
           "#ab63fa",
           "#FFA15A",
           "#19d3f3",
           "#FF6692",
           "#B6E880",
           "#FF97FF",
           "#FECB52"
          ],
          "font": {
           "color": "#2a3f5f"
          },
          "hovermode": "closest",
          "hoverlabel": {
           "align": "left"
          },
          "paper_bgcolor": "white",
          "plot_bgcolor": "#E5ECF6",
          "polar": {
           "bgcolor": "#E5ECF6",
           "angularaxis": {
            "gridcolor": "white",
            "linecolor": "white",
            "ticks": ""
           },
           "radialaxis": {
            "gridcolor": "white",
            "linecolor": "white",
            "ticks": ""
           }
          },
          "ternary": {
           "bgcolor": "#E5ECF6",
           "aaxis": {
            "gridcolor": "white",
            "linecolor": "white",
            "ticks": ""
           },
           "baxis": {
            "gridcolor": "white",
            "linecolor": "white",
            "ticks": ""
           },
           "caxis": {
            "gridcolor": "white",
            "linecolor": "white",
            "ticks": ""
           }
          },
          "coloraxis": {
           "colorbar": {
            "outlinewidth": 0,
            "ticks": ""
           }
          },
          "colorscale": {
           "sequential": [
            [
             0.0,
             "#0d0887"
            ],
            [
             0.1111111111111111,
             "#46039f"
            ],
            [
             0.2222222222222222,
             "#7201a8"
            ],
            [
             0.3333333333333333,
             "#9c179e"
            ],
            [
             0.4444444444444444,
             "#bd3786"
            ],
            [
             0.5555555555555556,
             "#d8576b"
            ],
            [
             0.6666666666666666,
             "#ed7953"
            ],
            [
             0.7777777777777778,
             "#fb9f3a"
            ],
            [
             0.8888888888888888,
             "#fdca26"
            ],
            [
             1.0,
             "#f0f921"
            ]
           ],
           "sequentialminus": [
            [
             0.0,
             "#0d0887"
            ],
            [
             0.1111111111111111,
             "#46039f"
            ],
            [
             0.2222222222222222,
             "#7201a8"
            ],
            [
             0.3333333333333333,
             "#9c179e"
            ],
            [
             0.4444444444444444,
             "#bd3786"
            ],
            [
             0.5555555555555556,
             "#d8576b"
            ],
            [
             0.6666666666666666,
             "#ed7953"
            ],
            [
             0.7777777777777778,
             "#fb9f3a"
            ],
            [
             0.8888888888888888,
             "#fdca26"
            ],
            [
             1.0,
             "#f0f921"
            ]
           ],
           "diverging": [
            [
             0,
             "#8e0152"
            ],
            [
             0.1,
             "#c51b7d"
            ],
            [
             0.2,
             "#de77ae"
            ],
            [
             0.3,
             "#f1b6da"
            ],
            [
             0.4,
             "#fde0ef"
            ],
            [
             0.5,
             "#f7f7f7"
            ],
            [
             0.6,
             "#e6f5d0"
            ],
            [
             0.7,
             "#b8e186"
            ],
            [
             0.8,
             "#7fbc41"
            ],
            [
             0.9,
             "#4d9221"
            ],
            [
             1,
             "#276419"
            ]
           ]
          },
          "xaxis": {
           "gridcolor": "white",
           "linecolor": "white",
           "ticks": "",
           "title": {
            "standoff": 15
           },
           "zerolinecolor": "white",
           "automargin": true,
           "zerolinewidth": 2
          },
          "yaxis": {
           "gridcolor": "white",
           "linecolor": "white",
           "ticks": "",
           "title": {
            "standoff": 15
           },
           "zerolinecolor": "white",
           "automargin": true,
           "zerolinewidth": 2
          },
          "scene": {
           "xaxis": {
            "backgroundcolor": "#E5ECF6",
            "gridcolor": "white",
            "linecolor": "white",
            "showbackground": true,
            "ticks": "",
            "zerolinecolor": "white",
            "gridwidth": 2
           },
           "yaxis": {
            "backgroundcolor": "#E5ECF6",
            "gridcolor": "white",
            "linecolor": "white",
            "showbackground": true,
            "ticks": "",
            "zerolinecolor": "white",
            "gridwidth": 2
           },
           "zaxis": {
            "backgroundcolor": "#E5ECF6",
            "gridcolor": "white",
            "linecolor": "white",
            "showbackground": true,
            "ticks": "",
            "zerolinecolor": "white",
            "gridwidth": 2
           }
          },
          "shapedefaults": {
           "line": {
            "color": "#2a3f5f"
           }
          },
          "annotationdefaults": {
           "arrowcolor": "#2a3f5f",
           "arrowhead": 0,
           "arrowwidth": 1
          },
          "geo": {
           "bgcolor": "white",
           "landcolor": "#E5ECF6",
           "subunitcolor": "white",
           "showland": true,
           "showlakes": true,
           "lakecolor": "white"
          },
          "title": {
           "x": 0.05
          },
          "mapbox": {
           "style": "light"
          }
         }
        },
        "title": {
         "text": "Сравнение распределения длин названий до и после аугментации"
        },
        "xaxis": {
         "title": {
          "text": "Длина названия (слов)"
         }
        },
        "yaxis": {
         "title": {
          "text": "Количество названий"
         }
        },
        "barmode": "group",
        "bargap": 0.2,
        "bargroupgap": 0.1,
        "width": 1000,
        "height": 500
       },
       "config": {
        "plotlyServerURL": "https://plot.ly"
       }
      }
     },
     "metadata": {},
     "output_type": "display_data"
    }
   ],
   "execution_count": 74
  },
  {
   "metadata": {},
   "cell_type": "markdown",
   "source": "# Удалю строки, в которых длина названия > 10",
   "id": "b6258d75492455b6"
  },
  {
   "metadata": {
    "ExecuteTime": {
     "end_time": "2025-09-02T05:43:13.592012Z",
     "start_time": "2025-09-02T05:43:13.579089Z"
    }
   },
   "cell_type": "code",
   "source": "data",
   "id": "c67c9de14dcecfae",
   "outputs": [
    {
     "data": {
      "text/plain": [
       "                                                    text  \\\n",
       "0      ­­… сказки осенних вечеров ...  монохромные во...   \n",
       "1      здравствуйте, вы установили мессенджер max, по...   \n",
       "2      радиоспектакль по роману.англия времен царство...   \n",
       "3      где можно найти наиболее полный литературный о...   \n",
       "4      новый, адаптированный перевод алексея козлова ...   \n",
       "...                                                  ...   \n",
       "30555  борис житков увлекался астрономией и фотографи...   \n",
       "30556  «этот сон видел бедный макар, который загнал с...   \n",
       "30557  раннее утро предвещало жаркий день. солнечные ...   \n",
       "30558  святки – удивительный период времени: один год...   \n",
       "30559  авантюрист - передовой юрист бредакция - руков...   \n",
       "\n",
       "                                              title  title_len  \n",
       "0                                   время - октябрь          3  \n",
       "1                                         переписка          1  \n",
       "2      айвенго спектакль-я. ричард – львиное сердце          6  \n",
       "3                                          калевала          1  \n",
       "4      янки из коннектикута при дворе короля артура          7  \n",
       "...                                             ...        ...  \n",
       "30555                                    что бывало          2  \n",
       "30556                                    сон макара          2  \n",
       "30557              финал. золотое солнце правосудия          4  \n",
       "30558                             святочные истории          2  \n",
       "30559                      краткий снговый словарик          3  \n",
       "\n",
       "[30560 rows x 3 columns]"
      ],
      "text/html": [
       "<div>\n",
       "<style scoped>\n",
       "    .dataframe tbody tr th:only-of-type {\n",
       "        vertical-align: middle;\n",
       "    }\n",
       "\n",
       "    .dataframe tbody tr th {\n",
       "        vertical-align: top;\n",
       "    }\n",
       "\n",
       "    .dataframe thead th {\n",
       "        text-align: right;\n",
       "    }\n",
       "</style>\n",
       "<table border=\"1\" class=\"dataframe\">\n",
       "  <thead>\n",
       "    <tr style=\"text-align: right;\">\n",
       "      <th></th>\n",
       "      <th>text</th>\n",
       "      <th>title</th>\n",
       "      <th>title_len</th>\n",
       "    </tr>\n",
       "  </thead>\n",
       "  <tbody>\n",
       "    <tr>\n",
       "      <th>0</th>\n",
       "      <td>­­… сказки осенних вечеров ...  монохромные во...</td>\n",
       "      <td>время - октябрь</td>\n",
       "      <td>3</td>\n",
       "    </tr>\n",
       "    <tr>\n",
       "      <th>1</th>\n",
       "      <td>здравствуйте, вы установили мессенджер max, по...</td>\n",
       "      <td>переписка</td>\n",
       "      <td>1</td>\n",
       "    </tr>\n",
       "    <tr>\n",
       "      <th>2</th>\n",
       "      <td>радиоспектакль по роману.англия времен царство...</td>\n",
       "      <td>айвенго спектакль-я. ричард – львиное сердце</td>\n",
       "      <td>6</td>\n",
       "    </tr>\n",
       "    <tr>\n",
       "      <th>3</th>\n",
       "      <td>где можно найти наиболее полный литературный о...</td>\n",
       "      <td>калевала</td>\n",
       "      <td>1</td>\n",
       "    </tr>\n",
       "    <tr>\n",
       "      <th>4</th>\n",
       "      <td>новый, адаптированный перевод алексея козлова ...</td>\n",
       "      <td>янки из коннектикута при дворе короля артура</td>\n",
       "      <td>7</td>\n",
       "    </tr>\n",
       "    <tr>\n",
       "      <th>...</th>\n",
       "      <td>...</td>\n",
       "      <td>...</td>\n",
       "      <td>...</td>\n",
       "    </tr>\n",
       "    <tr>\n",
       "      <th>30555</th>\n",
       "      <td>борис житков увлекался астрономией и фотографи...</td>\n",
       "      <td>что бывало</td>\n",
       "      <td>2</td>\n",
       "    </tr>\n",
       "    <tr>\n",
       "      <th>30556</th>\n",
       "      <td>«этот сон видел бедный макар, который загнал с...</td>\n",
       "      <td>сон макара</td>\n",
       "      <td>2</td>\n",
       "    </tr>\n",
       "    <tr>\n",
       "      <th>30557</th>\n",
       "      <td>раннее утро предвещало жаркий день. солнечные ...</td>\n",
       "      <td>финал. золотое солнце правосудия</td>\n",
       "      <td>4</td>\n",
       "    </tr>\n",
       "    <tr>\n",
       "      <th>30558</th>\n",
       "      <td>святки – удивительный период времени: один год...</td>\n",
       "      <td>святочные истории</td>\n",
       "      <td>2</td>\n",
       "    </tr>\n",
       "    <tr>\n",
       "      <th>30559</th>\n",
       "      <td>авантюрист - передовой юрист бредакция - руков...</td>\n",
       "      <td>краткий снговый словарик</td>\n",
       "      <td>3</td>\n",
       "    </tr>\n",
       "  </tbody>\n",
       "</table>\n",
       "<p>30560 rows × 3 columns</p>\n",
       "</div>"
      ]
     },
     "execution_count": 83,
     "metadata": {},
     "output_type": "execute_result"
    }
   ],
   "execution_count": 83
  },
  {
   "metadata": {
    "ExecuteTime": {
     "end_time": "2025-09-02T05:43:56.387237Z",
     "start_time": "2025-09-02T05:43:56.320798Z"
    }
   },
   "cell_type": "code",
   "source": [
    "data = data[data.title_len <= 10].reset_index(drop=True)\n",
    "max(data.title_len)"
   ],
   "id": "49f00b49c8a55530",
   "outputs": [
    {
     "data": {
      "text/plain": [
       "10"
      ]
     },
     "execution_count": 84,
     "metadata": {},
     "output_type": "execute_result"
    }
   ],
   "execution_count": 84
  },
  {
   "metadata": {
    "ExecuteTime": {
     "end_time": "2025-09-02T05:44:22.749258Z",
     "start_time": "2025-09-02T05:44:22.742232Z"
    }
   },
   "cell_type": "code",
   "source": "length_counts = data.groupby(\"title_len\").size()",
   "id": "e066c3676377388b",
   "outputs": [],
   "execution_count": 85
  },
  {
   "metadata": {
    "ExecuteTime": {
     "end_time": "2025-09-02T05:44:57.694620Z",
     "start_time": "2025-09-02T05:44:57.680841Z"
    }
   },
   "cell_type": "code",
   "source": [
    "fig = go.Figure()\n",
    "\n",
    "fig.add_trace(go.Bar(\n",
    "    x=length_counts.index,\n",
    "    y=length_counts.values,\n",
    "    name=\"Датасет после чистки\",\n",
    "))\n",
    "\n",
    "fig.show()"
   ],
   "id": "22d09b69c7dab40a",
   "outputs": [
    {
     "data": {
      "application/vnd.plotly.v1+json": {
       "data": [
        {
         "name": "Датасет после чистки",
         "x": {
          "dtype": "i1",
          "bdata": "AQIDBAUGBwgJCg=="
         },
         "y": {
          "dtype": "i2",
          "bdata": "ABScHoMXTg/3ChIH7QTKAm8B2AA="
         },
         "type": "bar"
        }
       ],
       "layout": {
        "template": {
         "data": {
          "histogram2dcontour": [
           {
            "type": "histogram2dcontour",
            "colorbar": {
             "outlinewidth": 0,
             "ticks": ""
            },
            "colorscale": [
             [
              0.0,
              "#0d0887"
             ],
             [
              0.1111111111111111,
              "#46039f"
             ],
             [
              0.2222222222222222,
              "#7201a8"
             ],
             [
              0.3333333333333333,
              "#9c179e"
             ],
             [
              0.4444444444444444,
              "#bd3786"
             ],
             [
              0.5555555555555556,
              "#d8576b"
             ],
             [
              0.6666666666666666,
              "#ed7953"
             ],
             [
              0.7777777777777778,
              "#fb9f3a"
             ],
             [
              0.8888888888888888,
              "#fdca26"
             ],
             [
              1.0,
              "#f0f921"
             ]
            ]
           }
          ],
          "choropleth": [
           {
            "type": "choropleth",
            "colorbar": {
             "outlinewidth": 0,
             "ticks": ""
            }
           }
          ],
          "histogram2d": [
           {
            "type": "histogram2d",
            "colorbar": {
             "outlinewidth": 0,
             "ticks": ""
            },
            "colorscale": [
             [
              0.0,
              "#0d0887"
             ],
             [
              0.1111111111111111,
              "#46039f"
             ],
             [
              0.2222222222222222,
              "#7201a8"
             ],
             [
              0.3333333333333333,
              "#9c179e"
             ],
             [
              0.4444444444444444,
              "#bd3786"
             ],
             [
              0.5555555555555556,
              "#d8576b"
             ],
             [
              0.6666666666666666,
              "#ed7953"
             ],
             [
              0.7777777777777778,
              "#fb9f3a"
             ],
             [
              0.8888888888888888,
              "#fdca26"
             ],
             [
              1.0,
              "#f0f921"
             ]
            ]
           }
          ],
          "heatmap": [
           {
            "type": "heatmap",
            "colorbar": {
             "outlinewidth": 0,
             "ticks": ""
            },
            "colorscale": [
             [
              0.0,
              "#0d0887"
             ],
             [
              0.1111111111111111,
              "#46039f"
             ],
             [
              0.2222222222222222,
              "#7201a8"
             ],
             [
              0.3333333333333333,
              "#9c179e"
             ],
             [
              0.4444444444444444,
              "#bd3786"
             ],
             [
              0.5555555555555556,
              "#d8576b"
             ],
             [
              0.6666666666666666,
              "#ed7953"
             ],
             [
              0.7777777777777778,
              "#fb9f3a"
             ],
             [
              0.8888888888888888,
              "#fdca26"
             ],
             [
              1.0,
              "#f0f921"
             ]
            ]
           }
          ],
          "contourcarpet": [
           {
            "type": "contourcarpet",
            "colorbar": {
             "outlinewidth": 0,
             "ticks": ""
            }
           }
          ],
          "contour": [
           {
            "type": "contour",
            "colorbar": {
             "outlinewidth": 0,
             "ticks": ""
            },
            "colorscale": [
             [
              0.0,
              "#0d0887"
             ],
             [
              0.1111111111111111,
              "#46039f"
             ],
             [
              0.2222222222222222,
              "#7201a8"
             ],
             [
              0.3333333333333333,
              "#9c179e"
             ],
             [
              0.4444444444444444,
              "#bd3786"
             ],
             [
              0.5555555555555556,
              "#d8576b"
             ],
             [
              0.6666666666666666,
              "#ed7953"
             ],
             [
              0.7777777777777778,
              "#fb9f3a"
             ],
             [
              0.8888888888888888,
              "#fdca26"
             ],
             [
              1.0,
              "#f0f921"
             ]
            ]
           }
          ],
          "surface": [
           {
            "type": "surface",
            "colorbar": {
             "outlinewidth": 0,
             "ticks": ""
            },
            "colorscale": [
             [
              0.0,
              "#0d0887"
             ],
             [
              0.1111111111111111,
              "#46039f"
             ],
             [
              0.2222222222222222,
              "#7201a8"
             ],
             [
              0.3333333333333333,
              "#9c179e"
             ],
             [
              0.4444444444444444,
              "#bd3786"
             ],
             [
              0.5555555555555556,
              "#d8576b"
             ],
             [
              0.6666666666666666,
              "#ed7953"
             ],
             [
              0.7777777777777778,
              "#fb9f3a"
             ],
             [
              0.8888888888888888,
              "#fdca26"
             ],
             [
              1.0,
              "#f0f921"
             ]
            ]
           }
          ],
          "mesh3d": [
           {
            "type": "mesh3d",
            "colorbar": {
             "outlinewidth": 0,
             "ticks": ""
            }
           }
          ],
          "scatter": [
           {
            "fillpattern": {
             "fillmode": "overlay",
             "size": 10,
             "solidity": 0.2
            },
            "type": "scatter"
           }
          ],
          "parcoords": [
           {
            "type": "parcoords",
            "line": {
             "colorbar": {
              "outlinewidth": 0,
              "ticks": ""
             }
            }
           }
          ],
          "scatterpolargl": [
           {
            "type": "scatterpolargl",
            "marker": {
             "colorbar": {
              "outlinewidth": 0,
              "ticks": ""
             }
            }
           }
          ],
          "bar": [
           {
            "error_x": {
             "color": "#2a3f5f"
            },
            "error_y": {
             "color": "#2a3f5f"
            },
            "marker": {
             "line": {
              "color": "#E5ECF6",
              "width": 0.5
             },
             "pattern": {
              "fillmode": "overlay",
              "size": 10,
              "solidity": 0.2
             }
            },
            "type": "bar"
           }
          ],
          "scattergeo": [
           {
            "type": "scattergeo",
            "marker": {
             "colorbar": {
              "outlinewidth": 0,
              "ticks": ""
             }
            }
           }
          ],
          "scatterpolar": [
           {
            "type": "scatterpolar",
            "marker": {
             "colorbar": {
              "outlinewidth": 0,
              "ticks": ""
             }
            }
           }
          ],
          "histogram": [
           {
            "marker": {
             "pattern": {
              "fillmode": "overlay",
              "size": 10,
              "solidity": 0.2
             }
            },
            "type": "histogram"
           }
          ],
          "scattergl": [
           {
            "type": "scattergl",
            "marker": {
             "colorbar": {
              "outlinewidth": 0,
              "ticks": ""
             }
            }
           }
          ],
          "scatter3d": [
           {
            "type": "scatter3d",
            "line": {
             "colorbar": {
              "outlinewidth": 0,
              "ticks": ""
             }
            },
            "marker": {
             "colorbar": {
              "outlinewidth": 0,
              "ticks": ""
             }
            }
           }
          ],
          "scattermap": [
           {
            "type": "scattermap",
            "marker": {
             "colorbar": {
              "outlinewidth": 0,
              "ticks": ""
             }
            }
           }
          ],
          "scattermapbox": [
           {
            "type": "scattermapbox",
            "marker": {
             "colorbar": {
              "outlinewidth": 0,
              "ticks": ""
             }
            }
           }
          ],
          "scatterternary": [
           {
            "type": "scatterternary",
            "marker": {
             "colorbar": {
              "outlinewidth": 0,
              "ticks": ""
             }
            }
           }
          ],
          "scattercarpet": [
           {
            "type": "scattercarpet",
            "marker": {
             "colorbar": {
              "outlinewidth": 0,
              "ticks": ""
             }
            }
           }
          ],
          "carpet": [
           {
            "aaxis": {
             "endlinecolor": "#2a3f5f",
             "gridcolor": "white",
             "linecolor": "white",
             "minorgridcolor": "white",
             "startlinecolor": "#2a3f5f"
            },
            "baxis": {
             "endlinecolor": "#2a3f5f",
             "gridcolor": "white",
             "linecolor": "white",
             "minorgridcolor": "white",
             "startlinecolor": "#2a3f5f"
            },
            "type": "carpet"
           }
          ],
          "table": [
           {
            "cells": {
             "fill": {
              "color": "#EBF0F8"
             },
             "line": {
              "color": "white"
             }
            },
            "header": {
             "fill": {
              "color": "#C8D4E3"
             },
             "line": {
              "color": "white"
             }
            },
            "type": "table"
           }
          ],
          "barpolar": [
           {
            "marker": {
             "line": {
              "color": "#E5ECF6",
              "width": 0.5
             },
             "pattern": {
              "fillmode": "overlay",
              "size": 10,
              "solidity": 0.2
             }
            },
            "type": "barpolar"
           }
          ],
          "pie": [
           {
            "automargin": true,
            "type": "pie"
           }
          ]
         },
         "layout": {
          "autotypenumbers": "strict",
          "colorway": [
           "#636efa",
           "#EF553B",
           "#00cc96",
           "#ab63fa",
           "#FFA15A",
           "#19d3f3",
           "#FF6692",
           "#B6E880",
           "#FF97FF",
           "#FECB52"
          ],
          "font": {
           "color": "#2a3f5f"
          },
          "hovermode": "closest",
          "hoverlabel": {
           "align": "left"
          },
          "paper_bgcolor": "white",
          "plot_bgcolor": "#E5ECF6",
          "polar": {
           "bgcolor": "#E5ECF6",
           "angularaxis": {
            "gridcolor": "white",
            "linecolor": "white",
            "ticks": ""
           },
           "radialaxis": {
            "gridcolor": "white",
            "linecolor": "white",
            "ticks": ""
           }
          },
          "ternary": {
           "bgcolor": "#E5ECF6",
           "aaxis": {
            "gridcolor": "white",
            "linecolor": "white",
            "ticks": ""
           },
           "baxis": {
            "gridcolor": "white",
            "linecolor": "white",
            "ticks": ""
           },
           "caxis": {
            "gridcolor": "white",
            "linecolor": "white",
            "ticks": ""
           }
          },
          "coloraxis": {
           "colorbar": {
            "outlinewidth": 0,
            "ticks": ""
           }
          },
          "colorscale": {
           "sequential": [
            [
             0.0,
             "#0d0887"
            ],
            [
             0.1111111111111111,
             "#46039f"
            ],
            [
             0.2222222222222222,
             "#7201a8"
            ],
            [
             0.3333333333333333,
             "#9c179e"
            ],
            [
             0.4444444444444444,
             "#bd3786"
            ],
            [
             0.5555555555555556,
             "#d8576b"
            ],
            [
             0.6666666666666666,
             "#ed7953"
            ],
            [
             0.7777777777777778,
             "#fb9f3a"
            ],
            [
             0.8888888888888888,
             "#fdca26"
            ],
            [
             1.0,
             "#f0f921"
            ]
           ],
           "sequentialminus": [
            [
             0.0,
             "#0d0887"
            ],
            [
             0.1111111111111111,
             "#46039f"
            ],
            [
             0.2222222222222222,
             "#7201a8"
            ],
            [
             0.3333333333333333,
             "#9c179e"
            ],
            [
             0.4444444444444444,
             "#bd3786"
            ],
            [
             0.5555555555555556,
             "#d8576b"
            ],
            [
             0.6666666666666666,
             "#ed7953"
            ],
            [
             0.7777777777777778,
             "#fb9f3a"
            ],
            [
             0.8888888888888888,
             "#fdca26"
            ],
            [
             1.0,
             "#f0f921"
            ]
           ],
           "diverging": [
            [
             0,
             "#8e0152"
            ],
            [
             0.1,
             "#c51b7d"
            ],
            [
             0.2,
             "#de77ae"
            ],
            [
             0.3,
             "#f1b6da"
            ],
            [
             0.4,
             "#fde0ef"
            ],
            [
             0.5,
             "#f7f7f7"
            ],
            [
             0.6,
             "#e6f5d0"
            ],
            [
             0.7,
             "#b8e186"
            ],
            [
             0.8,
             "#7fbc41"
            ],
            [
             0.9,
             "#4d9221"
            ],
            [
             1,
             "#276419"
            ]
           ]
          },
          "xaxis": {
           "gridcolor": "white",
           "linecolor": "white",
           "ticks": "",
           "title": {
            "standoff": 15
           },
           "zerolinecolor": "white",
           "automargin": true,
           "zerolinewidth": 2
          },
          "yaxis": {
           "gridcolor": "white",
           "linecolor": "white",
           "ticks": "",
           "title": {
            "standoff": 15
           },
           "zerolinecolor": "white",
           "automargin": true,
           "zerolinewidth": 2
          },
          "scene": {
           "xaxis": {
            "backgroundcolor": "#E5ECF6",
            "gridcolor": "white",
            "linecolor": "white",
            "showbackground": true,
            "ticks": "",
            "zerolinecolor": "white",
            "gridwidth": 2
           },
           "yaxis": {
            "backgroundcolor": "#E5ECF6",
            "gridcolor": "white",
            "linecolor": "white",
            "showbackground": true,
            "ticks": "",
            "zerolinecolor": "white",
            "gridwidth": 2
           },
           "zaxis": {
            "backgroundcolor": "#E5ECF6",
            "gridcolor": "white",
            "linecolor": "white",
            "showbackground": true,
            "ticks": "",
            "zerolinecolor": "white",
            "gridwidth": 2
           }
          },
          "shapedefaults": {
           "line": {
            "color": "#2a3f5f"
           }
          },
          "annotationdefaults": {
           "arrowcolor": "#2a3f5f",
           "arrowhead": 0,
           "arrowwidth": 1
          },
          "geo": {
           "bgcolor": "white",
           "landcolor": "#E5ECF6",
           "subunitcolor": "white",
           "showland": true,
           "showlakes": true,
           "lakecolor": "white"
          },
          "title": {
           "x": 0.05
          },
          "mapbox": {
           "style": "light"
          }
         }
        }
       },
       "config": {
        "plotlyServerURL": "https://plot.ly"
       }
      }
     },
     "metadata": {},
     "output_type": "display_data"
    }
   ],
   "execution_count": 86
  },
  {
   "metadata": {
    "ExecuteTime": {
     "end_time": "2025-09-02T05:46:00.926947Z",
     "start_time": "2025-09-02T05:46:00.918138Z"
    }
   },
   "cell_type": "code",
   "source": "data.drop(columns=[\"title_len\"], inplace=True)",
   "id": "51c71a1796bcb753",
   "outputs": [],
   "execution_count": 87
  },
  {
   "metadata": {
    "ExecuteTime": {
     "end_time": "2025-09-02T05:46:06.115102Z",
     "start_time": "2025-09-02T05:46:06.075020Z"
    }
   },
   "cell_type": "code",
   "source": "data.describe()",
   "id": "babca00b5a349b3",
   "outputs": [
    {
     "data": {
      "text/plain": [
       "                                                     text  \\\n",
       "count                                               30068   \n",
       "unique                                              30068   \n",
       "top     ­­… сказки осенних вечеров ...  монохромные во...   \n",
       "freq                                                    1   \n",
       "\n",
       "                                  title  \n",
       "count                             30068  \n",
       "unique                            27314  \n",
       "top     классика зарубежного рассказа №  \n",
       "freq                                 25  "
      ],
      "text/html": [
       "<div>\n",
       "<style scoped>\n",
       "    .dataframe tbody tr th:only-of-type {\n",
       "        vertical-align: middle;\n",
       "    }\n",
       "\n",
       "    .dataframe tbody tr th {\n",
       "        vertical-align: top;\n",
       "    }\n",
       "\n",
       "    .dataframe thead th {\n",
       "        text-align: right;\n",
       "    }\n",
       "</style>\n",
       "<table border=\"1\" class=\"dataframe\">\n",
       "  <thead>\n",
       "    <tr style=\"text-align: right;\">\n",
       "      <th></th>\n",
       "      <th>text</th>\n",
       "      <th>title</th>\n",
       "    </tr>\n",
       "  </thead>\n",
       "  <tbody>\n",
       "    <tr>\n",
       "      <th>count</th>\n",
       "      <td>30068</td>\n",
       "      <td>30068</td>\n",
       "    </tr>\n",
       "    <tr>\n",
       "      <th>unique</th>\n",
       "      <td>30068</td>\n",
       "      <td>27314</td>\n",
       "    </tr>\n",
       "    <tr>\n",
       "      <th>top</th>\n",
       "      <td>­­… сказки осенних вечеров ...  монохромные во...</td>\n",
       "      <td>классика зарубежного рассказа №</td>\n",
       "    </tr>\n",
       "    <tr>\n",
       "      <th>freq</th>\n",
       "      <td>1</td>\n",
       "      <td>25</td>\n",
       "    </tr>\n",
       "  </tbody>\n",
       "</table>\n",
       "</div>"
      ]
     },
     "execution_count": 88,
     "metadata": {},
     "output_type": "execute_result"
    }
   ],
   "execution_count": 88
  },
  {
   "metadata": {
    "ExecuteTime": {
     "end_time": "2025-09-02T05:46:53.098011Z",
     "start_time": "2025-09-02T05:46:49.995081Z"
    }
   },
   "cell_type": "code",
   "source": "data.to_csv(\"../data/clean_data_aug/all_data.csv\", index=False)",
   "id": "b194056a08c4f818",
   "outputs": [],
   "execution_count": 89
  }
 ],
 "metadata": {
  "kernelspec": {
   "display_name": "Python 3",
   "language": "python",
   "name": "python3"
  },
  "language_info": {
   "codemirror_mode": {
    "name": "ipython",
    "version": 2
   },
   "file_extension": ".py",
   "mimetype": "text/x-python",
   "name": "python",
   "nbconvert_exporter": "python",
   "pygments_lexer": "ipython2",
   "version": "2.7.6"
  }
 },
 "nbformat": 4,
 "nbformat_minor": 5
}
