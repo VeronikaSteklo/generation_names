{
 "cells": [
  {
   "metadata": {},
   "cell_type": "markdown",
   "source": "# Импорт библиотек",
   "id": "fa04ffd06953183d"
  },
  {
   "cell_type": "code",
   "id": "initial_id",
   "metadata": {
    "collapsed": true,
    "ExecuteTime": {
     "end_time": "2025-10-19T06:41:43.622628Z",
     "start_time": "2025-10-19T06:41:43.620394Z"
    }
   },
   "source": [
    "import json\n",
    "import re\n",
    "\n",
    "import pandas as pd\n",
    "\n",
    "import matplotlib.pyplot as plt\n",
    "from pandas import DataFrame\n"
   ],
   "outputs": [],
   "execution_count": 62
  },
  {
   "metadata": {},
   "cell_type": "markdown",
   "source": "# Объединим все данные в один датасет",
   "id": "3446386acebec3bc"
  },
  {
   "metadata": {
    "ExecuteTime": {
     "end_time": "2025-10-19T06:41:43.634840Z",
     "start_time": "2025-10-19T06:41:43.632789Z"
    }
   },
   "cell_type": "code",
   "source": [
    "def open_json(input_file: str) -> dict:\n",
    "    with open(input_file) as json_file:\n",
    "        data = json.load(json_file)\n",
    "    return data"
   ],
   "id": "8d47cb060bcec467",
   "outputs": [],
   "execution_count": 63
  },
  {
   "metadata": {
    "ExecuteTime": {
     "end_time": "2025-10-19T06:41:43.639286Z",
     "start_time": "2025-10-19T06:41:43.637348Z"
    }
   },
   "cell_type": "code",
   "source": [
    "def json_to_csv_lp(json_data: dict) -> DataFrame:\n",
    "    rows = []\n",
    "    for category, works in json_data.items():\n",
    "        for author, work_data in works.items():\n",
    "            rows.append({\n",
    "                \"title\": work_data.get(\"title\", \"\"),\n",
    "                \"text\": work_data.get(\"text\", \"\")\n",
    "            })\n",
    "\n",
    "    df = pd.DataFrame(rows)\n",
    "    return df"
   ],
   "id": "9ce0d545f7851a56",
   "outputs": [],
   "execution_count": 64
  },
  {
   "metadata": {
    "ExecuteTime": {
     "end_time": "2025-10-19T06:41:43.642798Z",
     "start_time": "2025-10-19T06:41:43.641171Z"
    }
   },
   "cell_type": "code",
   "source": [
    "def json_to_csv(json_data: dict) -> DataFrame:\n",
    "    rows = []\n",
    "    for title, text in json_data.items():\n",
    "        rows.append({\n",
    "            \"title\": title,\n",
    "            \"text\": text\n",
    "        })\n",
    "\n",
    "    df = pd.DataFrame(rows)\n",
    "    return df"
   ],
   "id": "1033f3d20cdbe941",
   "outputs": [],
   "execution_count": 65
  },
  {
   "metadata": {},
   "cell_type": "markdown",
   "source": "clean_data",
   "id": "f645ee631ffdc7b3"
  },
  {
   "metadata": {
    "ExecuteTime": {
     "end_time": "2025-10-19T06:41:45.549460Z",
     "start_time": "2025-10-19T06:41:43.644700Z"
    }
   },
   "cell_type": "code",
   "source": [
    "briefly = open_json(\"../data/temp_data/json/briefly.json\")\n",
    "litprichal = open_json(\"../data/temp_data/json/data_litprichal.json\")\n",
    "proza_ru = open_json(\"../data/temp_data/json/data_proza_ru.json\")\n",
    "litres = open_json(\"../data/temp_data/json/litres.json\")"
   ],
   "id": "973a668e2263d146",
   "outputs": [],
   "execution_count": 66
  },
  {
   "metadata": {
    "ExecuteTime": {
     "end_time": "2025-10-19T06:41:45.563083Z",
     "start_time": "2025-10-19T06:41:45.551927Z"
    }
   },
   "cell_type": "code",
   "source": [
    "briefly = json_to_csv(briefly)\n",
    "litprichal = json_to_csv_lp(litprichal)\n",
    "proza_ru = json_to_csv_lp(proza_ru)\n",
    "litres = json_to_csv(litres)"
   ],
   "id": "cad7a1639f975bc6",
   "outputs": [],
   "execution_count": 67
  },
  {
   "metadata": {
    "ExecuteTime": {
     "end_time": "2025-10-19T06:41:45.568332Z",
     "start_time": "2025-10-19T06:41:45.566040Z"
    }
   },
   "cell_type": "code",
   "source": "data = pd.concat([briefly, litprichal, proza_ru, litres], ignore_index=True)",
   "id": "8214f031d5dc68a5",
   "outputs": [],
   "execution_count": 68
  },
  {
   "metadata": {
    "ExecuteTime": {
     "end_time": "2025-10-19T06:41:45.572682Z",
     "start_time": "2025-10-19T06:41:45.570060Z"
    }
   },
   "cell_type": "code",
   "source": "data",
   "id": "179ac0a6923c970e",
   "outputs": [
    {
     "data": {
      "text/plain": [
       "                                               title  \\\n",
       "0      Житие протопопа Аввакума, им самим написанное   \n",
       "1        Переписка Андрея Курбского с Иваном Грозным   \n",
       "2                          Житие Сергия Радонежского   \n",
       "3               Повесть о Петре и Февронии Муромских   \n",
       "4                          Моление Даниила Заточника   \n",
       "...                                              ...   \n",
       "32787         Мифические монстры и места их обитания   \n",
       "32788        Легенда о страшном Змее и наглой девице   \n",
       "32789                             Сказки темной Руси   \n",
       "32790                             Сезам, откройся!!!   \n",
       "32791                                         Допрос   \n",
       "\n",
       "                                                    text  \n",
       "0      Протопоп Аввакум написал житие по благословени...  \n",
       "1      Князь Андрей Курбский — один из лучших воевод ...  \n",
       "2      Преподобный Сергий родился в Тверской земле, в...  \n",
       "3      В городе Муроме правил князь Павел. К его жене...  \n",
       "4      «Моление», как и многие другие произведения др...  \n",
       "...                                                  ...  \n",
       "32787  В этой увлекательной и познавательной книге ав...  \n",
       "32788  Всё пошло не так: девица явилась сама в змеево...  \n",
       "32789  Гуляли, значит, по матушке Руси три статных мо...  \n",
       "32790  «– Вы начинаете стареть, Иоганн, – ворчливо ск...  \n",
       "32791  «Посаженный в Революционный трибунал, помещавш...  \n",
       "\n",
       "[32792 rows x 2 columns]"
      ],
      "text/html": [
       "<div>\n",
       "<style scoped>\n",
       "    .dataframe tbody tr th:only-of-type {\n",
       "        vertical-align: middle;\n",
       "    }\n",
       "\n",
       "    .dataframe tbody tr th {\n",
       "        vertical-align: top;\n",
       "    }\n",
       "\n",
       "    .dataframe thead th {\n",
       "        text-align: right;\n",
       "    }\n",
       "</style>\n",
       "<table border=\"1\" class=\"dataframe\">\n",
       "  <thead>\n",
       "    <tr style=\"text-align: right;\">\n",
       "      <th></th>\n",
       "      <th>title</th>\n",
       "      <th>text</th>\n",
       "    </tr>\n",
       "  </thead>\n",
       "  <tbody>\n",
       "    <tr>\n",
       "      <th>0</th>\n",
       "      <td>Житие протопопа Аввакума, им самим написанное</td>\n",
       "      <td>Протопоп Аввакум написал житие по благословени...</td>\n",
       "    </tr>\n",
       "    <tr>\n",
       "      <th>1</th>\n",
       "      <td>Переписка Андрея Курбского с Иваном Грозным</td>\n",
       "      <td>Князь Андрей Курбский — один из лучших воевод ...</td>\n",
       "    </tr>\n",
       "    <tr>\n",
       "      <th>2</th>\n",
       "      <td>Житие Сергия Радонежского</td>\n",
       "      <td>Преподобный Сергий родился в Тверской земле, в...</td>\n",
       "    </tr>\n",
       "    <tr>\n",
       "      <th>3</th>\n",
       "      <td>Повесть о Петре и Февронии Муромских</td>\n",
       "      <td>В городе Муроме правил князь Павел. К его жене...</td>\n",
       "    </tr>\n",
       "    <tr>\n",
       "      <th>4</th>\n",
       "      <td>Моление Даниила Заточника</td>\n",
       "      <td>«Моление», как и многие другие произведения др...</td>\n",
       "    </tr>\n",
       "    <tr>\n",
       "      <th>...</th>\n",
       "      <td>...</td>\n",
       "      <td>...</td>\n",
       "    </tr>\n",
       "    <tr>\n",
       "      <th>32787</th>\n",
       "      <td>Мифические монстры и места их обитания</td>\n",
       "      <td>В этой увлекательной и познавательной книге ав...</td>\n",
       "    </tr>\n",
       "    <tr>\n",
       "      <th>32788</th>\n",
       "      <td>Легенда о страшном Змее и наглой девице</td>\n",
       "      <td>Всё пошло не так: девица явилась сама в змеево...</td>\n",
       "    </tr>\n",
       "    <tr>\n",
       "      <th>32789</th>\n",
       "      <td>Сказки темной Руси</td>\n",
       "      <td>Гуляли, значит, по матушке Руси три статных мо...</td>\n",
       "    </tr>\n",
       "    <tr>\n",
       "      <th>32790</th>\n",
       "      <td>Сезам, откройся!!!</td>\n",
       "      <td>«– Вы начинаете стареть, Иоганн, – ворчливо ск...</td>\n",
       "    </tr>\n",
       "    <tr>\n",
       "      <th>32791</th>\n",
       "      <td>Допрос</td>\n",
       "      <td>«Посаженный в Революционный трибунал, помещавш...</td>\n",
       "    </tr>\n",
       "  </tbody>\n",
       "</table>\n",
       "<p>32792 rows × 2 columns</p>\n",
       "</div>"
      ]
     },
     "execution_count": 69,
     "metadata": {},
     "output_type": "execute_result"
    }
   ],
   "execution_count": 69
  },
  {
   "metadata": {
    "ExecuteTime": {
     "end_time": "2025-10-19T06:41:45.576329Z",
     "start_time": "2025-10-19T06:41:45.574533Z"
    }
   },
   "cell_type": "code",
   "source": "len(briefly) + len(litprichal) + len(proza_ru) + len(litres) - len(data)",
   "id": "4d0252d74c27f838",
   "outputs": [
    {
     "data": {
      "text/plain": [
       "0"
      ]
     },
     "execution_count": 70,
     "metadata": {},
     "output_type": "execute_result"
    }
   ],
   "execution_count": 70
  },
  {
   "metadata": {},
   "cell_type": "markdown",
   "source": "Никакие данные не потерялись",
   "id": "17a3adb124452b55"
  },
  {
   "metadata": {},
   "cell_type": "markdown",
   "source": "# Работа с данными",
   "id": "57d3a60a34af75f1"
  },
  {
   "metadata": {
    "ExecuteTime": {
     "end_time": "2025-10-19T06:41:46.596352Z",
     "start_time": "2025-10-19T06:41:45.578122Z"
    }
   },
   "cell_type": "code",
   "source": "data = data.apply(lambda col: col.str.lower().str.strip())",
   "id": "34cfee9554db271b",
   "outputs": [],
   "execution_count": 71
  },
  {
   "metadata": {},
   "cell_type": "markdown",
   "source": "## Почистим данные от всего лишнего",
   "id": "766c0ef39e358fd3"
  },
  {
   "metadata": {},
   "cell_type": "markdown",
   "source": "### Удалим лишние символы",
   "id": "2547a18b6f32f7dc"
  },
  {
   "metadata": {},
   "cell_type": "markdown",
   "source": "Удалим пропущенные значения",
   "id": "62c7ede8fd7e6961"
  },
  {
   "metadata": {
    "ExecuteTime": {
     "end_time": "2025-10-19T06:41:46.602865Z",
     "start_time": "2025-10-19T06:41:46.599139Z"
    }
   },
   "cell_type": "code",
   "source": "data.isna().sum()",
   "id": "f3991c9fb0ebbbed",
   "outputs": [
    {
     "data": {
      "text/plain": [
       "title      0\n",
       "text     707\n",
       "dtype: int64"
      ]
     },
     "execution_count": 72,
     "metadata": {},
     "output_type": "execute_result"
    }
   ],
   "execution_count": 72
  },
  {
   "metadata": {
    "ExecuteTime": {
     "end_time": "2025-10-19T06:41:46.609085Z",
     "start_time": "2025-10-19T06:41:46.604764Z"
    }
   },
   "cell_type": "code",
   "source": "data = data.dropna().reset_index(drop=True)",
   "id": "b9d68ce713e78211",
   "outputs": [],
   "execution_count": 73
  },
  {
   "metadata": {
    "ExecuteTime": {
     "end_time": "2025-10-19T06:41:46.612235Z",
     "start_time": "2025-10-19T06:41:46.610823Z"
    }
   },
   "cell_type": "code",
   "source": [
    "def clean_text(text):\n",
    "    \"\"\"Удаляет лишние символы из текста\"\"\"\n",
    "    text = text.lower()\n",
    "    text = re.sub(r\"http\\S+\", \"\", text)\n",
    "    text = re.sub(r'<[^>]+>', '', text)\n",
    "    text = re.sub(r'[^\\w\\s]', '', text)\n",
    "    text = re.sub(r'\\s+', ' ', text).strip()\n",
    "    return text"
   ],
   "id": "5a8247b58fa0aab3",
   "outputs": [],
   "execution_count": 74
  },
  {
   "metadata": {
    "ExecuteTime": {
     "end_time": "2025-10-19T06:42:02.067314Z",
     "start_time": "2025-10-19T06:41:46.613559Z"
    }
   },
   "cell_type": "code",
   "source": "data.text = data.text.apply(clean_text)",
   "id": "204b313988a8e583",
   "outputs": [],
   "execution_count": 75
  },
  {
   "metadata": {},
   "cell_type": "markdown",
   "source": "## Уберем из названий нумерацию (том, эпизод и т.п.)",
   "id": "7bc749be9d658b77"
  },
  {
   "metadata": {
    "ExecuteTime": {
     "end_time": "2025-10-19T06:42:02.072254Z",
     "start_time": "2025-10-19T06:42:02.070Z"
    }
   },
   "cell_type": "code",
   "source": [
    "def remove_complex_volume_numbers(title):\n",
    "    \"\"\"\n",
    "    Удаляет сложные формы нумерации: (139 эпизод 2 том 2.)\n",
    "    \"\"\"\n",
    "    if pd.isna(title):\n",
    "        return title\n",
    "\n",
    "    title_str = str(title)\n",
    "\n",
    "    patterns = [\n",
    "        r'\\(?\\s*\\d+\\s+(?:эпизод|серия|глава|часть)\\s+\\d+\\s+(?:том|книга|т\\.)\\s*\\d*\\s*\\.?\\)?',\n",
    "        r'\\(?\\s*\\d+\\s+(?:том|книга|т\\.)\\s+\\d+\\s+(?:эпизод|серия|глава|часть)\\s*\\d*\\s*\\.?\\)?',\n",
    "\n",
    "        r'\\b\\d+\\s+\\d+\\s+(?:том|часть|книга|эпизод|серия)\\b',\n",
    "        r'\\b(?:том|часть|книга|эпизод|серия)\\s+\\d+\\s+\\d+\\b',\n",
    "\n",
    "        r'\\b\\d+[-\\.,]\\s*\\d+\\s+(?:том|часть|книга)',\n",
    "        r'\\b(?:том|часть|книга)\\s+\\d+[-\\.,]\\s*\\d+\\b',\n",
    "    ]\n",
    "\n",
    "    cleaned_title = title_str\n",
    "    for pattern in patterns:\n",
    "        cleaned_title = re.sub(pattern, '', cleaned_title, flags=re.IGNORECASE)\n",
    "\n",
    "    return cleaned_title\n",
    "\n",
    "def clean_title_completely(title):\n",
    "    \"\"\"\n",
    "    Полная очистка названия от всех видов нумерации\n",
    "    \"\"\"\n",
    "    if pd.isna(title):\n",
    "        return title\n",
    "\n",
    "    cleaned = remove_complex_volume_numbers(title)\n",
    "\n",
    "    basic_patterns = [\n",
    "        r'\\s*(?:том|часть|книга|т\\.|vol\\.?|эпизод|серия|глава|выпуск)\\s*[ivxlcdm0-9]+',\n",
    "        r'\\s*[ivxlcdm0-9]+\\s*(?:том|часть|книга|т\\.|vol\\.?|эпизод|серия|глава|выпуск)',\n",
    "        r'\\s*\\d+[-\\.,]?\\s*(?:том|часть|книга)',\n",
    "        r'\\s*(?:том|часть|книга)[-\\.,]?\\s*\\d+',\n",
    "    ]\n",
    "\n",
    "    for pattern in basic_patterns:\n",
    "        cleaned = re.sub(pattern, '', cleaned, flags=re.IGNORECASE)\n",
    "\n",
    "    cleaned = re.sub(r'\\([^)]*\\d+[^)]*\\)', '', cleaned)\n",
    "    cleaned = re.sub(r'\\s+\\d+\\s*\\.?$', '', cleaned)\n",
    "    cleaned = re.sub(r'^\\d+\\s+', '', cleaned)\n",
    "\n",
    "    cleaned = re.sub(r'\\s+', ' ', cleaned)\n",
    "    cleaned = re.sub(r'^\\s+|\\s+$', '', cleaned)\n",
    "    cleaned = re.sub(r'[\\(\\)\\[\\]]', '', cleaned)\n",
    "    cleaned = re.sub(r'[,\\-\\.:;]+$', '', cleaned)\n",
    "\n",
    "    return cleaned\n"
   ],
   "id": "906e18438f3e48cd",
   "outputs": [],
   "execution_count": 76
  },
  {
   "metadata": {
    "ExecuteTime": {
     "end_time": "2025-10-19T06:42:02.408699Z",
     "start_time": "2025-10-19T06:42:02.074447Z"
    }
   },
   "cell_type": "code",
   "source": "data[\"cleaned_title\"] = data.title.apply(clean_title_completely)",
   "id": "dc2a289d0f8894fd",
   "outputs": [],
   "execution_count": 77
  },
  {
   "metadata": {
    "ExecuteTime": {
     "end_time": "2025-10-19T06:42:02.415877Z",
     "start_time": "2025-10-19T06:42:02.412507Z"
    }
   },
   "cell_type": "code",
   "source": [
    "changed_count = (data.title != data.cleaned_title).sum()\n",
    "print(f\"Изменено названий: {changed_count} из {len(data)}\")"
   ],
   "id": "8dc7f258bb2da8f3",
   "outputs": [
    {
     "name": "stdout",
     "output_type": "stream",
     "text": [
      "Изменено названий: 6989 из 32085\n"
     ]
    }
   ],
   "execution_count": 78
  },
  {
   "metadata": {
    "ExecuteTime": {
     "end_time": "2025-10-19T06:42:02.629843Z",
     "start_time": "2025-10-19T06:42:02.426147Z"
    }
   },
   "cell_type": "code",
   "source": "data.describe()",
   "id": "807ef967a7931c89",
   "outputs": [
    {
     "data": {
      "text/plain": [
       "                                    title   text            cleaned_title\n",
       "count                               32085  32085                    32085\n",
       "unique                              29841  30655                    28570\n",
       "top     просыпаюсь, а ты рядом! дню семьи         энцикловикипедия. имена\n",
       "freq                                   38    545                       38"
      ],
      "text/html": [
       "<div>\n",
       "<style scoped>\n",
       "    .dataframe tbody tr th:only-of-type {\n",
       "        vertical-align: middle;\n",
       "    }\n",
       "\n",
       "    .dataframe tbody tr th {\n",
       "        vertical-align: top;\n",
       "    }\n",
       "\n",
       "    .dataframe thead th {\n",
       "        text-align: right;\n",
       "    }\n",
       "</style>\n",
       "<table border=\"1\" class=\"dataframe\">\n",
       "  <thead>\n",
       "    <tr style=\"text-align: right;\">\n",
       "      <th></th>\n",
       "      <th>title</th>\n",
       "      <th>text</th>\n",
       "      <th>cleaned_title</th>\n",
       "    </tr>\n",
       "  </thead>\n",
       "  <tbody>\n",
       "    <tr>\n",
       "      <th>count</th>\n",
       "      <td>32085</td>\n",
       "      <td>32085</td>\n",
       "      <td>32085</td>\n",
       "    </tr>\n",
       "    <tr>\n",
       "      <th>unique</th>\n",
       "      <td>29841</td>\n",
       "      <td>30655</td>\n",
       "      <td>28570</td>\n",
       "    </tr>\n",
       "    <tr>\n",
       "      <th>top</th>\n",
       "      <td>просыпаюсь, а ты рядом! дню семьи</td>\n",
       "      <td></td>\n",
       "      <td>энцикловикипедия. имена</td>\n",
       "    </tr>\n",
       "    <tr>\n",
       "      <th>freq</th>\n",
       "      <td>38</td>\n",
       "      <td>545</td>\n",
       "      <td>38</td>\n",
       "    </tr>\n",
       "  </tbody>\n",
       "</table>\n",
       "</div>"
      ]
     },
     "execution_count": 79,
     "metadata": {},
     "output_type": "execute_result"
    }
   ],
   "execution_count": 79
  },
  {
   "metadata": {},
   "cell_type": "markdown",
   "source": "почему то есть полностью пустые тексты",
   "id": "209fc5282ac9b7e5"
  },
  {
   "metadata": {
    "ExecuteTime": {
     "end_time": "2025-10-19T06:42:02.641524Z",
     "start_time": "2025-10-19T06:42:02.634390Z"
    }
   },
   "cell_type": "code",
   "source": "data.isna().sum()",
   "id": "67e35c33684ff30",
   "outputs": [
    {
     "data": {
      "text/plain": [
       "title            0\n",
       "text             0\n",
       "cleaned_title    0\n",
       "dtype: int64"
      ]
     },
     "execution_count": 80,
     "metadata": {},
     "output_type": "execute_result"
    }
   ],
   "execution_count": 80
  },
  {
   "metadata": {
    "ExecuteTime": {
     "end_time": "2025-10-19T06:42:02.658620Z",
     "start_time": "2025-10-19T06:42:02.648688Z"
    }
   },
   "cell_type": "code",
   "source": [
    "data = data[data.text != \"\"].reset_index(drop=True)\n",
    "data = data[data.title != \"\"].reset_index(drop=True)"
   ],
   "id": "e69be43900e72395",
   "outputs": [],
   "execution_count": 81
  },
  {
   "metadata": {
    "ExecuteTime": {
     "end_time": "2025-10-19T06:42:02.686530Z",
     "start_time": "2025-10-19T06:42:02.662097Z"
    }
   },
   "cell_type": "code",
   "source": "data.describe()",
   "id": "c4daf1947f4e05c7",
   "outputs": [
    {
     "data": {
      "text/plain": [
       "                    title                  text            cleaned_title\n",
       "count               31540                 31540                    31540\n",
       "unique              29367                 30654                    28108\n",
       "top     скрытая опасность  описание отсутствует  энцикловикипедия. имена\n",
       "freq                   38                   124                       38"
      ],
      "text/html": [
       "<div>\n",
       "<style scoped>\n",
       "    .dataframe tbody tr th:only-of-type {\n",
       "        vertical-align: middle;\n",
       "    }\n",
       "\n",
       "    .dataframe tbody tr th {\n",
       "        vertical-align: top;\n",
       "    }\n",
       "\n",
       "    .dataframe thead th {\n",
       "        text-align: right;\n",
       "    }\n",
       "</style>\n",
       "<table border=\"1\" class=\"dataframe\">\n",
       "  <thead>\n",
       "    <tr style=\"text-align: right;\">\n",
       "      <th></th>\n",
       "      <th>title</th>\n",
       "      <th>text</th>\n",
       "      <th>cleaned_title</th>\n",
       "    </tr>\n",
       "  </thead>\n",
       "  <tbody>\n",
       "    <tr>\n",
       "      <th>count</th>\n",
       "      <td>31540</td>\n",
       "      <td>31540</td>\n",
       "      <td>31540</td>\n",
       "    </tr>\n",
       "    <tr>\n",
       "      <th>unique</th>\n",
       "      <td>29367</td>\n",
       "      <td>30654</td>\n",
       "      <td>28108</td>\n",
       "    </tr>\n",
       "    <tr>\n",
       "      <th>top</th>\n",
       "      <td>скрытая опасность</td>\n",
       "      <td>описание отсутствует</td>\n",
       "      <td>энцикловикипедия. имена</td>\n",
       "    </tr>\n",
       "    <tr>\n",
       "      <th>freq</th>\n",
       "      <td>38</td>\n",
       "      <td>124</td>\n",
       "      <td>38</td>\n",
       "    </tr>\n",
       "  </tbody>\n",
       "</table>\n",
       "</div>"
      ]
     },
     "execution_count": 82,
     "metadata": {},
     "output_type": "execute_result"
    }
   ],
   "execution_count": 82
  },
  {
   "metadata": {},
   "cell_type": "markdown",
   "source": "есть пустые тексты с заглушкой «описание отсутствует», удалим их",
   "id": "d725100e48afadcc"
  },
  {
   "metadata": {
    "ExecuteTime": {
     "end_time": "2025-10-19T06:42:02.695530Z",
     "start_time": "2025-10-19T06:42:02.689502Z"
    }
   },
   "cell_type": "code",
   "source": "data = data[data.text != \"описание отсутствует\"].reset_index(drop=True)",
   "id": "c2811be82b5efdc",
   "outputs": [],
   "execution_count": 83
  },
  {
   "metadata": {
    "ExecuteTime": {
     "end_time": "2025-10-19T06:42:02.727492Z",
     "start_time": "2025-10-19T06:42:02.702027Z"
    }
   },
   "cell_type": "code",
   "source": "data.describe()",
   "id": "6e97945be5d5f02d",
   "outputs": [
    {
     "data": {
      "text/plain": [
       "                          title  \\\n",
       "count                     31416   \n",
       "unique                    29267   \n",
       "top     энцикловикипедия. имена   \n",
       "freq                         38   \n",
       "\n",
       "                                                     text  \\\n",
       "count                                               31416   \n",
       "unique                                              30653   \n",
       "top     постоянное место публикации сборник о любви вс...   \n",
       "freq                                                   38   \n",
       "\n",
       "                            cleaned_title  \n",
       "count                               31416  \n",
       "unique                              28015  \n",
       "top     просыпаюсь, а ты рядом! дню семьи  \n",
       "freq                                   38  "
      ],
      "text/html": [
       "<div>\n",
       "<style scoped>\n",
       "    .dataframe tbody tr th:only-of-type {\n",
       "        vertical-align: middle;\n",
       "    }\n",
       "\n",
       "    .dataframe tbody tr th {\n",
       "        vertical-align: top;\n",
       "    }\n",
       "\n",
       "    .dataframe thead th {\n",
       "        text-align: right;\n",
       "    }\n",
       "</style>\n",
       "<table border=\"1\" class=\"dataframe\">\n",
       "  <thead>\n",
       "    <tr style=\"text-align: right;\">\n",
       "      <th></th>\n",
       "      <th>title</th>\n",
       "      <th>text</th>\n",
       "      <th>cleaned_title</th>\n",
       "    </tr>\n",
       "  </thead>\n",
       "  <tbody>\n",
       "    <tr>\n",
       "      <th>count</th>\n",
       "      <td>31416</td>\n",
       "      <td>31416</td>\n",
       "      <td>31416</td>\n",
       "    </tr>\n",
       "    <tr>\n",
       "      <th>unique</th>\n",
       "      <td>29267</td>\n",
       "      <td>30653</td>\n",
       "      <td>28015</td>\n",
       "    </tr>\n",
       "    <tr>\n",
       "      <th>top</th>\n",
       "      <td>энцикловикипедия. имена</td>\n",
       "      <td>постоянное место публикации сборник о любви вс...</td>\n",
       "      <td>просыпаюсь, а ты рядом! дню семьи</td>\n",
       "    </tr>\n",
       "    <tr>\n",
       "      <th>freq</th>\n",
       "      <td>38</td>\n",
       "      <td>38</td>\n",
       "      <td>38</td>\n",
       "    </tr>\n",
       "  </tbody>\n",
       "</table>\n",
       "</div>"
      ]
     },
     "execution_count": 84,
     "metadata": {},
     "output_type": "execute_result"
    }
   ],
   "execution_count": 84
  },
  {
   "metadata": {
    "ExecuteTime": {
     "end_time": "2025-10-19T06:42:02.739262Z",
     "start_time": "2025-10-19T06:42:02.732674Z"
    }
   },
   "cell_type": "code",
   "source": "data.cleaned_title.value_counts().head(20)",
   "id": "ebe671e661bbbc52",
   "outputs": [
    {
     "data": {
      "text/plain": [
       "cleaned_title\n",
       "просыпаюсь, а ты рядом! дню семьи                     38\n",
       "энцикловикипедия. имена                               38\n",
       "корнеслов. история слов                               38\n",
       "энцикловикипедия. топонимы                            38\n",
       "скрытая опасность                                     38\n",
       "из жизни графомана                                    38\n",
       "латырь-камень бел-горюч... сказка?                    38\n",
       "три поколения швондеров и мы выбираем                 36\n",
       "красноярск глазами московского туриста                34\n",
       "                                                      28\n",
       "мысли по поводу                                       25\n",
       "классика зарубежного рассказа №                       25\n",
       "***                                                   20\n",
       "выкладка                                              20\n",
       "наследник ссср - фрагмент                             20\n",
       "сергей степанов. постлюбовь. новый роман              20\n",
       "классика русского рассказа №                          18\n",
       "содержание. трудные места библии. жесток ли ветхий    18\n",
       "самая длинная история на свете                        17\n",
       "две жизни                                             16\n",
       "Name: count, dtype: int64"
      ]
     },
     "execution_count": 85,
     "metadata": {},
     "output_type": "execute_result"
    }
   ],
   "execution_count": 85
  },
  {
   "metadata": {},
   "cell_type": "markdown",
   "source": "Заметим, что в названиях часто встречаются пустые названия или состоящие только из символов. Также есть шумовые №",
   "id": "d0d6ab1d0cd8cfb8"
  },
  {
   "metadata": {
    "ExecuteTime": {
     "end_time": "2025-10-19T06:42:02.757244Z",
     "start_time": "2025-10-19T06:42:02.744745Z"
    }
   },
   "cell_type": "code",
   "source": [
    "data = data[data.cleaned_title.str.strip() != \"\"]\n",
    "noise_titles = [\"***\"]\n",
    "data = data[~data.cleaned_title.isin(noise_titles)].reset_index(drop=True)\n",
    "\n",
    "print(data.cleaned_title.value_counts().head(20))\n",
    "print(f\"Всего примеров после очистки: {len(data)}\")"
   ],
   "id": "7ce72411f2ed666e",
   "outputs": [
    {
     "name": "stdout",
     "output_type": "stream",
     "text": [
      "cleaned_title\n",
      "просыпаюсь, а ты рядом! дню семьи                     38\n",
      "из жизни графомана                                    38\n",
      "корнеслов. история слов                               38\n",
      "энцикловикипедия. имена                               38\n",
      "энцикловикипедия. топонимы                            38\n",
      "скрытая опасность                                     38\n",
      "латырь-камень бел-горюч... сказка?                    38\n",
      "три поколения швондеров и мы выбираем                 36\n",
      "красноярск глазами московского туриста                34\n",
      "классика зарубежного рассказа №                       25\n",
      "мысли по поводу                                       25\n",
      "выкладка                                              20\n",
      "наследник ссср - фрагмент                             20\n",
      "сергей степанов. постлюбовь. новый роман              20\n",
      "классика русского рассказа №                          18\n",
      "содержание. трудные места библии. жесток ли ветхий    18\n",
      "самая длинная история на свете                        17\n",
      "две жизни                                             16\n",
      "тихий дон                                             14\n",
      "встреча                                               14\n",
      "Name: count, dtype: int64\n",
      "Всего примеров после очистки: 31368\n"
     ]
    }
   ],
   "execution_count": 86
  },
  {
   "metadata": {
    "ExecuteTime": {
     "end_time": "2025-10-19T06:42:02.773050Z",
     "start_time": "2025-10-19T06:42:02.761667Z"
    }
   },
   "cell_type": "code",
   "source": [
    "data.cleaned_title = data.cleaned_title.str.replace('№', '', regex=False).str.strip()\n",
    "\n",
    "print(data.cleaned_title.value_counts().head(20))"
   ],
   "id": "990027f74621f3ed",
   "outputs": [
    {
     "name": "stdout",
     "output_type": "stream",
     "text": [
      "cleaned_title\n",
      "латырь-камень бел-горюч... сказка?                    38\n",
      "из жизни графомана                                    38\n",
      "корнеслов. история слов                               38\n",
      "энцикловикипедия. имена                               38\n",
      "просыпаюсь, а ты рядом! дню семьи                     38\n",
      "энцикловикипедия. топонимы                            38\n",
      "скрытая опасность                                     38\n",
      "три поколения швондеров и мы выбираем                 36\n",
      "красноярск глазами московского туриста                34\n",
      "классика зарубежного рассказа                         26\n",
      "мысли по поводу                                       25\n",
      "наследник ссср - фрагмент                             20\n",
      "выкладка                                              20\n",
      "сергей степанов. постлюбовь. новый роман              20\n",
      "тихий дон                                             18\n",
      "классика русского рассказа                            18\n",
      "содержание. трудные места библии. жесток ли ветхий    18\n",
      "самая длинная история на свете                        17\n",
      "две жизни                                             16\n",
      "встреча                                               14\n",
      "Name: count, dtype: int64\n"
     ]
    }
   ],
   "execution_count": 87
  },
  {
   "metadata": {},
   "cell_type": "markdown",
   "source": "## Почистим строки, в которых нет текста и удалим лидирующую пунктуацию",
   "id": "674030a0795a81d7"
  },
  {
   "metadata": {
    "ExecuteTime": {
     "end_time": "2025-10-19T06:42:02.778992Z",
     "start_time": "2025-10-19T06:42:02.777428Z"
    }
   },
   "cell_type": "code",
   "source": [
    "def is_meaningful(text):\n",
    "    return bool(re.search(r\"[А-Яа-яA-Za-z0-9]\", text))\n",
    "\n",
    "def clean_leading_punct(text):\n",
    "    return re.sub(r\"^[^\\wА-Яа-я0-9]+\", \"\", text).strip()"
   ],
   "id": "c53b4eb26416e079",
   "outputs": [],
   "execution_count": 88
  },
  {
   "metadata": {
    "ExecuteTime": {
     "end_time": "2025-10-19T06:42:13.852915Z",
     "start_time": "2025-10-19T06:42:02.798959Z"
    }
   },
   "cell_type": "code",
   "source": [
    "data = data[data.text.apply(is_meaningful)].reset_index(drop=True)\n",
    "data.text = data.text.str.replace(r\"[^\\w\\s,.!?-]\", \" \", regex=True)\n",
    "data.text = data.text.str.replace(r\"\\s+\", \" \", regex=True).str.strip()\n",
    "data.describe()"
   ],
   "id": "529d6d01dab9e276",
   "outputs": [
    {
     "data": {
      "text/plain": [
       "                                     title  \\\n",
       "count                                31367   \n",
       "unique                               29240   \n",
       "top     латырь-камень бел-горюч... сказка?   \n",
       "freq                                    38   \n",
       "\n",
       "                                                     text  \\\n",
       "count                                               31367   \n",
       "unique                                              30604   \n",
       "top     энцикловикипедия топонимы история современных ...   \n",
       "freq                                                   38   \n",
       "\n",
       "                             cleaned_title  \n",
       "count                                31367  \n",
       "unique                               27984  \n",
       "top     латырь-камень бел-горюч... сказка?  \n",
       "freq                                    38  "
      ],
      "text/html": [
       "<div>\n",
       "<style scoped>\n",
       "    .dataframe tbody tr th:only-of-type {\n",
       "        vertical-align: middle;\n",
       "    }\n",
       "\n",
       "    .dataframe tbody tr th {\n",
       "        vertical-align: top;\n",
       "    }\n",
       "\n",
       "    .dataframe thead th {\n",
       "        text-align: right;\n",
       "    }\n",
       "</style>\n",
       "<table border=\"1\" class=\"dataframe\">\n",
       "  <thead>\n",
       "    <tr style=\"text-align: right;\">\n",
       "      <th></th>\n",
       "      <th>title</th>\n",
       "      <th>text</th>\n",
       "      <th>cleaned_title</th>\n",
       "    </tr>\n",
       "  </thead>\n",
       "  <tbody>\n",
       "    <tr>\n",
       "      <th>count</th>\n",
       "      <td>31367</td>\n",
       "      <td>31367</td>\n",
       "      <td>31367</td>\n",
       "    </tr>\n",
       "    <tr>\n",
       "      <th>unique</th>\n",
       "      <td>29240</td>\n",
       "      <td>30604</td>\n",
       "      <td>27984</td>\n",
       "    </tr>\n",
       "    <tr>\n",
       "      <th>top</th>\n",
       "      <td>латырь-камень бел-горюч... сказка?</td>\n",
       "      <td>энцикловикипедия топонимы история современных ...</td>\n",
       "      <td>латырь-камень бел-горюч... сказка?</td>\n",
       "    </tr>\n",
       "    <tr>\n",
       "      <th>freq</th>\n",
       "      <td>38</td>\n",
       "      <td>38</td>\n",
       "      <td>38</td>\n",
       "    </tr>\n",
       "  </tbody>\n",
       "</table>\n",
       "</div>"
      ]
     },
     "execution_count": 89,
     "metadata": {},
     "output_type": "execute_result"
    }
   ],
   "execution_count": 89
  },
  {
   "metadata": {},
   "cell_type": "markdown",
   "source": "## Посмотрим на дубликаты",
   "id": "80b0f4599fd8bc"
  },
  {
   "metadata": {
    "ExecuteTime": {
     "end_time": "2025-10-19T06:42:15.537212Z",
     "start_time": "2025-10-19T06:42:13.865876Z"
    }
   },
   "cell_type": "code",
   "source": "data.duplicated().sum()",
   "id": "286803f844ca00ac",
   "outputs": [
    {
     "data": {
      "text/plain": [
       "np.int64(429)"
      ]
     },
     "execution_count": 90,
     "metadata": {},
     "output_type": "execute_result"
    }
   ],
   "execution_count": 90
  },
  {
   "metadata": {
    "ExecuteTime": {
     "end_time": "2025-10-19T06:42:15.562190Z",
     "start_time": "2025-10-19T06:42:15.551156Z"
    }
   },
   "cell_type": "code",
   "source": "data.text.duplicated().sum(), data.title.duplicated().sum()",
   "id": "4e21c0eb91ebc075",
   "outputs": [
    {
     "data": {
      "text/plain": [
       "(np.int64(763), np.int64(2127))"
      ]
     },
     "execution_count": 91,
     "metadata": {},
     "output_type": "execute_result"
    }
   ],
   "execution_count": 91
  },
  {
   "metadata": {},
   "cell_type": "markdown",
   "source": [
    "Заметим, что есть дубликаты в названиях, но это нормально, так как парсились разные сайты, на которых могли быть одни и те же произведения. Такое можно оставить.\n",
    "\n",
    "Но есть дубликаты в тексте, причем большинство из них такие, что текст одинаковый, а названия разные. Такое нужно удалять, это создаст лишний шум для модели."
   ],
   "id": "a22e334fdf85a5ec"
  },
  {
   "metadata": {
    "ExecuteTime": {
     "end_time": "2025-10-19T06:42:15.585918Z",
     "start_time": "2025-10-19T06:42:15.565946Z"
    }
   },
   "cell_type": "code",
   "source": "data = data[~data.text.duplicated(keep=False)].reset_index(drop=True)",
   "id": "92df348863d5efe4",
   "outputs": [],
   "execution_count": 92
  },
  {
   "metadata": {
    "ExecuteTime": {
     "end_time": "2025-10-19T06:42:16.575800Z",
     "start_time": "2025-10-19T06:42:15.589381Z"
    }
   },
   "cell_type": "code",
   "source": "data.duplicated().sum()",
   "id": "62e8f1603a1245f8",
   "outputs": [
    {
     "data": {
      "text/plain": [
       "np.int64(0)"
      ]
     },
     "execution_count": 93,
     "metadata": {},
     "output_type": "execute_result"
    }
   ],
   "execution_count": 93
  },
  {
   "metadata": {
    "ExecuteTime": {
     "end_time": "2025-10-19T06:42:16.603963Z",
     "start_time": "2025-10-19T06:42:16.581728Z"
    }
   },
   "cell_type": "code",
   "source": "data.describe()",
   "id": "3ab4f1a5b58bd0e3",
   "outputs": [
    {
     "data": {
      "text/plain": [
       "          title                                               text  \\\n",
       "count     30352                                              30352   \n",
       "unique    28694                                              30352   \n",
       "top     встреча  протопоп аввакум написал житие по благословени...   \n",
       "freq         12                                                  1   \n",
       "\n",
       "                        cleaned_title  \n",
       "count                           30352  \n",
       "unique                          27622  \n",
       "top     классика зарубежного рассказа  \n",
       "freq                               26  "
      ],
      "text/html": [
       "<div>\n",
       "<style scoped>\n",
       "    .dataframe tbody tr th:only-of-type {\n",
       "        vertical-align: middle;\n",
       "    }\n",
       "\n",
       "    .dataframe tbody tr th {\n",
       "        vertical-align: top;\n",
       "    }\n",
       "\n",
       "    .dataframe thead th {\n",
       "        text-align: right;\n",
       "    }\n",
       "</style>\n",
       "<table border=\"1\" class=\"dataframe\">\n",
       "  <thead>\n",
       "    <tr style=\"text-align: right;\">\n",
       "      <th></th>\n",
       "      <th>title</th>\n",
       "      <th>text</th>\n",
       "      <th>cleaned_title</th>\n",
       "    </tr>\n",
       "  </thead>\n",
       "  <tbody>\n",
       "    <tr>\n",
       "      <th>count</th>\n",
       "      <td>30352</td>\n",
       "      <td>30352</td>\n",
       "      <td>30352</td>\n",
       "    </tr>\n",
       "    <tr>\n",
       "      <th>unique</th>\n",
       "      <td>28694</td>\n",
       "      <td>30352</td>\n",
       "      <td>27622</td>\n",
       "    </tr>\n",
       "    <tr>\n",
       "      <th>top</th>\n",
       "      <td>встреча</td>\n",
       "      <td>протопоп аввакум написал житие по благословени...</td>\n",
       "      <td>классика зарубежного рассказа</td>\n",
       "    </tr>\n",
       "    <tr>\n",
       "      <th>freq</th>\n",
       "      <td>12</td>\n",
       "      <td>1</td>\n",
       "      <td>26</td>\n",
       "    </tr>\n",
       "  </tbody>\n",
       "</table>\n",
       "</div>"
      ]
     },
     "execution_count": 94,
     "metadata": {},
     "output_type": "execute_result"
    }
   ],
   "execution_count": 94
  },
  {
   "metadata": {
    "ExecuteTime": {
     "end_time": "2025-10-19T06:42:16.612092Z",
     "start_time": "2025-10-19T06:42:16.609016Z"
    }
   },
   "cell_type": "code",
   "source": "data.drop(columns=[\"title\"], inplace=True)",
   "id": "bb80a92204dbd3c4",
   "outputs": [],
   "execution_count": 95
  },
  {
   "metadata": {
    "ExecuteTime": {
     "end_time": "2025-10-19T06:42:16.619108Z",
     "start_time": "2025-10-19T06:42:16.617554Z"
    }
   },
   "cell_type": "code",
   "source": "data.rename(columns={\"cleaned_title\": \"title\"}, inplace=True)",
   "id": "6304930c2afc7755",
   "outputs": [],
   "execution_count": 96
  },
  {
   "metadata": {
    "ExecuteTime": {
     "end_time": "2025-10-19T06:42:19.312292Z",
     "start_time": "2025-10-19T06:42:16.620991Z"
    }
   },
   "cell_type": "code",
   "source": "data.to_csv(\"../data/temp_data/all_data_cleaned.csv\", index=False)",
   "id": "c3313cea1c61b4c2",
   "outputs": [],
   "execution_count": 97
  },
  {
   "metadata": {},
   "cell_type": "markdown",
   "source": "# Анализ длины слов в названиях",
   "id": "3e24abd6dda91d23"
  },
  {
   "metadata": {
    "ExecuteTime": {
     "end_time": "2025-10-19T06:42:19.322539Z",
     "start_time": "2025-10-19T06:42:19.315723Z"
    }
   },
   "cell_type": "code",
   "source": [
    "title_counts = data.title.value_counts()\n",
    "title_counts.head(10)"
   ],
   "id": "668326996e60c52c",
   "outputs": [
    {
     "data": {
      "text/plain": [
       "title\n",
       "классика зарубежного рассказа               26\n",
       "сергей степанов. постлюбовь. новый роман    20\n",
       "наследник ссср - фрагмент                   20\n",
       "выкладка                                    20\n",
       "классика русского рассказа                  18\n",
       "тихий дон                                   18\n",
       "самая длинная история на свете              17\n",
       "встреча                                     14\n",
       "история жака казановы де сейнгальт          12\n",
       "история государства российского             12\n",
       "Name: count, dtype: int64"
      ]
     },
     "execution_count": 98,
     "metadata": {},
     "output_type": "execute_result"
    }
   ],
   "execution_count": 98
  },
  {
   "metadata": {
    "ExecuteTime": {
     "end_time": "2025-10-19T06:42:19.395321Z",
     "start_time": "2025-10-19T06:42:19.326744Z"
    }
   },
   "cell_type": "code",
   "source": [
    "data[\"title_len\"] = data.title.apply(lambda x: len(str(x).split()))\n",
    "\n",
    "length_counts = data.groupby('title_len').size()\n",
    "\n",
    "plt.figure(figsize=(12,6))\n",
    "length_counts.plot(kind='bar')\n",
    "plt.xlabel(\"Длина названия (слов)\")\n",
    "plt.ylabel(\"Количество названий\")\n",
    "plt.title(\"Распределение длин названий в датасете без аугментации\")\n",
    "plt.show()"
   ],
   "id": "b9aba920ec0ae285",
   "outputs": [
    {
     "data": {
      "text/plain": [
       "<Figure size 1200x600 with 1 Axes>"
      ],
      "image/png": "[encoded data removed]"
     },
     "metadata": {},
     "output_type": "display_data",
     "jetTransient": {
      "display_id": null
     }
    }
   ],
   "execution_count": 99
  },
  {
   "metadata": {},
   "cell_type": "markdown",
   "source": "Заметно, что есть названия с большим количеством слов. Это внесет в модель шум, поэтому стоит удалить их.",
   "id": "21b1b2cfe65e5a84"
  },
  {
   "metadata": {
    "ExecuteTime": {
     "end_time": "2025-10-19T06:42:19.418718Z",
     "start_time": "2025-10-19T06:42:19.399778Z"
    }
   },
   "cell_type": "code",
   "source": "data.describe(include=\"O\")",
   "id": "b129bbe2ba000267",
   "outputs": [
    {
     "data": {
      "text/plain": [
       "                                                     text  \\\n",
       "count                                               30352   \n",
       "unique                                              30352   \n",
       "top     протопоп аввакум написал житие по благословени...   \n",
       "freq                                                    1   \n",
       "\n",
       "                                title  \n",
       "count                           30352  \n",
       "unique                          27622  \n",
       "top     классика зарубежного рассказа  \n",
       "freq                               26  "
      ],
      "text/html": [
       "<div>\n",
       "<style scoped>\n",
       "    .dataframe tbody tr th:only-of-type {\n",
       "        vertical-align: middle;\n",
       "    }\n",
       "\n",
       "    .dataframe tbody tr th {\n",
       "        vertical-align: top;\n",
       "    }\n",
       "\n",
       "    .dataframe thead th {\n",
       "        text-align: right;\n",
       "    }\n",
       "</style>\n",
       "<table border=\"1\" class=\"dataframe\">\n",
       "  <thead>\n",
       "    <tr style=\"text-align: right;\">\n",
       "      <th></th>\n",
       "      <th>text</th>\n",
       "      <th>title</th>\n",
       "    </tr>\n",
       "  </thead>\n",
       "  <tbody>\n",
       "    <tr>\n",
       "      <th>count</th>\n",
       "      <td>30352</td>\n",
       "      <td>30352</td>\n",
       "    </tr>\n",
       "    <tr>\n",
       "      <th>unique</th>\n",
       "      <td>30352</td>\n",
       "      <td>27622</td>\n",
       "    </tr>\n",
       "    <tr>\n",
       "      <th>top</th>\n",
       "      <td>протопоп аввакум написал житие по благословени...</td>\n",
       "      <td>классика зарубежного рассказа</td>\n",
       "    </tr>\n",
       "    <tr>\n",
       "      <th>freq</th>\n",
       "      <td>1</td>\n",
       "      <td>26</td>\n",
       "    </tr>\n",
       "  </tbody>\n",
       "</table>\n",
       "</div>"
      ]
     },
     "execution_count": 100,
     "metadata": {},
     "output_type": "execute_result"
    }
   ],
   "execution_count": 100
  },
  {
   "metadata": {
    "ExecuteTime": {
     "end_time": "2025-10-19T06:42:19.426456Z",
     "start_time": "2025-10-19T06:42:19.421866Z"
    }
   },
   "cell_type": "code",
   "source": "data = data[data.title_len <= 10].reset_index(drop=True)",
   "id": "55a1f88541ddac9",
   "outputs": [],
   "execution_count": 101
  },
  {
   "metadata": {
    "ExecuteTime": {
     "end_time": "2025-10-19T06:42:19.448744Z",
     "start_time": "2025-10-19T06:42:19.432001Z"
    }
   },
   "cell_type": "code",
   "source": "data.describe(include=\"O\")",
   "id": "e07cecbf5f834d51",
   "outputs": [
    {
     "data": {
      "text/plain": [
       "                                                     text  \\\n",
       "count                                               29868   \n",
       "unique                                              29868   \n",
       "top     протопоп аввакум написал житие по благословени...   \n",
       "freq                                                    1   \n",
       "\n",
       "                                title  \n",
       "count                           29868  \n",
       "unique                          27139  \n",
       "top     классика зарубежного рассказа  \n",
       "freq                               26  "
      ],
      "text/html": [
       "<div>\n",
       "<style scoped>\n",
       "    .dataframe tbody tr th:only-of-type {\n",
       "        vertical-align: middle;\n",
       "    }\n",
       "\n",
       "    .dataframe tbody tr th {\n",
       "        vertical-align: top;\n",
       "    }\n",
       "\n",
       "    .dataframe thead th {\n",
       "        text-align: right;\n",
       "    }\n",
       "</style>\n",
       "<table border=\"1\" class=\"dataframe\">\n",
       "  <thead>\n",
       "    <tr style=\"text-align: right;\">\n",
       "      <th></th>\n",
       "      <th>text</th>\n",
       "      <th>title</th>\n",
       "    </tr>\n",
       "  </thead>\n",
       "  <tbody>\n",
       "    <tr>\n",
       "      <th>count</th>\n",
       "      <td>29868</td>\n",
       "      <td>29868</td>\n",
       "    </tr>\n",
       "    <tr>\n",
       "      <th>unique</th>\n",
       "      <td>29868</td>\n",
       "      <td>27139</td>\n",
       "    </tr>\n",
       "    <tr>\n",
       "      <th>top</th>\n",
       "      <td>протопоп аввакум написал житие по благословени...</td>\n",
       "      <td>классика зарубежного рассказа</td>\n",
       "    </tr>\n",
       "    <tr>\n",
       "      <th>freq</th>\n",
       "      <td>1</td>\n",
       "      <td>26</td>\n",
       "    </tr>\n",
       "  </tbody>\n",
       "</table>\n",
       "</div>"
      ]
     },
     "execution_count": 102,
     "metadata": {},
     "output_type": "execute_result"
    }
   ],
   "execution_count": 102
  },
  {
   "metadata": {
    "ExecuteTime": {
     "end_time": "2025-10-19T06:42:22.962929Z",
     "start_time": "2025-10-19T06:42:19.451785Z"
    }
   },
   "cell_type": "code",
   "source": "data['text_len'] = data.text.str.split().apply(len)",
   "id": "e8efeeb359771a1b",
   "outputs": [],
   "execution_count": 103
  },
  {
   "metadata": {
    "ExecuteTime": {
     "end_time": "2025-10-19T06:42:22.978981Z",
     "start_time": "2025-10-19T06:42:22.972081Z"
    }
   },
   "cell_type": "code",
   "source": [
    "print(\"Всего примеров:\", len(data))\n",
    "print(\"Уникальные заголовки:\", data.title.nunique())\n",
    "print(\"Средняя длина текста:\", data.text_len.mean())\n",
    "print(\"Средняя длина заголовка:\", data.title_len.mean())"
   ],
   "id": "c27a0b295a5ec4ae",
   "outputs": [
    {
     "name": "stdout",
     "output_type": "stream",
     "text": [
      "Всего примеров: 29868\n",
      "Уникальные заголовки: 27139\n",
      "Средняя длина текста: 1905.7235168072855\n",
      "Средняя длина заголовка: 3.305879201821347\n"
     ]
    }
   ],
   "execution_count": 104
  },
  {
   "metadata": {
    "ExecuteTime": {
     "end_time": "2025-10-19T06:42:22.988980Z",
     "start_time": "2025-10-19T06:42:22.983731Z"
    }
   },
   "cell_type": "code",
   "source": "data.head()",
   "id": "c84d4124d48289e4",
   "outputs": [
    {
     "data": {
      "text/plain": [
       "                                                text  \\\n",
       "0  протопоп аввакум написал житие по благословени...   \n",
       "1  князь андрей курбский один из лучших воевод ца...   \n",
       "2  преподобный сергий родился в тверской земле в ...   \n",
       "3  в городе муроме правил князь павел к его жене ...   \n",
       "4  моление как и многие другие произведения древн...   \n",
       "\n",
       "                                           title  title_len  text_len  \n",
       "0  житие протопопа аввакума, им самим написанное          6      2051  \n",
       "1    переписка андрея курбского с иваном грозным          6      1347  \n",
       "2                      житие сергия радонежского          3      2048  \n",
       "3           повесть о петре и февронии муромских          6       850  \n",
       "4                      моление даниила заточника          3       211  "
      ],
      "text/html": [
       "<div>\n",
       "<style scoped>\n",
       "    .dataframe tbody tr th:only-of-type {\n",
       "        vertical-align: middle;\n",
       "    }\n",
       "\n",
       "    .dataframe tbody tr th {\n",
       "        vertical-align: top;\n",
       "    }\n",
       "\n",
       "    .dataframe thead th {\n",
       "        text-align: right;\n",
       "    }\n",
       "</style>\n",
       "<table border=\"1\" class=\"dataframe\">\n",
       "  <thead>\n",
       "    <tr style=\"text-align: right;\">\n",
       "      <th></th>\n",
       "      <th>text</th>\n",
       "      <th>title</th>\n",
       "      <th>title_len</th>\n",
       "      <th>text_len</th>\n",
       "    </tr>\n",
       "  </thead>\n",
       "  <tbody>\n",
       "    <tr>\n",
       "      <th>0</th>\n",
       "      <td>протопоп аввакум написал житие по благословени...</td>\n",
       "      <td>житие протопопа аввакума, им самим написанное</td>\n",
       "      <td>6</td>\n",
       "      <td>2051</td>\n",
       "    </tr>\n",
       "    <tr>\n",
       "      <th>1</th>\n",
       "      <td>князь андрей курбский один из лучших воевод ца...</td>\n",
       "      <td>переписка андрея курбского с иваном грозным</td>\n",
       "      <td>6</td>\n",
       "      <td>1347</td>\n",
       "    </tr>\n",
       "    <tr>\n",
       "      <th>2</th>\n",
       "      <td>преподобный сергий родился в тверской земле в ...</td>\n",
       "      <td>житие сергия радонежского</td>\n",
       "      <td>3</td>\n",
       "      <td>2048</td>\n",
       "    </tr>\n",
       "    <tr>\n",
       "      <th>3</th>\n",
       "      <td>в городе муроме правил князь павел к его жене ...</td>\n",
       "      <td>повесть о петре и февронии муромских</td>\n",
       "      <td>6</td>\n",
       "      <td>850</td>\n",
       "    </tr>\n",
       "    <tr>\n",
       "      <th>4</th>\n",
       "      <td>моление как и многие другие произведения древн...</td>\n",
       "      <td>моление даниила заточника</td>\n",
       "      <td>3</td>\n",
       "      <td>211</td>\n",
       "    </tr>\n",
       "  </tbody>\n",
       "</table>\n",
       "</div>"
      ]
     },
     "execution_count": 105,
     "metadata": {},
     "output_type": "execute_result"
    }
   ],
   "execution_count": 105
  },
  {
   "metadata": {
    "ExecuteTime": {
     "end_time": "2025-10-19T06:42:23.013108Z",
     "start_time": "2025-10-19T06:42:23.006736Z"
    }
   },
   "cell_type": "code",
   "source": "data.drop(columns=[\"title_len\", \"text_len\"], inplace=True)",
   "id": "d8d3cf71b5825fd1",
   "outputs": [],
   "execution_count": 106
  },
  {
   "metadata": {
    "ExecuteTime": {
     "end_time": "2025-10-19T06:42:25.676980Z",
     "start_time": "2025-10-19T06:42:23.020117Z"
    }
   },
   "cell_type": "code",
   "source": "data.to_csv(\"../data/all_data.csv\", index=False)",
   "id": "97b7eaf6b2fe6725",
   "outputs": [],
   "execution_count": 107
  }
 ],
 "metadata": {
  "kernelspec": {
   "display_name": "Python 3",
   "language": "python",
   "name": "python3"
  },
  "language_info": {
   "codemirror_mode": {
    "name": "ipython",
    "version": 2
   },
   "file_extension": ".py",
   "mimetype": "text/x-python",
   "name": "python",
   "nbconvert_exporter": "python",
   "pygments_lexer": "ipython2",
   "version": "2.7.6"
  }
 },
 "nbformat": 4,
 "nbformat_minor": 5
}
