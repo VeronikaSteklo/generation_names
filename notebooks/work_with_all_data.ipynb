{
 "cells": [
  {
   "metadata": {},
   "cell_type": "markdown",
   "source": "# Импорт библиотек",
   "id": "fa04ffd06953183d"
  },
  {
   "cell_type": "code",
   "id": "initial_id",
   "metadata": {
    "collapsed": true,
    "ExecuteTime": {
     "end_time": "2025-10-18T18:46:11.044843Z",
     "start_time": "2025-10-18T18:46:11.040876Z"
    }
   },
   "source": [
    "import json\n",
    "import re\n",
    "\n",
    "import pandas as pd\n",
    "\n",
    "import matplotlib.pyplot as plt\n",
    "import seaborn as sns\n",
    "from pandas import DataFrame\n"
   ],
   "outputs": [],
   "execution_count": 40
  },
  {
   "metadata": {},
   "cell_type": "markdown",
   "source": "# Объединим все данные в один датасет",
   "id": "3446386acebec3bc"
  },
  {
   "metadata": {
    "ExecuteTime": {
     "end_time": "2025-10-18T18:32:17.950789Z",
     "start_time": "2025-10-18T18:32:17.947436Z"
    }
   },
   "cell_type": "code",
   "source": [
    "def open_json(input_file: str) -> dict:\n",
    "    with open(input_file) as json_file:\n",
    "        data = json.load(json_file)\n",
    "    return data"
   ],
   "id": "8d47cb060bcec467",
   "outputs": [],
   "execution_count": 6
  },
  {
   "metadata": {
    "ExecuteTime": {
     "end_time": "2025-10-18T18:34:04.366896Z",
     "start_time": "2025-10-18T18:34:04.363035Z"
    }
   },
   "cell_type": "code",
   "source": [
    "def json_to_csv_lp(json_data: dict) -> DataFrame:\n",
    "    rows = []\n",
    "    for category, works in json_data.items():\n",
    "        for author, work_data in works.items():\n",
    "            rows.append({\n",
    "                \"title\": work_data.get(\"title\", \"\"),\n",
    "                \"text\": work_data.get(\"text\", \"\")\n",
    "            })\n",
    "\n",
    "    df = pd.DataFrame(rows)\n",
    "    return df"
   ],
   "id": "9ce0d545f7851a56",
   "outputs": [],
   "execution_count": 14
  },
  {
   "metadata": {
    "ExecuteTime": {
     "end_time": "2025-10-18T18:34:06.625146Z",
     "start_time": "2025-10-18T18:34:06.619718Z"
    }
   },
   "cell_type": "code",
   "source": [
    "def json_to_csv(json_data: dict) -> DataFrame:\n",
    "    rows = []\n",
    "    for title, text in json_data.items():\n",
    "        rows.append({\n",
    "            \"title\": title,\n",
    "            \"text\": text\n",
    "        })\n",
    "\n",
    "    df = pd.DataFrame(rows)\n",
    "    return df"
   ],
   "id": "1033f3d20cdbe941",
   "outputs": [],
   "execution_count": 15
  },
  {
   "metadata": {},
   "cell_type": "markdown",
   "source": "clean_data",
   "id": "f645ee631ffdc7b3"
  },
  {
   "metadata": {
    "ExecuteTime": {
     "end_time": "2025-10-18T18:34:13.137072Z",
     "start_time": "2025-10-18T18:34:11.081795Z"
    }
   },
   "cell_type": "code",
   "source": [
    "briefly = open_json(\"../data/temp_data/json/briefly.json\")\n",
    "litprichal = open_json(\"../data/temp_data/json/data_litprichal.json\")\n",
    "proza_ru = open_json(\"../data/temp_data/json/data_proza_ru.json\")\n",
    "litres = open_json(\"../data/temp_data/json/litres.json\")"
   ],
   "id": "973a668e2263d146",
   "outputs": [],
   "execution_count": 16
  },
  {
   "metadata": {
    "ExecuteTime": {
     "end_time": "2025-10-18T18:34:13.158771Z",
     "start_time": "2025-10-18T18:34:13.140145Z"
    }
   },
   "cell_type": "code",
   "source": [
    "briefly = json_to_csv(briefly)\n",
    "litprichal = json_to_csv_lp(litprichal)\n",
    "proza_ru = json_to_csv_lp(proza_ru)\n",
    "litres = json_to_csv(litres)"
   ],
   "id": "cad7a1639f975bc6",
   "outputs": [],
   "execution_count": 17
  },
  {
   "metadata": {
    "ExecuteTime": {
     "end_time": "2025-10-18T19:23:07.768037Z",
     "start_time": "2025-10-18T19:23:07.677142Z"
    }
   },
   "cell_type": "code",
   "source": "data = pd.concat([briefly, litprichal, proza_ru, litres], ignore_index=True)",
   "id": "8214f031d5dc68a5",
   "outputs": [],
   "execution_count": 87
  },
  {
   "metadata": {
    "ExecuteTime": {
     "end_time": "2025-10-18T19:23:08.050619Z",
     "start_time": "2025-10-18T19:23:08.042575Z"
    }
   },
   "cell_type": "code",
   "source": "data",
   "id": "179ac0a6923c970e",
   "outputs": [
    {
     "data": {
      "text/plain": [
       "                                               title  \\\n",
       "0      Житие протопопа Аввакума, им самим написанное   \n",
       "1        Переписка Андрея Курбского с Иваном Грозным   \n",
       "2                          Житие Сергия Радонежского   \n",
       "3               Повесть о Петре и Февронии Муромских   \n",
       "4                          Моление Даниила Заточника   \n",
       "...                                              ...   \n",
       "32787         Мифические монстры и места их обитания   \n",
       "32788        Легенда о страшном Змее и наглой девице   \n",
       "32789                             Сказки темной Руси   \n",
       "32790                             Сезам, откройся!!!   \n",
       "32791                                         Допрос   \n",
       "\n",
       "                                                    text  \n",
       "0      Протопоп Аввакум написал житие по благословени...  \n",
       "1      Князь Андрей Курбский — один из лучших воевод ...  \n",
       "2      Преподобный Сергий родился в Тверской земле, в...  \n",
       "3      В городе Муроме правил князь Павел. К его жене...  \n",
       "4      «Моление», как и многие другие произведения др...  \n",
       "...                                                  ...  \n",
       "32787  В этой увлекательной и познавательной книге ав...  \n",
       "32788  Всё пошло не так: девица явилась сама в змеево...  \n",
       "32789  Гуляли, значит, по матушке Руси три статных мо...  \n",
       "32790  «– Вы начинаете стареть, Иоганн, – ворчливо ск...  \n",
       "32791  «Посаженный в Революционный трибунал, помещавш...  \n",
       "\n",
       "[32792 rows x 2 columns]"
      ],
      "text/html": [
       "<div>\n",
       "<style scoped>\n",
       "    .dataframe tbody tr th:only-of-type {\n",
       "        vertical-align: middle;\n",
       "    }\n",
       "\n",
       "    .dataframe tbody tr th {\n",
       "        vertical-align: top;\n",
       "    }\n",
       "\n",
       "    .dataframe thead th {\n",
       "        text-align: right;\n",
       "    }\n",
       "</style>\n",
       "<table border=\"1\" class=\"dataframe\">\n",
       "  <thead>\n",
       "    <tr style=\"text-align: right;\">\n",
       "      <th></th>\n",
       "      <th>title</th>\n",
       "      <th>text</th>\n",
       "    </tr>\n",
       "  </thead>\n",
       "  <tbody>\n",
       "    <tr>\n",
       "      <th>0</th>\n",
       "      <td>Житие протопопа Аввакума, им самим написанное</td>\n",
       "      <td>Протопоп Аввакум написал житие по благословени...</td>\n",
       "    </tr>\n",
       "    <tr>\n",
       "      <th>1</th>\n",
       "      <td>Переписка Андрея Курбского с Иваном Грозным</td>\n",
       "      <td>Князь Андрей Курбский — один из лучших воевод ...</td>\n",
       "    </tr>\n",
       "    <tr>\n",
       "      <th>2</th>\n",
       "      <td>Житие Сергия Радонежского</td>\n",
       "      <td>Преподобный Сергий родился в Тверской земле, в...</td>\n",
       "    </tr>\n",
       "    <tr>\n",
       "      <th>3</th>\n",
       "      <td>Повесть о Петре и Февронии Муромских</td>\n",
       "      <td>В городе Муроме правил князь Павел. К его жене...</td>\n",
       "    </tr>\n",
       "    <tr>\n",
       "      <th>4</th>\n",
       "      <td>Моление Даниила Заточника</td>\n",
       "      <td>«Моление», как и многие другие произведения др...</td>\n",
       "    </tr>\n",
       "    <tr>\n",
       "      <th>...</th>\n",
       "      <td>...</td>\n",
       "      <td>...</td>\n",
       "    </tr>\n",
       "    <tr>\n",
       "      <th>32787</th>\n",
       "      <td>Мифические монстры и места их обитания</td>\n",
       "      <td>В этой увлекательной и познавательной книге ав...</td>\n",
       "    </tr>\n",
       "    <tr>\n",
       "      <th>32788</th>\n",
       "      <td>Легенда о страшном Змее и наглой девице</td>\n",
       "      <td>Всё пошло не так: девица явилась сама в змеево...</td>\n",
       "    </tr>\n",
       "    <tr>\n",
       "      <th>32789</th>\n",
       "      <td>Сказки темной Руси</td>\n",
       "      <td>Гуляли, значит, по матушке Руси три статных мо...</td>\n",
       "    </tr>\n",
       "    <tr>\n",
       "      <th>32790</th>\n",
       "      <td>Сезам, откройся!!!</td>\n",
       "      <td>«– Вы начинаете стареть, Иоганн, – ворчливо ск...</td>\n",
       "    </tr>\n",
       "    <tr>\n",
       "      <th>32791</th>\n",
       "      <td>Допрос</td>\n",
       "      <td>«Посаженный в Революционный трибунал, помещавш...</td>\n",
       "    </tr>\n",
       "  </tbody>\n",
       "</table>\n",
       "<p>32792 rows × 2 columns</p>\n",
       "</div>"
      ]
     },
     "execution_count": 88,
     "metadata": {},
     "output_type": "execute_result"
    }
   ],
   "execution_count": 88
  },
  {
   "metadata": {
    "ExecuteTime": {
     "end_time": "2025-10-18T19:23:08.500977Z",
     "start_time": "2025-10-18T19:23:08.497845Z"
    }
   },
   "cell_type": "code",
   "source": "len(briefly) + len(litprichal) + len(proza_ru) + len(litres) - len(data)",
   "id": "4d0252d74c27f838",
   "outputs": [
    {
     "data": {
      "text/plain": [
       "0"
      ]
     },
     "execution_count": 89,
     "metadata": {},
     "output_type": "execute_result"
    }
   ],
   "execution_count": 89
  },
  {
   "metadata": {},
   "cell_type": "markdown",
   "source": "Никакие данные не потерялись",
   "id": "17a3adb124452b55"
  },
  {
   "metadata": {},
   "cell_type": "markdown",
   "source": "# Работа с данными",
   "id": "57d3a60a34af75f1"
  },
  {
   "metadata": {
    "ExecuteTime": {
     "end_time": "2025-10-18T19:23:10.354848Z",
     "start_time": "2025-10-18T19:23:09.154147Z"
    }
   },
   "cell_type": "code",
   "source": "data = data.apply(lambda col: col.str.lower().str.strip())",
   "id": "34cfee9554db271b",
   "outputs": [],
   "execution_count": 90
  },
  {
   "metadata": {},
   "cell_type": "markdown",
   "source": "## Почистим данные от всего лишнего",
   "id": "766c0ef39e358fd3"
  },
  {
   "metadata": {},
   "cell_type": "markdown",
   "source": "### Удалим лишние символы",
   "id": "2547a18b6f32f7dc"
  },
  {
   "metadata": {},
   "cell_type": "markdown",
   "source": "Удалим пропущенные значения",
   "id": "62c7ede8fd7e6961"
  },
  {
   "metadata": {
    "ExecuteTime": {
     "end_time": "2025-10-18T19:23:10.362136Z",
     "start_time": "2025-10-18T19:23:10.357769Z"
    }
   },
   "cell_type": "code",
   "source": "data.isna().sum()",
   "id": "f3991c9fb0ebbbed",
   "outputs": [
    {
     "data": {
      "text/plain": [
       "title      0\n",
       "text     707\n",
       "dtype: int64"
      ]
     },
     "execution_count": 91,
     "metadata": {},
     "output_type": "execute_result"
    }
   ],
   "execution_count": 91
  },
  {
   "metadata": {
    "ExecuteTime": {
     "end_time": "2025-10-18T19:23:10.375593Z",
     "start_time": "2025-10-18T19:23:10.370036Z"
    }
   },
   "cell_type": "code",
   "source": "data = data.dropna().reset_index(drop=True)",
   "id": "b9d68ce713e78211",
   "outputs": [],
   "execution_count": 92
  },
  {
   "metadata": {
    "ExecuteTime": {
     "end_time": "2025-10-18T19:23:10.386696Z",
     "start_time": "2025-10-18T19:23:10.385032Z"
    }
   },
   "cell_type": "code",
   "source": [
    "def clean_text(text):\n",
    "    \"\"\"Удаляет лишние символы из текста\"\"\"\n",
    "    text = text.lower()\n",
    "    text = re.sub(r\"http\\S+\", \"\", text)\n",
    "    text = re.sub(r'<[^>]+>', '', text)\n",
    "    text = re.sub(r'[^\\w\\s]', '', text)\n",
    "    text = re.sub(r'\\s+', ' ', text).strip()\n",
    "    return text"
   ],
   "id": "5a8247b58fa0aab3",
   "outputs": [],
   "execution_count": 93
  },
  {
   "metadata": {
    "ExecuteTime": {
     "end_time": "2025-10-18T19:23:25.253925Z",
     "start_time": "2025-10-18T19:23:10.394864Z"
    }
   },
   "cell_type": "code",
   "source": "data.text = data.text.apply(clean_text)",
   "id": "204b313988a8e583",
   "outputs": [],
   "execution_count": 94
  },
  {
   "metadata": {},
   "cell_type": "markdown",
   "source": "## Уберем из названий нумерацию (том, эпизод и т.п.)",
   "id": "7bc749be9d658b77"
  },
  {
   "metadata": {
    "ExecuteTime": {
     "end_time": "2025-10-18T19:23:25.260761Z",
     "start_time": "2025-10-18T19:23:25.257759Z"
    }
   },
   "cell_type": "code",
   "source": [
    "def remove_complex_volume_numbers(title):\n",
    "    \"\"\"\n",
    "    Удаляет сложные формы нумерации: (139 эпизод 2 том 2.)\n",
    "    \"\"\"\n",
    "    if pd.isna(title):\n",
    "        return title\n",
    "\n",
    "    title_str = str(title)\n",
    "\n",
    "    patterns = [\n",
    "        r'\\(?\\s*\\d+\\s+(?:эпизод|серия|глава|часть)\\s+\\d+\\s+(?:том|книга|т\\.)\\s*\\d*\\s*\\.?\\)?',\n",
    "        r'\\(?\\s*\\d+\\s+(?:том|книга|т\\.)\\s+\\d+\\s+(?:эпизод|серия|глава|часть)\\s*\\d*\\s*\\.?\\)?',\n",
    "\n",
    "        r'\\b\\d+\\s+\\d+\\s+(?:том|часть|книга|эпизод|серия)\\b',\n",
    "        r'\\b(?:том|часть|книга|эпизод|серия)\\s+\\d+\\s+\\d+\\b',\n",
    "\n",
    "        r'\\b\\d+[-\\.,]\\s*\\d+\\s+(?:том|часть|книга)',\n",
    "        r'\\b(?:том|часть|книга)\\s+\\d+[-\\.,]\\s*\\d+\\b',\n",
    "    ]\n",
    "\n",
    "    cleaned_title = title_str\n",
    "    for pattern in patterns:\n",
    "        cleaned_title = re.sub(pattern, '', cleaned_title, flags=re.IGNORECASE)\n",
    "\n",
    "    return cleaned_title\n",
    "\n",
    "def clean_title_completely(title):\n",
    "    \"\"\"\n",
    "    Полная очистка названия от всех видов нумерации\n",
    "    \"\"\"\n",
    "    if pd.isna(title):\n",
    "        return title\n",
    "\n",
    "    cleaned = remove_complex_volume_numbers(title)\n",
    "\n",
    "    basic_patterns = [\n",
    "        r'\\s*(?:том|часть|книга|т\\.|vol\\.?|эпизод|серия|глава|выпуск)\\s*[ivxlcdm0-9]+',\n",
    "        r'\\s*[ivxlcdm0-9]+\\s*(?:том|часть|книга|т\\.|vol\\.?|эпизод|серия|глава|выпуск)',\n",
    "        r'\\s*\\d+[-\\.,]?\\s*(?:том|часть|книга)',\n",
    "        r'\\s*(?:том|часть|книга)[-\\.,]?\\s*\\d+',\n",
    "    ]\n",
    "\n",
    "    for pattern in basic_patterns:\n",
    "        cleaned = re.sub(pattern, '', cleaned, flags=re.IGNORECASE)\n",
    "\n",
    "    cleaned = re.sub(r'\\([^)]*\\d+[^)]*\\)', '', cleaned)\n",
    "    cleaned = re.sub(r'\\s+\\d+\\s*\\.?$', '', cleaned)\n",
    "    cleaned = re.sub(r'^\\d+\\s+', '', cleaned)\n",
    "\n",
    "    cleaned = re.sub(r'\\s+', ' ', cleaned)\n",
    "    cleaned = re.sub(r'^\\s+|\\s+$', '', cleaned)\n",
    "    cleaned = re.sub(r'[\\(\\)\\[\\]]', '', cleaned)\n",
    "    cleaned = re.sub(r'[,\\-\\.:;]+$', '', cleaned)\n",
    "\n",
    "    return cleaned\n"
   ],
   "id": "906e18438f3e48cd",
   "outputs": [],
   "execution_count": 95
  },
  {
   "metadata": {
    "ExecuteTime": {
     "end_time": "2025-10-18T19:23:25.605507Z",
     "start_time": "2025-10-18T19:23:25.262756Z"
    }
   },
   "cell_type": "code",
   "source": "data[\"cleaned_title\"] = data.title.apply(clean_title_completely)",
   "id": "dc2a289d0f8894fd",
   "outputs": [],
   "execution_count": 96
  },
  {
   "metadata": {
    "ExecuteTime": {
     "end_time": "2025-10-18T19:23:25.613085Z",
     "start_time": "2025-10-18T19:23:25.609082Z"
    }
   },
   "cell_type": "code",
   "source": [
    "changed_count = (data.title != data.cleaned_title).sum()\n",
    "print(f\"Изменено названий: {changed_count} из {len(data)}\")"
   ],
   "id": "8dc7f258bb2da8f3",
   "outputs": [
    {
     "name": "stdout",
     "output_type": "stream",
     "text": [
      "Изменено названий: 6989 из 32085\n"
     ]
    }
   ],
   "execution_count": 97
  },
  {
   "metadata": {
    "ExecuteTime": {
     "end_time": "2025-10-18T19:23:25.816356Z",
     "start_time": "2025-10-18T19:23:25.618551Z"
    }
   },
   "cell_type": "code",
   "source": "data.describe()",
   "id": "807ef967a7931c89",
   "outputs": [
    {
     "data": {
      "text/plain": [
       "                                    title   text            cleaned_title\n",
       "count                               32085  32085                    32085\n",
       "unique                              29841  30655                    28570\n",
       "top     просыпаюсь, а ты рядом! дню семьи         энцикловикипедия. имена\n",
       "freq                                   38    545                       38"
      ],
      "text/html": [
       "<div>\n",
       "<style scoped>\n",
       "    .dataframe tbody tr th:only-of-type {\n",
       "        vertical-align: middle;\n",
       "    }\n",
       "\n",
       "    .dataframe tbody tr th {\n",
       "        vertical-align: top;\n",
       "    }\n",
       "\n",
       "    .dataframe thead th {\n",
       "        text-align: right;\n",
       "    }\n",
       "</style>\n",
       "<table border=\"1\" class=\"dataframe\">\n",
       "  <thead>\n",
       "    <tr style=\"text-align: right;\">\n",
       "      <th></th>\n",
       "      <th>title</th>\n",
       "      <th>text</th>\n",
       "      <th>cleaned_title</th>\n",
       "    </tr>\n",
       "  </thead>\n",
       "  <tbody>\n",
       "    <tr>\n",
       "      <th>count</th>\n",
       "      <td>32085</td>\n",
       "      <td>32085</td>\n",
       "      <td>32085</td>\n",
       "    </tr>\n",
       "    <tr>\n",
       "      <th>unique</th>\n",
       "      <td>29841</td>\n",
       "      <td>30655</td>\n",
       "      <td>28570</td>\n",
       "    </tr>\n",
       "    <tr>\n",
       "      <th>top</th>\n",
       "      <td>просыпаюсь, а ты рядом! дню семьи</td>\n",
       "      <td></td>\n",
       "      <td>энцикловикипедия. имена</td>\n",
       "    </tr>\n",
       "    <tr>\n",
       "      <th>freq</th>\n",
       "      <td>38</td>\n",
       "      <td>545</td>\n",
       "      <td>38</td>\n",
       "    </tr>\n",
       "  </tbody>\n",
       "</table>\n",
       "</div>"
      ]
     },
     "execution_count": 98,
     "metadata": {},
     "output_type": "execute_result"
    }
   ],
   "execution_count": 98
  },
  {
   "metadata": {},
   "cell_type": "markdown",
   "source": "почему то есть полностью пустые тексты",
   "id": "209fc5282ac9b7e5"
  },
  {
   "metadata": {
    "ExecuteTime": {
     "end_time": "2025-10-18T19:23:25.831659Z",
     "start_time": "2025-10-18T19:23:25.826445Z"
    }
   },
   "cell_type": "code",
   "source": "data.isna().sum()",
   "id": "67e35c33684ff30",
   "outputs": [
    {
     "data": {
      "text/plain": [
       "title            0\n",
       "text             0\n",
       "cleaned_title    0\n",
       "dtype: int64"
      ]
     },
     "execution_count": 99,
     "metadata": {},
     "output_type": "execute_result"
    }
   ],
   "execution_count": 99
  },
  {
   "metadata": {
    "ExecuteTime": {
     "end_time": "2025-10-18T19:23:25.849493Z",
     "start_time": "2025-10-18T19:23:25.835882Z"
    }
   },
   "cell_type": "code",
   "source": [
    "data = data[data.text != \"\"].reset_index(drop=True)\n",
    "data = data[data.title != \"\"].reset_index(drop=True)"
   ],
   "id": "e69be43900e72395",
   "outputs": [],
   "execution_count": 100
  },
  {
   "metadata": {
    "ExecuteTime": {
     "end_time": "2025-10-18T19:23:25.877534Z",
     "start_time": "2025-10-18T19:23:25.852527Z"
    }
   },
   "cell_type": "code",
   "source": "data.describe()",
   "id": "c4daf1947f4e05c7",
   "outputs": [
    {
     "data": {
      "text/plain": [
       "                    title                  text            cleaned_title\n",
       "count               31540                 31540                    31540\n",
       "unique              29367                 30654                    28108\n",
       "top     скрытая опасность  описание отсутствует  энцикловикипедия. имена\n",
       "freq                   38                   124                       38"
      ],
      "text/html": [
       "<div>\n",
       "<style scoped>\n",
       "    .dataframe tbody tr th:only-of-type {\n",
       "        vertical-align: middle;\n",
       "    }\n",
       "\n",
       "    .dataframe tbody tr th {\n",
       "        vertical-align: top;\n",
       "    }\n",
       "\n",
       "    .dataframe thead th {\n",
       "        text-align: right;\n",
       "    }\n",
       "</style>\n",
       "<table border=\"1\" class=\"dataframe\">\n",
       "  <thead>\n",
       "    <tr style=\"text-align: right;\">\n",
       "      <th></th>\n",
       "      <th>title</th>\n",
       "      <th>text</th>\n",
       "      <th>cleaned_title</th>\n",
       "    </tr>\n",
       "  </thead>\n",
       "  <tbody>\n",
       "    <tr>\n",
       "      <th>count</th>\n",
       "      <td>31540</td>\n",
       "      <td>31540</td>\n",
       "      <td>31540</td>\n",
       "    </tr>\n",
       "    <tr>\n",
       "      <th>unique</th>\n",
       "      <td>29367</td>\n",
       "      <td>30654</td>\n",
       "      <td>28108</td>\n",
       "    </tr>\n",
       "    <tr>\n",
       "      <th>top</th>\n",
       "      <td>скрытая опасность</td>\n",
       "      <td>описание отсутствует</td>\n",
       "      <td>энцикловикипедия. имена</td>\n",
       "    </tr>\n",
       "    <tr>\n",
       "      <th>freq</th>\n",
       "      <td>38</td>\n",
       "      <td>124</td>\n",
       "      <td>38</td>\n",
       "    </tr>\n",
       "  </tbody>\n",
       "</table>\n",
       "</div>"
      ]
     },
     "execution_count": 101,
     "metadata": {},
     "output_type": "execute_result"
    }
   ],
   "execution_count": 101
  },
  {
   "metadata": {},
   "cell_type": "markdown",
   "source": "есть пустые тексты с заглушкой «описание отсутствует», удалим их",
   "id": "d725100e48afadcc"
  },
  {
   "metadata": {
    "ExecuteTime": {
     "end_time": "2025-10-18T19:23:25.890807Z",
     "start_time": "2025-10-18T19:23:25.886538Z"
    }
   },
   "cell_type": "code",
   "source": "data = data[data.text != \"описание отсутствует\"].reset_index(drop=True)",
   "id": "c2811be82b5efdc",
   "outputs": [],
   "execution_count": 102
  },
  {
   "metadata": {
    "ExecuteTime": {
     "end_time": "2025-10-18T19:23:25.919780Z",
     "start_time": "2025-10-18T19:23:25.893478Z"
    }
   },
   "cell_type": "code",
   "source": "data.describe()",
   "id": "6e97945be5d5f02d",
   "outputs": [
    {
     "data": {
      "text/plain": [
       "                          title  \\\n",
       "count                     31416   \n",
       "unique                    29267   \n",
       "top     энцикловикипедия. имена   \n",
       "freq                         38   \n",
       "\n",
       "                                                     text  \\\n",
       "count                                               31416   \n",
       "unique                                              30653   \n",
       "top     постоянное место публикации сборник о любви вс...   \n",
       "freq                                                   38   \n",
       "\n",
       "                            cleaned_title  \n",
       "count                               31416  \n",
       "unique                              28015  \n",
       "top     просыпаюсь, а ты рядом! дню семьи  \n",
       "freq                                   38  "
      ],
      "text/html": [
       "<div>\n",
       "<style scoped>\n",
       "    .dataframe tbody tr th:only-of-type {\n",
       "        vertical-align: middle;\n",
       "    }\n",
       "\n",
       "    .dataframe tbody tr th {\n",
       "        vertical-align: top;\n",
       "    }\n",
       "\n",
       "    .dataframe thead th {\n",
       "        text-align: right;\n",
       "    }\n",
       "</style>\n",
       "<table border=\"1\" class=\"dataframe\">\n",
       "  <thead>\n",
       "    <tr style=\"text-align: right;\">\n",
       "      <th></th>\n",
       "      <th>title</th>\n",
       "      <th>text</th>\n",
       "      <th>cleaned_title</th>\n",
       "    </tr>\n",
       "  </thead>\n",
       "  <tbody>\n",
       "    <tr>\n",
       "      <th>count</th>\n",
       "      <td>31416</td>\n",
       "      <td>31416</td>\n",
       "      <td>31416</td>\n",
       "    </tr>\n",
       "    <tr>\n",
       "      <th>unique</th>\n",
       "      <td>29267</td>\n",
       "      <td>30653</td>\n",
       "      <td>28015</td>\n",
       "    </tr>\n",
       "    <tr>\n",
       "      <th>top</th>\n",
       "      <td>энцикловикипедия. имена</td>\n",
       "      <td>постоянное место публикации сборник о любви вс...</td>\n",
       "      <td>просыпаюсь, а ты рядом! дню семьи</td>\n",
       "    </tr>\n",
       "    <tr>\n",
       "      <th>freq</th>\n",
       "      <td>38</td>\n",
       "      <td>38</td>\n",
       "      <td>38</td>\n",
       "    </tr>\n",
       "  </tbody>\n",
       "</table>\n",
       "</div>"
      ]
     },
     "execution_count": 103,
     "metadata": {},
     "output_type": "execute_result"
    }
   ],
   "execution_count": 103
  },
  {
   "metadata": {
    "ExecuteTime": {
     "end_time": "2025-10-18T19:24:47.518333Z",
     "start_time": "2025-10-18T19:24:47.510630Z"
    }
   },
   "cell_type": "code",
   "source": "data.cleaned_title.value_counts().head(20)",
   "id": "ebe671e661bbbc52",
   "outputs": [
    {
     "data": {
      "text/plain": [
       "cleaned_title\n",
       "просыпаюсь, а ты рядом! дню семьи                     38\n",
       "энцикловикипедия. имена                               38\n",
       "корнеслов. история слов                               38\n",
       "энцикловикипедия. топонимы                            38\n",
       "скрытая опасность                                     38\n",
       "из жизни графомана                                    38\n",
       "латырь-камень бел-горюч... сказка?                    38\n",
       "три поколения швондеров и мы выбираем                 36\n",
       "красноярск глазами московского туриста                34\n",
       "                                                      28\n",
       "мысли по поводу                                       25\n",
       "классика зарубежного рассказа №                       25\n",
       "***                                                   20\n",
       "выкладка                                              20\n",
       "наследник ссср - фрагмент                             20\n",
       "сергей степанов. постлюбовь. новый роман              20\n",
       "классика русского рассказа №                          18\n",
       "содержание. трудные места библии. жесток ли ветхий    18\n",
       "самая длинная история на свете                        17\n",
       "две жизни                                             16\n",
       "Name: count, dtype: int64"
      ]
     },
     "execution_count": 105,
     "metadata": {},
     "output_type": "execute_result"
    }
   ],
   "execution_count": 105
  },
  {
   "metadata": {},
   "cell_type": "markdown",
   "source": "Заметим, что в названиях часто встречаются пустые названия или момстоящие только из символов. Также есть шумовые №",
   "id": "d0d6ab1d0cd8cfb8"
  },
  {
   "metadata": {
    "ExecuteTime": {
     "end_time": "2025-10-18T19:29:08.491179Z",
     "start_time": "2025-10-18T19:29:08.474590Z"
    }
   },
   "cell_type": "code",
   "source": [
    "data = data[data.cleaned_title.str.strip() != \"\"]\n",
    "noise_titles = [\"***\"]\n",
    "data = data[~data.cleaned_title.isin(noise_titles)].reset_index(drop=True)\n",
    "\n",
    "print(data.cleaned_title.value_counts().head(20))\n",
    "print(f\"Всего примеров после очистки: {len(data)}\")"
   ],
   "id": "7ce72411f2ed666e",
   "outputs": [
    {
     "name": "stdout",
     "output_type": "stream",
     "text": [
      "cleaned_title\n",
      "латырь-камень бел-горюч... сказка?                    38\n",
      "из жизни графомана                                    38\n",
      "корнеслов. история слов                               38\n",
      "энцикловикипедия. имена                               38\n",
      "просыпаюсь, а ты рядом! дню семьи                     38\n",
      "энцикловикипедия. топонимы                            38\n",
      "скрытая опасность                                     38\n",
      "три поколения швондеров и мы выбираем                 36\n",
      "красноярск глазами московского туриста                34\n",
      "классика зарубежного рассказа                         26\n",
      "мысли по поводу                                       25\n",
      "наследник ссср - фрагмент                             20\n",
      "выкладка                                              20\n",
      "сергей степанов. постлюбовь. новый роман              20\n",
      "тихий дон                                             18\n",
      "классика русского рассказа                            18\n",
      "содержание. трудные места библии. жесток ли ветхий    18\n",
      "самая длинная история на свете                        17\n",
      "две жизни                                             16\n",
      "встреча                                               14\n",
      "собрание сочинений                                    13\n",
      "история жака казановы де сейнгальт                    12\n",
      "война и мир                                           12\n",
      "печалька и ее дядя                                    12\n",
      "тысяча и одна ночь                                    12\n",
      "любовь                                                12\n",
      "alex zirk. collection of music. a. z                  12\n",
      "покаяние. роман                                       12\n",
      "история государства российского                       12\n",
      "рынок с                                               10\n",
      "сон                                                   10\n",
      "игуасу                                                10\n",
      "герои ссср афган колесник василий мемуары             10\n",
      "на горах                                              10\n",
      "ночь                                                   9\n",
      "тени безымянного озера                                 9\n",
      "преступление и наказание                               9\n",
      "мечта                                                  8\n",
      "marco preto                                            8\n",
      "мистический философ                                    8\n",
      "Name: count, dtype: int64\n",
      "Всего примеров после очистки: 31368\n"
     ]
    }
   ],
   "execution_count": 111
  },
  {
   "metadata": {
    "ExecuteTime": {
     "end_time": "2025-10-18T19:28:46.179108Z",
     "start_time": "2025-10-18T19:28:46.157123Z"
    }
   },
   "cell_type": "code",
   "source": [
    "data.cleaned_title = data.cleaned_title.str.replace('№', '', regex=False).str.strip()\n",
    "\n",
    "print(data.cleaned_title.value_counts().head(20))"
   ],
   "id": "990027f74621f3ed",
   "outputs": [
    {
     "name": "stdout",
     "output_type": "stream",
     "text": [
      "cleaned_title\n",
      "латырь-камень бел-горюч... сказка?                    38\n",
      "из жизни графомана                                    38\n",
      "корнеслов. история слов                               38\n",
      "энцикловикипедия. имена                               38\n",
      "просыпаюсь, а ты рядом! дню семьи                     38\n",
      "энцикловикипедия. топонимы                            38\n",
      "скрытая опасность                                     38\n",
      "три поколения швондеров и мы выбираем                 36\n",
      "красноярск глазами московского туриста                34\n",
      "классика зарубежного рассказа                         26\n",
      "мысли по поводу                                       25\n",
      "наследник ссср - фрагмент                             20\n",
      "выкладка                                              20\n",
      "сергей степанов. постлюбовь. новый роман              20\n",
      "тихий дон                                             18\n",
      "классика русского рассказа                            18\n",
      "содержание. трудные места библии. жесток ли ветхий    18\n",
      "самая длинная история на свете                        17\n",
      "две жизни                                             16\n",
      "встреча                                               14\n",
      "Name: count, dtype: int64\n"
     ]
    }
   ],
   "execution_count": 108
  },
  {
   "metadata": {},
   "cell_type": "markdown",
   "source": "## Посмотрим на дубликаты",
   "id": "80b0f4599fd8bc"
  },
  {
   "metadata": {
    "ExecuteTime": {
     "end_time": "2025-10-18T19:28:55.240223Z",
     "start_time": "2025-10-18T19:28:53.572316Z"
    }
   },
   "cell_type": "code",
   "source": "data.duplicated().sum()",
   "id": "286803f844ca00ac",
   "outputs": [
    {
     "data": {
      "text/plain": [
       "np.int64(429)"
      ]
     },
     "execution_count": 109,
     "metadata": {},
     "output_type": "execute_result"
    }
   ],
   "execution_count": 109
  },
  {
   "metadata": {
    "ExecuteTime": {
     "end_time": "2025-10-18T19:28:58.101343Z",
     "start_time": "2025-10-18T19:28:58.082249Z"
    }
   },
   "cell_type": "code",
   "source": "data.text.duplicated().sum(), data.title.duplicated().sum()",
   "id": "4e21c0eb91ebc075",
   "outputs": [
    {
     "data": {
      "text/plain": [
       "(np.int64(763), np.int64(2127))"
      ]
     },
     "execution_count": 110,
     "metadata": {},
     "output_type": "execute_result"
    }
   ],
   "execution_count": 110
  },
  {
   "metadata": {},
   "cell_type": "markdown",
   "source": [
    "Заметим, что есть дубликаты в названиях, но это нормально, так как парсились разные сайты, на которых могли быть одни и те же произведения. Такое можно оставить.\n",
    "\n",
    "Но есть дубликаты в тексте, причем большинство из них такие, что текст одинаковый, а названия разные. Такое нужно удалять, это создаст лишний шум для модели."
   ],
   "id": "a22e334fdf85a5ec"
  },
  {
   "metadata": {
    "ExecuteTime": {
     "end_time": "2025-10-18T19:29:28.408470Z",
     "start_time": "2025-10-18T19:29:28.387487Z"
    }
   },
   "cell_type": "code",
   "source": "data = data[~data.text.duplicated(keep=False)].reset_index(drop=True)",
   "id": "92df348863d5efe4",
   "outputs": [],
   "execution_count": 112
  },
  {
   "metadata": {
    "ExecuteTime": {
     "end_time": "2025-10-18T19:29:30.316827Z",
     "start_time": "2025-10-18T19:29:29.362763Z"
    }
   },
   "cell_type": "code",
   "source": "data.duplicated().sum()",
   "id": "62e8f1603a1245f8",
   "outputs": [
    {
     "data": {
      "text/plain": [
       "np.int64(0)"
      ]
     },
     "execution_count": 113,
     "metadata": {},
     "output_type": "execute_result"
    }
   ],
   "execution_count": 113
  },
  {
   "metadata": {
    "ExecuteTime": {
     "end_time": "2025-10-18T19:29:31.171320Z",
     "start_time": "2025-10-18T19:29:31.137583Z"
    }
   },
   "cell_type": "code",
   "source": "data.describe()",
   "id": "3ab4f1a5b58bd0e3",
   "outputs": [
    {
     "data": {
      "text/plain": [
       "         title                                               text  \\\n",
       "count    30353                                              30353   \n",
       "unique   28695                                              30353   \n",
       "top     любовь  протопоп аввакум написал житие по благословени...   \n",
       "freq        12                                                  1   \n",
       "\n",
       "                        cleaned_title  \n",
       "count                           30353  \n",
       "unique                          27623  \n",
       "top     классика зарубежного рассказа  \n",
       "freq                               26  "
      ],
      "text/html": [
       "<div>\n",
       "<style scoped>\n",
       "    .dataframe tbody tr th:only-of-type {\n",
       "        vertical-align: middle;\n",
       "    }\n",
       "\n",
       "    .dataframe tbody tr th {\n",
       "        vertical-align: top;\n",
       "    }\n",
       "\n",
       "    .dataframe thead th {\n",
       "        text-align: right;\n",
       "    }\n",
       "</style>\n",
       "<table border=\"1\" class=\"dataframe\">\n",
       "  <thead>\n",
       "    <tr style=\"text-align: right;\">\n",
       "      <th></th>\n",
       "      <th>title</th>\n",
       "      <th>text</th>\n",
       "      <th>cleaned_title</th>\n",
       "    </tr>\n",
       "  </thead>\n",
       "  <tbody>\n",
       "    <tr>\n",
       "      <th>count</th>\n",
       "      <td>30353</td>\n",
       "      <td>30353</td>\n",
       "      <td>30353</td>\n",
       "    </tr>\n",
       "    <tr>\n",
       "      <th>unique</th>\n",
       "      <td>28695</td>\n",
       "      <td>30353</td>\n",
       "      <td>27623</td>\n",
       "    </tr>\n",
       "    <tr>\n",
       "      <th>top</th>\n",
       "      <td>любовь</td>\n",
       "      <td>протопоп аввакум написал житие по благословени...</td>\n",
       "      <td>классика зарубежного рассказа</td>\n",
       "    </tr>\n",
       "    <tr>\n",
       "      <th>freq</th>\n",
       "      <td>12</td>\n",
       "      <td>1</td>\n",
       "      <td>26</td>\n",
       "    </tr>\n",
       "  </tbody>\n",
       "</table>\n",
       "</div>"
      ]
     },
     "execution_count": 114,
     "metadata": {},
     "output_type": "execute_result"
    }
   ],
   "execution_count": 114
  },
  {
   "metadata": {
    "ExecuteTime": {
     "end_time": "2025-10-18T19:29:55.946903Z",
     "start_time": "2025-10-18T19:29:55.942980Z"
    }
   },
   "cell_type": "code",
   "source": "data.drop(columns=[\"title\"], inplace=True)",
   "id": "bb80a92204dbd3c4",
   "outputs": [],
   "execution_count": 115
  },
  {
   "metadata": {
    "ExecuteTime": {
     "end_time": "2025-10-18T19:30:01.238469Z",
     "start_time": "2025-10-18T19:30:01.235316Z"
    }
   },
   "cell_type": "code",
   "source": "data.rename(columns={\"cleaned_title\": \"title\"}, inplace=True)",
   "id": "6304930c2afc7755",
   "outputs": [],
   "execution_count": 116
  },
  {
   "metadata": {
    "ExecuteTime": {
     "end_time": "2025-10-18T19:30:51.837377Z",
     "start_time": "2025-10-18T19:30:49.035597Z"
    }
   },
   "cell_type": "code",
   "source": "data.to_csv(\"../data/temp_data/all_data_cleaned.csv\", index=False)",
   "id": "c3313cea1c61b4c2",
   "outputs": [],
   "execution_count": 117
  },
  {
   "metadata": {},
   "cell_type": "markdown",
   "source": "# Анализ длины слов в названиях",
   "id": "3e24abd6dda91d23"
  },
  {
   "metadata": {
    "ExecuteTime": {
     "end_time": "2025-10-18T19:33:07.799468Z",
     "start_time": "2025-10-18T19:33:07.787188Z"
    }
   },
   "cell_type": "code",
   "source": [
    "title_counts = data.title.value_counts()\n",
    "title_counts.head(10)"
   ],
   "id": "668326996e60c52c",
   "outputs": [
    {
     "data": {
      "text/plain": [
       "title\n",
       "классика зарубежного рассказа               26\n",
       "наследник ссср - фрагмент                   20\n",
       "выкладка                                    20\n",
       "сергей степанов. постлюбовь. новый роман    20\n",
       "тихий дон                                   18\n",
       "классика русского рассказа                  18\n",
       "самая длинная история на свете              17\n",
       "встреча                                     14\n",
       "alex zirk. collection of music. a. z        12\n",
       "печалька и ее дядя                          12\n",
       "Name: count, dtype: int64"
      ]
     },
     "execution_count": 118,
     "metadata": {},
     "output_type": "execute_result"
    }
   ],
   "execution_count": 118
  },
  {
   "metadata": {
    "ExecuteTime": {
     "end_time": "2025-10-18T19:33:18.144051Z",
     "start_time": "2025-10-18T19:33:17.979968Z"
    }
   },
   "cell_type": "code",
   "source": [
    "data[\"title_len\"] = data.title.apply(lambda x: len(str(x).split()))\n",
    "\n",
    "length_counts = data.groupby('title_len').size()\n",
    "\n",
    "plt.figure(figsize=(12,6))\n",
    "length_counts.plot(kind='bar')\n",
    "plt.xlabel(\"Длина названия (слов)\")\n",
    "plt.ylabel(\"Количество названий\")\n",
    "plt.title(\"Распределение длин названий в датасете без аугментации\")\n",
    "plt.show()"
   ],
   "id": "b9aba920ec0ae285",
   "outputs": [
    {
     "data": {
      "text/plain": [
       "<Figure size 1200x600 with 1 Axes>"
      ],
      "image/png": "[encoded data removed]"
     },
     "metadata": {},
     "output_type": "display_data",
     "jetTransient": {
      "display_id": null
     }
    }
   ],
   "execution_count": 119
  },
  {
   "metadata": {},
   "cell_type": "markdown",
   "source": "Заметно, что есть названия с большим количеством слов. Это внесет в модель шум, поэтому стоит удалить их.",
   "id": "21b1b2cfe65e5a84"
  },
  {
   "metadata": {
    "ExecuteTime": {
     "end_time": "2025-10-18T19:35:57.041038Z",
     "start_time": "2025-10-18T19:35:57.020197Z"
    }
   },
   "cell_type": "code",
   "source": "data.describe(include=\"O\")",
   "id": "b129bbe2ba000267",
   "outputs": [
    {
     "data": {
      "text/plain": [
       "                                                     text  \\\n",
       "count                                               30353   \n",
       "unique                                              30353   \n",
       "top     протопоп аввакум написал житие по благословени...   \n",
       "freq                                                    1   \n",
       "\n",
       "                                title  \n",
       "count                           30353  \n",
       "unique                          27623  \n",
       "top     классика зарубежного рассказа  \n",
       "freq                               26  "
      ],
      "text/html": [
       "<div>\n",
       "<style scoped>\n",
       "    .dataframe tbody tr th:only-of-type {\n",
       "        vertical-align: middle;\n",
       "    }\n",
       "\n",
       "    .dataframe tbody tr th {\n",
       "        vertical-align: top;\n",
       "    }\n",
       "\n",
       "    .dataframe thead th {\n",
       "        text-align: right;\n",
       "    }\n",
       "</style>\n",
       "<table border=\"1\" class=\"dataframe\">\n",
       "  <thead>\n",
       "    <tr style=\"text-align: right;\">\n",
       "      <th></th>\n",
       "      <th>text</th>\n",
       "      <th>title</th>\n",
       "    </tr>\n",
       "  </thead>\n",
       "  <tbody>\n",
       "    <tr>\n",
       "      <th>count</th>\n",
       "      <td>30353</td>\n",
       "      <td>30353</td>\n",
       "    </tr>\n",
       "    <tr>\n",
       "      <th>unique</th>\n",
       "      <td>30353</td>\n",
       "      <td>27623</td>\n",
       "    </tr>\n",
       "    <tr>\n",
       "      <th>top</th>\n",
       "      <td>протопоп аввакум написал житие по благословени...</td>\n",
       "      <td>классика зарубежного рассказа</td>\n",
       "    </tr>\n",
       "    <tr>\n",
       "      <th>freq</th>\n",
       "      <td>1</td>\n",
       "      <td>26</td>\n",
       "    </tr>\n",
       "  </tbody>\n",
       "</table>\n",
       "</div>"
      ]
     },
     "execution_count": 121,
     "metadata": {},
     "output_type": "execute_result"
    }
   ],
   "execution_count": 121
  },
  {
   "metadata": {
    "ExecuteTime": {
     "end_time": "2025-10-18T19:36:04.003596Z",
     "start_time": "2025-10-18T19:36:03.996643Z"
    }
   },
   "cell_type": "code",
   "source": "data = data[data.title_len <= 10].reset_index(drop=True)",
   "id": "55a1f88541ddac9",
   "outputs": [],
   "execution_count": 122
  },
  {
   "metadata": {
    "ExecuteTime": {
     "end_time": "2025-10-18T19:36:10.862366Z",
     "start_time": "2025-10-18T19:36:10.844568Z"
    }
   },
   "cell_type": "code",
   "source": "data.describe(include=\"O\")",
   "id": "e07cecbf5f834d51",
   "outputs": [
    {
     "data": {
      "text/plain": [
       "                                                     text  \\\n",
       "count                                               29869   \n",
       "unique                                              29869   \n",
       "top     протопоп аввакум написал житие по благословени...   \n",
       "freq                                                    1   \n",
       "\n",
       "                                title  \n",
       "count                           29869  \n",
       "unique                          27140  \n",
       "top     классика зарубежного рассказа  \n",
       "freq                               26  "
      ],
      "text/html": [
       "<div>\n",
       "<style scoped>\n",
       "    .dataframe tbody tr th:only-of-type {\n",
       "        vertical-align: middle;\n",
       "    }\n",
       "\n",
       "    .dataframe tbody tr th {\n",
       "        vertical-align: top;\n",
       "    }\n",
       "\n",
       "    .dataframe thead th {\n",
       "        text-align: right;\n",
       "    }\n",
       "</style>\n",
       "<table border=\"1\" class=\"dataframe\">\n",
       "  <thead>\n",
       "    <tr style=\"text-align: right;\">\n",
       "      <th></th>\n",
       "      <th>text</th>\n",
       "      <th>title</th>\n",
       "    </tr>\n",
       "  </thead>\n",
       "  <tbody>\n",
       "    <tr>\n",
       "      <th>count</th>\n",
       "      <td>29869</td>\n",
       "      <td>29869</td>\n",
       "    </tr>\n",
       "    <tr>\n",
       "      <th>unique</th>\n",
       "      <td>29869</td>\n",
       "      <td>27140</td>\n",
       "    </tr>\n",
       "    <tr>\n",
       "      <th>top</th>\n",
       "      <td>протопоп аввакум написал житие по благословени...</td>\n",
       "      <td>классика зарубежного рассказа</td>\n",
       "    </tr>\n",
       "    <tr>\n",
       "      <th>freq</th>\n",
       "      <td>1</td>\n",
       "      <td>26</td>\n",
       "    </tr>\n",
       "  </tbody>\n",
       "</table>\n",
       "</div>"
      ]
     },
     "execution_count": 123,
     "metadata": {},
     "output_type": "execute_result"
    }
   ],
   "execution_count": 123
  },
  {
   "metadata": {
    "ExecuteTime": {
     "end_time": "2025-10-18T19:38:51.059053Z",
     "start_time": "2025-10-18T19:38:47.383137Z"
    }
   },
   "cell_type": "code",
   "source": "data['text_len'] = data.text.str.split().apply(len)",
   "id": "e8efeeb359771a1b",
   "outputs": [],
   "execution_count": 125
  },
  {
   "metadata": {
    "ExecuteTime": {
     "end_time": "2025-10-18T19:38:51.077219Z",
     "start_time": "2025-10-18T19:38:51.069156Z"
    }
   },
   "cell_type": "code",
   "source": [
    "print(\"Всего примеров:\", len(data))\n",
    "print(\"Уникальные заголовки:\", data.title.nunique())\n",
    "print(\"Средняя длина текста:\", data.text_len.mean())\n",
    "print(\"Средняя длина заголовка:\", data.title_len.mean())"
   ],
   "id": "c27a0b295a5ec4ae",
   "outputs": [
    {
     "name": "stdout",
     "output_type": "stream",
     "text": [
      "Всего примеров: 29869\n",
      "Уникальные заголовки: 27140\n",
      "Средняя длина текста: 1905.6633298737822\n",
      "Средняя длина заголовка: 3.306002879239345\n"
     ]
    }
   ],
   "execution_count": 126
  },
  {
   "metadata": {
    "ExecuteTime": {
     "end_time": "2025-10-18T19:40:47.736585Z",
     "start_time": "2025-10-18T19:40:44.981719Z"
    }
   },
   "cell_type": "code",
   "source": "data.to_csv(\"../data/all_data.csv\", index=False)",
   "id": "97b7eaf6b2fe6725",
   "outputs": [],
   "execution_count": 127
  },
  {
   "metadata": {},
   "cell_type": "code",
   "outputs": [],
   "execution_count": null,
   "source": "",
   "id": "9a606e458e9f2b35"
  }
 ],
 "metadata": {
  "kernelspec": {
   "display_name": "Python 3",
   "language": "python",
   "name": "python3"
  },
  "language_info": {
   "codemirror_mode": {
    "name": "ipython",
    "version": 2
   },
   "file_extension": ".py",
   "mimetype": "text/x-python",
   "name": "python",
   "nbconvert_exporter": "python",
   "pygments_lexer": "ipython2",
   "version": "2.7.6"
  }
 },
 "nbformat": 4,
 "nbformat_minor": 5
}
