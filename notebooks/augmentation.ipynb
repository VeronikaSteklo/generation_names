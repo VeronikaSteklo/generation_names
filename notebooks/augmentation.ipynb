{
 "cells": [
  {
   "metadata": {},
   "cell_type": "markdown",
   "source": "# Аугументация датасета, состоящего из данных с сайтов: Проза.ру, ЛитПричал, Брифли, Литрес",
   "id": "6470a3f17c036ab9"
  },
  {
   "cell_type": "code",
   "id": "initial_id",
   "metadata": {
    "collapsed": true,
    "ExecuteTime": {
     "end_time": "2025-09-01T08:12:30.083296Z",
     "start_time": "2025-09-01T08:12:27.641874Z"
    }
   },
   "source": [
    "import re\n",
    "\n",
    "import pandas as pd\n",
    "import nltk\n",
    "from sklearn.model_selection import train_test_split\n",
    "\n",
    "nltk.download(\"punkt\")\n",
    "\n",
    "from nltk.tokenize import sent_tokenize"
   ],
   "outputs": [
    {
     "name": "stderr",
     "output_type": "stream",
     "text": [
      "[nltk_data] Downloading package punkt to\n",
      "[nltk_data]     /Users/veronika_steklo/nltk_data...\n",
      "[nltk_data]   Package punkt is already up-to-date!\n"
     ]
    }
   ],
   "execution_count": 1
  },
  {
   "metadata": {
    "ExecuteTime": {
     "end_time": "2025-09-01T08:12:34.618395Z",
     "start_time": "2025-09-01T08:12:30.089009Z"
    }
   },
   "cell_type": "code",
   "source": "dataset = pd.read_csv(\"../data/temp_data/all_data.csv\")",
   "id": "2ff2525546518ea2",
   "outputs": [],
   "execution_count": 2
  },
  {
   "metadata": {
    "ExecuteTime": {
     "end_time": "2025-09-01T08:12:34.804237Z",
     "start_time": "2025-09-01T08:12:34.622703Z"
    }
   },
   "cell_type": "code",
   "source": "dataset.describe()",
   "id": "45bb2f2da88c2c79",
   "outputs": [
    {
     "data": {
      "text/plain": [
       "                                                     text  \\\n",
       "count                                               30560   \n",
       "unique                                              30560   \n",
       "top     ­­… сказки осенних вечеров ...  монохромные во...   \n",
       "freq                                                    1   \n",
       "\n",
       "                                  title  \n",
       "count                             30560  \n",
       "unique                            27805  \n",
       "top     классика зарубежного рассказа №  \n",
       "freq                                 25  "
      ],
      "text/html": [
       "<div>\n",
       "<style scoped>\n",
       "    .dataframe tbody tr th:only-of-type {\n",
       "        vertical-align: middle;\n",
       "    }\n",
       "\n",
       "    .dataframe tbody tr th {\n",
       "        vertical-align: top;\n",
       "    }\n",
       "\n",
       "    .dataframe thead th {\n",
       "        text-align: right;\n",
       "    }\n",
       "</style>\n",
       "<table border=\"1\" class=\"dataframe\">\n",
       "  <thead>\n",
       "    <tr style=\"text-align: right;\">\n",
       "      <th></th>\n",
       "      <th>text</th>\n",
       "      <th>title</th>\n",
       "    </tr>\n",
       "  </thead>\n",
       "  <tbody>\n",
       "    <tr>\n",
       "      <th>count</th>\n",
       "      <td>30560</td>\n",
       "      <td>30560</td>\n",
       "    </tr>\n",
       "    <tr>\n",
       "      <th>unique</th>\n",
       "      <td>30560</td>\n",
       "      <td>27805</td>\n",
       "    </tr>\n",
       "    <tr>\n",
       "      <th>top</th>\n",
       "      <td>­­… сказки осенних вечеров ...  монохромные во...</td>\n",
       "      <td>классика зарубежного рассказа №</td>\n",
       "    </tr>\n",
       "    <tr>\n",
       "      <th>freq</th>\n",
       "      <td>1</td>\n",
       "      <td>25</td>\n",
       "    </tr>\n",
       "  </tbody>\n",
       "</table>\n",
       "</div>"
      ]
     },
     "execution_count": 3,
     "metadata": {},
     "output_type": "execute_result"
    }
   ],
   "execution_count": 3
  },
  {
   "metadata": {
    "ExecuteTime": {
     "end_time": "2025-09-01T08:12:34.823023Z",
     "start_time": "2025-09-01T08:12:34.818527Z"
    }
   },
   "cell_type": "code",
   "source": "dataset.dropna(inplace=True)",
   "id": "f8b7b06e668d7105",
   "outputs": [],
   "execution_count": 4
  },
  {
   "metadata": {
    "ExecuteTime": {
     "end_time": "2025-09-01T08:12:34.844895Z",
     "start_time": "2025-09-01T08:12:34.829558Z"
    }
   },
   "cell_type": "code",
   "source": "dataset.describe()",
   "id": "57fd887ac6cb3da5",
   "outputs": [
    {
     "data": {
      "text/plain": [
       "                                                     text  \\\n",
       "count                                               30560   \n",
       "unique                                              30560   \n",
       "top     ­­… сказки осенних вечеров ...  монохромные во...   \n",
       "freq                                                    1   \n",
       "\n",
       "                                  title  \n",
       "count                             30560  \n",
       "unique                            27805  \n",
       "top     классика зарубежного рассказа №  \n",
       "freq                                 25  "
      ],
      "text/html": [
       "<div>\n",
       "<style scoped>\n",
       "    .dataframe tbody tr th:only-of-type {\n",
       "        vertical-align: middle;\n",
       "    }\n",
       "\n",
       "    .dataframe tbody tr th {\n",
       "        vertical-align: top;\n",
       "    }\n",
       "\n",
       "    .dataframe thead th {\n",
       "        text-align: right;\n",
       "    }\n",
       "</style>\n",
       "<table border=\"1\" class=\"dataframe\">\n",
       "  <thead>\n",
       "    <tr style=\"text-align: right;\">\n",
       "      <th></th>\n",
       "      <th>text</th>\n",
       "      <th>title</th>\n",
       "    </tr>\n",
       "  </thead>\n",
       "  <tbody>\n",
       "    <tr>\n",
       "      <th>count</th>\n",
       "      <td>30560</td>\n",
       "      <td>30560</td>\n",
       "    </tr>\n",
       "    <tr>\n",
       "      <th>unique</th>\n",
       "      <td>30560</td>\n",
       "      <td>27805</td>\n",
       "    </tr>\n",
       "    <tr>\n",
       "      <th>top</th>\n",
       "      <td>­­… сказки осенних вечеров ...  монохромные во...</td>\n",
       "      <td>классика зарубежного рассказа №</td>\n",
       "    </tr>\n",
       "    <tr>\n",
       "      <th>freq</th>\n",
       "      <td>1</td>\n",
       "      <td>25</td>\n",
       "    </tr>\n",
       "  </tbody>\n",
       "</table>\n",
       "</div>"
      ]
     },
     "execution_count": 5,
     "metadata": {},
     "output_type": "execute_result"
    }
   ],
   "execution_count": 5
  },
  {
   "metadata": {
    "ExecuteTime": {
     "end_time": "2025-09-01T08:12:34.864243Z",
     "start_time": "2025-09-01T08:12:34.848359Z"
    }
   },
   "cell_type": "code",
   "source": [
    "dataset = dataset[dataset.text != \"\"].reset_index(drop=True)\n",
    "dataset.describe()"
   ],
   "id": "857ef79f0d64dea",
   "outputs": [
    {
     "data": {
      "text/plain": [
       "                                                     text  \\\n",
       "count                                               30560   \n",
       "unique                                              30560   \n",
       "top     ­­… сказки осенних вечеров ...  монохромные во...   \n",
       "freq                                                    1   \n",
       "\n",
       "                                  title  \n",
       "count                             30560  \n",
       "unique                            27805  \n",
       "top     классика зарубежного рассказа №  \n",
       "freq                                 25  "
      ],
      "text/html": [
       "<div>\n",
       "<style scoped>\n",
       "    .dataframe tbody tr th:only-of-type {\n",
       "        vertical-align: middle;\n",
       "    }\n",
       "\n",
       "    .dataframe tbody tr th {\n",
       "        vertical-align: top;\n",
       "    }\n",
       "\n",
       "    .dataframe thead th {\n",
       "        text-align: right;\n",
       "    }\n",
       "</style>\n",
       "<table border=\"1\" class=\"dataframe\">\n",
       "  <thead>\n",
       "    <tr style=\"text-align: right;\">\n",
       "      <th></th>\n",
       "      <th>text</th>\n",
       "      <th>title</th>\n",
       "    </tr>\n",
       "  </thead>\n",
       "  <tbody>\n",
       "    <tr>\n",
       "      <th>count</th>\n",
       "      <td>30560</td>\n",
       "      <td>30560</td>\n",
       "    </tr>\n",
       "    <tr>\n",
       "      <th>unique</th>\n",
       "      <td>30560</td>\n",
       "      <td>27805</td>\n",
       "    </tr>\n",
       "    <tr>\n",
       "      <th>top</th>\n",
       "      <td>­­… сказки осенних вечеров ...  монохромные во...</td>\n",
       "      <td>классика зарубежного рассказа №</td>\n",
       "    </tr>\n",
       "    <tr>\n",
       "      <th>freq</th>\n",
       "      <td>1</td>\n",
       "      <td>25</td>\n",
       "    </tr>\n",
       "  </tbody>\n",
       "</table>\n",
       "</div>"
      ]
     },
     "execution_count": 6,
     "metadata": {},
     "output_type": "execute_result"
    }
   ],
   "execution_count": 6
  },
  {
   "metadata": {
    "ExecuteTime": {
     "end_time": "2025-09-01T08:12:36.381455Z",
     "start_time": "2025-09-01T08:12:34.868171Z"
    }
   },
   "cell_type": "code",
   "source": "dataset[dataset.duplicated(keep=False)]",
   "id": "825c209fa231ab53",
   "outputs": [
    {
     "data": {
      "text/plain": [
       "Empty DataFrame\n",
       "Columns: [text, title]\n",
       "Index: []"
      ],
      "text/html": [
       "<div>\n",
       "<style scoped>\n",
       "    .dataframe tbody tr th:only-of-type {\n",
       "        vertical-align: middle;\n",
       "    }\n",
       "\n",
       "    .dataframe tbody tr th {\n",
       "        vertical-align: top;\n",
       "    }\n",
       "\n",
       "    .dataframe thead th {\n",
       "        text-align: right;\n",
       "    }\n",
       "</style>\n",
       "<table border=\"1\" class=\"dataframe\">\n",
       "  <thead>\n",
       "    <tr style=\"text-align: right;\">\n",
       "      <th></th>\n",
       "      <th>text</th>\n",
       "      <th>title</th>\n",
       "    </tr>\n",
       "  </thead>\n",
       "  <tbody>\n",
       "  </tbody>\n",
       "</table>\n",
       "</div>"
      ]
     },
     "execution_count": 7,
     "metadata": {},
     "output_type": "execute_result"
    }
   ],
   "execution_count": 7
  },
  {
   "metadata": {
    "ExecuteTime": {
     "end_time": "2025-09-01T08:12:36.391452Z",
     "start_time": "2025-09-01T08:12:36.385388Z"
    }
   },
   "cell_type": "code",
   "source": "dataset[dataset.text == \"описание отсутствует\"]",
   "id": "baccf9a934fa5334",
   "outputs": [
    {
     "data": {
      "text/plain": [
       "Empty DataFrame\n",
       "Columns: [text, title]\n",
       "Index: []"
      ],
      "text/html": [
       "<div>\n",
       "<style scoped>\n",
       "    .dataframe tbody tr th:only-of-type {\n",
       "        vertical-align: middle;\n",
       "    }\n",
       "\n",
       "    .dataframe tbody tr th {\n",
       "        vertical-align: top;\n",
       "    }\n",
       "\n",
       "    .dataframe thead th {\n",
       "        text-align: right;\n",
       "    }\n",
       "</style>\n",
       "<table border=\"1\" class=\"dataframe\">\n",
       "  <thead>\n",
       "    <tr style=\"text-align: right;\">\n",
       "      <th></th>\n",
       "      <th>text</th>\n",
       "      <th>title</th>\n",
       "    </tr>\n",
       "  </thead>\n",
       "  <tbody>\n",
       "  </tbody>\n",
       "</table>\n",
       "</div>"
      ]
     },
     "execution_count": 8,
     "metadata": {},
     "output_type": "execute_result"
    }
   ],
   "execution_count": 8
  },
  {
   "metadata": {
    "ExecuteTime": {
     "end_time": "2025-09-01T08:12:37.353500Z",
     "start_time": "2025-09-01T08:12:36.395467Z"
    }
   },
   "cell_type": "code",
   "source": "dataset = dataset.drop_duplicates()",
   "id": "bb265b8462ed2dab",
   "outputs": [],
   "execution_count": 9
  },
  {
   "metadata": {
    "ExecuteTime": {
     "end_time": "2025-09-01T08:12:37.375408Z",
     "start_time": "2025-09-01T08:12:37.356919Z"
    }
   },
   "cell_type": "code",
   "source": "dataset.describe()",
   "id": "9b03d47eeb88f7d",
   "outputs": [
    {
     "data": {
      "text/plain": [
       "                                                     text  \\\n",
       "count                                               30560   \n",
       "unique                                              30560   \n",
       "top     ­­… сказки осенних вечеров ...  монохромные во...   \n",
       "freq                                                    1   \n",
       "\n",
       "                                  title  \n",
       "count                             30560  \n",
       "unique                            27805  \n",
       "top     классика зарубежного рассказа №  \n",
       "freq                                 25  "
      ],
      "text/html": [
       "<div>\n",
       "<style scoped>\n",
       "    .dataframe tbody tr th:only-of-type {\n",
       "        vertical-align: middle;\n",
       "    }\n",
       "\n",
       "    .dataframe tbody tr th {\n",
       "        vertical-align: top;\n",
       "    }\n",
       "\n",
       "    .dataframe thead th {\n",
       "        text-align: right;\n",
       "    }\n",
       "</style>\n",
       "<table border=\"1\" class=\"dataframe\">\n",
       "  <thead>\n",
       "    <tr style=\"text-align: right;\">\n",
       "      <th></th>\n",
       "      <th>text</th>\n",
       "      <th>title</th>\n",
       "    </tr>\n",
       "  </thead>\n",
       "  <tbody>\n",
       "    <tr>\n",
       "      <th>count</th>\n",
       "      <td>30560</td>\n",
       "      <td>30560</td>\n",
       "    </tr>\n",
       "    <tr>\n",
       "      <th>unique</th>\n",
       "      <td>30560</td>\n",
       "      <td>27805</td>\n",
       "    </tr>\n",
       "    <tr>\n",
       "      <th>top</th>\n",
       "      <td>­­… сказки осенних вечеров ...  монохромные во...</td>\n",
       "      <td>классика зарубежного рассказа №</td>\n",
       "    </tr>\n",
       "    <tr>\n",
       "      <th>freq</th>\n",
       "      <td>1</td>\n",
       "      <td>25</td>\n",
       "    </tr>\n",
       "  </tbody>\n",
       "</table>\n",
       "</div>"
      ]
     },
     "execution_count": 10,
     "metadata": {},
     "output_type": "execute_result"
    }
   ],
   "execution_count": 10
  },
  {
   "metadata": {
    "ExecuteTime": {
     "end_time": "2025-09-01T08:12:37.381561Z",
     "start_time": "2025-09-01T08:12:37.379158Z"
    }
   },
   "cell_type": "code",
   "source": "dataset.loc[195].text",
   "id": "742262c6c5fa766c",
   "outputs": [
    {
     "data": {
      "text/plain": [
       "'*настоящий материал (информация) произведен, распространен и (или) направлен иностранным агентом архангельским александром николаевичем, либо касается деятельности иностранного агента архангельского александра николаевича.русский царь и русский писатель оказались конкурентами. претензия на духовную власть сталкивалась с претензией на власть как таковую. и каждый выбирал свой путь, подчиниться, перехитрить, вступить в диалог или бросить вызов.казнены аввакум и сильвестр (медеведев); верой и правдой служил феофан (прокопович), страдали кантемир тредьяковский; приговорен к смертной казни и отправлен в милостивую ссылку радищев.державин, который говорил про себя – «я был до правды чёрт», успел побыть и губернатором, и первым министром юстиции… карамзин и пушкин попытались выстроить другие отношения, духовного партнерства и влияния. что из этого вышло, почему жанр «разговора с царем», а потом и с вождем, будет так важен для русской культуры – в лекции александра архангельского «русский писатель и русский царь. от аввакума до пушкина».'"
      ]
     },
     "execution_count": 11,
     "metadata": {},
     "output_type": "execute_result"
    }
   ],
   "execution_count": 11
  },
  {
   "metadata": {
    "ExecuteTime": {
     "end_time": "2025-09-01T08:12:37.394006Z",
     "start_time": "2025-09-01T08:12:37.388168Z"
    }
   },
   "cell_type": "code",
   "source": "dataset = dataset[dataset.text != \"\\xad\"].reset_index(drop=True)",
   "id": "abecf997b955b05c",
   "outputs": [],
   "execution_count": 12
  },
  {
   "metadata": {
    "ExecuteTime": {
     "end_time": "2025-09-01T08:12:37.418377Z",
     "start_time": "2025-09-01T08:12:37.401693Z"
    }
   },
   "cell_type": "code",
   "source": "dataset.describe()",
   "id": "b9bf2184091b452d",
   "outputs": [
    {
     "data": {
      "text/plain": [
       "                                                     text  \\\n",
       "count                                               30560   \n",
       "unique                                              30560   \n",
       "top     ­­… сказки осенних вечеров ...  монохромные во...   \n",
       "freq                                                    1   \n",
       "\n",
       "                                  title  \n",
       "count                             30560  \n",
       "unique                            27805  \n",
       "top     классика зарубежного рассказа №  \n",
       "freq                                 25  "
      ],
      "text/html": [
       "<div>\n",
       "<style scoped>\n",
       "    .dataframe tbody tr th:only-of-type {\n",
       "        vertical-align: middle;\n",
       "    }\n",
       "\n",
       "    .dataframe tbody tr th {\n",
       "        vertical-align: top;\n",
       "    }\n",
       "\n",
       "    .dataframe thead th {\n",
       "        text-align: right;\n",
       "    }\n",
       "</style>\n",
       "<table border=\"1\" class=\"dataframe\">\n",
       "  <thead>\n",
       "    <tr style=\"text-align: right;\">\n",
       "      <th></th>\n",
       "      <th>text</th>\n",
       "      <th>title</th>\n",
       "    </tr>\n",
       "  </thead>\n",
       "  <tbody>\n",
       "    <tr>\n",
       "      <th>count</th>\n",
       "      <td>30560</td>\n",
       "      <td>30560</td>\n",
       "    </tr>\n",
       "    <tr>\n",
       "      <th>unique</th>\n",
       "      <td>30560</td>\n",
       "      <td>27805</td>\n",
       "    </tr>\n",
       "    <tr>\n",
       "      <th>top</th>\n",
       "      <td>­­… сказки осенних вечеров ...  монохромные во...</td>\n",
       "      <td>классика зарубежного рассказа №</td>\n",
       "    </tr>\n",
       "    <tr>\n",
       "      <th>freq</th>\n",
       "      <td>1</td>\n",
       "      <td>25</td>\n",
       "    </tr>\n",
       "  </tbody>\n",
       "</table>\n",
       "</div>"
      ]
     },
     "execution_count": 13,
     "metadata": {},
     "output_type": "execute_result"
    }
   ],
   "execution_count": 13
  },
  {
   "metadata": {
    "ExecuteTime": {
     "end_time": "2025-09-01T08:12:37.425508Z",
     "start_time": "2025-09-01T08:12:37.421158Z"
    }
   },
   "cell_type": "code",
   "source": "dataset = dataset[~dataset.duplicated(subset=[\"text\"], keep=False)]",
   "id": "ccbd331647c9b09",
   "outputs": [],
   "execution_count": 14
  },
  {
   "metadata": {
    "ExecuteTime": {
     "end_time": "2025-09-01T08:12:37.444687Z",
     "start_time": "2025-09-01T08:12:37.429502Z"
    }
   },
   "cell_type": "code",
   "source": "dataset.describe()",
   "id": "53dc6ec363f24843",
   "outputs": [
    {
     "data": {
      "text/plain": [
       "                                                     text  \\\n",
       "count                                               30560   \n",
       "unique                                              30560   \n",
       "top     ­­… сказки осенних вечеров ...  монохромные во...   \n",
       "freq                                                    1   \n",
       "\n",
       "                                  title  \n",
       "count                             30560  \n",
       "unique                            27805  \n",
       "top     классика зарубежного рассказа №  \n",
       "freq                                 25  "
      ],
      "text/html": [
       "<div>\n",
       "<style scoped>\n",
       "    .dataframe tbody tr th:only-of-type {\n",
       "        vertical-align: middle;\n",
       "    }\n",
       "\n",
       "    .dataframe tbody tr th {\n",
       "        vertical-align: top;\n",
       "    }\n",
       "\n",
       "    .dataframe thead th {\n",
       "        text-align: right;\n",
       "    }\n",
       "</style>\n",
       "<table border=\"1\" class=\"dataframe\">\n",
       "  <thead>\n",
       "    <tr style=\"text-align: right;\">\n",
       "      <th></th>\n",
       "      <th>text</th>\n",
       "      <th>title</th>\n",
       "    </tr>\n",
       "  </thead>\n",
       "  <tbody>\n",
       "    <tr>\n",
       "      <th>count</th>\n",
       "      <td>30560</td>\n",
       "      <td>30560</td>\n",
       "    </tr>\n",
       "    <tr>\n",
       "      <th>unique</th>\n",
       "      <td>30560</td>\n",
       "      <td>27805</td>\n",
       "    </tr>\n",
       "    <tr>\n",
       "      <th>top</th>\n",
       "      <td>­­… сказки осенних вечеров ...  монохромные во...</td>\n",
       "      <td>классика зарубежного рассказа №</td>\n",
       "    </tr>\n",
       "    <tr>\n",
       "      <th>freq</th>\n",
       "      <td>1</td>\n",
       "      <td>25</td>\n",
       "    </tr>\n",
       "  </tbody>\n",
       "</table>\n",
       "</div>"
      ]
     },
     "execution_count": 15,
     "metadata": {},
     "output_type": "execute_result"
    }
   ],
   "execution_count": 15
  },
  {
   "metadata": {
    "ExecuteTime": {
     "end_time": "2025-09-01T08:12:37.448952Z",
     "start_time": "2025-09-01T08:12:37.447280Z"
    }
   },
   "cell_type": "code",
   "source": "dataset.reset_index(drop=True, inplace=True)",
   "id": "e30ce0689e01293b",
   "outputs": [],
   "execution_count": 16
  },
  {
   "metadata": {
    "ExecuteTime": {
     "end_time": "2025-09-01T08:12:37.458282Z",
     "start_time": "2025-09-01T08:12:37.455149Z"
    }
   },
   "cell_type": "code",
   "source": "dataset",
   "id": "6f3f000648a11b09",
   "outputs": [
    {
     "data": {
      "text/plain": [
       "                                                    text  \\\n",
       "0      ­­… сказки осенних вечеров ...  монохромные во...   \n",
       "1      здравствуйте, вы установили мессенджер max, по...   \n",
       "2      радиоспектакль по роману.англия времен царство...   \n",
       "3      где можно найти наиболее полный литературный о...   \n",
       "4      новый, адаптированный перевод алексея козлова ...   \n",
       "...                                                  ...   \n",
       "30555  борис житков увлекался астрономией и фотографи...   \n",
       "30556  «этот сон видел бедный макар, который загнал с...   \n",
       "30557  раннее утро предвещало жаркий день. солнечные ...   \n",
       "30558  святки – удивительный период времени: один год...   \n",
       "30559  авантюрист - передовой юрист бредакция - руков...   \n",
       "\n",
       "                                              title  \n",
       "0                                   время - октябрь  \n",
       "1                                         переписка  \n",
       "2      айвенго спектакль-я. ричард – львиное сердце  \n",
       "3                                          калевала  \n",
       "4      янки из коннектикута при дворе короля артура  \n",
       "...                                             ...  \n",
       "30555                                    что бывало  \n",
       "30556                                    сон макара  \n",
       "30557              финал. золотое солнце правосудия  \n",
       "30558                             святочные истории  \n",
       "30559                      краткий снговый словарик  \n",
       "\n",
       "[30560 rows x 2 columns]"
      ],
      "text/html": [
       "<div>\n",
       "<style scoped>\n",
       "    .dataframe tbody tr th:only-of-type {\n",
       "        vertical-align: middle;\n",
       "    }\n",
       "\n",
       "    .dataframe tbody tr th {\n",
       "        vertical-align: top;\n",
       "    }\n",
       "\n",
       "    .dataframe thead th {\n",
       "        text-align: right;\n",
       "    }\n",
       "</style>\n",
       "<table border=\"1\" class=\"dataframe\">\n",
       "  <thead>\n",
       "    <tr style=\"text-align: right;\">\n",
       "      <th></th>\n",
       "      <th>text</th>\n",
       "      <th>title</th>\n",
       "    </tr>\n",
       "  </thead>\n",
       "  <tbody>\n",
       "    <tr>\n",
       "      <th>0</th>\n",
       "      <td>­­… сказки осенних вечеров ...  монохромные во...</td>\n",
       "      <td>время - октябрь</td>\n",
       "    </tr>\n",
       "    <tr>\n",
       "      <th>1</th>\n",
       "      <td>здравствуйте, вы установили мессенджер max, по...</td>\n",
       "      <td>переписка</td>\n",
       "    </tr>\n",
       "    <tr>\n",
       "      <th>2</th>\n",
       "      <td>радиоспектакль по роману.англия времен царство...</td>\n",
       "      <td>айвенго спектакль-я. ричард – львиное сердце</td>\n",
       "    </tr>\n",
       "    <tr>\n",
       "      <th>3</th>\n",
       "      <td>где можно найти наиболее полный литературный о...</td>\n",
       "      <td>калевала</td>\n",
       "    </tr>\n",
       "    <tr>\n",
       "      <th>4</th>\n",
       "      <td>новый, адаптированный перевод алексея козлова ...</td>\n",
       "      <td>янки из коннектикута при дворе короля артура</td>\n",
       "    </tr>\n",
       "    <tr>\n",
       "      <th>...</th>\n",
       "      <td>...</td>\n",
       "      <td>...</td>\n",
       "    </tr>\n",
       "    <tr>\n",
       "      <th>30555</th>\n",
       "      <td>борис житков увлекался астрономией и фотографи...</td>\n",
       "      <td>что бывало</td>\n",
       "    </tr>\n",
       "    <tr>\n",
       "      <th>30556</th>\n",
       "      <td>«этот сон видел бедный макар, который загнал с...</td>\n",
       "      <td>сон макара</td>\n",
       "    </tr>\n",
       "    <tr>\n",
       "      <th>30557</th>\n",
       "      <td>раннее утро предвещало жаркий день. солнечные ...</td>\n",
       "      <td>финал. золотое солнце правосудия</td>\n",
       "    </tr>\n",
       "    <tr>\n",
       "      <th>30558</th>\n",
       "      <td>святки – удивительный период времени: один год...</td>\n",
       "      <td>святочные истории</td>\n",
       "    </tr>\n",
       "    <tr>\n",
       "      <th>30559</th>\n",
       "      <td>авантюрист - передовой юрист бредакция - руков...</td>\n",
       "      <td>краткий снговый словарик</td>\n",
       "    </tr>\n",
       "  </tbody>\n",
       "</table>\n",
       "<p>30560 rows × 2 columns</p>\n",
       "</div>"
      ]
     },
     "execution_count": 17,
     "metadata": {},
     "output_type": "execute_result"
    }
   ],
   "execution_count": 17
  },
  {
   "metadata": {
    "ExecuteTime": {
     "end_time": "2025-09-01T08:12:38.435070Z",
     "start_time": "2025-09-01T08:12:37.463752Z"
    }
   },
   "cell_type": "code",
   "source": [
    "dup_titles = (\n",
    "    dataset.groupby(\"text\")[\"title\"]\n",
    "    .nunique()\n",
    "    .reset_index()\n",
    "    .query(\"title > 1\")\n",
    ")\n",
    "\n",
    "print(f\"Текстов с одинаковыми содержаниями, но разными названиями: {len(dup_titles)}\")"
   ],
   "id": "c054973011a621ae",
   "outputs": [
    {
     "name": "stdout",
     "output_type": "stream",
     "text": [
      "Текстов с одинаковыми содержаниями, но разными названиями: 0\n"
     ]
    }
   ],
   "execution_count": 18
  },
  {
   "metadata": {
    "ExecuteTime": {
     "end_time": "2025-09-01T08:12:40.491053Z",
     "start_time": "2025-09-01T08:12:38.438460Z"
    }
   },
   "cell_type": "code",
   "source": [
    "dataset = dataset.groupby(\"text\").agg(lambda x: x.value_counts().index[0]).reset_index()\n",
    "dataset.describe()"
   ],
   "id": "88cd86c938c9ae78",
   "outputs": [
    {
     "data": {
      "text/plain": [
       "                                                     text  \\\n",
       "count                                               30560   \n",
       "unique                                              30560   \n",
       "top       как любому живому организму, организации нуж...   \n",
       "freq                                                    1   \n",
       "\n",
       "                                  title  \n",
       "count                             30560  \n",
       "unique                            27805  \n",
       "top     классика зарубежного рассказа №  \n",
       "freq                                 25  "
      ],
      "text/html": [
       "<div>\n",
       "<style scoped>\n",
       "    .dataframe tbody tr th:only-of-type {\n",
       "        vertical-align: middle;\n",
       "    }\n",
       "\n",
       "    .dataframe tbody tr th {\n",
       "        vertical-align: top;\n",
       "    }\n",
       "\n",
       "    .dataframe thead th {\n",
       "        text-align: right;\n",
       "    }\n",
       "</style>\n",
       "<table border=\"1\" class=\"dataframe\">\n",
       "  <thead>\n",
       "    <tr style=\"text-align: right;\">\n",
       "      <th></th>\n",
       "      <th>text</th>\n",
       "      <th>title</th>\n",
       "    </tr>\n",
       "  </thead>\n",
       "  <tbody>\n",
       "    <tr>\n",
       "      <th>count</th>\n",
       "      <td>30560</td>\n",
       "      <td>30560</td>\n",
       "    </tr>\n",
       "    <tr>\n",
       "      <th>unique</th>\n",
       "      <td>30560</td>\n",
       "      <td>27805</td>\n",
       "    </tr>\n",
       "    <tr>\n",
       "      <th>top</th>\n",
       "      <td>как любому живому организму, организации нуж...</td>\n",
       "      <td>классика зарубежного рассказа №</td>\n",
       "    </tr>\n",
       "    <tr>\n",
       "      <th>freq</th>\n",
       "      <td>1</td>\n",
       "      <td>25</td>\n",
       "    </tr>\n",
       "  </tbody>\n",
       "</table>\n",
       "</div>"
      ]
     },
     "execution_count": 19,
     "metadata": {},
     "output_type": "execute_result"
    }
   ],
   "execution_count": 19
  },
  {
   "metadata": {
    "ExecuteTime": {
     "end_time": "2025-09-01T08:12:40.496202Z",
     "start_time": "2025-09-01T08:12:40.494159Z"
    }
   },
   "cell_type": "code",
   "source": [
    "def is_meaningful(text):\n",
    "    return bool(re.search(r\"[А-Яа-яA-Za-z0-9]\", text))\n",
    "\n",
    "def clean_leading_punct(text):\n",
    "    return re.sub(r\"^[^\\wА-Яа-я0-9]+\", \"\", text).strip()"
   ],
   "id": "f67459ffb3573e3",
   "outputs": [],
   "execution_count": 20
  },
  {
   "metadata": {
    "ExecuteTime": {
     "end_time": "2025-09-01T08:12:40.528069Z",
     "start_time": "2025-09-01T08:12:40.503137Z"
    }
   },
   "cell_type": "code",
   "source": [
    "dataset = dataset[dataset.text.apply(is_meaningful)].reset_index(drop=True)\n",
    "dataset.describe()"
   ],
   "id": "5e4340a5c7913c0f",
   "outputs": [
    {
     "data": {
      "text/plain": [
       "                                                     text  \\\n",
       "count                                               30556   \n",
       "unique                                              30556   \n",
       "top       как любому живому организму, организации нуж...   \n",
       "freq                                                    1   \n",
       "\n",
       "                                  title  \n",
       "count                             30556  \n",
       "unique                            27802  \n",
       "top     классика зарубежного рассказа №  \n",
       "freq                                 25  "
      ],
      "text/html": [
       "<div>\n",
       "<style scoped>\n",
       "    .dataframe tbody tr th:only-of-type {\n",
       "        vertical-align: middle;\n",
       "    }\n",
       "\n",
       "    .dataframe tbody tr th {\n",
       "        vertical-align: top;\n",
       "    }\n",
       "\n",
       "    .dataframe thead th {\n",
       "        text-align: right;\n",
       "    }\n",
       "</style>\n",
       "<table border=\"1\" class=\"dataframe\">\n",
       "  <thead>\n",
       "    <tr style=\"text-align: right;\">\n",
       "      <th></th>\n",
       "      <th>text</th>\n",
       "      <th>title</th>\n",
       "    </tr>\n",
       "  </thead>\n",
       "  <tbody>\n",
       "    <tr>\n",
       "      <th>count</th>\n",
       "      <td>30556</td>\n",
       "      <td>30556</td>\n",
       "    </tr>\n",
       "    <tr>\n",
       "      <th>unique</th>\n",
       "      <td>30556</td>\n",
       "      <td>27802</td>\n",
       "    </tr>\n",
       "    <tr>\n",
       "      <th>top</th>\n",
       "      <td>как любому живому организму, организации нуж...</td>\n",
       "      <td>классика зарубежного рассказа №</td>\n",
       "    </tr>\n",
       "    <tr>\n",
       "      <th>freq</th>\n",
       "      <td>1</td>\n",
       "      <td>25</td>\n",
       "    </tr>\n",
       "  </tbody>\n",
       "</table>\n",
       "</div>"
      ]
     },
     "execution_count": 21,
     "metadata": {},
     "output_type": "execute_result"
    }
   ],
   "execution_count": 21
  },
  {
   "metadata": {
    "ExecuteTime": {
     "end_time": "2025-09-01T08:12:43.256042Z",
     "start_time": "2025-09-01T08:12:40.538415Z"
    }
   },
   "cell_type": "code",
   "source": [
    "dataset = dataset[dataset.text.str.len() > 10]\n",
    "dataset = dataset[dataset.text.str.split().str.len() > 5]"
   ],
   "id": "681a09351e358aea",
   "outputs": [],
   "execution_count": 22
  },
  {
   "metadata": {
    "ExecuteTime": {
     "end_time": "2025-09-01T08:12:53.025981Z",
     "start_time": "2025-09-01T08:12:43.272523Z"
    }
   },
   "cell_type": "code",
   "source": [
    "dataset.text = dataset.text.str.replace(r\"[^\\w\\s,.!?-]\", \" \", regex=True)\n",
    "dataset.text = dataset.text.str.replace(r\"\\s+\", \" \", regex=True).str.strip()"
   ],
   "id": "25340fa26876af23",
   "outputs": [],
   "execution_count": 23
  },
  {
   "metadata": {
    "ExecuteTime": {
     "end_time": "2025-09-01T08:12:53.249902Z",
     "start_time": "2025-09-01T08:12:53.041404Z"
    }
   },
   "cell_type": "code",
   "source": [
    "dataset.text = dataset.text.apply(clean_leading_punct)\n",
    "dataset.describe()"
   ],
   "id": "e5940e25056d858f",
   "outputs": [
    {
     "data": {
      "text/plain": [
       "                                                     text  \\\n",
       "count                                               30457   \n",
       "unique                                              30412   \n",
       "top     адам бид дебютный роман знаменитой английской ...   \n",
       "freq                                                    3   \n",
       "\n",
       "                                  title  \n",
       "count                             30457  \n",
       "unique                            27715  \n",
       "top     классика зарубежного рассказа №  \n",
       "freq                                 25  "
      ],
      "text/html": [
       "<div>\n",
       "<style scoped>\n",
       "    .dataframe tbody tr th:only-of-type {\n",
       "        vertical-align: middle;\n",
       "    }\n",
       "\n",
       "    .dataframe tbody tr th {\n",
       "        vertical-align: top;\n",
       "    }\n",
       "\n",
       "    .dataframe thead th {\n",
       "        text-align: right;\n",
       "    }\n",
       "</style>\n",
       "<table border=\"1\" class=\"dataframe\">\n",
       "  <thead>\n",
       "    <tr style=\"text-align: right;\">\n",
       "      <th></th>\n",
       "      <th>text</th>\n",
       "      <th>title</th>\n",
       "    </tr>\n",
       "  </thead>\n",
       "  <tbody>\n",
       "    <tr>\n",
       "      <th>count</th>\n",
       "      <td>30457</td>\n",
       "      <td>30457</td>\n",
       "    </tr>\n",
       "    <tr>\n",
       "      <th>unique</th>\n",
       "      <td>30412</td>\n",
       "      <td>27715</td>\n",
       "    </tr>\n",
       "    <tr>\n",
       "      <th>top</th>\n",
       "      <td>адам бид дебютный роман знаменитой английской ...</td>\n",
       "      <td>классика зарубежного рассказа №</td>\n",
       "    </tr>\n",
       "    <tr>\n",
       "      <th>freq</th>\n",
       "      <td>3</td>\n",
       "      <td>25</td>\n",
       "    </tr>\n",
       "  </tbody>\n",
       "</table>\n",
       "</div>"
      ]
     },
     "execution_count": 24,
     "metadata": {},
     "output_type": "execute_result"
    }
   ],
   "execution_count": 24
  },
  {
   "metadata": {
    "ExecuteTime": {
     "end_time": "2025-09-01T08:12:53.285255Z",
     "start_time": "2025-09-01T08:12:53.259541Z"
    }
   },
   "cell_type": "code",
   "source": [
    "dataset.reset_index(drop=True, inplace=True)\n",
    "dataset = dataset[~dataset.duplicated(subset=[\"text\"], keep=False)].reset_index(drop=True)\n",
    "dataset.describe()"
   ],
   "id": "1d465e825d13f802",
   "outputs": [
    {
     "data": {
      "text/plain": [
       "                                                     text  \\\n",
       "count                                               30368   \n",
       "unique                                              30368   \n",
       "top     как любому живому организму, организации нужна...   \n",
       "freq                                                    1   \n",
       "\n",
       "                                  title  \n",
       "count                             30368  \n",
       "unique                            27665  \n",
       "top     классика зарубежного рассказа №  \n",
       "freq                                 25  "
      ],
      "text/html": [
       "<div>\n",
       "<style scoped>\n",
       "    .dataframe tbody tr th:only-of-type {\n",
       "        vertical-align: middle;\n",
       "    }\n",
       "\n",
       "    .dataframe tbody tr th {\n",
       "        vertical-align: top;\n",
       "    }\n",
       "\n",
       "    .dataframe thead th {\n",
       "        text-align: right;\n",
       "    }\n",
       "</style>\n",
       "<table border=\"1\" class=\"dataframe\">\n",
       "  <thead>\n",
       "    <tr style=\"text-align: right;\">\n",
       "      <th></th>\n",
       "      <th>text</th>\n",
       "      <th>title</th>\n",
       "    </tr>\n",
       "  </thead>\n",
       "  <tbody>\n",
       "    <tr>\n",
       "      <th>count</th>\n",
       "      <td>30368</td>\n",
       "      <td>30368</td>\n",
       "    </tr>\n",
       "    <tr>\n",
       "      <th>unique</th>\n",
       "      <td>30368</td>\n",
       "      <td>27665</td>\n",
       "    </tr>\n",
       "    <tr>\n",
       "      <th>top</th>\n",
       "      <td>как любому живому организму, организации нужна...</td>\n",
       "      <td>классика зарубежного рассказа №</td>\n",
       "    </tr>\n",
       "    <tr>\n",
       "      <th>freq</th>\n",
       "      <td>1</td>\n",
       "      <td>25</td>\n",
       "    </tr>\n",
       "  </tbody>\n",
       "</table>\n",
       "</div>"
      ]
     },
     "execution_count": 25,
     "metadata": {},
     "output_type": "execute_result"
    }
   ],
   "execution_count": 25
  },
  {
   "metadata": {},
   "cell_type": "markdown",
   "source": "## Разделение на выборки",
   "id": "6ed60958b34a2c57"
  },
  {
   "metadata": {
    "ExecuteTime": {
     "end_time": "2025-09-01T08:12:53.995119Z",
     "start_time": "2025-09-01T08:12:53.289168Z"
    }
   },
   "cell_type": "code",
   "source": [
    "train_df, val_df = train_test_split(\n",
    "    dataset, test_size=0.2, random_state=42, shuffle=True\n",
    ")"
   ],
   "id": "841e1b60c4188bf2",
   "outputs": [],
   "execution_count": 26
  },
  {
   "metadata": {
    "ExecuteTime": {
     "end_time": "2025-09-01T08:12:54.003385Z",
     "start_time": "2025-09-01T08:12:54.001351Z"
    }
   },
   "cell_type": "code",
   "source": "len(train_df), len(val_df)",
   "id": "7714c279ef065714",
   "outputs": [
    {
     "data": {
      "text/plain": [
       "(24294, 6074)"
      ]
     },
     "execution_count": 27,
     "metadata": {},
     "output_type": "execute_result"
    }
   ],
   "execution_count": 27
  },
  {
   "metadata": {
    "ExecuteTime": {
     "end_time": "2025-09-01T08:12:54.615041Z",
     "start_time": "2025-09-01T08:12:54.009242Z"
    }
   },
   "cell_type": "code",
   "source": "val_df.to_csv(\"../data/val_df.csv\", index=False)",
   "id": "eb2fd3b2e3e89e45",
   "outputs": [],
   "execution_count": 28
  },
  {
   "metadata": {},
   "cell_type": "markdown",
   "source": "## Аугментация тренировочной выборки",
   "id": "3a35a50046f1c874"
  },
  {
   "metadata": {
    "ExecuteTime": {
     "end_time": "2025-09-01T08:12:54.619419Z",
     "start_time": "2025-09-01T08:12:54.617775Z"
    }
   },
   "cell_type": "code",
   "source": [
    "def split_text_into_chunks(text, sentences_per_chunk=3):\n",
    "    sentences = sent_tokenize(text, language=\"russian\")\n",
    "    chunks = []\n",
    "    for i in range(0, len(sentences), sentences_per_chunk):\n",
    "        chunk = \" \".join(sentences[i:i+sentences_per_chunk])\n",
    "        chunks.append(chunk)\n",
    "    return chunks"
   ],
   "id": "3f8f80ede483fa3a",
   "outputs": [],
   "execution_count": 29
  },
  {
   "metadata": {
    "ExecuteTime": {
     "end_time": "2025-09-01T08:13:19.080565Z",
     "start_time": "2025-09-01T08:12:54.622816Z"
    }
   },
   "cell_type": "code",
   "source": [
    "from tqdm import tqdm\n",
    "\n",
    "augmented_rows = []\n",
    "for _, row in tqdm(train_df.iterrows(), total=len(train_df)):\n",
    "    chunks = split_text_into_chunks(row.text, sentences_per_chunk=3)\n",
    "    for chunk in chunks:\n",
    "        augmented_rows.append({\"text\": chunk, \"title\": row.title})\n",
    "\n",
    "augmented_dataset = pd.DataFrame(augmented_rows)"
   ],
   "id": "4eb3833df9c0acc1",
   "outputs": [
    {
     "name": "stderr",
     "output_type": "stream",
     "text": [
      "100%|██████████| 24294/24294 [00:24<00:00, 1009.53it/s]\n"
     ]
    }
   ],
   "execution_count": 30
  },
  {
   "metadata": {
    "ExecuteTime": {
     "end_time": "2025-09-01T08:13:19.723725Z",
     "start_time": "2025-09-01T08:13:19.084945Z"
    }
   },
   "cell_type": "code",
   "source": "augmented_dataset.describe()",
   "id": "ad913ba8ea0d86a0",
   "outputs": [
    {
     "data": {
      "text/plain": [
       "           text                            title\n",
       "count   1330311                          1330311\n",
       "unique  1306320                            22466\n",
       "top       . . .  чистый хозяин собственного мира\n",
       "freq         79                            13972"
      ],
      "text/html": [
       "<div>\n",
       "<style scoped>\n",
       "    .dataframe tbody tr th:only-of-type {\n",
       "        vertical-align: middle;\n",
       "    }\n",
       "\n",
       "    .dataframe tbody tr th {\n",
       "        vertical-align: top;\n",
       "    }\n",
       "\n",
       "    .dataframe thead th {\n",
       "        text-align: right;\n",
       "    }\n",
       "</style>\n",
       "<table border=\"1\" class=\"dataframe\">\n",
       "  <thead>\n",
       "    <tr style=\"text-align: right;\">\n",
       "      <th></th>\n",
       "      <th>text</th>\n",
       "      <th>title</th>\n",
       "    </tr>\n",
       "  </thead>\n",
       "  <tbody>\n",
       "    <tr>\n",
       "      <th>count</th>\n",
       "      <td>1330311</td>\n",
       "      <td>1330311</td>\n",
       "    </tr>\n",
       "    <tr>\n",
       "      <th>unique</th>\n",
       "      <td>1306320</td>\n",
       "      <td>22466</td>\n",
       "    </tr>\n",
       "    <tr>\n",
       "      <th>top</th>\n",
       "      <td>. . .</td>\n",
       "      <td>чистый хозяин собственного мира</td>\n",
       "    </tr>\n",
       "    <tr>\n",
       "      <th>freq</th>\n",
       "      <td>79</td>\n",
       "      <td>13972</td>\n",
       "    </tr>\n",
       "  </tbody>\n",
       "</table>\n",
       "</div>"
      ]
     },
     "execution_count": 31,
     "metadata": {},
     "output_type": "execute_result"
    }
   ],
   "execution_count": 31
  },
  {
   "metadata": {
    "ExecuteTime": {
     "end_time": "2025-09-01T08:13:20.331177Z",
     "start_time": "2025-09-01T08:13:19.734997Z"
    }
   },
   "cell_type": "code",
   "source": [
    "augmented_dataset = augmented_dataset[augmented_dataset.text.str.strip().str.len() > 10]\n",
    "augmented_dataset = augmented_dataset[augmented_dataset.text != \". . .\"]\n",
    "\n",
    "max_per_title = 500\n",
    "augmented_dataset = augmented_dataset.groupby(\"title\").head(max_per_title).reset_index(drop=True)\n",
    "\n",
    "print(augmented_dataset.title.value_counts().head(10))"
   ],
   "id": "cd4860175c4e294c",
   "outputs": [
    {
     "name": "stdout",
     "output_type": "stream",
     "text": [
      "title\n",
      "ангел жизни                                       500\n",
      "просл ик пр б-цы галатская чудотв!                500\n",
      "сережа. рождение воина                            500\n",
      "девичник у его стола                              500\n",
      "записки на испанском балконе                      500\n",
      "незнакомый знакомый                               500\n",
      "шаги в бездну или любовь на острие ножа           500\n",
      "в тени радуги                                     500\n",
      "в поисках простых истин                           500\n",
      "«о делах божиих возвещать похвально...» анализ    500\n",
      "Name: count, dtype: int64\n"
     ]
    }
   ],
   "execution_count": 32
  },
  {
   "metadata": {
    "ExecuteTime": {
     "end_time": "2025-09-01T08:13:20.696873Z",
     "start_time": "2025-09-01T08:13:20.335306Z"
    }
   },
   "cell_type": "code",
   "source": "augmented_dataset.describe()",
   "id": "cc10100f897cba34",
   "outputs": [
    {
     "data": {
      "text/plain": [
       "                                                     text        title\n",
       "count                                              848986       848986\n",
       "unique                                             835191        22466\n",
       "top     если же кого-то заинтересует более подробно то...  ангел жизни\n",
       "freq                                                   51          500"
      ],
      "text/html": [
       "<div>\n",
       "<style scoped>\n",
       "    .dataframe tbody tr th:only-of-type {\n",
       "        vertical-align: middle;\n",
       "    }\n",
       "\n",
       "    .dataframe tbody tr th {\n",
       "        vertical-align: top;\n",
       "    }\n",
       "\n",
       "    .dataframe thead th {\n",
       "        text-align: right;\n",
       "    }\n",
       "</style>\n",
       "<table border=\"1\" class=\"dataframe\">\n",
       "  <thead>\n",
       "    <tr style=\"text-align: right;\">\n",
       "      <th></th>\n",
       "      <th>text</th>\n",
       "      <th>title</th>\n",
       "    </tr>\n",
       "  </thead>\n",
       "  <tbody>\n",
       "    <tr>\n",
       "      <th>count</th>\n",
       "      <td>848986</td>\n",
       "      <td>848986</td>\n",
       "    </tr>\n",
       "    <tr>\n",
       "      <th>unique</th>\n",
       "      <td>835191</td>\n",
       "      <td>22466</td>\n",
       "    </tr>\n",
       "    <tr>\n",
       "      <th>top</th>\n",
       "      <td>если же кого-то заинтересует более подробно то...</td>\n",
       "      <td>ангел жизни</td>\n",
       "    </tr>\n",
       "    <tr>\n",
       "      <th>freq</th>\n",
       "      <td>51</td>\n",
       "      <td>500</td>\n",
       "    </tr>\n",
       "  </tbody>\n",
       "</table>\n",
       "</div>"
      ]
     },
     "execution_count": 33,
     "metadata": {},
     "output_type": "execute_result"
    }
   ],
   "execution_count": 33
  },
  {
   "metadata": {
    "ExecuteTime": {
     "end_time": "2025-09-01T08:13:21.701316Z",
     "start_time": "2025-09-01T08:13:20.699924Z"
    }
   },
   "cell_type": "code",
   "source": "augmented_dataset = augmented_dataset.drop_duplicates().reset_index(drop=True)",
   "id": "a2dad8eeb90a0c65",
   "outputs": [],
   "execution_count": 34
  },
  {
   "metadata": {
    "ExecuteTime": {
     "end_time": "2025-09-01T08:13:22.071763Z",
     "start_time": "2025-09-01T08:13:21.705392Z"
    }
   },
   "cell_type": "code",
   "source": "augmented_dataset.describe()",
   "id": "4821aa22abe02009",
   "outputs": [
    {
     "data": {
      "text/plain": [
       "                                                     text           title\n",
       "count                                              847308          847308\n",
       "unique                                             835191           22466\n",
       "top     если же кого-то заинтересует более подробно то...  прерванный бой\n",
       "freq                                                   51             500"
      ],
      "text/html": [
       "<div>\n",
       "<style scoped>\n",
       "    .dataframe tbody tr th:only-of-type {\n",
       "        vertical-align: middle;\n",
       "    }\n",
       "\n",
       "    .dataframe tbody tr th {\n",
       "        vertical-align: top;\n",
       "    }\n",
       "\n",
       "    .dataframe thead th {\n",
       "        text-align: right;\n",
       "    }\n",
       "</style>\n",
       "<table border=\"1\" class=\"dataframe\">\n",
       "  <thead>\n",
       "    <tr style=\"text-align: right;\">\n",
       "      <th></th>\n",
       "      <th>text</th>\n",
       "      <th>title</th>\n",
       "    </tr>\n",
       "  </thead>\n",
       "  <tbody>\n",
       "    <tr>\n",
       "      <th>count</th>\n",
       "      <td>847308</td>\n",
       "      <td>847308</td>\n",
       "    </tr>\n",
       "    <tr>\n",
       "      <th>unique</th>\n",
       "      <td>835191</td>\n",
       "      <td>22466</td>\n",
       "    </tr>\n",
       "    <tr>\n",
       "      <th>top</th>\n",
       "      <td>если же кого-то заинтересует более подробно то...</td>\n",
       "      <td>прерванный бой</td>\n",
       "    </tr>\n",
       "    <tr>\n",
       "      <th>freq</th>\n",
       "      <td>51</td>\n",
       "      <td>500</td>\n",
       "    </tr>\n",
       "  </tbody>\n",
       "</table>\n",
       "</div>"
      ]
     },
     "execution_count": 35,
     "metadata": {},
     "output_type": "execute_result"
    }
   ],
   "execution_count": 35
  },
  {
   "metadata": {
    "ExecuteTime": {
     "end_time": "2025-09-01T08:13:23.331136Z",
     "start_time": "2025-09-01T08:13:22.076673Z"
    }
   },
   "cell_type": "code",
   "source": [
    "dup_titles = (\n",
    "    augmented_dataset.groupby(\"text\")[\"title\"]\n",
    "    .nunique()\n",
    "    .reset_index()\n",
    "    .query(\"title > 1\")\n",
    ")\n",
    "\n",
    "print(f\"Текстов с одинаковыми содержаниями, но разными названиями: {len(dup_titles)}\")"
   ],
   "id": "e0ae8de4c71bd7d7",
   "outputs": [
    {
     "name": "stdout",
     "output_type": "stream",
     "text": [
      "Текстов с одинаковыми содержаниями, но разными названиями: 3412\n"
     ]
    }
   ],
   "execution_count": 36
  },
  {
   "metadata": {
    "ExecuteTime": {
     "end_time": "2025-09-01T08:13:54.655173Z",
     "start_time": "2025-09-01T08:13:23.334001Z"
    }
   },
   "cell_type": "code",
   "source": "augmented_dataset = augmented_dataset.groupby(\"text\").agg(lambda x: x.value_counts().index[0]).reset_index()",
   "id": "781f1ef923e5cce7",
   "outputs": [],
   "execution_count": 37
  },
  {
   "metadata": {
    "ExecuteTime": {
     "end_time": "2025-09-01T08:13:55.096841Z",
     "start_time": "2025-09-01T08:13:54.659162Z"
    }
   },
   "cell_type": "code",
   "source": "augmented_dataset.describe()",
   "id": "e80af32644ccdc4d",
   "outputs": [
    {
     "data": {
      "text/plain": [
       "                                                     text              title\n",
       "count                                              835191             835191\n",
       "unique                                             835191              22465\n",
       "top     ! ! если ссылка неактивна, просто вставьте в а...  последний прогноз\n",
       "freq                                                    1                500"
      ],
      "text/html": [
       "<div>\n",
       "<style scoped>\n",
       "    .dataframe tbody tr th:only-of-type {\n",
       "        vertical-align: middle;\n",
       "    }\n",
       "\n",
       "    .dataframe tbody tr th {\n",
       "        vertical-align: top;\n",
       "    }\n",
       "\n",
       "    .dataframe thead th {\n",
       "        text-align: right;\n",
       "    }\n",
       "</style>\n",
       "<table border=\"1\" class=\"dataframe\">\n",
       "  <thead>\n",
       "    <tr style=\"text-align: right;\">\n",
       "      <th></th>\n",
       "      <th>text</th>\n",
       "      <th>title</th>\n",
       "    </tr>\n",
       "  </thead>\n",
       "  <tbody>\n",
       "    <tr>\n",
       "      <th>count</th>\n",
       "      <td>835191</td>\n",
       "      <td>835191</td>\n",
       "    </tr>\n",
       "    <tr>\n",
       "      <th>unique</th>\n",
       "      <td>835191</td>\n",
       "      <td>22465</td>\n",
       "    </tr>\n",
       "    <tr>\n",
       "      <th>top</th>\n",
       "      <td>! ! если ссылка неактивна, просто вставьте в а...</td>\n",
       "      <td>последний прогноз</td>\n",
       "    </tr>\n",
       "    <tr>\n",
       "      <th>freq</th>\n",
       "      <td>1</td>\n",
       "      <td>500</td>\n",
       "    </tr>\n",
       "  </tbody>\n",
       "</table>\n",
       "</div>"
      ]
     },
     "execution_count": 38,
     "metadata": {},
     "output_type": "execute_result"
    }
   ],
   "execution_count": 38
  },
  {
   "metadata": {
    "ExecuteTime": {
     "end_time": "2025-09-01T08:13:55.415395Z",
     "start_time": "2025-09-01T08:13:55.100229Z"
    }
   },
   "cell_type": "code",
   "source": "augmented_dataset = augmented_dataset[augmented_dataset.text.apply(is_meaningful)].reset_index(drop=True)",
   "id": "21ec57e32015bfdc",
   "outputs": [],
   "execution_count": 39
  },
  {
   "metadata": {
    "ExecuteTime": {
     "end_time": "2025-09-01T08:13:55.795786Z",
     "start_time": "2025-09-01T08:13:55.418982Z"
    }
   },
   "cell_type": "code",
   "source": "augmented_dataset.describe()",
   "id": "efb7f18ed2278b15",
   "outputs": [
    {
     "data": {
      "text/plain": [
       "                                                     text  \\\n",
       "count                                              834826   \n",
       "unique                                             834826   \n",
       "top     ! ! если ссылка неактивна, просто вставьте в а...   \n",
       "freq                                                    1   \n",
       "\n",
       "                                   title  \n",
       "count                             834826  \n",
       "unique                             22465  \n",
       "top     створ литературный киногсценарий  \n",
       "freq                                 500  "
      ],
      "text/html": [
       "<div>\n",
       "<style scoped>\n",
       "    .dataframe tbody tr th:only-of-type {\n",
       "        vertical-align: middle;\n",
       "    }\n",
       "\n",
       "    .dataframe tbody tr th {\n",
       "        vertical-align: top;\n",
       "    }\n",
       "\n",
       "    .dataframe thead th {\n",
       "        text-align: right;\n",
       "    }\n",
       "</style>\n",
       "<table border=\"1\" class=\"dataframe\">\n",
       "  <thead>\n",
       "    <tr style=\"text-align: right;\">\n",
       "      <th></th>\n",
       "      <th>text</th>\n",
       "      <th>title</th>\n",
       "    </tr>\n",
       "  </thead>\n",
       "  <tbody>\n",
       "    <tr>\n",
       "      <th>count</th>\n",
       "      <td>834826</td>\n",
       "      <td>834826</td>\n",
       "    </tr>\n",
       "    <tr>\n",
       "      <th>unique</th>\n",
       "      <td>834826</td>\n",
       "      <td>22465</td>\n",
       "    </tr>\n",
       "    <tr>\n",
       "      <th>top</th>\n",
       "      <td>! ! если ссылка неактивна, просто вставьте в а...</td>\n",
       "      <td>створ литературный киногсценарий</td>\n",
       "    </tr>\n",
       "    <tr>\n",
       "      <th>freq</th>\n",
       "      <td>1</td>\n",
       "      <td>500</td>\n",
       "    </tr>\n",
       "  </tbody>\n",
       "</table>\n",
       "</div>"
      ]
     },
     "execution_count": 40,
     "metadata": {},
     "output_type": "execute_result"
    }
   ],
   "execution_count": 40
  },
  {
   "metadata": {
    "ExecuteTime": {
     "end_time": "2025-09-01T08:13:59.142694Z",
     "start_time": "2025-09-01T08:13:55.798894Z"
    }
   },
   "cell_type": "code",
   "source": [
    "augmented_dataset = augmented_dataset[augmented_dataset.text.str.len() > 10]\n",
    "augmented_dataset = augmented_dataset[augmented_dataset.text.str.split().str.len() > 5]"
   ],
   "id": "89af1d33ffb007db",
   "outputs": [],
   "execution_count": 41
  },
  {
   "metadata": {
    "ExecuteTime": {
     "end_time": "2025-09-01T08:13:59.151620Z",
     "start_time": "2025-09-01T08:13:59.149860Z"
    }
   },
   "cell_type": "code",
   "source": "augmented_dataset.reset_index(inplace=True, drop=True)",
   "id": "acbcd0f8e2bb0e1d",
   "outputs": [],
   "execution_count": 42
  },
  {
   "metadata": {
    "ExecuteTime": {
     "end_time": "2025-09-01T08:13:59.573111Z",
     "start_time": "2025-09-01T08:13:59.166126Z"
    }
   },
   "cell_type": "code",
   "source": "augmented_dataset.describe()",
   "id": "5261d6ec9d627173",
   "outputs": [
    {
     "data": {
      "text/plain": [
       "                                                     text    title\n",
       "count                                              829549   829549\n",
       "unique                                             829549    22463\n",
       "top     ! ! если ссылка неактивна, просто вставьте в а...  домовой\n",
       "freq                                                    1      500"
      ],
      "text/html": [
       "<div>\n",
       "<style scoped>\n",
       "    .dataframe tbody tr th:only-of-type {\n",
       "        vertical-align: middle;\n",
       "    }\n",
       "\n",
       "    .dataframe tbody tr th {\n",
       "        vertical-align: top;\n",
       "    }\n",
       "\n",
       "    .dataframe thead th {\n",
       "        text-align: right;\n",
       "    }\n",
       "</style>\n",
       "<table border=\"1\" class=\"dataframe\">\n",
       "  <thead>\n",
       "    <tr style=\"text-align: right;\">\n",
       "      <th></th>\n",
       "      <th>text</th>\n",
       "      <th>title</th>\n",
       "    </tr>\n",
       "  </thead>\n",
       "  <tbody>\n",
       "    <tr>\n",
       "      <th>count</th>\n",
       "      <td>829549</td>\n",
       "      <td>829549</td>\n",
       "    </tr>\n",
       "    <tr>\n",
       "      <th>unique</th>\n",
       "      <td>829549</td>\n",
       "      <td>22463</td>\n",
       "    </tr>\n",
       "    <tr>\n",
       "      <th>top</th>\n",
       "      <td>! ! если ссылка неактивна, просто вставьте в а...</td>\n",
       "      <td>домовой</td>\n",
       "    </tr>\n",
       "    <tr>\n",
       "      <th>freq</th>\n",
       "      <td>1</td>\n",
       "      <td>500</td>\n",
       "    </tr>\n",
       "  </tbody>\n",
       "</table>\n",
       "</div>"
      ]
     },
     "execution_count": 43,
     "metadata": {},
     "output_type": "execute_result"
    }
   ],
   "execution_count": 43
  },
  {
   "metadata": {
    "ExecuteTime": {
     "end_time": "2025-09-01T08:14:04.842156Z",
     "start_time": "2025-09-01T08:13:59.576942Z"
    }
   },
   "cell_type": "code",
   "source": [
    "augmented_dataset.text = augmented_dataset.text.str.replace(r\"[^\\w\\s,.!?-]\", \" \", regex=True)\n",
    "augmented_dataset.text = augmented_dataset.text.str.replace(r\"\\s+\", \" \", regex=True).str.strip()"
   ],
   "id": "b52466d8c92687f2",
   "outputs": [],
   "execution_count": 44
  },
  {
   "metadata": {
    "ExecuteTime": {
     "end_time": "2025-09-01T08:14:05.501048Z",
     "start_time": "2025-09-01T08:14:04.847228Z"
    }
   },
   "cell_type": "code",
   "source": "augmented_dataset.describe()",
   "id": "c6dc4ae6d3bad933",
   "outputs": [
    {
     "data": {
      "text/plain": [
       "                                                     text    title\n",
       "count                                              829549   829549\n",
       "unique                                             829549    22463\n",
       "top     ! ! если ссылка неактивна, просто вставьте в а...  домовой\n",
       "freq                                                    1      500"
      ],
      "text/html": [
       "<div>\n",
       "<style scoped>\n",
       "    .dataframe tbody tr th:only-of-type {\n",
       "        vertical-align: middle;\n",
       "    }\n",
       "\n",
       "    .dataframe tbody tr th {\n",
       "        vertical-align: top;\n",
       "    }\n",
       "\n",
       "    .dataframe thead th {\n",
       "        text-align: right;\n",
       "    }\n",
       "</style>\n",
       "<table border=\"1\" class=\"dataframe\">\n",
       "  <thead>\n",
       "    <tr style=\"text-align: right;\">\n",
       "      <th></th>\n",
       "      <th>text</th>\n",
       "      <th>title</th>\n",
       "    </tr>\n",
       "  </thead>\n",
       "  <tbody>\n",
       "    <tr>\n",
       "      <th>count</th>\n",
       "      <td>829549</td>\n",
       "      <td>829549</td>\n",
       "    </tr>\n",
       "    <tr>\n",
       "      <th>unique</th>\n",
       "      <td>829549</td>\n",
       "      <td>22463</td>\n",
       "    </tr>\n",
       "    <tr>\n",
       "      <th>top</th>\n",
       "      <td>! ! если ссылка неактивна, просто вставьте в а...</td>\n",
       "      <td>домовой</td>\n",
       "    </tr>\n",
       "    <tr>\n",
       "      <th>freq</th>\n",
       "      <td>1</td>\n",
       "      <td>500</td>\n",
       "    </tr>\n",
       "  </tbody>\n",
       "</table>\n",
       "</div>"
      ]
     },
     "execution_count": 45,
     "metadata": {},
     "output_type": "execute_result"
    }
   ],
   "execution_count": 45
  },
  {
   "metadata": {
    "ExecuteTime": {
     "end_time": "2025-09-01T08:14:05.753642Z",
     "start_time": "2025-09-01T08:14:05.509525Z"
    }
   },
   "cell_type": "code",
   "source": "augmented_dataset.text = augmented_dataset.text.apply(clean_leading_punct)",
   "id": "ed7de1e366f29ffa",
   "outputs": [],
   "execution_count": 46
  },
  {
   "metadata": {
    "ExecuteTime": {
     "end_time": "2025-09-01T08:14:06.091253Z",
     "start_time": "2025-09-01T08:14:05.758102Z"
    }
   },
   "cell_type": "code",
   "source": "augmented_dataset.describe()",
   "id": "bfca9206eea67c0c",
   "outputs": [
    {
     "data": {
      "text/plain": [
       "                                                     text    title\n",
       "count                                              829549   829549\n",
       "unique                                             829541    22463\n",
       "top     ну, пойдем, земеля! перевозчик ждать не любит....  домовой\n",
       "freq                                                    2      500"
      ],
      "text/html": [
       "<div>\n",
       "<style scoped>\n",
       "    .dataframe tbody tr th:only-of-type {\n",
       "        vertical-align: middle;\n",
       "    }\n",
       "\n",
       "    .dataframe tbody tr th {\n",
       "        vertical-align: top;\n",
       "    }\n",
       "\n",
       "    .dataframe thead th {\n",
       "        text-align: right;\n",
       "    }\n",
       "</style>\n",
       "<table border=\"1\" class=\"dataframe\">\n",
       "  <thead>\n",
       "    <tr style=\"text-align: right;\">\n",
       "      <th></th>\n",
       "      <th>text</th>\n",
       "      <th>title</th>\n",
       "    </tr>\n",
       "  </thead>\n",
       "  <tbody>\n",
       "    <tr>\n",
       "      <th>count</th>\n",
       "      <td>829549</td>\n",
       "      <td>829549</td>\n",
       "    </tr>\n",
       "    <tr>\n",
       "      <th>unique</th>\n",
       "      <td>829541</td>\n",
       "      <td>22463</td>\n",
       "    </tr>\n",
       "    <tr>\n",
       "      <th>top</th>\n",
       "      <td>ну, пойдем, земеля! перевозчик ждать не любит....</td>\n",
       "      <td>домовой</td>\n",
       "    </tr>\n",
       "    <tr>\n",
       "      <th>freq</th>\n",
       "      <td>2</td>\n",
       "      <td>500</td>\n",
       "    </tr>\n",
       "  </tbody>\n",
       "</table>\n",
       "</div>"
      ]
     },
     "execution_count": 47,
     "metadata": {},
     "output_type": "execute_result"
    }
   ],
   "execution_count": 47
  },
  {
   "metadata": {
    "ExecuteTime": {
     "end_time": "2025-09-01T08:14:06.167693Z",
     "start_time": "2025-09-01T08:14:06.099305Z"
    }
   },
   "cell_type": "code",
   "source": "augmented_dataset = augmented_dataset[~augmented_dataset.duplicated(subset=[\"text\"], keep=False)]",
   "id": "8980df1670ea8520",
   "outputs": [],
   "execution_count": 48
  },
  {
   "metadata": {
    "ExecuteTime": {
     "end_time": "2025-09-01T08:14:06.543573Z",
     "start_time": "2025-09-01T08:14:06.171912Z"
    }
   },
   "cell_type": "code",
   "source": "augmented_dataset.describe()",
   "id": "9045b61d9e84d00a",
   "outputs": [
    {
     "data": {
      "text/plain": [
       "                                                     text  \\\n",
       "count                                              829533   \n",
       "unique                                             829533   \n",
       "top     если ссылка неактивна, просто вставьте в адрес...   \n",
       "freq                                                    1   \n",
       "\n",
       "                                         title  \n",
       "count                                   829533  \n",
       "unique                                   22462  \n",
       "top     \"сталин и гитлер в годы второй мировой  \n",
       "freq                                       500  "
      ],
      "text/html": [
       "<div>\n",
       "<style scoped>\n",
       "    .dataframe tbody tr th:only-of-type {\n",
       "        vertical-align: middle;\n",
       "    }\n",
       "\n",
       "    .dataframe tbody tr th {\n",
       "        vertical-align: top;\n",
       "    }\n",
       "\n",
       "    .dataframe thead th {\n",
       "        text-align: right;\n",
       "    }\n",
       "</style>\n",
       "<table border=\"1\" class=\"dataframe\">\n",
       "  <thead>\n",
       "    <tr style=\"text-align: right;\">\n",
       "      <th></th>\n",
       "      <th>text</th>\n",
       "      <th>title</th>\n",
       "    </tr>\n",
       "  </thead>\n",
       "  <tbody>\n",
       "    <tr>\n",
       "      <th>count</th>\n",
       "      <td>829533</td>\n",
       "      <td>829533</td>\n",
       "    </tr>\n",
       "    <tr>\n",
       "      <th>unique</th>\n",
       "      <td>829533</td>\n",
       "      <td>22462</td>\n",
       "    </tr>\n",
       "    <tr>\n",
       "      <th>top</th>\n",
       "      <td>если ссылка неактивна, просто вставьте в адрес...</td>\n",
       "      <td>\"сталин и гитлер в годы второй мировой</td>\n",
       "    </tr>\n",
       "    <tr>\n",
       "      <th>freq</th>\n",
       "      <td>1</td>\n",
       "      <td>500</td>\n",
       "    </tr>\n",
       "  </tbody>\n",
       "</table>\n",
       "</div>"
      ]
     },
     "execution_count": 49,
     "metadata": {},
     "output_type": "execute_result"
    }
   ],
   "execution_count": 49
  },
  {
   "metadata": {
    "ExecuteTime": {
     "end_time": "2025-09-01T08:14:08.566456Z",
     "start_time": "2025-09-01T08:14:06.554911Z"
    }
   },
   "cell_type": "code",
   "source": "augmented_dataset.to_csv(\"../data/all_data_augmented/train_df.csv\", index=False)",
   "id": "5df47ab453024249",
   "outputs": [],
   "execution_count": 50
  },
  {
   "metadata": {},
   "cell_type": "markdown",
   "source": "# Аугментация почищенных данных",
   "id": "27c408a33e735e40"
  },
  {
   "metadata": {
    "ExecuteTime": {
     "end_time": "2025-09-02T05:48:21.716454Z",
     "start_time": "2025-09-02T05:48:16.619490Z"
    }
   },
   "cell_type": "code",
   "source": "data = pd.read_csv(\"../data/clean_data_aug/all_data.csv\")",
   "id": "56cb1a9ddb1ee799",
   "outputs": [],
   "execution_count": 51
  },
  {
   "metadata": {
    "ExecuteTime": {
     "end_time": "2025-09-02T05:48:53.128151Z",
     "start_time": "2025-09-02T05:48:53.118330Z"
    }
   },
   "cell_type": "code",
   "source": [
    "clean_train_df, clean_val_df = train_test_split(\n",
    "    data, test_size=0.2, random_state=42, shuffle=True\n",
    ")"
   ],
   "id": "a61c96a5e4feea4a",
   "outputs": [],
   "execution_count": 52
  },
  {
   "metadata": {
    "ExecuteTime": {
     "end_time": "2025-09-02T05:49:04.179783Z",
     "start_time": "2025-09-02T05:49:04.177139Z"
    }
   },
   "cell_type": "code",
   "source": "len(clean_train_df), len(clean_val_df)",
   "id": "84fb968694c857bb",
   "outputs": [
    {
     "data": {
      "text/plain": [
       "(24054, 6014)"
      ]
     },
     "execution_count": 53,
     "metadata": {},
     "output_type": "execute_result"
    }
   ],
   "execution_count": 53
  },
  {
   "metadata": {
    "ExecuteTime": {
     "end_time": "2025-09-02T05:50:07.457Z",
     "start_time": "2025-09-02T05:50:06.856831Z"
    }
   },
   "cell_type": "code",
   "source": "clean_val_df.to_csv(\"../data/clean_data_aug/val_df.csv\", index=False)",
   "id": "950336ab90b17418",
   "outputs": [],
   "execution_count": 54
  },
  {
   "metadata": {
    "ExecuteTime": {
     "end_time": "2025-09-02T05:51:27.395283Z",
     "start_time": "2025-09-02T05:51:01.781040Z"
    }
   },
   "cell_type": "code",
   "source": [
    "augmented_rows = []\n",
    "for _, row in tqdm(clean_train_df.iterrows(), total=len(train_df)):\n",
    "    chunks = split_text_into_chunks(row.text, sentences_per_chunk=3)\n",
    "    for chunk in chunks:\n",
    "        augmented_rows.append({\"text\": chunk, \"title\": row.title})\n",
    "\n",
    "clean_augmented_dataset = pd.DataFrame(augmented_rows)"
   ],
   "id": "29949cc6a35a27d",
   "outputs": [
    {
     "name": "stderr",
     "output_type": "stream",
     "text": [
      " 99%|█████████▉| 24054/24294 [00:25<00:00, 959.73it/s] \n"
     ]
    }
   ],
   "execution_count": 55
  },
  {
   "metadata": {
    "ExecuteTime": {
     "end_time": "2025-09-02T05:51:28.109427Z",
     "start_time": "2025-09-02T05:51:27.400252Z"
    }
   },
   "cell_type": "code",
   "source": "clean_augmented_dataset.describe()",
   "id": "6c452801adf7fd88",
   "outputs": [
    {
     "data": {
      "text/plain": [
       "           text                            title\n",
       "count   1339156                          1339156\n",
       "unique  1311324                            22175\n",
       "top       . . .  чистый хозяин собственного мира\n",
       "freq        224                            13958"
      ],
      "text/html": [
       "<div>\n",
       "<style scoped>\n",
       "    .dataframe tbody tr th:only-of-type {\n",
       "        vertical-align: middle;\n",
       "    }\n",
       "\n",
       "    .dataframe tbody tr th {\n",
       "        vertical-align: top;\n",
       "    }\n",
       "\n",
       "    .dataframe thead th {\n",
       "        text-align: right;\n",
       "    }\n",
       "</style>\n",
       "<table border=\"1\" class=\"dataframe\">\n",
       "  <thead>\n",
       "    <tr style=\"text-align: right;\">\n",
       "      <th></th>\n",
       "      <th>text</th>\n",
       "      <th>title</th>\n",
       "    </tr>\n",
       "  </thead>\n",
       "  <tbody>\n",
       "    <tr>\n",
       "      <th>count</th>\n",
       "      <td>1339156</td>\n",
       "      <td>1339156</td>\n",
       "    </tr>\n",
       "    <tr>\n",
       "      <th>unique</th>\n",
       "      <td>1311324</td>\n",
       "      <td>22175</td>\n",
       "    </tr>\n",
       "    <tr>\n",
       "      <th>top</th>\n",
       "      <td>. . .</td>\n",
       "      <td>чистый хозяин собственного мира</td>\n",
       "    </tr>\n",
       "    <tr>\n",
       "      <th>freq</th>\n",
       "      <td>224</td>\n",
       "      <td>13958</td>\n",
       "    </tr>\n",
       "  </tbody>\n",
       "</table>\n",
       "</div>"
      ]
     },
     "execution_count": 56,
     "metadata": {},
     "output_type": "execute_result"
    }
   ],
   "execution_count": 56
  },
  {
   "metadata": {
    "ExecuteTime": {
     "end_time": "2025-09-02T05:51:54.048530Z",
     "start_time": "2025-09-02T05:51:53.427162Z"
    }
   },
   "cell_type": "code",
   "source": [
    "clean_augmented_dataset = clean_augmented_dataset[clean_augmented_dataset.text.str.strip().str.len() > 10]\n",
    "clean_augmented_dataset = clean_augmented_dataset[clean_augmented_dataset.text != \". . .\"]\n",
    "\n",
    "max_per_title = 500\n",
    "clean_augmented_dataset = clean_augmented_dataset.groupby(\"title\").head(max_per_title).reset_index(drop=True)\n",
    "\n",
    "print(clean_augmented_dataset.title.value_counts().head(10))"
   ],
   "id": "89925b3f9ed70bf6",
   "outputs": [
    {
     "name": "stdout",
     "output_type": "stream",
     "text": [
      "title\n",
      "мой вид                                             500\n",
      "маленькие странники, или почти сказочная история    500\n",
      "лев гунин, муравей - роман                          500\n",
      "бесплатно. уже вся книга. противостояние 2014       500\n",
      "итальянец, тетя, золушка, пухленькая гувернантка    500\n",
      "сказочная повесть. кукла                            500\n",
      "возможности радости                                 500\n",
      "канинг. король поднебесья. книга первая             500\n",
      "альтаир                                             500\n",
      "когда просыпаются боги                              500\n",
      "Name: count, dtype: int64\n"
     ]
    }
   ],
   "execution_count": 57
  },
  {
   "metadata": {
    "ExecuteTime": {
     "end_time": "2025-09-02T05:52:09.364710Z",
     "start_time": "2025-09-02T05:52:08.908518Z"
    }
   },
   "cell_type": "code",
   "source": "clean_augmented_dataset.describe()",
   "id": "4e3aef2e097b7c25",
   "outputs": [
    {
     "data": {
      "text/plain": [
       "                                                     text    title\n",
       "count                                              856311   856311\n",
       "unique                                             840214    22170\n",
       "top     это не значит, что остальным жителям планеты н...  мой вид\n",
       "freq                                                   51      500"
      ],
      "text/html": [
       "<div>\n",
       "<style scoped>\n",
       "    .dataframe tbody tr th:only-of-type {\n",
       "        vertical-align: middle;\n",
       "    }\n",
       "\n",
       "    .dataframe tbody tr th {\n",
       "        vertical-align: top;\n",
       "    }\n",
       "\n",
       "    .dataframe thead th {\n",
       "        text-align: right;\n",
       "    }\n",
       "</style>\n",
       "<table border=\"1\" class=\"dataframe\">\n",
       "  <thead>\n",
       "    <tr style=\"text-align: right;\">\n",
       "      <th></th>\n",
       "      <th>text</th>\n",
       "      <th>title</th>\n",
       "    </tr>\n",
       "  </thead>\n",
       "  <tbody>\n",
       "    <tr>\n",
       "      <th>count</th>\n",
       "      <td>856311</td>\n",
       "      <td>856311</td>\n",
       "    </tr>\n",
       "    <tr>\n",
       "      <th>unique</th>\n",
       "      <td>840214</td>\n",
       "      <td>22170</td>\n",
       "    </tr>\n",
       "    <tr>\n",
       "      <th>top</th>\n",
       "      <td>это не значит, что остальным жителям планеты н...</td>\n",
       "      <td>мой вид</td>\n",
       "    </tr>\n",
       "    <tr>\n",
       "      <th>freq</th>\n",
       "      <td>51</td>\n",
       "      <td>500</td>\n",
       "    </tr>\n",
       "  </tbody>\n",
       "</table>\n",
       "</div>"
      ]
     },
     "execution_count": 58,
     "metadata": {},
     "output_type": "execute_result"
    }
   ],
   "execution_count": 58
  },
  {
   "metadata": {
    "ExecuteTime": {
     "end_time": "2025-09-02T05:52:32.652138Z",
     "start_time": "2025-09-02T05:52:31.003763Z"
    }
   },
   "cell_type": "code",
   "source": [
    "dup_titles = (\n",
    "    clean_augmented_dataset.groupby(\"text\")[\"title\"]\n",
    "    .nunique()\n",
    "    .reset_index()\n",
    "    .query(\"title > 1\")\n",
    ")\n",
    "\n",
    "print(f\"Текстов с одинаковыми содержаниями, но разными названиями: {len(dup_titles)}\")"
   ],
   "id": "7ac7c6135c220a3a",
   "outputs": [
    {
     "name": "stdout",
     "output_type": "stream",
     "text": [
      "Текстов с одинаковыми содержаниями, но разными названиями: 3785\n"
     ]
    }
   ],
   "execution_count": 60
  },
  {
   "metadata": {
    "ExecuteTime": {
     "end_time": "2025-09-02T05:53:22.931445Z",
     "start_time": "2025-09-02T05:53:22.661631Z"
    }
   },
   "cell_type": "code",
   "source": "clean_augmented_dataset = clean_augmented_dataset[clean_augmented_dataset.text.apply(is_meaningful)].reset_index(drop=True)",
   "id": "9e28366c75a33666",
   "outputs": [],
   "execution_count": 61
  },
  {
   "metadata": {
    "ExecuteTime": {
     "end_time": "2025-09-02T05:53:26.543707Z",
     "start_time": "2025-09-02T05:53:26.131485Z"
    }
   },
   "cell_type": "code",
   "source": "clean_augmented_dataset.describe()",
   "id": "7653e426952e1060",
   "outputs": [
    {
     "data": {
      "text/plain": [
       "                                                     text     title\n",
       "count                                              856290    856290\n",
       "unique                                             840196     22169\n",
       "top     если же кого-то заинтересует более подробно то...  ирландка\n",
       "freq                                                   51       500"
      ],
      "text/html": [
       "<div>\n",
       "<style scoped>\n",
       "    .dataframe tbody tr th:only-of-type {\n",
       "        vertical-align: middle;\n",
       "    }\n",
       "\n",
       "    .dataframe tbody tr th {\n",
       "        vertical-align: top;\n",
       "    }\n",
       "\n",
       "    .dataframe thead th {\n",
       "        text-align: right;\n",
       "    }\n",
       "</style>\n",
       "<table border=\"1\" class=\"dataframe\">\n",
       "  <thead>\n",
       "    <tr style=\"text-align: right;\">\n",
       "      <th></th>\n",
       "      <th>text</th>\n",
       "      <th>title</th>\n",
       "    </tr>\n",
       "  </thead>\n",
       "  <tbody>\n",
       "    <tr>\n",
       "      <th>count</th>\n",
       "      <td>856290</td>\n",
       "      <td>856290</td>\n",
       "    </tr>\n",
       "    <tr>\n",
       "      <th>unique</th>\n",
       "      <td>840196</td>\n",
       "      <td>22169</td>\n",
       "    </tr>\n",
       "    <tr>\n",
       "      <th>top</th>\n",
       "      <td>если же кого-то заинтересует более подробно то...</td>\n",
       "      <td>ирландка</td>\n",
       "    </tr>\n",
       "    <tr>\n",
       "      <th>freq</th>\n",
       "      <td>51</td>\n",
       "      <td>500</td>\n",
       "    </tr>\n",
       "  </tbody>\n",
       "</table>\n",
       "</div>"
      ]
     },
     "execution_count": 62,
     "metadata": {},
     "output_type": "execute_result"
    }
   ],
   "execution_count": 62
  },
  {
   "metadata": {
    "ExecuteTime": {
     "end_time": "2025-09-02T05:54:16.430129Z",
     "start_time": "2025-09-02T05:54:12.794496Z"
    }
   },
   "cell_type": "code",
   "source": "clean_augmented_dataset = clean_augmented_dataset[clean_augmented_dataset.text.str.split().str.len() > 5]",
   "id": "8c3b84fe4a581781",
   "outputs": [],
   "execution_count": 63
  },
  {
   "metadata": {
    "ExecuteTime": {
     "end_time": "2025-09-02T05:54:20.519938Z",
     "start_time": "2025-09-02T05:54:20.075456Z"
    }
   },
   "cell_type": "code",
   "source": "clean_augmented_dataset.describe()",
   "id": "67e58838d3ec0337",
   "outputs": [
    {
     "data": {
      "text/plain": [
       "                                                     text              title\n",
       "count                                              851198             851198\n",
       "unique                                             835348              22106\n",
       "top     это не значит, что остальным жителям планеты н...  сто блюд из кошки\n",
       "freq                                                   51                500"
      ],
      "text/html": [
       "<div>\n",
       "<style scoped>\n",
       "    .dataframe tbody tr th:only-of-type {\n",
       "        vertical-align: middle;\n",
       "    }\n",
       "\n",
       "    .dataframe tbody tr th {\n",
       "        vertical-align: top;\n",
       "    }\n",
       "\n",
       "    .dataframe thead th {\n",
       "        text-align: right;\n",
       "    }\n",
       "</style>\n",
       "<table border=\"1\" class=\"dataframe\">\n",
       "  <thead>\n",
       "    <tr style=\"text-align: right;\">\n",
       "      <th></th>\n",
       "      <th>text</th>\n",
       "      <th>title</th>\n",
       "    </tr>\n",
       "  </thead>\n",
       "  <tbody>\n",
       "    <tr>\n",
       "      <th>count</th>\n",
       "      <td>851198</td>\n",
       "      <td>851198</td>\n",
       "    </tr>\n",
       "    <tr>\n",
       "      <th>unique</th>\n",
       "      <td>835348</td>\n",
       "      <td>22106</td>\n",
       "    </tr>\n",
       "    <tr>\n",
       "      <th>top</th>\n",
       "      <td>это не значит, что остальным жителям планеты н...</td>\n",
       "      <td>сто блюд из кошки</td>\n",
       "    </tr>\n",
       "    <tr>\n",
       "      <th>freq</th>\n",
       "      <td>51</td>\n",
       "      <td>500</td>\n",
       "    </tr>\n",
       "  </tbody>\n",
       "</table>\n",
       "</div>"
      ]
     },
     "execution_count": 64,
     "metadata": {},
     "output_type": "execute_result"
    }
   ],
   "execution_count": 64
  },
  {
   "metadata": {
    "ExecuteTime": {
     "end_time": "2025-09-02T05:55:14.488453Z",
     "start_time": "2025-09-02T05:55:08.745535Z"
    }
   },
   "cell_type": "code",
   "source": [
    "clean_augmented_dataset.reset_index(drop=True, inplace=True)\n",
    "clean_augmented_dataset.text = clean_augmented_dataset.text.str.replace(r\"[^\\w\\s,.!?-]\", \" \", regex=True)\n",
    "clean_augmented_dataset.text = clean_augmented_dataset.text.str.replace(r\"\\s+\", \" \", regex=True).str.strip()"
   ],
   "id": "9abe3b401a161670",
   "outputs": [],
   "execution_count": 66
  },
  {
   "metadata": {
    "ExecuteTime": {
     "end_time": "2025-09-02T05:55:14.759255Z",
     "start_time": "2025-09-02T05:55:14.492995Z"
    }
   },
   "cell_type": "code",
   "source": "clean_augmented_dataset.text = clean_augmented_dataset.text.apply(clean_leading_punct)",
   "id": "510c72f68231b2c5",
   "outputs": [],
   "execution_count": 67
  },
  {
   "metadata": {
    "ExecuteTime": {
     "end_time": "2025-09-02T05:55:51.877679Z",
     "start_time": "2025-09-02T05:55:51.644412Z"
    }
   },
   "cell_type": "code",
   "source": "clean_augmented_dataset = clean_augmented_dataset[~clean_augmented_dataset.duplicated(subset=[\"text\"], keep=False)].reset_index(drop=True)",
   "id": "4fa1fd8aa1d5a8d4",
   "outputs": [],
   "execution_count": 69
  },
  {
   "metadata": {
    "ExecuteTime": {
     "end_time": "2025-09-02T05:55:56.641274Z",
     "start_time": "2025-09-02T05:55:56.208506Z"
    }
   },
   "cell_type": "code",
   "source": "clean_augmented_dataset.describe()",
   "id": "df9ec35c8ef8f71d",
   "outputs": [
    {
     "data": {
      "text/plain": [
       "                                                     text  \\\n",
       "count                                              830584   \n",
       "unique                                             830584   \n",
       "top     это была моя первая женщина, мужчиной я стал т...   \n",
       "freq                                                    1   \n",
       "\n",
       "                         title  \n",
       "count                   830584  \n",
       "unique                   22080  \n",
       "top     путь от атеизма к вере  \n",
       "freq                       500  "
      ],
      "text/html": [
       "<div>\n",
       "<style scoped>\n",
       "    .dataframe tbody tr th:only-of-type {\n",
       "        vertical-align: middle;\n",
       "    }\n",
       "\n",
       "    .dataframe tbody tr th {\n",
       "        vertical-align: top;\n",
       "    }\n",
       "\n",
       "    .dataframe thead th {\n",
       "        text-align: right;\n",
       "    }\n",
       "</style>\n",
       "<table border=\"1\" class=\"dataframe\">\n",
       "  <thead>\n",
       "    <tr style=\"text-align: right;\">\n",
       "      <th></th>\n",
       "      <th>text</th>\n",
       "      <th>title</th>\n",
       "    </tr>\n",
       "  </thead>\n",
       "  <tbody>\n",
       "    <tr>\n",
       "      <th>count</th>\n",
       "      <td>830584</td>\n",
       "      <td>830584</td>\n",
       "    </tr>\n",
       "    <tr>\n",
       "      <th>unique</th>\n",
       "      <td>830584</td>\n",
       "      <td>22080</td>\n",
       "    </tr>\n",
       "    <tr>\n",
       "      <th>top</th>\n",
       "      <td>это была моя первая женщина, мужчиной я стал т...</td>\n",
       "      <td>путь от атеизма к вере</td>\n",
       "    </tr>\n",
       "    <tr>\n",
       "      <th>freq</th>\n",
       "      <td>1</td>\n",
       "      <td>500</td>\n",
       "    </tr>\n",
       "  </tbody>\n",
       "</table>\n",
       "</div>"
      ]
     },
     "execution_count": 70,
     "metadata": {},
     "output_type": "execute_result"
    }
   ],
   "execution_count": 70
  },
  {
   "metadata": {
    "ExecuteTime": {
     "end_time": "2025-09-02T05:56:59.693906Z",
     "start_time": "2025-09-02T05:56:57.754292Z"
    }
   },
   "cell_type": "code",
   "source": "clean_augmented_dataset.to_csv(\"../data/clean_data_aug/train_df.csv\", index=False)",
   "id": "c5260cb2f4700542",
   "outputs": [],
   "execution_count": 72
  },
  {
   "metadata": {},
   "cell_type": "code",
   "outputs": [],
   "execution_count": null,
   "source": "",
   "id": "7e17536afe1a3270"
  }
 ],
 "metadata": {
  "kernelspec": {
   "display_name": "Python 3",
   "language": "python",
   "name": "python3"
  },
  "language_info": {
   "codemirror_mode": {
    "name": "ipython",
    "version": 2
   },
   "file_extension": ".py",
   "mimetype": "text/x-python",
   "name": "python",
   "nbconvert_exporter": "python",
   "pygments_lexer": "ipython2",
   "version": "2.7.6"
  }
 },
 "nbformat": 4,
 "nbformat_minor": 5
}
