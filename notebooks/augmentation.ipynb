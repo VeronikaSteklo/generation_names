{
 "cells": [
  {
   "metadata": {},
   "cell_type": "markdown",
   "source": "# Импорт библиотек",
   "id": "4b3195fc163c42c1"
  },
  {
   "cell_type": "code",
   "id": "initial_id",
   "metadata": {
    "collapsed": true,
    "ExecuteTime": {
     "end_time": "2025-10-24T10:47:25.322787Z",
     "start_time": "2025-10-24T10:47:17.077565Z"
    }
   },
   "source": [
    "import re\n",
    "\n",
    "import pandas as pd\n",
    "import nltk\n",
    "import plotly.graph_objects as go\n",
    "from sklearn.model_selection import train_test_split\n",
    "import numpy as np\n",
    "\n",
    "from tqdm import tqdm\n",
    "\n",
    "nltk.download(\"punkt\")\n",
    "\n",
    "from nltk.tokenize import sent_tokenize"
   ],
   "outputs": [
    {
     "name": "stderr",
     "output_type": "stream",
     "text": [
      "[nltk_data] Downloading package punkt to\n",
      "[nltk_data]     /Users/veronika_steklo/nltk_data...\n",
      "[nltk_data]   Package punkt is already up-to-date!\n"
     ]
    }
   ],
   "execution_count": 1
  },
  {
   "metadata": {
    "ExecuteTime": {
     "end_time": "2025-10-24T10:47:34.986902Z",
     "start_time": "2025-10-24T10:47:25.336706Z"
    }
   },
   "cell_type": "code",
   "source": "data = pd.read_csv(\"../data/all_data.csv\")",
   "id": "4376d9987b59de3f",
   "outputs": [],
   "execution_count": 2
  },
  {
   "metadata": {
    "ExecuteTime": {
     "end_time": "2025-10-24T10:47:35.366799Z",
     "start_time": "2025-10-24T10:47:34.994627Z"
    }
   },
   "cell_type": "code",
   "source": "data.describe()",
   "id": "1e157a5c7b2ec6e0",
   "outputs": [
    {
     "data": {
      "text/plain": [
       "                                                     text  \\\n",
       "count                                               29815   \n",
       "unique                                              29815   \n",
       "top     протопоп аввакум написал житие по благословени...   \n",
       "freq                                                    1   \n",
       "\n",
       "                                title  \n",
       "count                           29815  \n",
       "unique                          26860  \n",
       "top     классика зарубежного рассказа  \n",
       "freq                               26  "
      ],
      "text/html": [
       "<div>\n",
       "<style scoped>\n",
       "    .dataframe tbody tr th:only-of-type {\n",
       "        vertical-align: middle;\n",
       "    }\n",
       "\n",
       "    .dataframe tbody tr th {\n",
       "        vertical-align: top;\n",
       "    }\n",
       "\n",
       "    .dataframe thead th {\n",
       "        text-align: right;\n",
       "    }\n",
       "</style>\n",
       "<table border=\"1\" class=\"dataframe\">\n",
       "  <thead>\n",
       "    <tr style=\"text-align: right;\">\n",
       "      <th></th>\n",
       "      <th>text</th>\n",
       "      <th>title</th>\n",
       "    </tr>\n",
       "  </thead>\n",
       "  <tbody>\n",
       "    <tr>\n",
       "      <th>count</th>\n",
       "      <td>29815</td>\n",
       "      <td>29815</td>\n",
       "    </tr>\n",
       "    <tr>\n",
       "      <th>unique</th>\n",
       "      <td>29815</td>\n",
       "      <td>26860</td>\n",
       "    </tr>\n",
       "    <tr>\n",
       "      <th>top</th>\n",
       "      <td>протопоп аввакум написал житие по благословени...</td>\n",
       "      <td>классика зарубежного рассказа</td>\n",
       "    </tr>\n",
       "    <tr>\n",
       "      <th>freq</th>\n",
       "      <td>1</td>\n",
       "      <td>26</td>\n",
       "    </tr>\n",
       "  </tbody>\n",
       "</table>\n",
       "</div>"
      ]
     },
     "execution_count": 3,
     "metadata": {},
     "output_type": "execute_result"
    }
   ],
   "execution_count": 3
  },
  {
   "metadata": {},
   "cell_type": "markdown",
   "source": "# Разделение данных",
   "id": "e4a78e3308669a3f"
  },
  {
   "metadata": {
    "ExecuteTime": {
     "end_time": "2025-10-24T10:47:35.383864Z",
     "start_time": "2025-10-24T10:47:35.376197Z"
    }
   },
   "cell_type": "code",
   "source": "train_df, val_df = train_test_split(data, test_size=0.2, random_state=42)",
   "id": "2d6e81d2012e7aff",
   "outputs": [],
   "execution_count": 4
  },
  {
   "metadata": {
    "ExecuteTime": {
     "end_time": "2025-10-24T10:47:35.411665Z",
     "start_time": "2025-10-24T10:47:35.408Z"
    }
   },
   "cell_type": "code",
   "source": "len(train_df), len(val_df)",
   "id": "a40da86c2e038dfc",
   "outputs": [
    {
     "data": {
      "text/plain": [
       "(23852, 5963)"
      ]
     },
     "execution_count": 5,
     "metadata": {},
     "output_type": "execute_result"
    }
   ],
   "execution_count": 5
  },
  {
   "metadata": {
    "ExecuteTime": {
     "end_time": "2025-10-24T10:47:35.456813Z",
     "start_time": "2025-10-24T10:47:35.432627Z"
    }
   },
   "cell_type": "code",
   "source": "val_df.describe()",
   "id": "2b570b4cdfd17a7b",
   "outputs": [
    {
     "data": {
      "text/plain": [
       "                                                     text  \\\n",
       "count                                                5963   \n",
       "unique                                               5963   \n",
       "top     прокладка под голову . ссср сальников сергей с...   \n",
       "freq                                                    1   \n",
       "\n",
       "                                           title  \n",
       "count                                       5963  \n",
       "unique                                      5786  \n",
       "top     сергей степанов. постлюбовь. новый роман  \n",
       "freq                                           6  "
      ],
      "text/html": [
       "<div>\n",
       "<style scoped>\n",
       "    .dataframe tbody tr th:only-of-type {\n",
       "        vertical-align: middle;\n",
       "    }\n",
       "\n",
       "    .dataframe tbody tr th {\n",
       "        vertical-align: top;\n",
       "    }\n",
       "\n",
       "    .dataframe thead th {\n",
       "        text-align: right;\n",
       "    }\n",
       "</style>\n",
       "<table border=\"1\" class=\"dataframe\">\n",
       "  <thead>\n",
       "    <tr style=\"text-align: right;\">\n",
       "      <th></th>\n",
       "      <th>text</th>\n",
       "      <th>title</th>\n",
       "    </tr>\n",
       "  </thead>\n",
       "  <tbody>\n",
       "    <tr>\n",
       "      <th>count</th>\n",
       "      <td>5963</td>\n",
       "      <td>5963</td>\n",
       "    </tr>\n",
       "    <tr>\n",
       "      <th>unique</th>\n",
       "      <td>5963</td>\n",
       "      <td>5786</td>\n",
       "    </tr>\n",
       "    <tr>\n",
       "      <th>top</th>\n",
       "      <td>прокладка под голову . ссср сальников сергей с...</td>\n",
       "      <td>сергей степанов. постлюбовь. новый роман</td>\n",
       "    </tr>\n",
       "    <tr>\n",
       "      <th>freq</th>\n",
       "      <td>1</td>\n",
       "      <td>6</td>\n",
       "    </tr>\n",
       "  </tbody>\n",
       "</table>\n",
       "</div>"
      ]
     },
     "execution_count": 6,
     "metadata": {},
     "output_type": "execute_result"
    }
   ],
   "execution_count": 6
  },
  {
   "metadata": {},
   "cell_type": "markdown",
   "source": [
    "Заметим, что в валидацию попали несколько текстов с одинаковыми названиями. Это не очень хорошо, так как может исказить результаты оценки модели.\n",
    "\n",
    "Переделаем разделение."
   ],
   "id": "2d1c3ac0a06ea90"
  },
  {
   "metadata": {
    "ExecuteTime": {
     "end_time": "2025-10-24T10:47:35.954903Z",
     "start_time": "2025-10-24T10:47:35.474159Z"
    }
   },
   "cell_type": "code",
   "source": [
    "def split_with_controlled_test_size(data, target_test_size=0.2, random_state=42):\n",
    "    np.random.seed(random_state)\n",
    "\n",
    "    title_groups = data.groupby('title').apply(lambda x: x.index.tolist()).to_dict()\n",
    "\n",
    "    unique_titles = list(title_groups.keys())\n",
    "    np.random.shuffle(unique_titles)\n",
    "\n",
    "    train_indices = []\n",
    "    test_indices = []\n",
    "\n",
    "    target_test_count = int(len(data) * target_test_size)\n",
    "\n",
    "    for title in unique_titles:\n",
    "        indices = title_groups[title]\n",
    "\n",
    "        if len(test_indices) < target_test_count:\n",
    "            test_idx = np.random.choice(indices, 1)[0]\n",
    "            test_indices.append(test_idx)\n",
    "            train_indices.extend([idx for idx in indices if idx != test_idx])\n",
    "        else:\n",
    "            train_indices.extend(indices)\n",
    "\n",
    "    return data.iloc[train_indices], data.iloc[test_indices]\n",
    "\n",
    "train_df, val_df = split_with_controlled_test_size(data)"
   ],
   "id": "4145d823282f6014",
   "outputs": [
    {
     "name": "stderr",
     "output_type": "stream",
     "text": [
      "/var/folders/wl/_8h74t5s5hz2ntrny0kjx_pw0000gn/T/ipykernel_26607/2556919616.py:4: FutureWarning: DataFrameGroupBy.apply operated on the grouping columns. This behavior is deprecated, and in a future version of pandas the grouping columns will be excluded from the operation. Either pass `include_groups=False` to exclude the groupings or explicitly select the grouping columns after groupby to silence this warning.\n",
      "  title_groups = data.groupby('title').apply(lambda x: x.index.tolist()).to_dict()\n"
     ]
    }
   ],
   "execution_count": 7
  },
  {
   "metadata": {
    "ExecuteTime": {
     "end_time": "2025-10-24T10:47:35.973950Z",
     "start_time": "2025-10-24T10:47:35.966791Z"
    }
   },
   "cell_type": "code",
   "source": [
    "print(f\"Общий размер данных: {len(data)}\")\n",
    "print(f\"Тренировочная выборка: {len(train_df)} записей ({len(train_df)/len(data)*100:.1f}%)\")\n",
    "print(f\"Валидационная выборка: {len(val_df)} записей ({len(val_df)/len(data)*100:.1f}%)\")"
   ],
   "id": "50f706e00edaeab8",
   "outputs": [
    {
     "name": "stdout",
     "output_type": "stream",
     "text": [
      "Общий размер данных: 29815\n",
      "Тренировочная выборка: 23852 записей (80.0%)\n",
      "Валидационная выборка: 5963 записей (20.0%)\n"
     ]
    }
   ],
   "execution_count": 8
  },
  {
   "metadata": {
    "ExecuteTime": {
     "end_time": "2025-10-24T10:47:36.018235Z",
     "start_time": "2025-10-24T10:47:35.995684Z"
    }
   },
   "cell_type": "code",
   "source": "val_df.describe()",
   "id": "48ef8f0343497d3d",
   "outputs": [
    {
     "data": {
      "text/plain": [
       "                                                     text           title\n",
       "count                                                5963            5963\n",
       "unique                                               5963            5963\n",
       "top     александр казбеги один из самых популярных гру...  хевисбери гоча\n",
       "freq                                                    1               1"
      ],
      "text/html": [
       "<div>\n",
       "<style scoped>\n",
       "    .dataframe tbody tr th:only-of-type {\n",
       "        vertical-align: middle;\n",
       "    }\n",
       "\n",
       "    .dataframe tbody tr th {\n",
       "        vertical-align: top;\n",
       "    }\n",
       "\n",
       "    .dataframe thead th {\n",
       "        text-align: right;\n",
       "    }\n",
       "</style>\n",
       "<table border=\"1\" class=\"dataframe\">\n",
       "  <thead>\n",
       "    <tr style=\"text-align: right;\">\n",
       "      <th></th>\n",
       "      <th>text</th>\n",
       "      <th>title</th>\n",
       "    </tr>\n",
       "  </thead>\n",
       "  <tbody>\n",
       "    <tr>\n",
       "      <th>count</th>\n",
       "      <td>5963</td>\n",
       "      <td>5963</td>\n",
       "    </tr>\n",
       "    <tr>\n",
       "      <th>unique</th>\n",
       "      <td>5963</td>\n",
       "      <td>5963</td>\n",
       "    </tr>\n",
       "    <tr>\n",
       "      <th>top</th>\n",
       "      <td>александр казбеги один из самых популярных гру...</td>\n",
       "      <td>хевисбери гоча</td>\n",
       "    </tr>\n",
       "    <tr>\n",
       "      <th>freq</th>\n",
       "      <td>1</td>\n",
       "      <td>1</td>\n",
       "    </tr>\n",
       "  </tbody>\n",
       "</table>\n",
       "</div>"
      ]
     },
     "execution_count": 9,
     "metadata": {},
     "output_type": "execute_result"
    }
   ],
   "execution_count": 9
  },
  {
   "metadata": {},
   "cell_type": "markdown",
   "source": "Теперь в валидации нет повторяющихся заголовков.",
   "id": "705ed8dc354fecc8"
  },
  {
   "metadata": {
    "ExecuteTime": {
     "end_time": "2025-10-24T10:47:36.052446Z",
     "start_time": "2025-10-24T10:47:36.049529Z"
    }
   },
   "cell_type": "code",
   "source": "# val_df.to_csv(\"../data/training_data/val_df.csv\", index=False)",
   "id": "9d4bf69d5ec8e60c",
   "outputs": [],
   "execution_count": 10
  },
  {
   "metadata": {},
   "cell_type": "markdown",
   "source": "# Аугментация данных",
   "id": "b82b03138850f51b"
  },
  {
   "metadata": {},
   "cell_type": "markdown",
   "source": "Аугментировать будем только train набор, чтобы не произошла утечка.",
   "id": "a615e0e70cb1af92"
  },
  {
   "metadata": {
    "ExecuteTime": {
     "end_time": "2025-10-24T10:47:36.078828Z",
     "start_time": "2025-10-24T10:47:36.061342Z"
    }
   },
   "cell_type": "code",
   "source": "train_df.reset_index(drop=True, inplace=True)",
   "id": "b7dc7fc97abab42f",
   "outputs": [],
   "execution_count": 11
  },
  {
   "metadata": {
    "ExecuteTime": {
     "end_time": "2025-10-24T10:47:36.099674Z",
     "start_time": "2025-10-24T10:47:36.094992Z"
    }
   },
   "cell_type": "code",
   "source": [
    "def split_text_into_chunks(text, sentences_per_chunk=3):\n",
    "    sentences = sent_tokenize(text, language=\"russian\")\n",
    "    chunks = []\n",
    "    for i in range(0, len(sentences), sentences_per_chunk):\n",
    "        chunk = \" \".join(sentences[i:i+sentences_per_chunk])\n",
    "        chunks.append(chunk)\n",
    "    return chunks"
   ],
   "id": "822e338ed099132b",
   "outputs": [],
   "execution_count": 12
  },
  {
   "metadata": {
    "ExecuteTime": {
     "end_time": "2025-10-24T10:48:22.975864Z",
     "start_time": "2025-10-24T10:47:36.123503Z"
    }
   },
   "cell_type": "code",
   "source": [
    "augmented_rows = []\n",
    "for _, row in tqdm(train_df.iterrows(), total=len(train_df)):\n",
    "    chunks = split_text_into_chunks(row.text, sentences_per_chunk=3)\n",
    "    for chunk in chunks:\n",
    "        augmented_rows.append({\"text\": chunk, \"title\": row.title})"
   ],
   "id": "b9220496883c77ef",
   "outputs": [
    {
     "name": "stderr",
     "output_type": "stream",
     "text": [
      "100%|██████████| 23852/23852 [00:46<00:00, 510.03it/s]\n"
     ]
    }
   ],
   "execution_count": 13
  },
  {
   "metadata": {
    "ExecuteTime": {
     "end_time": "2025-10-24T10:48:23.475261Z",
     "start_time": "2025-10-24T10:48:22.985525Z"
    }
   },
   "cell_type": "code",
   "source": "augmented_dataset = pd.DataFrame(augmented_rows)",
   "id": "3f18cff45a9a6a12",
   "outputs": [],
   "execution_count": 14
  },
  {
   "metadata": {
    "ExecuteTime": {
     "end_time": "2025-10-24T10:48:24.847901Z",
     "start_time": "2025-10-24T10:48:23.488362Z"
    }
   },
   "cell_type": "code",
   "source": "augmented_dataset.describe()",
   "id": "76b497555dbf4a9b",
   "outputs": [
    {
     "data": {
      "text/plain": [
       "           text    title\n",
       "count   1315615  1315615\n",
       "unique  1287085    21313\n",
       "top       . . .   стелла\n",
       "freq        917     9810"
      ],
      "text/html": [
       "<div>\n",
       "<style scoped>\n",
       "    .dataframe tbody tr th:only-of-type {\n",
       "        vertical-align: middle;\n",
       "    }\n",
       "\n",
       "    .dataframe tbody tr th {\n",
       "        vertical-align: top;\n",
       "    }\n",
       "\n",
       "    .dataframe thead th {\n",
       "        text-align: right;\n",
       "    }\n",
       "</style>\n",
       "<table border=\"1\" class=\"dataframe\">\n",
       "  <thead>\n",
       "    <tr style=\"text-align: right;\">\n",
       "      <th></th>\n",
       "      <th>text</th>\n",
       "      <th>title</th>\n",
       "    </tr>\n",
       "  </thead>\n",
       "  <tbody>\n",
       "    <tr>\n",
       "      <th>count</th>\n",
       "      <td>1315615</td>\n",
       "      <td>1315615</td>\n",
       "    </tr>\n",
       "    <tr>\n",
       "      <th>unique</th>\n",
       "      <td>1287085</td>\n",
       "      <td>21313</td>\n",
       "    </tr>\n",
       "    <tr>\n",
       "      <th>top</th>\n",
       "      <td>. . .</td>\n",
       "      <td>стелла</td>\n",
       "    </tr>\n",
       "    <tr>\n",
       "      <th>freq</th>\n",
       "      <td>917</td>\n",
       "      <td>9810</td>\n",
       "    </tr>\n",
       "  </tbody>\n",
       "</table>\n",
       "</div>"
      ]
     },
     "execution_count": 15,
     "metadata": {},
     "output_type": "execute_result"
    }
   ],
   "execution_count": 15
  },
  {
   "metadata": {},
   "cell_type": "markdown",
   "source": "## Почистим строки, в которых нет текста и удалим лидирующую пунктуацию",
   "id": "81c16f27028aec60"
  },
  {
   "metadata": {
    "ExecuteTime": {
     "end_time": "2025-10-24T10:48:24.865905Z",
     "start_time": "2025-10-24T10:48:24.863290Z"
    }
   },
   "cell_type": "code",
   "source": [
    "def is_meaningful(text):\n",
    "    return bool(re.search(r\"[А-Яа-яA-Za-z0-9]\", text))\n",
    "\n",
    "def clean_leading_punct(text):\n",
    "    return re.sub(r\"^[^\\wА-Яа-я0-9]+\", \"\", text).strip()"
   ],
   "id": "92e93030ff0b021e",
   "outputs": [],
   "execution_count": 16
  },
  {
   "metadata": {
    "ExecuteTime": {
     "end_time": "2025-10-24T10:48:41.768934Z",
     "start_time": "2025-10-24T10:48:24.908670Z"
    }
   },
   "cell_type": "code",
   "source": [
    "augmented_dataset = augmented_dataset[augmented_dataset.text.apply(is_meaningful)].reset_index(drop=True)\n",
    "augmented_dataset.text = augmented_dataset.text.str.replace(r\"[^\\w\\s,.!?-]\", \" \", regex=True)\n",
    "augmented_dataset.text = augmented_dataset.text.str.replace(r\"\\s+\", \" \", regex=True).str.strip()\n",
    "augmented_dataset.describe()"
   ],
   "id": "e0507d72a840b60c",
   "outputs": [
    {
     "data": {
      "text/plain": [
       "                                                     text    title\n",
       "count                                             1312611  1312611\n",
       "unique                                            1286111    21313\n",
       "top     если же кого-то заинтересует более подробно то...   стелла\n",
       "freq                                                   50     9810"
      ],
      "text/html": [
       "<div>\n",
       "<style scoped>\n",
       "    .dataframe tbody tr th:only-of-type {\n",
       "        vertical-align: middle;\n",
       "    }\n",
       "\n",
       "    .dataframe tbody tr th {\n",
       "        vertical-align: top;\n",
       "    }\n",
       "\n",
       "    .dataframe thead th {\n",
       "        text-align: right;\n",
       "    }\n",
       "</style>\n",
       "<table border=\"1\" class=\"dataframe\">\n",
       "  <thead>\n",
       "    <tr style=\"text-align: right;\">\n",
       "      <th></th>\n",
       "      <th>text</th>\n",
       "      <th>title</th>\n",
       "    </tr>\n",
       "  </thead>\n",
       "  <tbody>\n",
       "    <tr>\n",
       "      <th>count</th>\n",
       "      <td>1312611</td>\n",
       "      <td>1312611</td>\n",
       "    </tr>\n",
       "    <tr>\n",
       "      <th>unique</th>\n",
       "      <td>1286111</td>\n",
       "      <td>21313</td>\n",
       "    </tr>\n",
       "    <tr>\n",
       "      <th>top</th>\n",
       "      <td>если же кого-то заинтересует более подробно то...</td>\n",
       "      <td>стелла</td>\n",
       "    </tr>\n",
       "    <tr>\n",
       "      <th>freq</th>\n",
       "      <td>50</td>\n",
       "      <td>9810</td>\n",
       "    </tr>\n",
       "  </tbody>\n",
       "</table>\n",
       "</div>"
      ]
     },
     "execution_count": 17,
     "metadata": {},
     "output_type": "execute_result"
    }
   ],
   "execution_count": 17
  },
  {
   "metadata": {},
   "cell_type": "markdown",
   "source": "Удалим строки, с небольшим количеством данных",
   "id": "aa5b1e14b19934de"
  },
  {
   "metadata": {
    "ExecuteTime": {
     "end_time": "2025-10-24T10:48:42.500505Z",
     "start_time": "2025-10-24T10:48:41.781597Z"
    }
   },
   "cell_type": "code",
   "source": "augmented_dataset = augmented_dataset[augmented_dataset.text.str.strip().str.len() > 10]",
   "id": "8f79287c4cf715b8",
   "outputs": [],
   "execution_count": 18
  },
  {
   "metadata": {
    "ExecuteTime": {
     "end_time": "2025-10-24T10:48:43.609229Z",
     "start_time": "2025-10-24T10:48:42.521052Z"
    }
   },
   "cell_type": "code",
   "source": "augmented_dataset.describe()",
   "id": "bc0dd5653cb03a3b",
   "outputs": [
    {
     "data": {
      "text/plain": [
       "                                                     text    title\n",
       "count                                             1312016  1312016\n",
       "unique                                            1285698    21306\n",
       "top     если же кого-то заинтересует более подробно то...   стелла\n",
       "freq                                                   50     9810"
      ],
      "text/html": [
       "<div>\n",
       "<style scoped>\n",
       "    .dataframe tbody tr th:only-of-type {\n",
       "        vertical-align: middle;\n",
       "    }\n",
       "\n",
       "    .dataframe tbody tr th {\n",
       "        vertical-align: top;\n",
       "    }\n",
       "\n",
       "    .dataframe thead th {\n",
       "        text-align: right;\n",
       "    }\n",
       "</style>\n",
       "<table border=\"1\" class=\"dataframe\">\n",
       "  <thead>\n",
       "    <tr style=\"text-align: right;\">\n",
       "      <th></th>\n",
       "      <th>text</th>\n",
       "      <th>title</th>\n",
       "    </tr>\n",
       "  </thead>\n",
       "  <tbody>\n",
       "    <tr>\n",
       "      <th>count</th>\n",
       "      <td>1312016</td>\n",
       "      <td>1312016</td>\n",
       "    </tr>\n",
       "    <tr>\n",
       "      <th>unique</th>\n",
       "      <td>1285698</td>\n",
       "      <td>21306</td>\n",
       "    </tr>\n",
       "    <tr>\n",
       "      <th>top</th>\n",
       "      <td>если же кого-то заинтересует более подробно то...</td>\n",
       "      <td>стелла</td>\n",
       "    </tr>\n",
       "    <tr>\n",
       "      <th>freq</th>\n",
       "      <td>50</td>\n",
       "      <td>9810</td>\n",
       "    </tr>\n",
       "  </tbody>\n",
       "</table>\n",
       "</div>"
      ]
     },
     "execution_count": 19,
     "metadata": {},
     "output_type": "execute_result"
    }
   ],
   "execution_count": 19
  },
  {
   "metadata": {},
   "cell_type": "markdown",
   "source": "Заметим, что у нас очень много текстов с одинаковыми названиями. Это может плохо повлиять на модель, если она будет видеть одни и те же названия. Оставим только по 500 каждого",
   "id": "2bbd0298530c6b4f"
  },
  {
   "metadata": {
    "ExecuteTime": {
     "end_time": "2025-10-24T10:48:43.951275Z",
     "start_time": "2025-10-24T10:48:43.627506Z"
    }
   },
   "cell_type": "code",
   "source": [
    "max_per_title = 500\n",
    "augmented_dataset = augmented_dataset.groupby(\"title\").head(max_per_title).reset_index(drop=True)\n",
    "\n",
    "print(augmented_dataset.title.value_counts().head(10))"
   ],
   "id": "a06b4a296b1bd704",
   "outputs": [
    {
     "name": "stdout",
     "output_type": "stream",
     "text": [
      "title\n",
      "полет                                        500\n",
      "и был вечер, и было утро                     500\n",
      "яростная калифорния                          500\n",
      "по темным заводям. круг замыкается           500\n",
      "снежный зверь                                500\n",
      "дожила до понедельника                       500\n",
      "экспериментповесть                           500\n",
      "отряд состоит из кота                        500\n",
      "случай на вокзале                            500\n",
      "нашествие арабуру третий роман о натабуре    500\n",
      "Name: count, dtype: int64\n"
     ]
    }
   ],
   "execution_count": 20
  },
  {
   "metadata": {
    "ExecuteTime": {
     "end_time": "2025-10-24T10:48:44.572569Z",
     "start_time": "2025-10-24T10:48:43.975312Z"
    }
   },
   "cell_type": "code",
   "source": "augmented_dataset.describe()",
   "id": "1da33024962041a2",
   "outputs": [
    {
     "data": {
      "text/plain": [
       "                                                     text   title\n",
       "count                                              839599  839599\n",
       "unique                                             824908   21306\n",
       "top     это не значит, что остальным жителям планеты н...   полет\n",
       "freq                                                   50     500"
      ],
      "text/html": [
       "<div>\n",
       "<style scoped>\n",
       "    .dataframe tbody tr th:only-of-type {\n",
       "        vertical-align: middle;\n",
       "    }\n",
       "\n",
       "    .dataframe tbody tr th {\n",
       "        vertical-align: top;\n",
       "    }\n",
       "\n",
       "    .dataframe thead th {\n",
       "        text-align: right;\n",
       "    }\n",
       "</style>\n",
       "<table border=\"1\" class=\"dataframe\">\n",
       "  <thead>\n",
       "    <tr style=\"text-align: right;\">\n",
       "      <th></th>\n",
       "      <th>text</th>\n",
       "      <th>title</th>\n",
       "    </tr>\n",
       "  </thead>\n",
       "  <tbody>\n",
       "    <tr>\n",
       "      <th>count</th>\n",
       "      <td>839599</td>\n",
       "      <td>839599</td>\n",
       "    </tr>\n",
       "    <tr>\n",
       "      <th>unique</th>\n",
       "      <td>824908</td>\n",
       "      <td>21306</td>\n",
       "    </tr>\n",
       "    <tr>\n",
       "      <th>top</th>\n",
       "      <td>это не значит, что остальным жителям планеты н...</td>\n",
       "      <td>полет</td>\n",
       "    </tr>\n",
       "    <tr>\n",
       "      <th>freq</th>\n",
       "      <td>50</td>\n",
       "      <td>500</td>\n",
       "    </tr>\n",
       "  </tbody>\n",
       "</table>\n",
       "</div>"
      ]
     },
     "execution_count": 21,
     "metadata": {},
     "output_type": "execute_result"
    }
   ],
   "execution_count": 21
  },
  {
   "metadata": {},
   "cell_type": "markdown",
   "source": "Появились одинаковые тексты",
   "id": "ee8ede39ea405d27"
  },
  {
   "metadata": {
    "ExecuteTime": {
     "end_time": "2025-10-24T10:48:46.541056Z",
     "start_time": "2025-10-24T10:48:44.589932Z"
    }
   },
   "cell_type": "code",
   "source": "augmented_dataset.duplicated().sum()",
   "id": "96c9efb604fdd103",
   "outputs": [
    {
     "data": {
      "text/plain": [
       "np.int64(1799)"
      ]
     },
     "execution_count": 22,
     "metadata": {},
     "output_type": "execute_result"
    }
   ],
   "execution_count": 22
  },
  {
   "metadata": {},
   "cell_type": "markdown",
   "source": "Есть полные дубликаты текст + название. Такое удалим.",
   "id": "de2c2c00c45e1b35"
  },
  {
   "metadata": {
    "ExecuteTime": {
     "end_time": "2025-10-24T10:48:47.858045Z",
     "start_time": "2025-10-24T10:48:46.553355Z"
    }
   },
   "cell_type": "code",
   "source": "augmented_dataset.drop_duplicates(inplace=True)",
   "id": "24255b251204bf52",
   "outputs": [],
   "execution_count": 23
  },
  {
   "metadata": {
    "ExecuteTime": {
     "end_time": "2025-10-24T10:48:47.866050Z",
     "start_time": "2025-10-24T10:48:47.863757Z"
    }
   },
   "cell_type": "code",
   "source": "augmented_dataset.reset_index(drop=True, inplace=True)",
   "id": "83b67f731ecee255",
   "outputs": [],
   "execution_count": 24
  },
  {
   "metadata": {
    "ExecuteTime": {
     "end_time": "2025-10-24T10:48:48.502750Z",
     "start_time": "2025-10-24T10:48:47.872510Z"
    }
   },
   "cell_type": "code",
   "source": "augmented_dataset.describe()",
   "id": "74ede47a42c5699a",
   "outputs": [
    {
     "data": {
      "text/plain": [
       "                                                     text  \\\n",
       "count                                              837800   \n",
       "unique                                             824908   \n",
       "top     если же кого-то заинтересует более подробно то...   \n",
       "freq                                                   50   \n",
       "\n",
       "                              title  \n",
       "count                        837800  \n",
       "unique                        21306  \n",
       "top     если солнечные часы отстают  \n",
       "freq                            500  "
      ],
      "text/html": [
       "<div>\n",
       "<style scoped>\n",
       "    .dataframe tbody tr th:only-of-type {\n",
       "        vertical-align: middle;\n",
       "    }\n",
       "\n",
       "    .dataframe tbody tr th {\n",
       "        vertical-align: top;\n",
       "    }\n",
       "\n",
       "    .dataframe thead th {\n",
       "        text-align: right;\n",
       "    }\n",
       "</style>\n",
       "<table border=\"1\" class=\"dataframe\">\n",
       "  <thead>\n",
       "    <tr style=\"text-align: right;\">\n",
       "      <th></th>\n",
       "      <th>text</th>\n",
       "      <th>title</th>\n",
       "    </tr>\n",
       "  </thead>\n",
       "  <tbody>\n",
       "    <tr>\n",
       "      <th>count</th>\n",
       "      <td>837800</td>\n",
       "      <td>837800</td>\n",
       "    </tr>\n",
       "    <tr>\n",
       "      <th>unique</th>\n",
       "      <td>824908</td>\n",
       "      <td>21306</td>\n",
       "    </tr>\n",
       "    <tr>\n",
       "      <th>top</th>\n",
       "      <td>если же кого-то заинтересует более подробно то...</td>\n",
       "      <td>если солнечные часы отстают</td>\n",
       "    </tr>\n",
       "    <tr>\n",
       "      <th>freq</th>\n",
       "      <td>50</td>\n",
       "      <td>500</td>\n",
       "    </tr>\n",
       "  </tbody>\n",
       "</table>\n",
       "</div>"
      ]
     },
     "execution_count": 25,
     "metadata": {},
     "output_type": "execute_result"
    }
   ],
   "execution_count": 25
  },
  {
   "metadata": {},
   "cell_type": "markdown",
   "source": "Все еще остались одинаковые тексты, но теперь у них разные названия. Удалим и их.",
   "id": "3fe891cacb0f7efa"
  },
  {
   "metadata": {
    "ExecuteTime": {
     "end_time": "2025-10-24T10:48:48.659218Z",
     "start_time": "2025-10-24T10:48:48.508909Z"
    }
   },
   "cell_type": "code",
   "source": "augmented_dataset = augmented_dataset[~augmented_dataset.text.duplicated(keep=False)].reset_index(drop=True)",
   "id": "2cbe79c043811880",
   "outputs": [],
   "execution_count": 26
  },
  {
   "metadata": {
    "ExecuteTime": {
     "end_time": "2025-10-24T10:48:49.287990Z",
     "start_time": "2025-10-24T10:48:48.665433Z"
    }
   },
   "cell_type": "code",
   "source": "augmented_dataset.describe()",
   "id": "3a0f33202d00ad9d",
   "outputs": [
    {
     "data": {
      "text/plain": [
       "                                                     text   title\n",
       "count                                              821612  821612\n",
       "unique                                             821612   21302\n",
       "top     бабушка обещала купить пряник, если внук собер...     хан\n",
       "freq                                                    1     500"
      ],
      "text/html": [
       "<div>\n",
       "<style scoped>\n",
       "    .dataframe tbody tr th:only-of-type {\n",
       "        vertical-align: middle;\n",
       "    }\n",
       "\n",
       "    .dataframe tbody tr th {\n",
       "        vertical-align: top;\n",
       "    }\n",
       "\n",
       "    .dataframe thead th {\n",
       "        text-align: right;\n",
       "    }\n",
       "</style>\n",
       "<table border=\"1\" class=\"dataframe\">\n",
       "  <thead>\n",
       "    <tr style=\"text-align: right;\">\n",
       "      <th></th>\n",
       "      <th>text</th>\n",
       "      <th>title</th>\n",
       "    </tr>\n",
       "  </thead>\n",
       "  <tbody>\n",
       "    <tr>\n",
       "      <th>count</th>\n",
       "      <td>821612</td>\n",
       "      <td>821612</td>\n",
       "    </tr>\n",
       "    <tr>\n",
       "      <th>unique</th>\n",
       "      <td>821612</td>\n",
       "      <td>21302</td>\n",
       "    </tr>\n",
       "    <tr>\n",
       "      <th>top</th>\n",
       "      <td>бабушка обещала купить пряник, если внук собер...</td>\n",
       "      <td>хан</td>\n",
       "    </tr>\n",
       "    <tr>\n",
       "      <th>freq</th>\n",
       "      <td>1</td>\n",
       "      <td>500</td>\n",
       "    </tr>\n",
       "  </tbody>\n",
       "</table>\n",
       "</div>"
      ]
     },
     "execution_count": 27,
     "metadata": {},
     "output_type": "execute_result"
    }
   ],
   "execution_count": 27
  },
  {
   "metadata": {
    "ExecuteTime": {
     "end_time": "2025-10-24T10:48:49.302997Z",
     "start_time": "2025-10-24T10:48:49.295262Z"
    }
   },
   "cell_type": "code",
   "source": "augmented_dataset",
   "id": "50af1ecd6bd35a9a",
   "outputs": [
    {
     "data": {
      "text/plain": [
       "                                                     text  \\\n",
       "0       бабушка обещала купить пряник, если внук собер...   \n",
       "1       сказка бочки один из первых памфлетов, написан...   \n",
       "2       , была включена папой римским в . досталось св...   \n",
       "3       примечательно, впрочем, что, при полном отсутс...   \n",
       "4       построение памфлета на первый взгляд может пок...   \n",
       "...                                                   ...   \n",
       "821607  у единственного удара бутылкой оказались слишк...   \n",
       "821608  ..стесняться писать?..да много ли поэтов, суме...   \n",
       "821609  ..позволить людям как глоток живой воды испить...   \n",
       "821610  в цирке.на сцене большая, даже огромная, грязн...   \n",
       "821611  в правой стене, почти в углу, высокая и широка...   \n",
       "\n",
       "                                 title  \n",
       "0                конь с розовой гривой  \n",
       "1                         сказка бочки  \n",
       "2                         сказка бочки  \n",
       "3                         сказка бочки  \n",
       "4                         сказка бочки  \n",
       "...                                ...  \n",
       "821607  аннотации к моим произведениям  \n",
       "821608   ответы в письмах. предисловие  \n",
       "821609   ответы в письмах. предисловие  \n",
       "821610      тот, кто получает пощечины  \n",
       "821611      тот, кто получает пощечины  \n",
       "\n",
       "[821612 rows x 2 columns]"
      ],
      "text/html": [
       "<div>\n",
       "<style scoped>\n",
       "    .dataframe tbody tr th:only-of-type {\n",
       "        vertical-align: middle;\n",
       "    }\n",
       "\n",
       "    .dataframe tbody tr th {\n",
       "        vertical-align: top;\n",
       "    }\n",
       "\n",
       "    .dataframe thead th {\n",
       "        text-align: right;\n",
       "    }\n",
       "</style>\n",
       "<table border=\"1\" class=\"dataframe\">\n",
       "  <thead>\n",
       "    <tr style=\"text-align: right;\">\n",
       "      <th></th>\n",
       "      <th>text</th>\n",
       "      <th>title</th>\n",
       "    </tr>\n",
       "  </thead>\n",
       "  <tbody>\n",
       "    <tr>\n",
       "      <th>0</th>\n",
       "      <td>бабушка обещала купить пряник, если внук собер...</td>\n",
       "      <td>конь с розовой гривой</td>\n",
       "    </tr>\n",
       "    <tr>\n",
       "      <th>1</th>\n",
       "      <td>сказка бочки один из первых памфлетов, написан...</td>\n",
       "      <td>сказка бочки</td>\n",
       "    </tr>\n",
       "    <tr>\n",
       "      <th>2</th>\n",
       "      <td>, была включена папой римским в . досталось св...</td>\n",
       "      <td>сказка бочки</td>\n",
       "    </tr>\n",
       "    <tr>\n",
       "      <th>3</th>\n",
       "      <td>примечательно, впрочем, что, при полном отсутс...</td>\n",
       "      <td>сказка бочки</td>\n",
       "    </tr>\n",
       "    <tr>\n",
       "      <th>4</th>\n",
       "      <td>построение памфлета на первый взгляд может пок...</td>\n",
       "      <td>сказка бочки</td>\n",
       "    </tr>\n",
       "    <tr>\n",
       "      <th>...</th>\n",
       "      <td>...</td>\n",
       "      <td>...</td>\n",
       "    </tr>\n",
       "    <tr>\n",
       "      <th>821607</th>\n",
       "      <td>у единственного удара бутылкой оказались слишк...</td>\n",
       "      <td>аннотации к моим произведениям</td>\n",
       "    </tr>\n",
       "    <tr>\n",
       "      <th>821608</th>\n",
       "      <td>..стесняться писать?..да много ли поэтов, суме...</td>\n",
       "      <td>ответы в письмах. предисловие</td>\n",
       "    </tr>\n",
       "    <tr>\n",
       "      <th>821609</th>\n",
       "      <td>..позволить людям как глоток живой воды испить...</td>\n",
       "      <td>ответы в письмах. предисловие</td>\n",
       "    </tr>\n",
       "    <tr>\n",
       "      <th>821610</th>\n",
       "      <td>в цирке.на сцене большая, даже огромная, грязн...</td>\n",
       "      <td>тот, кто получает пощечины</td>\n",
       "    </tr>\n",
       "    <tr>\n",
       "      <th>821611</th>\n",
       "      <td>в правой стене, почти в углу, высокая и широка...</td>\n",
       "      <td>тот, кто получает пощечины</td>\n",
       "    </tr>\n",
       "  </tbody>\n",
       "</table>\n",
       "<p>821612 rows × 2 columns</p>\n",
       "</div>"
      ]
     },
     "execution_count": 28,
     "metadata": {},
     "output_type": "execute_result"
    }
   ],
   "execution_count": 28
  },
  {
   "metadata": {
    "ExecuteTime": {
     "end_time": "2025-10-24T10:48:49.326293Z",
     "start_time": "2025-10-24T10:48:49.324273Z"
    }
   },
   "cell_type": "code",
   "source": "# augmented_dataset.to_csv(\"../data/training_data/train_df.csv\", index=False)",
   "id": "8c32d06ef1a80cd8",
   "outputs": [],
   "execution_count": 29
  },
  {
   "metadata": {},
   "cell_type": "markdown",
   "source": "## Посмотрим на распределение названий по длине после разделения",
   "id": "2e455a482f80fd7d"
  },
  {
   "metadata": {
    "ExecuteTime": {
     "end_time": "2025-10-24T10:48:49.363641Z",
     "start_time": "2025-10-24T10:48:49.346664Z"
    }
   },
   "cell_type": "code",
   "source": "train_df = augmented_dataset.copy()",
   "id": "69af3a4864af23f2",
   "outputs": [],
   "execution_count": 30
  },
  {
   "metadata": {
    "ExecuteTime": {
     "end_time": "2025-10-24T10:48:51.985197Z",
     "start_time": "2025-10-24T10:48:49.370173Z"
    }
   },
   "cell_type": "code",
   "source": [
    "dup_titles = (\n",
    "    augmented_dataset.groupby(\"text\")[\"title\"]\n",
    "    .nunique()\n",
    "    .reset_index()\n",
    "    .query(\"title > 1\")\n",
    ")\n",
    "\n",
    "print(f\"Текстов с одинаковыми содержаниями, но разными названиями: {len(dup_titles)}\")"
   ],
   "id": "69a373e3baf81fb8",
   "outputs": [
    {
     "name": "stdout",
     "output_type": "stream",
     "text": [
      "Текстов с одинаковыми содержаниями, но разными названиями: 0\n"
     ]
    }
   ],
   "execution_count": 31
  },
  {
   "metadata": {
    "ExecuteTime": {
     "end_time": "2025-10-24T10:48:52.367444Z",
     "start_time": "2025-10-24T10:48:51.999444Z"
    }
   },
   "cell_type": "code",
   "source": [
    "data[\"title_len\"] = data.title.apply(lambda x: len(str(x).split()))\n",
    "length_counts = data.groupby('title_len').size()\n",
    "train_df[\"title_len\"] = train_df.title.apply(lambda x: len(str(x).split()))\n",
    "length_counts_aug = train_df.groupby('title_len').size()\n",
    "val_df[\"title_len\"] = val_df.title.apply(lambda x: len(str(x).split()))\n",
    "length_counts_aug_val = val_df.groupby('title_len').size()"
   ],
   "id": "c481ab7b14e1e61d",
   "outputs": [
    {
     "name": "stderr",
     "output_type": "stream",
     "text": [
      "/var/folders/wl/_8h74t5s5hz2ntrny0kjx_pw0000gn/T/ipykernel_26607/4038663461.py:5: SettingWithCopyWarning: \n",
      "A value is trying to be set on a copy of a slice from a DataFrame.\n",
      "Try using .loc[row_indexer,col_indexer] = value instead\n",
      "\n",
      "See the caveats in the documentation: https://pandas.pydata.org/pandas-docs/stable/user_guide/indexing.html#returning-a-view-versus-a-copy\n",
      "  val_df[\"title_len\"] = val_df.title.apply(lambda x: len(str(x).split()))\n"
     ]
    }
   ],
   "execution_count": 32
  },
  {
   "metadata": {
    "ExecuteTime": {
     "end_time": "2025-10-24T10:56:48.434997Z",
     "start_time": "2025-10-24T10:56:48.414472Z"
    }
   },
   "cell_type": "code",
   "source": [
    "fig = go.Figure()\n",
    "\n",
    "fig.add_trace(go.Bar(\n",
    "    x=length_counts.index,\n",
    "    y=length_counts.values,\n",
    "    name=\"Без аугментации\",\n",
    "    marker_color=\"blue\"\n",
    "))\n",
    "\n",
    "fig.add_trace(go.Bar(\n",
    "    x=length_counts_aug.index,\n",
    "    y=length_counts_aug.values,\n",
    "    name=\"train после аугментации\",\n",
    "    marker_color=\"orange\"\n",
    "))\n",
    "\n",
    "fig.add_trace(go.Bar(\n",
    "    x=length_counts_aug_val.index,\n",
    "    y=length_counts_aug_val.values,\n",
    "    name=\"test после аугментации\",\n",
    "    marker_color=\"green\"\n",
    "))\n",
    "\n",
    "fig.update_layout(\n",
    "    title=\"Сравнение распределения длин названий до и после аугментации\",\n",
    "    xaxis_title=\"Длина названия (слов)\",\n",
    "    yaxis_title=\"Количество названий\",\n",
    "    barmode=\"group\",\n",
    "    bargap=0.2,\n",
    "    bargroupgap=0.1,\n",
    "    width=1000,\n",
    "    height=500\n",
    ")\n",
    "\n",
    "fig.show()"
   ],
   "id": "da4a309bd5f4a35b",
   "outputs": [
    {
     "data": {
      "application/vnd.plotly.v1+json": {
       "data": [
        {
         "marker": {
          "color": "blue"
         },
         "name": "Без аугментации",
         "x": {
          "dtype": "i1",
          "bdata": "AQIDBAUGBwgJCg=="
         },
         "y": {
          "dtype": "i2",
          "bdata": "KBSrHt8X/g6jCsAGrwSSAmABwwA="
         },
         "type": "bar"
        },
        {
         "marker": {
          "color": "orange"
         },
         "name": "train после аугментации",
         "x": {
          "dtype": "i1",
          "bdata": "AQIDBAUGBwgJCg=="
         },
         "y": {
          "dtype": "i4",
          "bdata": "OkUCAOZUAwAKmQIAhqwBAL4fAQD1wAAAXH8AAMMvAAATEwAA1wYAAA=="
         },
         "type": "bar"
        },
        {
         "marker": {
          "color": "green"
         },
         "name": "test после аугментации",
         "x": {
          "dtype": "i1",
          "bdata": "AQIDBAUGBwgJCg=="
         },
         "y": {
          "dtype": "i2",
          "bdata": "jgMSBukEEwM2AokB+wCPAEAAJgA="
         },
         "type": "bar"
        }
       ],
       "layout": {
        "template": {
         "data": {
          "histogram2dcontour": [
           {
            "type": "histogram2dcontour",
            "colorbar": {
             "outlinewidth": 0,
             "ticks": ""
            },
            "colorscale": [
             [
              0.0,
              "#0d0887"
             ],
             [
              0.1111111111111111,
              "#46039f"
             ],
             [
              0.2222222222222222,
              "#7201a8"
             ],
             [
              0.3333333333333333,
              "#9c179e"
             ],
             [
              0.4444444444444444,
              "#bd3786"
             ],
             [
              0.5555555555555556,
              "#d8576b"
             ],
             [
              0.6666666666666666,
              "#ed7953"
             ],
             [
              0.7777777777777778,
              "#fb9f3a"
             ],
             [
              0.8888888888888888,
              "#fdca26"
             ],
             [
              1.0,
              "#f0f921"
             ]
            ]
           }
          ],
          "choropleth": [
           {
            "type": "choropleth",
            "colorbar": {
             "outlinewidth": 0,
             "ticks": ""
            }
           }
          ],
          "histogram2d": [
           {
            "type": "histogram2d",
            "colorbar": {
             "outlinewidth": 0,
             "ticks": ""
            },
            "colorscale": [
             [
              0.0,
              "#0d0887"
             ],
             [
              0.1111111111111111,
              "#46039f"
             ],
             [
              0.2222222222222222,
              "#7201a8"
             ],
             [
              0.3333333333333333,
              "#9c179e"
             ],
             [
              0.4444444444444444,
              "#bd3786"
             ],
             [
              0.5555555555555556,
              "#d8576b"
             ],
             [
              0.6666666666666666,
              "#ed7953"
             ],
             [
              0.7777777777777778,
              "#fb9f3a"
             ],
             [
              0.8888888888888888,
              "#fdca26"
             ],
             [
              1.0,
              "#f0f921"
             ]
            ]
           }
          ],
          "heatmap": [
           {
            "type": "heatmap",
            "colorbar": {
             "outlinewidth": 0,
             "ticks": ""
            },
            "colorscale": [
             [
              0.0,
              "#0d0887"
             ],
             [
              0.1111111111111111,
              "#46039f"
             ],
             [
              0.2222222222222222,
              "#7201a8"
             ],
             [
              0.3333333333333333,
              "#9c179e"
             ],
             [
              0.4444444444444444,
              "#bd3786"
             ],
             [
              0.5555555555555556,
              "#d8576b"
             ],
             [
              0.6666666666666666,
              "#ed7953"
             ],
             [
              0.7777777777777778,
              "#fb9f3a"
             ],
             [
              0.8888888888888888,
              "#fdca26"
             ],
             [
              1.0,
              "#f0f921"
             ]
            ]
           }
          ],
          "contourcarpet": [
           {
            "type": "contourcarpet",
            "colorbar": {
             "outlinewidth": 0,
             "ticks": ""
            }
           }
          ],
          "contour": [
           {
            "type": "contour",
            "colorbar": {
             "outlinewidth": 0,
             "ticks": ""
            },
            "colorscale": [
             [
              0.0,
              "#0d0887"
             ],
             [
              0.1111111111111111,
              "#46039f"
             ],
             [
              0.2222222222222222,
              "#7201a8"
             ],
             [
              0.3333333333333333,
              "#9c179e"
             ],
             [
              0.4444444444444444,
              "#bd3786"
             ],
             [
              0.5555555555555556,
              "#d8576b"
             ],
             [
              0.6666666666666666,
              "#ed7953"
             ],
             [
              0.7777777777777778,
              "#fb9f3a"
             ],
             [
              0.8888888888888888,
              "#fdca26"
             ],
             [
              1.0,
              "#f0f921"
             ]
            ]
           }
          ],
          "surface": [
           {
            "type": "surface",
            "colorbar": {
             "outlinewidth": 0,
             "ticks": ""
            },
            "colorscale": [
             [
              0.0,
              "#0d0887"
             ],
             [
              0.1111111111111111,
              "#46039f"
             ],
             [
              0.2222222222222222,
              "#7201a8"
             ],
             [
              0.3333333333333333,
              "#9c179e"
             ],
             [
              0.4444444444444444,
              "#bd3786"
             ],
             [
              0.5555555555555556,
              "#d8576b"
             ],
             [
              0.6666666666666666,
              "#ed7953"
             ],
             [
              0.7777777777777778,
              "#fb9f3a"
             ],
             [
              0.8888888888888888,
              "#fdca26"
             ],
             [
              1.0,
              "#f0f921"
             ]
            ]
           }
          ],
          "mesh3d": [
           {
            "type": "mesh3d",
            "colorbar": {
             "outlinewidth": 0,
             "ticks": ""
            }
           }
          ],
          "scatter": [
           {
            "fillpattern": {
             "fillmode": "overlay",
             "size": 10,
             "solidity": 0.2
            },
            "type": "scatter"
           }
          ],
          "parcoords": [
           {
            "type": "parcoords",
            "line": {
             "colorbar": {
              "outlinewidth": 0,
              "ticks": ""
             }
            }
           }
          ],
          "scatterpolargl": [
           {
            "type": "scatterpolargl",
            "marker": {
             "colorbar": {
              "outlinewidth": 0,
              "ticks": ""
             }
            }
           }
          ],
          "bar": [
           {
            "error_x": {
             "color": "#2a3f5f"
            },
            "error_y": {
             "color": "#2a3f5f"
            },
            "marker": {
             "line": {
              "color": "#E5ECF6",
              "width": 0.5
             },
             "pattern": {
              "fillmode": "overlay",
              "size": 10,
              "solidity": 0.2
             }
            },
            "type": "bar"
           }
          ],
          "scattergeo": [
           {
            "type": "scattergeo",
            "marker": {
             "colorbar": {
              "outlinewidth": 0,
              "ticks": ""
             }
            }
           }
          ],
          "scatterpolar": [
           {
            "type": "scatterpolar",
            "marker": {
             "colorbar": {
              "outlinewidth": 0,
              "ticks": ""
             }
            }
           }
          ],
          "histogram": [
           {
            "marker": {
             "pattern": {
              "fillmode": "overlay",
              "size": 10,
              "solidity": 0.2
             }
            },
            "type": "histogram"
           }
          ],
          "scattergl": [
           {
            "type": "scattergl",
            "marker": {
             "colorbar": {
              "outlinewidth": 0,
              "ticks": ""
             }
            }
           }
          ],
          "scatter3d": [
           {
            "type": "scatter3d",
            "line": {
             "colorbar": {
              "outlinewidth": 0,
              "ticks": ""
             }
            },
            "marker": {
             "colorbar": {
              "outlinewidth": 0,
              "ticks": ""
             }
            }
           }
          ],
          "scattermap": [
           {
            "type": "scattermap",
            "marker": {
             "colorbar": {
              "outlinewidth": 0,
              "ticks": ""
             }
            }
           }
          ],
          "scattermapbox": [
           {
            "type": "scattermapbox",
            "marker": {
             "colorbar": {
              "outlinewidth": 0,
              "ticks": ""
             }
            }
           }
          ],
          "scatterternary": [
           {
            "type": "scatterternary",
            "marker": {
             "colorbar": {
              "outlinewidth": 0,
              "ticks": ""
             }
            }
           }
          ],
          "scattercarpet": [
           {
            "type": "scattercarpet",
            "marker": {
             "colorbar": {
              "outlinewidth": 0,
              "ticks": ""
             }
            }
           }
          ],
          "carpet": [
           {
            "aaxis": {
             "endlinecolor": "#2a3f5f",
             "gridcolor": "white",
             "linecolor": "white",
             "minorgridcolor": "white",
             "startlinecolor": "#2a3f5f"
            },
            "baxis": {
             "endlinecolor": "#2a3f5f",
             "gridcolor": "white",
             "linecolor": "white",
             "minorgridcolor": "white",
             "startlinecolor": "#2a3f5f"
            },
            "type": "carpet"
           }
          ],
          "table": [
           {
            "cells": {
             "fill": {
              "color": "#EBF0F8"
             },
             "line": {
              "color": "white"
             }
            },
            "header": {
             "fill": {
              "color": "#C8D4E3"
             },
             "line": {
              "color": "white"
             }
            },
            "type": "table"
           }
          ],
          "barpolar": [
           {
            "marker": {
             "line": {
              "color": "#E5ECF6",
              "width": 0.5
             },
             "pattern": {
              "fillmode": "overlay",
              "size": 10,
              "solidity": 0.2
             }
            },
            "type": "barpolar"
           }
          ],
          "pie": [
           {
            "automargin": true,
            "type": "pie"
           }
          ]
         },
         "layout": {
          "autotypenumbers": "strict",
          "colorway": [
           "#636efa",
           "#EF553B",
           "#00cc96",
           "#ab63fa",
           "#FFA15A",
           "#19d3f3",
           "#FF6692",
           "#B6E880",
           "#FF97FF",
           "#FECB52"
          ],
          "font": {
           "color": "#2a3f5f"
          },
          "hovermode": "closest",
          "hoverlabel": {
           "align": "left"
          },
          "paper_bgcolor": "white",
          "plot_bgcolor": "#E5ECF6",
          "polar": {
           "bgcolor": "#E5ECF6",
           "angularaxis": {
            "gridcolor": "white",
            "linecolor": "white",
            "ticks": ""
           },
           "radialaxis": {
            "gridcolor": "white",
            "linecolor": "white",
            "ticks": ""
           }
          },
          "ternary": {
           "bgcolor": "#E5ECF6",
           "aaxis": {
            "gridcolor": "white",
            "linecolor": "white",
            "ticks": ""
           },
           "baxis": {
            "gridcolor": "white",
            "linecolor": "white",
            "ticks": ""
           },
           "caxis": {
            "gridcolor": "white",
            "linecolor": "white",
            "ticks": ""
           }
          },
          "coloraxis": {
           "colorbar": {
            "outlinewidth": 0,
            "ticks": ""
           }
          },
          "colorscale": {
           "sequential": [
            [
             0.0,
             "#0d0887"
            ],
            [
             0.1111111111111111,
             "#46039f"
            ],
            [
             0.2222222222222222,
             "#7201a8"
            ],
            [
             0.3333333333333333,
             "#9c179e"
            ],
            [
             0.4444444444444444,
             "#bd3786"
            ],
            [
             0.5555555555555556,
             "#d8576b"
            ],
            [
             0.6666666666666666,
             "#ed7953"
            ],
            [
             0.7777777777777778,
             "#fb9f3a"
            ],
            [
             0.8888888888888888,
             "#fdca26"
            ],
            [
             1.0,
             "#f0f921"
            ]
           ],
           "sequentialminus": [
            [
             0.0,
             "#0d0887"
            ],
            [
             0.1111111111111111,
             "#46039f"
            ],
            [
             0.2222222222222222,
             "#7201a8"
            ],
            [
             0.3333333333333333,
             "#9c179e"
            ],
            [
             0.4444444444444444,
             "#bd3786"
            ],
            [
             0.5555555555555556,
             "#d8576b"
            ],
            [
             0.6666666666666666,
             "#ed7953"
            ],
            [
             0.7777777777777778,
             "#fb9f3a"
            ],
            [
             0.8888888888888888,
             "#fdca26"
            ],
            [
             1.0,
             "#f0f921"
            ]
           ],
           "diverging": [
            [
             0,
             "#8e0152"
            ],
            [
             0.1,
             "#c51b7d"
            ],
            [
             0.2,
             "#de77ae"
            ],
            [
             0.3,
             "#f1b6da"
            ],
            [
             0.4,
             "#fde0ef"
            ],
            [
             0.5,
             "#f7f7f7"
            ],
            [
             0.6,
             "#e6f5d0"
            ],
            [
             0.7,
             "#b8e186"
            ],
            [
             0.8,
             "#7fbc41"
            ],
            [
             0.9,
             "#4d9221"
            ],
            [
             1,
             "#276419"
            ]
           ]
          },
          "xaxis": {
           "gridcolor": "white",
           "linecolor": "white",
           "ticks": "",
           "title": {
            "standoff": 15
           },
           "zerolinecolor": "white",
           "automargin": true,
           "zerolinewidth": 2
          },
          "yaxis": {
           "gridcolor": "white",
           "linecolor": "white",
           "ticks": "",
           "title": {
            "standoff": 15
           },
           "zerolinecolor": "white",
           "automargin": true,
           "zerolinewidth": 2
          },
          "scene": {
           "xaxis": {
            "backgroundcolor": "#E5ECF6",
            "gridcolor": "white",
            "linecolor": "white",
            "showbackground": true,
            "ticks": "",
            "zerolinecolor": "white",
            "gridwidth": 2
           },
           "yaxis": {
            "backgroundcolor": "#E5ECF6",
            "gridcolor": "white",
            "linecolor": "white",
            "showbackground": true,
            "ticks": "",
            "zerolinecolor": "white",
            "gridwidth": 2
           },
           "zaxis": {
            "backgroundcolor": "#E5ECF6",
            "gridcolor": "white",
            "linecolor": "white",
            "showbackground": true,
            "ticks": "",
            "zerolinecolor": "white",
            "gridwidth": 2
           }
          },
          "shapedefaults": {
           "line": {
            "color": "#2a3f5f"
           }
          },
          "annotationdefaults": {
           "arrowcolor": "#2a3f5f",
           "arrowhead": 0,
           "arrowwidth": 1
          },
          "geo": {
           "bgcolor": "white",
           "landcolor": "#E5ECF6",
           "subunitcolor": "white",
           "showland": true,
           "showlakes": true,
           "lakecolor": "white"
          },
          "title": {
           "x": 0.05
          },
          "mapbox": {
           "style": "light"
          }
         }
        },
        "title": {
         "text": "Сравнение распределения длин названий до и после аугментации"
        },
        "xaxis": {
         "title": {
          "text": "Длина названия (слов)"
         }
        },
        "yaxis": {
         "title": {
          "text": "Количество названий"
         }
        },
        "barmode": "group",
        "bargap": 0.2,
        "bargroupgap": 0.1,
        "width": 1000,
        "height": 500
       },
       "config": {
        "plotlyServerURL": "https://plot.ly"
       }
      }
     },
     "metadata": {},
     "output_type": "display_data",
     "jetTransient": {
      "display_id": null
     }
    }
   ],
   "execution_count": 34
  },
  {
   "metadata": {},
   "cell_type": "code",
   "outputs": [],
   "execution_count": null,
   "source": "",
   "id": "39d04be77084b65"
  }
 ],
 "metadata": {
  "kernelspec": {
   "display_name": "Python 3",
   "language": "python",
   "name": "python3"
  },
  "language_info": {
   "codemirror_mode": {
    "name": "ipython",
    "version": 2
   },
   "file_extension": ".py",
   "mimetype": "text/x-python",
   "name": "python",
   "nbconvert_exporter": "python",
   "pygments_lexer": "ipython2",
   "version": "2.7.6"
  }
 },
 "nbformat": 4,
 "nbformat_minor": 5
}
