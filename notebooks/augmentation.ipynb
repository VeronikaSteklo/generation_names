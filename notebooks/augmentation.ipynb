{
 "cells": [
  {
   "metadata": {},
   "cell_type": "markdown",
   "source": "# Импорт библиотек",
   "id": "4b3195fc163c42c1"
  },
  {
   "cell_type": "code",
   "id": "initial_id",
   "metadata": {
    "collapsed": true,
    "ExecuteTime": {
     "end_time": "2025-10-19T12:26:10.643228Z",
     "start_time": "2025-10-19T12:26:10.633637Z"
    }
   },
   "source": [
    "import re\n",
    "\n",
    "import pandas as pd\n",
    "import nltk\n",
    "import plotly.graph_objects as go\n",
    "from sklearn.model_selection import train_test_split\n",
    "import numpy as np\n",
    "\n",
    "from tqdm import tqdm\n",
    "\n",
    "nltk.download(\"punkt\")\n",
    "\n",
    "from nltk.tokenize import sent_tokenize"
   ],
   "outputs": [
    {
     "name": "stderr",
     "output_type": "stream",
     "text": [
      "[nltk_data] Downloading package punkt to\n",
      "[nltk_data]     /Users/veronika_steklo/nltk_data...\n",
      "[nltk_data]   Package punkt is already up-to-date!\n"
     ]
    }
   ],
   "execution_count": 78
  },
  {
   "metadata": {
    "ExecuteTime": {
     "end_time": "2025-10-19T12:06:36.963194Z",
     "start_time": "2025-10-19T12:06:32.319432Z"
    }
   },
   "cell_type": "code",
   "source": "data = pd.read_csv(\"../data/all_data.csv\")",
   "id": "4376d9987b59de3f",
   "outputs": [],
   "execution_count": 52
  },
  {
   "metadata": {
    "ExecuteTime": {
     "end_time": "2025-10-19T12:06:37.131822Z",
     "start_time": "2025-10-19T12:06:36.965884Z"
    }
   },
   "cell_type": "code",
   "source": "data.describe()",
   "id": "1e157a5c7b2ec6e0",
   "outputs": [
    {
     "data": {
      "text/plain": [
       "                                                     text  \\\n",
       "count                                               29899   \n",
       "unique                                              29899   \n",
       "top     протопоп аввакум написал житие по благословени...   \n",
       "freq                                                    1   \n",
       "\n",
       "                                title  \n",
       "count                           29899  \n",
       "unique                          27052  \n",
       "top     классика зарубежного рассказа  \n",
       "freq                               26  "
      ],
      "text/html": [
       "<div>\n",
       "<style scoped>\n",
       "    .dataframe tbody tr th:only-of-type {\n",
       "        vertical-align: middle;\n",
       "    }\n",
       "\n",
       "    .dataframe tbody tr th {\n",
       "        vertical-align: top;\n",
       "    }\n",
       "\n",
       "    .dataframe thead th {\n",
       "        text-align: right;\n",
       "    }\n",
       "</style>\n",
       "<table border=\"1\" class=\"dataframe\">\n",
       "  <thead>\n",
       "    <tr style=\"text-align: right;\">\n",
       "      <th></th>\n",
       "      <th>text</th>\n",
       "      <th>title</th>\n",
       "    </tr>\n",
       "  </thead>\n",
       "  <tbody>\n",
       "    <tr>\n",
       "      <th>count</th>\n",
       "      <td>29899</td>\n",
       "      <td>29899</td>\n",
       "    </tr>\n",
       "    <tr>\n",
       "      <th>unique</th>\n",
       "      <td>29899</td>\n",
       "      <td>27052</td>\n",
       "    </tr>\n",
       "    <tr>\n",
       "      <th>top</th>\n",
       "      <td>протопоп аввакум написал житие по благословени...</td>\n",
       "      <td>классика зарубежного рассказа</td>\n",
       "    </tr>\n",
       "    <tr>\n",
       "      <th>freq</th>\n",
       "      <td>1</td>\n",
       "      <td>26</td>\n",
       "    </tr>\n",
       "  </tbody>\n",
       "</table>\n",
       "</div>"
      ]
     },
     "execution_count": 53,
     "metadata": {},
     "output_type": "execute_result"
    }
   ],
   "execution_count": 53
  },
  {
   "metadata": {},
   "cell_type": "markdown",
   "source": "# Разделение данных",
   "id": "e4a78e3308669a3f"
  },
  {
   "metadata": {
    "ExecuteTime": {
     "end_time": "2025-10-19T12:06:37.151800Z",
     "start_time": "2025-10-19T12:06:37.135634Z"
    }
   },
   "cell_type": "code",
   "source": "train_df, val_df = train_test_split(data, test_size=0.2, random_state=42)",
   "id": "2d6e81d2012e7aff",
   "outputs": [],
   "execution_count": 54
  },
  {
   "metadata": {
    "ExecuteTime": {
     "end_time": "2025-10-19T12:06:37.156783Z",
     "start_time": "2025-10-19T12:06:37.154861Z"
    }
   },
   "cell_type": "code",
   "source": "len(train_df), len(val_df)",
   "id": "a40da86c2e038dfc",
   "outputs": [
    {
     "data": {
      "text/plain": [
       "(23919, 5980)"
      ]
     },
     "execution_count": 55,
     "metadata": {},
     "output_type": "execute_result"
    }
   ],
   "execution_count": 55
  },
  {
   "metadata": {
    "ExecuteTime": {
     "end_time": "2025-10-19T12:06:37.163902Z",
     "start_time": "2025-10-19T12:06:37.158695Z"
    }
   },
   "cell_type": "code",
   "source": "val_df.describe()",
   "id": "2b570b4cdfd17a7b",
   "outputs": [
    {
     "data": {
      "text/plain": [
       "                                                     text  \\\n",
       "count                                                5980   \n",
       "unique                                               5980   \n",
       "top     френдзона 3. марта 3 ну и алекс! я не перестав...   \n",
       "freq                                                    1   \n",
       "\n",
       "                            title  \n",
       "count                        5980  \n",
       "unique                       5807  \n",
       "top     наследник ссср - фрагмент  \n",
       "freq                            7  "
      ],
      "text/html": [
       "<div>\n",
       "<style scoped>\n",
       "    .dataframe tbody tr th:only-of-type {\n",
       "        vertical-align: middle;\n",
       "    }\n",
       "\n",
       "    .dataframe tbody tr th {\n",
       "        vertical-align: top;\n",
       "    }\n",
       "\n",
       "    .dataframe thead th {\n",
       "        text-align: right;\n",
       "    }\n",
       "</style>\n",
       "<table border=\"1\" class=\"dataframe\">\n",
       "  <thead>\n",
       "    <tr style=\"text-align: right;\">\n",
       "      <th></th>\n",
       "      <th>text</th>\n",
       "      <th>title</th>\n",
       "    </tr>\n",
       "  </thead>\n",
       "  <tbody>\n",
       "    <tr>\n",
       "      <th>count</th>\n",
       "      <td>5980</td>\n",
       "      <td>5980</td>\n",
       "    </tr>\n",
       "    <tr>\n",
       "      <th>unique</th>\n",
       "      <td>5980</td>\n",
       "      <td>5807</td>\n",
       "    </tr>\n",
       "    <tr>\n",
       "      <th>top</th>\n",
       "      <td>френдзона 3. марта 3 ну и алекс! я не перестав...</td>\n",
       "      <td>наследник ссср - фрагмент</td>\n",
       "    </tr>\n",
       "    <tr>\n",
       "      <th>freq</th>\n",
       "      <td>1</td>\n",
       "      <td>7</td>\n",
       "    </tr>\n",
       "  </tbody>\n",
       "</table>\n",
       "</div>"
      ]
     },
     "execution_count": 56,
     "metadata": {},
     "output_type": "execute_result"
    }
   ],
   "execution_count": 56
  },
  {
   "metadata": {},
   "cell_type": "markdown",
   "source": [
    "Заметим, что в валидацию попали несколько текстов с одинаковыми названиями. Это не очень хорошо, так как может исказить результаты оценки модели.\n",
    "\n",
    "Переделаем разделение."
   ],
   "id": "2d1c3ac0a06ea90"
  },
  {
   "metadata": {
    "ExecuteTime": {
     "end_time": "2025-10-19T12:06:37.301305Z",
     "start_time": "2025-10-19T12:06:37.166192Z"
    }
   },
   "cell_type": "code",
   "source": [
    "def split_with_controlled_test_size(data, target_test_size=0.2, random_state=42):\n",
    "    np.random.seed(random_state)\n",
    "\n",
    "    title_groups = data.groupby('title').apply(lambda x: x.index.tolist()).to_dict()\n",
    "\n",
    "    unique_titles = list(title_groups.keys())\n",
    "    np.random.shuffle(unique_titles)\n",
    "\n",
    "    train_indices = []\n",
    "    test_indices = []\n",
    "\n",
    "    target_test_count = int(len(data) * target_test_size)\n",
    "\n",
    "    for title in unique_titles:\n",
    "        indices = title_groups[title]\n",
    "\n",
    "        if len(test_indices) < target_test_count:\n",
    "            test_idx = np.random.choice(indices, 1)[0]\n",
    "            test_indices.append(test_idx)\n",
    "            train_indices.extend([idx for idx in indices if idx != test_idx])\n",
    "        else:\n",
    "            train_indices.extend(indices)\n",
    "\n",
    "    return data.iloc[train_indices], data.iloc[test_indices]\n",
    "\n",
    "train_df, val_df = split_with_controlled_test_size(data)"
   ],
   "id": "4145d823282f6014",
   "outputs": [
    {
     "name": "stderr",
     "output_type": "stream",
     "text": [
      "/var/folders/wl/_8h74t5s5hz2ntrny0kjx_pw0000gn/T/ipykernel_36720/2556919616.py:4: FutureWarning: DataFrameGroupBy.apply operated on the grouping columns. This behavior is deprecated, and in a future version of pandas the grouping columns will be excluded from the operation. Either pass `include_groups=False` to exclude the groupings or explicitly select the grouping columns after groupby to silence this warning.\n",
      "  title_groups = data.groupby('title').apply(lambda x: x.index.tolist()).to_dict()\n"
     ]
    }
   ],
   "execution_count": 57
  },
  {
   "metadata": {
    "ExecuteTime": {
     "end_time": "2025-10-19T12:06:37.307756Z",
     "start_time": "2025-10-19T12:06:37.306006Z"
    }
   },
   "cell_type": "code",
   "source": [
    "print(f\"Общий размер данных: {len(data)}\")\n",
    "print(f\"Тренировочная выборка: {len(train_df)} записей ({len(train_df)/len(data)*100:.1f}%)\")\n",
    "print(f\"Валидационная выборка: {len(val_df)} записей ({len(val_df)/len(data)*100:.1f}%)\")"
   ],
   "id": "50f706e00edaeab8",
   "outputs": [
    {
     "name": "stdout",
     "output_type": "stream",
     "text": [
      "Общий размер данных: 29899\n",
      "Тренировочная выборка: 23920 записей (80.0%)\n",
      "Валидационная выборка: 5979 записей (20.0%)\n"
     ]
    }
   ],
   "execution_count": 58
  },
  {
   "metadata": {
    "ExecuteTime": {
     "end_time": "2025-10-19T12:06:37.316205Z",
     "start_time": "2025-10-19T12:06:37.309554Z"
    }
   },
   "cell_type": "code",
   "source": "val_df.describe()",
   "id": "48ef8f0343497d3d",
   "outputs": [
    {
     "data": {
      "text/plain": [
       "                                                     text            title\n",
       "count                                                5979             5979\n",
       "unique                                               5979             5979\n",
       "top     вторая мировая война. тихоокеанский театр воен...  нагие и мёртвые\n",
       "freq                                                    1                1"
      ],
      "text/html": [
       "<div>\n",
       "<style scoped>\n",
       "    .dataframe tbody tr th:only-of-type {\n",
       "        vertical-align: middle;\n",
       "    }\n",
       "\n",
       "    .dataframe tbody tr th {\n",
       "        vertical-align: top;\n",
       "    }\n",
       "\n",
       "    .dataframe thead th {\n",
       "        text-align: right;\n",
       "    }\n",
       "</style>\n",
       "<table border=\"1\" class=\"dataframe\">\n",
       "  <thead>\n",
       "    <tr style=\"text-align: right;\">\n",
       "      <th></th>\n",
       "      <th>text</th>\n",
       "      <th>title</th>\n",
       "    </tr>\n",
       "  </thead>\n",
       "  <tbody>\n",
       "    <tr>\n",
       "      <th>count</th>\n",
       "      <td>5979</td>\n",
       "      <td>5979</td>\n",
       "    </tr>\n",
       "    <tr>\n",
       "      <th>unique</th>\n",
       "      <td>5979</td>\n",
       "      <td>5979</td>\n",
       "    </tr>\n",
       "    <tr>\n",
       "      <th>top</th>\n",
       "      <td>вторая мировая война. тихоокеанский театр воен...</td>\n",
       "      <td>нагие и мёртвые</td>\n",
       "    </tr>\n",
       "    <tr>\n",
       "      <th>freq</th>\n",
       "      <td>1</td>\n",
       "      <td>1</td>\n",
       "    </tr>\n",
       "  </tbody>\n",
       "</table>\n",
       "</div>"
      ]
     },
     "execution_count": 59,
     "metadata": {},
     "output_type": "execute_result"
    }
   ],
   "execution_count": 59
  },
  {
   "metadata": {},
   "cell_type": "markdown",
   "source": "Теперь в валидации нет повторяющихся заголовков.",
   "id": "705ed8dc354fecc8"
  },
  {
   "metadata": {
    "ExecuteTime": {
     "end_time": "2025-10-19T12:06:38.185885Z",
     "start_time": "2025-10-19T12:06:37.318469Z"
    }
   },
   "cell_type": "code",
   "source": "val_df.to_csv(\"../data/training_data/val_df.csv\", index=False)",
   "id": "9d4bf69d5ec8e60c",
   "outputs": [],
   "execution_count": 60
  },
  {
   "metadata": {},
   "cell_type": "markdown",
   "source": "val_df.to_csv(\"../data/val_df.csv\", index=False)# Аугментация данных",
   "id": "b82b03138850f51b"
  },
  {
   "metadata": {},
   "cell_type": "markdown",
   "source": "Аугментировать будем только train набор, чтобы не произошла утечка.",
   "id": "a615e0e70cb1af92"
  },
  {
   "metadata": {
    "ExecuteTime": {
     "end_time": "2025-10-19T12:06:38.206042Z",
     "start_time": "2025-10-19T12:06:38.203952Z"
    }
   },
   "cell_type": "code",
   "source": "train_df.reset_index(drop=True, inplace=True)",
   "id": "b7dc7fc97abab42f",
   "outputs": [],
   "execution_count": 61
  },
  {
   "metadata": {
    "ExecuteTime": {
     "end_time": "2025-10-19T12:06:38.218610Z",
     "start_time": "2025-10-19T12:06:38.215865Z"
    }
   },
   "cell_type": "code",
   "source": [
    "def split_text_into_chunks(text, sentences_per_chunk=3):\n",
    "    sentences = sent_tokenize(text, language=\"russian\")\n",
    "    chunks = []\n",
    "    for i in range(0, len(sentences), sentences_per_chunk):\n",
    "        chunk = \" \".join(sentences[i:i+sentences_per_chunk])\n",
    "        chunks.append(chunk)\n",
    "    return chunks"
   ],
   "id": "822e338ed099132b",
   "outputs": [],
   "execution_count": 62
  },
  {
   "metadata": {
    "ExecuteTime": {
     "end_time": "2025-10-19T12:07:02.007083Z",
     "start_time": "2025-10-19T12:06:38.226534Z"
    }
   },
   "cell_type": "code",
   "source": [
    "augmented_rows = []\n",
    "for _, row in tqdm(train_df.iterrows(), total=len(train_df)):\n",
    "    chunks = split_text_into_chunks(row.text, sentences_per_chunk=3)\n",
    "    for chunk in chunks:\n",
    "        augmented_rows.append({\"text\": chunk, \"title\": row.title})"
   ],
   "id": "b9220496883c77ef",
   "outputs": [
    {
     "name": "stderr",
     "output_type": "stream",
     "text": [
      "100%|██████████| 23920/23920 [00:23<00:00, 1007.47it/s]\n"
     ]
    }
   ],
   "execution_count": 63
  },
  {
   "metadata": {
    "ExecuteTime": {
     "end_time": "2025-10-19T12:31:48.338880Z",
     "start_time": "2025-10-19T12:31:47.958427Z"
    }
   },
   "cell_type": "code",
   "source": "augmented_dataset = pd.DataFrame(augmented_rows)",
   "id": "3f18cff45a9a6a12",
   "outputs": [],
   "execution_count": 86
  },
  {
   "metadata": {
    "ExecuteTime": {
     "end_time": "2025-10-19T12:31:49.417705Z",
     "start_time": "2025-10-19T12:31:48.786180Z"
    }
   },
   "cell_type": "code",
   "source": "augmented_dataset.describe()",
   "id": "76b497555dbf4a9b",
   "outputs": [
    {
     "data": {
      "text/plain": [
       "           text                            title\n",
       "count   1295472                          1295472\n",
       "unique  1267145                            21472\n",
       "top       . . .  чистый хозяин собственного мира\n",
       "freq        203                            13972"
      ],
      "text/html": [
       "<div>\n",
       "<style scoped>\n",
       "    .dataframe tbody tr th:only-of-type {\n",
       "        vertical-align: middle;\n",
       "    }\n",
       "\n",
       "    .dataframe tbody tr th {\n",
       "        vertical-align: top;\n",
       "    }\n",
       "\n",
       "    .dataframe thead th {\n",
       "        text-align: right;\n",
       "    }\n",
       "</style>\n",
       "<table border=\"1\" class=\"dataframe\">\n",
       "  <thead>\n",
       "    <tr style=\"text-align: right;\">\n",
       "      <th></th>\n",
       "      <th>text</th>\n",
       "      <th>title</th>\n",
       "    </tr>\n",
       "  </thead>\n",
       "  <tbody>\n",
       "    <tr>\n",
       "      <th>count</th>\n",
       "      <td>1295472</td>\n",
       "      <td>1295472</td>\n",
       "    </tr>\n",
       "    <tr>\n",
       "      <th>unique</th>\n",
       "      <td>1267145</td>\n",
       "      <td>21472</td>\n",
       "    </tr>\n",
       "    <tr>\n",
       "      <th>top</th>\n",
       "      <td>. . .</td>\n",
       "      <td>чистый хозяин собственного мира</td>\n",
       "    </tr>\n",
       "    <tr>\n",
       "      <th>freq</th>\n",
       "      <td>203</td>\n",
       "      <td>13972</td>\n",
       "    </tr>\n",
       "  </tbody>\n",
       "</table>\n",
       "</div>"
      ]
     },
     "execution_count": 87,
     "metadata": {},
     "output_type": "execute_result"
    }
   ],
   "execution_count": 87
  },
  {
   "metadata": {},
   "cell_type": "markdown",
   "source": "## Почистим строки, в которых нет текста и удалим лидирующую пунктуацию",
   "id": "81c16f27028aec60"
  },
  {
   "metadata": {
    "ExecuteTime": {
     "end_time": "2025-10-19T12:31:50.409618Z",
     "start_time": "2025-10-19T12:31:50.404029Z"
    }
   },
   "cell_type": "code",
   "source": [
    "def is_meaningful(text):\n",
    "    return bool(re.search(r\"[А-Яа-яA-Za-z0-9]\", text))\n",
    "\n",
    "def clean_leading_punct(text):\n",
    "    return re.sub(r\"^[^\\wА-Яа-я0-9]+\", \"\", text).strip()"
   ],
   "id": "92e93030ff0b021e",
   "outputs": [],
   "execution_count": 88
  },
  {
   "metadata": {
    "ExecuteTime": {
     "end_time": "2025-10-19T12:32:00.344228Z",
     "start_time": "2025-10-19T12:31:51.621769Z"
    }
   },
   "cell_type": "code",
   "source": [
    "augmented_dataset = augmented_dataset[augmented_dataset.text.apply(is_meaningful)].reset_index(drop=True)\n",
    "augmented_dataset.text = augmented_dataset.text.str.replace(r\"[^\\w\\s,.!?-]\", \" \", regex=True)\n",
    "augmented_dataset.text = augmented_dataset.text.str.replace(r\"\\s+\", \" \", regex=True).str.strip()\n",
    "augmented_dataset.describe()"
   ],
   "id": "e0507d72a840b60c",
   "outputs": [
    {
     "data": {
      "text/plain": [
       "                                                     text  \\\n",
       "count                                             1295138   \n",
       "unique                                            1267097   \n",
       "top     если же кого-то заинтересует более подробно то...   \n",
       "freq                                                   50   \n",
       "\n",
       "                                  title  \n",
       "count                           1295138  \n",
       "unique                            21472  \n",
       "top     чистый хозяин собственного мира  \n",
       "freq                              13972  "
      ],
      "text/html": [
       "<div>\n",
       "<style scoped>\n",
       "    .dataframe tbody tr th:only-of-type {\n",
       "        vertical-align: middle;\n",
       "    }\n",
       "\n",
       "    .dataframe tbody tr th {\n",
       "        vertical-align: top;\n",
       "    }\n",
       "\n",
       "    .dataframe thead th {\n",
       "        text-align: right;\n",
       "    }\n",
       "</style>\n",
       "<table border=\"1\" class=\"dataframe\">\n",
       "  <thead>\n",
       "    <tr style=\"text-align: right;\">\n",
       "      <th></th>\n",
       "      <th>text</th>\n",
       "      <th>title</th>\n",
       "    </tr>\n",
       "  </thead>\n",
       "  <tbody>\n",
       "    <tr>\n",
       "      <th>count</th>\n",
       "      <td>1295138</td>\n",
       "      <td>1295138</td>\n",
       "    </tr>\n",
       "    <tr>\n",
       "      <th>unique</th>\n",
       "      <td>1267097</td>\n",
       "      <td>21472</td>\n",
       "    </tr>\n",
       "    <tr>\n",
       "      <th>top</th>\n",
       "      <td>если же кого-то заинтересует более подробно то...</td>\n",
       "      <td>чистый хозяин собственного мира</td>\n",
       "    </tr>\n",
       "    <tr>\n",
       "      <th>freq</th>\n",
       "      <td>50</td>\n",
       "      <td>13972</td>\n",
       "    </tr>\n",
       "  </tbody>\n",
       "</table>\n",
       "</div>"
      ]
     },
     "execution_count": 89,
     "metadata": {},
     "output_type": "execute_result"
    }
   ],
   "execution_count": 89
  },
  {
   "metadata": {},
   "cell_type": "markdown",
   "source": "Удалим строки, с небольшим количеством данных",
   "id": "aa5b1e14b19934de"
  },
  {
   "metadata": {
    "ExecuteTime": {
     "end_time": "2025-10-19T12:32:00.705760Z",
     "start_time": "2025-10-19T12:32:00.347401Z"
    }
   },
   "cell_type": "code",
   "source": "augmented_dataset = augmented_dataset[augmented_dataset.text.str.strip().str.len() > 10]",
   "id": "8f79287c4cf715b8",
   "outputs": [],
   "execution_count": 90
  },
  {
   "metadata": {
    "ExecuteTime": {
     "end_time": "2025-10-19T12:32:01.265576Z",
     "start_time": "2025-10-19T12:32:00.709300Z"
    }
   },
   "cell_type": "code",
   "source": "augmented_dataset.describe()",
   "id": "bc0dd5653cb03a3b",
   "outputs": [
    {
     "data": {
      "text/plain": [
       "                                                     text  \\\n",
       "count                                             1294786   \n",
       "unique                                            1266812   \n",
       "top     это не значит, что остальным жителям планеты н...   \n",
       "freq                                                   50   \n",
       "\n",
       "                                  title  \n",
       "count                           1294786  \n",
       "unique                            21467  \n",
       "top     чистый хозяин собственного мира  \n",
       "freq                              13972  "
      ],
      "text/html": [
       "<div>\n",
       "<style scoped>\n",
       "    .dataframe tbody tr th:only-of-type {\n",
       "        vertical-align: middle;\n",
       "    }\n",
       "\n",
       "    .dataframe tbody tr th {\n",
       "        vertical-align: top;\n",
       "    }\n",
       "\n",
       "    .dataframe thead th {\n",
       "        text-align: right;\n",
       "    }\n",
       "</style>\n",
       "<table border=\"1\" class=\"dataframe\">\n",
       "  <thead>\n",
       "    <tr style=\"text-align: right;\">\n",
       "      <th></th>\n",
       "      <th>text</th>\n",
       "      <th>title</th>\n",
       "    </tr>\n",
       "  </thead>\n",
       "  <tbody>\n",
       "    <tr>\n",
       "      <th>count</th>\n",
       "      <td>1294786</td>\n",
       "      <td>1294786</td>\n",
       "    </tr>\n",
       "    <tr>\n",
       "      <th>unique</th>\n",
       "      <td>1266812</td>\n",
       "      <td>21467</td>\n",
       "    </tr>\n",
       "    <tr>\n",
       "      <th>top</th>\n",
       "      <td>это не значит, что остальным жителям планеты н...</td>\n",
       "      <td>чистый хозяин собственного мира</td>\n",
       "    </tr>\n",
       "    <tr>\n",
       "      <th>freq</th>\n",
       "      <td>50</td>\n",
       "      <td>13972</td>\n",
       "    </tr>\n",
       "  </tbody>\n",
       "</table>\n",
       "</div>"
      ]
     },
     "execution_count": 91,
     "metadata": {},
     "output_type": "execute_result"
    }
   ],
   "execution_count": 91
  },
  {
   "metadata": {},
   "cell_type": "markdown",
   "source": "Заметим, что у нас очень много текстов с одинаковыми названиями. Это может плохо повлиять на модель, если она будет видеть одни и те же названия. Оставим только по 500 каждого",
   "id": "2bbd0298530c6b4f"
  },
  {
   "metadata": {
    "ExecuteTime": {
     "end_time": "2025-10-19T12:32:01.439247Z",
     "start_time": "2025-10-19T12:32:01.269650Z"
    }
   },
   "cell_type": "code",
   "source": [
    "max_per_title = 500\n",
    "augmented_dataset = augmented_dataset.groupby(\"title\").head(max_per_title).reset_index(drop=True)\n",
    "\n",
    "print(augmented_dataset.title.value_counts().head(10))"
   ],
   "id": "a06b4a296b1bd704",
   "outputs": [
    {
     "name": "stdout",
     "output_type": "stream",
     "text": [
      "title\n",
      "на восток и обратно, если повезёт         500\n",
      "перстень мастера                          500\n",
      "если есть 20 минут                        500\n",
      "умереть чудесным майским днем             500\n",
      "прокляття василя яблуковича               500\n",
      "тревожное очарование                      500\n",
      "пророку ев ап иоанну богослову чудотв!    500\n",
      "между мирами                              500\n",
      "дорога цвета собаки                       500\n",
      "квартирантка                              500\n",
      "Name: count, dtype: int64\n"
     ]
    }
   ],
   "execution_count": 92
  },
  {
   "metadata": {
    "ExecuteTime": {
     "end_time": "2025-10-19T12:32:01.836322Z",
     "start_time": "2025-10-19T12:32:01.453998Z"
    }
   },
   "cell_type": "code",
   "source": "augmented_dataset.describe()",
   "id": "1da33024962041a2",
   "outputs": [
    {
     "data": {
      "text/plain": [
       "                                                     text  \\\n",
       "count                                              836328   \n",
       "unique                                             820297   \n",
       "top     надеюсь, что данные мысли волнуют не только ме...   \n",
       "freq                                                   50   \n",
       "\n",
       "                                    title  \n",
       "count                              836328  \n",
       "unique                              21467  \n",
       "top     на восток и обратно, если повезёт  \n",
       "freq                                  500  "
      ],
      "text/html": [
       "<div>\n",
       "<style scoped>\n",
       "    .dataframe tbody tr th:only-of-type {\n",
       "        vertical-align: middle;\n",
       "    }\n",
       "\n",
       "    .dataframe tbody tr th {\n",
       "        vertical-align: top;\n",
       "    }\n",
       "\n",
       "    .dataframe thead th {\n",
       "        text-align: right;\n",
       "    }\n",
       "</style>\n",
       "<table border=\"1\" class=\"dataframe\">\n",
       "  <thead>\n",
       "    <tr style=\"text-align: right;\">\n",
       "      <th></th>\n",
       "      <th>text</th>\n",
       "      <th>title</th>\n",
       "    </tr>\n",
       "  </thead>\n",
       "  <tbody>\n",
       "    <tr>\n",
       "      <th>count</th>\n",
       "      <td>836328</td>\n",
       "      <td>836328</td>\n",
       "    </tr>\n",
       "    <tr>\n",
       "      <th>unique</th>\n",
       "      <td>820297</td>\n",
       "      <td>21467</td>\n",
       "    </tr>\n",
       "    <tr>\n",
       "      <th>top</th>\n",
       "      <td>надеюсь, что данные мысли волнуют не только ме...</td>\n",
       "      <td>на восток и обратно, если повезёт</td>\n",
       "    </tr>\n",
       "    <tr>\n",
       "      <th>freq</th>\n",
       "      <td>50</td>\n",
       "      <td>500</td>\n",
       "    </tr>\n",
       "  </tbody>\n",
       "</table>\n",
       "</div>"
      ]
     },
     "execution_count": 93,
     "metadata": {},
     "output_type": "execute_result"
    }
   ],
   "execution_count": 93
  },
  {
   "metadata": {
    "ExecuteTime": {
     "end_time": "2025-10-19T12:32:06.432065Z",
     "start_time": "2025-10-19T12:32:04.385707Z"
    }
   },
   "cell_type": "code",
   "source": "augmented_dataset.to_csv(\"../data/training_data/train_df.csv\", index=False)",
   "id": "8c32d06ef1a80cd8",
   "outputs": [],
   "execution_count": 94
  },
  {
   "metadata": {},
   "cell_type": "markdown",
   "source": "## Посмотрим на распределение названий по длине после разделения",
   "id": "2e455a482f80fd7d"
  },
  {
   "metadata": {
    "ExecuteTime": {
     "end_time": "2025-10-19T12:32:06.608996Z",
     "start_time": "2025-10-19T12:32:06.434841Z"
    }
   },
   "cell_type": "code",
   "source": "train_df = augmented_dataset.copy()",
   "id": "69af3a4864af23f2",
   "outputs": [],
   "execution_count": 95
  },
  {
   "metadata": {
    "ExecuteTime": {
     "end_time": "2025-10-19T12:32:08.322230Z",
     "start_time": "2025-10-19T12:32:06.613Z"
    }
   },
   "cell_type": "code",
   "source": [
    "dup_titles = (\n",
    "    augmented_dataset.groupby(\"text\")[\"title\"]\n",
    "    .nunique()\n",
    "    .reset_index()\n",
    "    .query(\"title > 1\")\n",
    ")\n",
    "\n",
    "print(f\"Текстов с одинаковыми содержаниями, но разными названиями: {len(dup_titles)}\")"
   ],
   "id": "69a373e3baf81fb8",
   "outputs": [
    {
     "name": "stdout",
     "output_type": "stream",
     "text": [
      "Текстов с одинаковыми содержаниями, но разными названиями: 3458\n"
     ]
    }
   ],
   "execution_count": 96
  },
  {
   "metadata": {
    "ExecuteTime": {
     "end_time": "2025-10-19T12:32:08.531615Z",
     "start_time": "2025-10-19T12:32:08.336291Z"
    }
   },
   "cell_type": "code",
   "source": [
    "data[\"title_len\"] = data.title.apply(lambda x: len(str(x).split()))\n",
    "length_counts = data.groupby('title_len').size()\n",
    "train_df[\"title_len\"] = train_df.title.apply(lambda x: len(str(x).split()))\n",
    "length_counts_aug = train_df.groupby('title_len').size()\n",
    "val_df[\"title_len\"] = val_df.title.apply(lambda x: len(str(x).split()))\n",
    "length_counts_aug_val = val_df.groupby('title_len').size()"
   ],
   "id": "c481ab7b14e1e61d",
   "outputs": [
    {
     "name": "stderr",
     "output_type": "stream",
     "text": [
      "/var/folders/wl/_8h74t5s5hz2ntrny0kjx_pw0000gn/T/ipykernel_36720/4038663461.py:5: SettingWithCopyWarning:\n",
      "\n",
      "\n",
      "A value is trying to be set on a copy of a slice from a DataFrame.\n",
      "Try using .loc[row_indexer,col_indexer] = value instead\n",
      "\n",
      "See the caveats in the documentation: https://pandas.pydata.org/pandas-docs/stable/user_guide/indexing.html#returning-a-view-versus-a-copy\n",
      "\n"
     ]
    }
   ],
   "execution_count": 97
  },
  {
   "metadata": {
    "ExecuteTime": {
     "end_time": "2025-10-19T12:32:08.602322Z",
     "start_time": "2025-10-19T12:32:08.534122Z"
    }
   },
   "cell_type": "code",
   "source": [
    "fig = go.Figure()\n",
    "\n",
    "fig.add_trace(go.Bar(\n",
    "    x=length_counts.index,\n",
    "    y=length_counts.values,\n",
    "    name=\"Без аугментации\",\n",
    "    marker_color=\"blue\"\n",
    "))\n",
    "\n",
    "fig.add_trace(go.Bar(\n",
    "    x=length_counts_aug.index,\n",
    "    y=length_counts_aug.values,\n",
    "    name=\"train после аугментации\",\n",
    "    marker_color=\"orange\"\n",
    "))\n",
    "\n",
    "fig.add_trace(go.Bar(\n",
    "    x=length_counts_aug_val.index,\n",
    "    y=length_counts_aug_val.values,\n",
    "    name=\"test после аугментации\",\n",
    "    marker_color=\"green\"\n",
    "))\n",
    "\n",
    "fig.update_layout(\n",
    "    title=\"Сравнение распределения длин названий до и после аугментации\",\n",
    "    xaxis_title=\"Длина названия (слов)\",\n",
    "    yaxis_title=\"Количество названий\",\n",
    "    barmode=\"group\",\n",
    "    bargap=0.2,\n",
    "    bargroupgap=0.1,\n",
    "    width=1000,\n",
    "    height=500\n",
    ")\n",
    "\n",
    "fig.show()"
   ],
   "id": "da4a309bd5f4a35b",
   "outputs": [
    {
     "data": {
      "application/vnd.plotly.v1+json": {
       "data": [
        {
         "marker": {
          "color": "blue"
         },
         "name": "Без аугментации",
         "x": {
          "dtype": "i1",
          "bdata": "AQIDBAUGBwgJCg=="
         },
         "y": {
          "dtype": "i2",
          "bdata": "EhStHrwX8Q7ECvEGvQS3AmEB1QA="
         },
         "type": "bar"
        },
        {
         "marker": {
          "color": "orange"
         },
         "name": "train после аугментации",
         "x": {
          "dtype": "i1",
          "bdata": "AQIDBAUGBwgJCg=="
         },
         "y": {
          "dtype": "i4",
          "bdata": "dlACAPUtAwDengIA3qYBAHE+AQDi1gAAUo4AAOY8AACFFAAAsQkAAA=="
         },
         "type": "bar"
        },
        {
         "marker": {
          "color": "green"
         },
         "name": "test после аугментации",
         "x": {
          "dtype": "i1",
          "bdata": "AQIDBAUGBwgJCg=="
         },
         "y": {
          "dtype": "i2",
          "bdata": "bQMRBsgEKwNDAooBGAGLAE8AKwA="
         },
         "type": "bar"
        }
       ],
       "layout": {
        "template": {
         "data": {
          "histogram2dcontour": [
           {
            "type": "histogram2dcontour",
            "colorbar": {
             "outlinewidth": 0,
             "ticks": ""
            },
            "colorscale": [
             [
              0.0,
              "#0d0887"
             ],
             [
              0.1111111111111111,
              "#46039f"
             ],
             [
              0.2222222222222222,
              "#7201a8"
             ],
             [
              0.3333333333333333,
              "#9c179e"
             ],
             [
              0.4444444444444444,
              "#bd3786"
             ],
             [
              0.5555555555555556,
              "#d8576b"
             ],
             [
              0.6666666666666666,
              "#ed7953"
             ],
             [
              0.7777777777777778,
              "#fb9f3a"
             ],
             [
              0.8888888888888888,
              "#fdca26"
             ],
             [
              1.0,
              "#f0f921"
             ]
            ]
           }
          ],
          "choropleth": [
           {
            "type": "choropleth",
            "colorbar": {
             "outlinewidth": 0,
             "ticks": ""
            }
           }
          ],
          "histogram2d": [
           {
            "type": "histogram2d",
            "colorbar": {
             "outlinewidth": 0,
             "ticks": ""
            },
            "colorscale": [
             [
              0.0,
              "#0d0887"
             ],
             [
              0.1111111111111111,
              "#46039f"
             ],
             [
              0.2222222222222222,
              "#7201a8"
             ],
             [
              0.3333333333333333,
              "#9c179e"
             ],
             [
              0.4444444444444444,
              "#bd3786"
             ],
             [
              0.5555555555555556,
              "#d8576b"
             ],
             [
              0.6666666666666666,
              "#ed7953"
             ],
             [
              0.7777777777777778,
              "#fb9f3a"
             ],
             [
              0.8888888888888888,
              "#fdca26"
             ],
             [
              1.0,
              "#f0f921"
             ]
            ]
           }
          ],
          "heatmap": [
           {
            "type": "heatmap",
            "colorbar": {
             "outlinewidth": 0,
             "ticks": ""
            },
            "colorscale": [
             [
              0.0,
              "#0d0887"
             ],
             [
              0.1111111111111111,
              "#46039f"
             ],
             [
              0.2222222222222222,
              "#7201a8"
             ],
             [
              0.3333333333333333,
              "#9c179e"
             ],
             [
              0.4444444444444444,
              "#bd3786"
             ],
             [
              0.5555555555555556,
              "#d8576b"
             ],
             [
              0.6666666666666666,
              "#ed7953"
             ],
             [
              0.7777777777777778,
              "#fb9f3a"
             ],
             [
              0.8888888888888888,
              "#fdca26"
             ],
             [
              1.0,
              "#f0f921"
             ]
            ]
           }
          ],
          "contourcarpet": [
           {
            "type": "contourcarpet",
            "colorbar": {
             "outlinewidth": 0,
             "ticks": ""
            }
           }
          ],
          "contour": [
           {
            "type": "contour",
            "colorbar": {
             "outlinewidth": 0,
             "ticks": ""
            },
            "colorscale": [
             [
              0.0,
              "#0d0887"
             ],
             [
              0.1111111111111111,
              "#46039f"
             ],
             [
              0.2222222222222222,
              "#7201a8"
             ],
             [
              0.3333333333333333,
              "#9c179e"
             ],
             [
              0.4444444444444444,
              "#bd3786"
             ],
             [
              0.5555555555555556,
              "#d8576b"
             ],
             [
              0.6666666666666666,
              "#ed7953"
             ],
             [
              0.7777777777777778,
              "#fb9f3a"
             ],
             [
              0.8888888888888888,
              "#fdca26"
             ],
             [
              1.0,
              "#f0f921"
             ]
            ]
           }
          ],
          "surface": [
           {
            "type": "surface",
            "colorbar": {
             "outlinewidth": 0,
             "ticks": ""
            },
            "colorscale": [
             [
              0.0,
              "#0d0887"
             ],
             [
              0.1111111111111111,
              "#46039f"
             ],
             [
              0.2222222222222222,
              "#7201a8"
             ],
             [
              0.3333333333333333,
              "#9c179e"
             ],
             [
              0.4444444444444444,
              "#bd3786"
             ],
             [
              0.5555555555555556,
              "#d8576b"
             ],
             [
              0.6666666666666666,
              "#ed7953"
             ],
             [
              0.7777777777777778,
              "#fb9f3a"
             ],
             [
              0.8888888888888888,
              "#fdca26"
             ],
             [
              1.0,
              "#f0f921"
             ]
            ]
           }
          ],
          "mesh3d": [
           {
            "type": "mesh3d",
            "colorbar": {
             "outlinewidth": 0,
             "ticks": ""
            }
           }
          ],
          "scatter": [
           {
            "fillpattern": {
             "fillmode": "overlay",
             "size": 10,
             "solidity": 0.2
            },
            "type": "scatter"
           }
          ],
          "parcoords": [
           {
            "type": "parcoords",
            "line": {
             "colorbar": {
              "outlinewidth": 0,
              "ticks": ""
             }
            }
           }
          ],
          "scatterpolargl": [
           {
            "type": "scatterpolargl",
            "marker": {
             "colorbar": {
              "outlinewidth": 0,
              "ticks": ""
             }
            }
           }
          ],
          "bar": [
           {
            "error_x": {
             "color": "#2a3f5f"
            },
            "error_y": {
             "color": "#2a3f5f"
            },
            "marker": {
             "line": {
              "color": "#E5ECF6",
              "width": 0.5
             },
             "pattern": {
              "fillmode": "overlay",
              "size": 10,
              "solidity": 0.2
             }
            },
            "type": "bar"
           }
          ],
          "scattergeo": [
           {
            "type": "scattergeo",
            "marker": {
             "colorbar": {
              "outlinewidth": 0,
              "ticks": ""
             }
            }
           }
          ],
          "scatterpolar": [
           {
            "type": "scatterpolar",
            "marker": {
             "colorbar": {
              "outlinewidth": 0,
              "ticks": ""
             }
            }
           }
          ],
          "histogram": [
           {
            "marker": {
             "pattern": {
              "fillmode": "overlay",
              "size": 10,
              "solidity": 0.2
             }
            },
            "type": "histogram"
           }
          ],
          "scattergl": [
           {
            "type": "scattergl",
            "marker": {
             "colorbar": {
              "outlinewidth": 0,
              "ticks": ""
             }
            }
           }
          ],
          "scatter3d": [
           {
            "type": "scatter3d",
            "line": {
             "colorbar": {
              "outlinewidth": 0,
              "ticks": ""
             }
            },
            "marker": {
             "colorbar": {
              "outlinewidth": 0,
              "ticks": ""
             }
            }
           }
          ],
          "scattermap": [
           {
            "type": "scattermap",
            "marker": {
             "colorbar": {
              "outlinewidth": 0,
              "ticks": ""
             }
            }
           }
          ],
          "scattermapbox": [
           {
            "type": "scattermapbox",
            "marker": {
             "colorbar": {
              "outlinewidth": 0,
              "ticks": ""
             }
            }
           }
          ],
          "scatterternary": [
           {
            "type": "scatterternary",
            "marker": {
             "colorbar": {
              "outlinewidth": 0,
              "ticks": ""
             }
            }
           }
          ],
          "scattercarpet": [
           {
            "type": "scattercarpet",
            "marker": {
             "colorbar": {
              "outlinewidth": 0,
              "ticks": ""
             }
            }
           }
          ],
          "carpet": [
           {
            "aaxis": {
             "endlinecolor": "#2a3f5f",
             "gridcolor": "white",
             "linecolor": "white",
             "minorgridcolor": "white",
             "startlinecolor": "#2a3f5f"
            },
            "baxis": {
             "endlinecolor": "#2a3f5f",
             "gridcolor": "white",
             "linecolor": "white",
             "minorgridcolor": "white",
             "startlinecolor": "#2a3f5f"
            },
            "type": "carpet"
           }
          ],
          "table": [
           {
            "cells": {
             "fill": {
              "color": "#EBF0F8"
             },
             "line": {
              "color": "white"
             }
            },
            "header": {
             "fill": {
              "color": "#C8D4E3"
             },
             "line": {
              "color": "white"
             }
            },
            "type": "table"
           }
          ],
          "barpolar": [
           {
            "marker": {
             "line": {
              "color": "#E5ECF6",
              "width": 0.5
             },
             "pattern": {
              "fillmode": "overlay",
              "size": 10,
              "solidity": 0.2
             }
            },
            "type": "barpolar"
           }
          ],
          "pie": [
           {
            "automargin": true,
            "type": "pie"
           }
          ]
         },
         "layout": {
          "autotypenumbers": "strict",
          "colorway": [
           "#636efa",
           "#EF553B",
           "#00cc96",
           "#ab63fa",
           "#FFA15A",
           "#19d3f3",
           "#FF6692",
           "#B6E880",
           "#FF97FF",
           "#FECB52"
          ],
          "font": {
           "color": "#2a3f5f"
          },
          "hovermode": "closest",
          "hoverlabel": {
           "align": "left"
          },
          "paper_bgcolor": "white",
          "plot_bgcolor": "#E5ECF6",
          "polar": {
           "bgcolor": "#E5ECF6",
           "angularaxis": {
            "gridcolor": "white",
            "linecolor": "white",
            "ticks": ""
           },
           "radialaxis": {
            "gridcolor": "white",
            "linecolor": "white",
            "ticks": ""
           }
          },
          "ternary": {
           "bgcolor": "#E5ECF6",
           "aaxis": {
            "gridcolor": "white",
            "linecolor": "white",
            "ticks": ""
           },
           "baxis": {
            "gridcolor": "white",
            "linecolor": "white",
            "ticks": ""
           },
           "caxis": {
            "gridcolor": "white",
            "linecolor": "white",
            "ticks": ""
           }
          },
          "coloraxis": {
           "colorbar": {
            "outlinewidth": 0,
            "ticks": ""
           }
          },
          "colorscale": {
           "sequential": [
            [
             0.0,
             "#0d0887"
            ],
            [
             0.1111111111111111,
             "#46039f"
            ],
            [
             0.2222222222222222,
             "#7201a8"
            ],
            [
             0.3333333333333333,
             "#9c179e"
            ],
            [
             0.4444444444444444,
             "#bd3786"
            ],
            [
             0.5555555555555556,
             "#d8576b"
            ],
            [
             0.6666666666666666,
             "#ed7953"
            ],
            [
             0.7777777777777778,
             "#fb9f3a"
            ],
            [
             0.8888888888888888,
             "#fdca26"
            ],
            [
             1.0,
             "#f0f921"
            ]
           ],
           "sequentialminus": [
            [
             0.0,
             "#0d0887"
            ],
            [
             0.1111111111111111,
             "#46039f"
            ],
            [
             0.2222222222222222,
             "#7201a8"
            ],
            [
             0.3333333333333333,
             "#9c179e"
            ],
            [
             0.4444444444444444,
             "#bd3786"
            ],
            [
             0.5555555555555556,
             "#d8576b"
            ],
            [
             0.6666666666666666,
             "#ed7953"
            ],
            [
             0.7777777777777778,
             "#fb9f3a"
            ],
            [
             0.8888888888888888,
             "#fdca26"
            ],
            [
             1.0,
             "#f0f921"
            ]
           ],
           "diverging": [
            [
             0,
             "#8e0152"
            ],
            [
             0.1,
             "#c51b7d"
            ],
            [
             0.2,
             "#de77ae"
            ],
            [
             0.3,
             "#f1b6da"
            ],
            [
             0.4,
             "#fde0ef"
            ],
            [
             0.5,
             "#f7f7f7"
            ],
            [
             0.6,
             "#e6f5d0"
            ],
            [
             0.7,
             "#b8e186"
            ],
            [
             0.8,
             "#7fbc41"
            ],
            [
             0.9,
             "#4d9221"
            ],
            [
             1,
             "#276419"
            ]
           ]
          },
          "xaxis": {
           "gridcolor": "white",
           "linecolor": "white",
           "ticks": "",
           "title": {
            "standoff": 15
           },
           "zerolinecolor": "white",
           "automargin": true,
           "zerolinewidth": 2
          },
          "yaxis": {
           "gridcolor": "white",
           "linecolor": "white",
           "ticks": "",
           "title": {
            "standoff": 15
           },
           "zerolinecolor": "white",
           "automargin": true,
           "zerolinewidth": 2
          },
          "scene": {
           "xaxis": {
            "backgroundcolor": "#E5ECF6",
            "gridcolor": "white",
            "linecolor": "white",
            "showbackground": true,
            "ticks": "",
            "zerolinecolor": "white",
            "gridwidth": 2
           },
           "yaxis": {
            "backgroundcolor": "#E5ECF6",
            "gridcolor": "white",
            "linecolor": "white",
            "showbackground": true,
            "ticks": "",
            "zerolinecolor": "white",
            "gridwidth": 2
           },
           "zaxis": {
            "backgroundcolor": "#E5ECF6",
            "gridcolor": "white",
            "linecolor": "white",
            "showbackground": true,
            "ticks": "",
            "zerolinecolor": "white",
            "gridwidth": 2
           }
          },
          "shapedefaults": {
           "line": {
            "color": "#2a3f5f"
           }
          },
          "annotationdefaults": {
           "arrowcolor": "#2a3f5f",
           "arrowhead": 0,
           "arrowwidth": 1
          },
          "geo": {
           "bgcolor": "white",
           "landcolor": "#E5ECF6",
           "subunitcolor": "white",
           "showland": true,
           "showlakes": true,
           "lakecolor": "white"
          },
          "title": {
           "x": 0.05
          },
          "mapbox": {
           "style": "light"
          }
         }
        },
        "title": {
         "text": "Сравнение распределения длин названий до и после аугментации"
        },
        "xaxis": {
         "title": {
          "text": "Длина названия (слов)"
         }
        },
        "yaxis": {
         "title": {
          "text": "Количество названий"
         }
        },
        "barmode": "group",
        "bargap": 0.2,
        "bargroupgap": 0.1,
        "width": 1000,
        "height": 500
       },
       "config": {
        "plotlyServerURL": "https://plot.ly"
       }
      }
     },
     "metadata": {},
     "output_type": "display_data",
     "jetTransient": {
      "display_id": null
     }
    }
   ],
   "execution_count": 98
  },
  {
   "metadata": {},
   "cell_type": "code",
   "outputs": [],
   "execution_count": null,
   "source": "",
   "id": "c3a5b7103609dbe"
  }
 ],
 "metadata": {
  "kernelspec": {
   "display_name": "Python 3",
   "language": "python",
   "name": "python3"
  },
  "language_info": {
   "codemirror_mode": {
    "name": "ipython",
    "version": 2
   },
   "file_extension": ".py",
   "mimetype": "text/x-python",
   "name": "python",
   "nbconvert_exporter": "python",
   "pygments_lexer": "ipython2",
   "version": "2.7.6"
  }
 },
 "nbformat": 4,
 "nbformat_minor": 5
}
