{
 "cells": [
  {
   "cell_type": "code",
   "id": "initial_id",
   "metadata": {
    "collapsed": true,
    "ExecuteTime": {
     "end_time": "2025-08-23T05:39:08.961614Z",
     "start_time": "2025-08-23T05:39:08.748662Z"
    }
   },
   "source": "import pandas as pd\n",
   "outputs": [],
   "execution_count": 1
  },
  {
   "metadata": {
    "ExecuteTime": {
     "end_time": "2025-08-23T05:55:25.039973Z",
     "start_time": "2025-08-23T05:55:24.913605Z"
    }
   },
   "cell_type": "code",
   "source": [
    "litres_data = pd.read_csv(\"../data/litres.csv\")\n",
    "litres_data.head()"
   ],
   "id": "c5299c9bc187b869",
   "outputs": [
    {
     "data": {
      "text/plain": [
       "                                               title  \\\n",
       "0                 Письма Баламута. Расторжение брака   \n",
       "1  Две жизни. Все части. Сборник в обновленной ре...   \n",
       "2                             Атлант расправил плечи   \n",
       "3                                Вино из одуванчиков   \n",
       "4                  Две жизни. Роман в четырех частях   \n",
       "\n",
       "                                                text  \n",
       "0  Три произведения в одном сборнике!«Письма Бала...  \n",
       "1  Книга «Две жизни» – мистический роман, который...  \n",
       "2  К власти в США приходят социалисты и правитель...  \n",
       "3  Войдите в светлый мир двенадцатилетнего мальчи...  \n",
       "4  Все части культовых «Двух жизней» Конкордии Ан...  "
      ],
      "text/html": [
       "<div>\n",
       "<style scoped>\n",
       "    .dataframe tbody tr th:only-of-type {\n",
       "        vertical-align: middle;\n",
       "    }\n",
       "\n",
       "    .dataframe tbody tr th {\n",
       "        vertical-align: top;\n",
       "    }\n",
       "\n",
       "    .dataframe thead th {\n",
       "        text-align: right;\n",
       "    }\n",
       "</style>\n",
       "<table border=\"1\" class=\"dataframe\">\n",
       "  <thead>\n",
       "    <tr style=\"text-align: right;\">\n",
       "      <th></th>\n",
       "      <th>title</th>\n",
       "      <th>text</th>\n",
       "    </tr>\n",
       "  </thead>\n",
       "  <tbody>\n",
       "    <tr>\n",
       "      <th>0</th>\n",
       "      <td>Письма Баламута. Расторжение брака</td>\n",
       "      <td>Три произведения в одном сборнике!«Письма Бала...</td>\n",
       "    </tr>\n",
       "    <tr>\n",
       "      <th>1</th>\n",
       "      <td>Две жизни. Все части. Сборник в обновленной ре...</td>\n",
       "      <td>Книга «Две жизни» – мистический роман, который...</td>\n",
       "    </tr>\n",
       "    <tr>\n",
       "      <th>2</th>\n",
       "      <td>Атлант расправил плечи</td>\n",
       "      <td>К власти в США приходят социалисты и правитель...</td>\n",
       "    </tr>\n",
       "    <tr>\n",
       "      <th>3</th>\n",
       "      <td>Вино из одуванчиков</td>\n",
       "      <td>Войдите в светлый мир двенадцатилетнего мальчи...</td>\n",
       "    </tr>\n",
       "    <tr>\n",
       "      <th>4</th>\n",
       "      <td>Две жизни. Роман в четырех частях</td>\n",
       "      <td>Все части культовых «Двух жизней» Конкордии Ан...</td>\n",
       "    </tr>\n",
       "  </tbody>\n",
       "</table>\n",
       "</div>"
      ]
     },
     "execution_count": 42,
     "metadata": {},
     "output_type": "execute_result"
    }
   ],
   "execution_count": 42
  },
  {
   "metadata": {
    "ExecuteTime": {
     "end_time": "2025-08-23T05:55:26.557313Z",
     "start_time": "2025-08-23T05:55:26.532113Z"
    }
   },
   "cell_type": "code",
   "source": "litres_data.describe()",
   "id": "a19cea44c7702857",
   "outputs": [
    {
     "data": {
      "text/plain": [
       "                                     title  \\\n",
       "count                                13103   \n",
       "unique                               13103   \n",
       "top     Письма Баламута. Расторжение брака   \n",
       "freq                                     1   \n",
       "\n",
       "                                                     text  \n",
       "count                                               12084  \n",
       "unique                                              11821  \n",
       "top     Юные герои Анатолия Алексина впервые сталкиваю...  \n",
       "freq                                                   13  "
      ],
      "text/html": [
       "<div>\n",
       "<style scoped>\n",
       "    .dataframe tbody tr th:only-of-type {\n",
       "        vertical-align: middle;\n",
       "    }\n",
       "\n",
       "    .dataframe tbody tr th {\n",
       "        vertical-align: top;\n",
       "    }\n",
       "\n",
       "    .dataframe thead th {\n",
       "        text-align: right;\n",
       "    }\n",
       "</style>\n",
       "<table border=\"1\" class=\"dataframe\">\n",
       "  <thead>\n",
       "    <tr style=\"text-align: right;\">\n",
       "      <th></th>\n",
       "      <th>title</th>\n",
       "      <th>text</th>\n",
       "    </tr>\n",
       "  </thead>\n",
       "  <tbody>\n",
       "    <tr>\n",
       "      <th>count</th>\n",
       "      <td>13103</td>\n",
       "      <td>12084</td>\n",
       "    </tr>\n",
       "    <tr>\n",
       "      <th>unique</th>\n",
       "      <td>13103</td>\n",
       "      <td>11821</td>\n",
       "    </tr>\n",
       "    <tr>\n",
       "      <th>top</th>\n",
       "      <td>Письма Баламута. Расторжение брака</td>\n",
       "      <td>Юные герои Анатолия Алексина впервые сталкиваю...</td>\n",
       "    </tr>\n",
       "    <tr>\n",
       "      <th>freq</th>\n",
       "      <td>1</td>\n",
       "      <td>13</td>\n",
       "    </tr>\n",
       "  </tbody>\n",
       "</table>\n",
       "</div>"
      ]
     },
     "execution_count": 43,
     "metadata": {},
     "output_type": "execute_result"
    }
   ],
   "execution_count": 43
  },
  {
   "metadata": {
    "ExecuteTime": {
     "end_time": "2025-08-23T05:55:28.041866Z",
     "start_time": "2025-08-23T05:55:28.002435Z"
    }
   },
   "cell_type": "code",
   "source": [
    "litres_data.title = litres_data.title.str.lower().str.strip()\n",
    "litres_data.text = litres_data.text.str.lower().str.strip()\n",
    "litres_data.head()"
   ],
   "id": "fc90910c1aac4750",
   "outputs": [
    {
     "data": {
      "text/plain": [
       "                                               title  \\\n",
       "0                 письма баламута. расторжение брака   \n",
       "1  две жизни. все части. сборник в обновленной ре...   \n",
       "2                             атлант расправил плечи   \n",
       "3                                вино из одуванчиков   \n",
       "4                  две жизни. роман в четырех частях   \n",
       "\n",
       "                                                text  \n",
       "0  три произведения в одном сборнике!«письма бала...  \n",
       "1  книга «две жизни» – мистический роман, который...  \n",
       "2  к власти в сша приходят социалисты и правитель...  \n",
       "3  войдите в светлый мир двенадцатилетнего мальчи...  \n",
       "4  все части культовых «двух жизней» конкордии ан...  "
      ],
      "text/html": [
       "<div>\n",
       "<style scoped>\n",
       "    .dataframe tbody tr th:only-of-type {\n",
       "        vertical-align: middle;\n",
       "    }\n",
       "\n",
       "    .dataframe tbody tr th {\n",
       "        vertical-align: top;\n",
       "    }\n",
       "\n",
       "    .dataframe thead th {\n",
       "        text-align: right;\n",
       "    }\n",
       "</style>\n",
       "<table border=\"1\" class=\"dataframe\">\n",
       "  <thead>\n",
       "    <tr style=\"text-align: right;\">\n",
       "      <th></th>\n",
       "      <th>title</th>\n",
       "      <th>text</th>\n",
       "    </tr>\n",
       "  </thead>\n",
       "  <tbody>\n",
       "    <tr>\n",
       "      <th>0</th>\n",
       "      <td>письма баламута. расторжение брака</td>\n",
       "      <td>три произведения в одном сборнике!«письма бала...</td>\n",
       "    </tr>\n",
       "    <tr>\n",
       "      <th>1</th>\n",
       "      <td>две жизни. все части. сборник в обновленной ре...</td>\n",
       "      <td>книга «две жизни» – мистический роман, который...</td>\n",
       "    </tr>\n",
       "    <tr>\n",
       "      <th>2</th>\n",
       "      <td>атлант расправил плечи</td>\n",
       "      <td>к власти в сша приходят социалисты и правитель...</td>\n",
       "    </tr>\n",
       "    <tr>\n",
       "      <th>3</th>\n",
       "      <td>вино из одуванчиков</td>\n",
       "      <td>войдите в светлый мир двенадцатилетнего мальчи...</td>\n",
       "    </tr>\n",
       "    <tr>\n",
       "      <th>4</th>\n",
       "      <td>две жизни. роман в четырех частях</td>\n",
       "      <td>все части культовых «двух жизней» конкордии ан...</td>\n",
       "    </tr>\n",
       "  </tbody>\n",
       "</table>\n",
       "</div>"
      ]
     },
     "execution_count": 44,
     "metadata": {},
     "output_type": "execute_result"
    }
   ],
   "execution_count": 44
  },
  {
   "metadata": {
    "ExecuteTime": {
     "end_time": "2025-08-23T05:55:30.295630Z",
     "start_time": "2025-08-23T05:55:30.283775Z"
    }
   },
   "cell_type": "code",
   "source": "litres_data.isna().sum(axis=0)",
   "id": "e266a81673746eda",
   "outputs": [
    {
     "data": {
      "text/plain": [
       "title       0\n",
       "text     1019\n",
       "dtype: int64"
      ]
     },
     "execution_count": 45,
     "metadata": {},
     "output_type": "execute_result"
    }
   ],
   "execution_count": 45
  },
  {
   "metadata": {
    "ExecuteTime": {
     "end_time": "2025-08-23T05:55:34.356590Z",
     "start_time": "2025-08-23T05:55:34.341158Z"
    }
   },
   "cell_type": "code",
   "source": [
    "litres_data = litres_data.dropna().reset_index(drop=True)\n",
    "litres_data.isna().sum(axis=0)"
   ],
   "id": "1add14cce133116d",
   "outputs": [
    {
     "data": {
      "text/plain": [
       "title    0\n",
       "text     0\n",
       "dtype: int64"
      ]
     },
     "execution_count": 46,
     "metadata": {},
     "output_type": "execute_result"
    }
   ],
   "execution_count": 46
  },
  {
   "metadata": {
    "ExecuteTime": {
     "end_time": "2025-08-23T05:56:44.643525Z",
     "start_time": "2025-08-23T05:56:44.632540Z"
    }
   },
   "cell_type": "code",
   "source": [
    "print(f\"Количество дубликатов в названиях: {litres_data.title.duplicated().sum()}\")\n",
    "print(f\"Количество дубликатов в текстах: {litres_data.text.duplicated().sum()}\")"
   ],
   "id": "3e97377bcb61479c",
   "outputs": [
    {
     "name": "stdout",
     "output_type": "stream",
     "text": [
      "Количество дубликатов в названиях: 73\n",
      "Количество дубликатов в текстах: 274\n"
     ]
    }
   ],
   "execution_count": 48
  },
  {
   "metadata": {
    "ExecuteTime": {
     "end_time": "2025-08-23T05:57:13.916429Z",
     "start_time": "2025-08-23T05:57:13.902723Z"
    }
   },
   "cell_type": "code",
   "source": [
    "litres_data = litres_data.drop_duplicates(subset=[\"title\"]).reset_index(drop=True)\n",
    "litres_data = litres_data.drop_duplicates(subset=['text']).reset_index(drop=True)"
   ],
   "id": "f47fee4e9d563b0e",
   "outputs": [],
   "execution_count": 49
  },
  {
   "metadata": {
    "ExecuteTime": {
     "end_time": "2025-08-23T05:57:21.880076Z",
     "start_time": "2025-08-23T05:57:21.875425Z"
    }
   },
   "cell_type": "code",
   "source": [
    "print(f\"Количество дубликатов в названиях: {litres_data.title.duplicated().sum()}\")\n",
    "print(f\"Количество дубликатов в текстах: {litres_data.text.duplicated().sum()}\")"
   ],
   "id": "8ed16042b3fa603d",
   "outputs": [
    {
     "name": "stdout",
     "output_type": "stream",
     "text": [
      "Количество дубликатов в названиях: 0\n",
      "Количество дубликатов в текстах: 0\n"
     ]
    }
   ],
   "execution_count": 50
  },
  {
   "metadata": {
    "ExecuteTime": {
     "end_time": "2025-08-23T05:57:23.129593Z",
     "start_time": "2025-08-23T05:57:23.118737Z"
    }
   },
   "cell_type": "code",
   "source": "litres_data.describe()",
   "id": "a1533564775f8772",
   "outputs": [
    {
     "data": {
      "text/plain": [
       "                                     title  \\\n",
       "count                                11743   \n",
       "unique                               11743   \n",
       "top     письма баламута. расторжение брака   \n",
       "freq                                     1   \n",
       "\n",
       "                                                     text  \n",
       "count                                               11743  \n",
       "unique                                              11743  \n",
       "top     три произведения в одном сборнике!«письма бала...  \n",
       "freq                                                    1  "
      ],
      "text/html": [
       "<div>\n",
       "<style scoped>\n",
       "    .dataframe tbody tr th:only-of-type {\n",
       "        vertical-align: middle;\n",
       "    }\n",
       "\n",
       "    .dataframe tbody tr th {\n",
       "        vertical-align: top;\n",
       "    }\n",
       "\n",
       "    .dataframe thead th {\n",
       "        text-align: right;\n",
       "    }\n",
       "</style>\n",
       "<table border=\"1\" class=\"dataframe\">\n",
       "  <thead>\n",
       "    <tr style=\"text-align: right;\">\n",
       "      <th></th>\n",
       "      <th>title</th>\n",
       "      <th>text</th>\n",
       "    </tr>\n",
       "  </thead>\n",
       "  <tbody>\n",
       "    <tr>\n",
       "      <th>count</th>\n",
       "      <td>11743</td>\n",
       "      <td>11743</td>\n",
       "    </tr>\n",
       "    <tr>\n",
       "      <th>unique</th>\n",
       "      <td>11743</td>\n",
       "      <td>11743</td>\n",
       "    </tr>\n",
       "    <tr>\n",
       "      <th>top</th>\n",
       "      <td>письма баламута. расторжение брака</td>\n",
       "      <td>три произведения в одном сборнике!«письма бала...</td>\n",
       "    </tr>\n",
       "    <tr>\n",
       "      <th>freq</th>\n",
       "      <td>1</td>\n",
       "      <td>1</td>\n",
       "    </tr>\n",
       "  </tbody>\n",
       "</table>\n",
       "</div>"
      ]
     },
     "execution_count": 51,
     "metadata": {},
     "output_type": "execute_result"
    }
   ],
   "execution_count": 51
  },
  {
   "metadata": {
    "ExecuteTime": {
     "end_time": "2025-08-23T05:57:28.781966Z",
     "start_time": "2025-08-23T05:57:28.774499Z"
    }
   },
   "cell_type": "code",
   "source": "litres_data.head()",
   "id": "19ff3f71e063cca7",
   "outputs": [
    {
     "data": {
      "text/plain": [
       "                                               title  \\\n",
       "0                 письма баламута. расторжение брака   \n",
       "1  две жизни. все части. сборник в обновленной ре...   \n",
       "2                             атлант расправил плечи   \n",
       "3                                вино из одуванчиков   \n",
       "4                  две жизни. роман в четырех частях   \n",
       "\n",
       "                                                text  \n",
       "0  три произведения в одном сборнике!«письма бала...  \n",
       "1  книга «две жизни» – мистический роман, который...  \n",
       "2  к власти в сша приходят социалисты и правитель...  \n",
       "3  войдите в светлый мир двенадцатилетнего мальчи...  \n",
       "4  все части культовых «двух жизней» конкордии ан...  "
      ],
      "text/html": [
       "<div>\n",
       "<style scoped>\n",
       "    .dataframe tbody tr th:only-of-type {\n",
       "        vertical-align: middle;\n",
       "    }\n",
       "\n",
       "    .dataframe tbody tr th {\n",
       "        vertical-align: top;\n",
       "    }\n",
       "\n",
       "    .dataframe thead th {\n",
       "        text-align: right;\n",
       "    }\n",
       "</style>\n",
       "<table border=\"1\" class=\"dataframe\">\n",
       "  <thead>\n",
       "    <tr style=\"text-align: right;\">\n",
       "      <th></th>\n",
       "      <th>title</th>\n",
       "      <th>text</th>\n",
       "    </tr>\n",
       "  </thead>\n",
       "  <tbody>\n",
       "    <tr>\n",
       "      <th>0</th>\n",
       "      <td>письма баламута. расторжение брака</td>\n",
       "      <td>три произведения в одном сборнике!«письма бала...</td>\n",
       "    </tr>\n",
       "    <tr>\n",
       "      <th>1</th>\n",
       "      <td>две жизни. все части. сборник в обновленной ре...</td>\n",
       "      <td>книга «две жизни» – мистический роман, который...</td>\n",
       "    </tr>\n",
       "    <tr>\n",
       "      <th>2</th>\n",
       "      <td>атлант расправил плечи</td>\n",
       "      <td>к власти в сша приходят социалисты и правитель...</td>\n",
       "    </tr>\n",
       "    <tr>\n",
       "      <th>3</th>\n",
       "      <td>вино из одуванчиков</td>\n",
       "      <td>войдите в светлый мир двенадцатилетнего мальчи...</td>\n",
       "    </tr>\n",
       "    <tr>\n",
       "      <th>4</th>\n",
       "      <td>две жизни. роман в четырех частях</td>\n",
       "      <td>все части культовых «двух жизней» конкордии ан...</td>\n",
       "    </tr>\n",
       "  </tbody>\n",
       "</table>\n",
       "</div>"
      ]
     },
     "execution_count": 52,
     "metadata": {},
     "output_type": "execute_result"
    }
   ],
   "execution_count": 52
  },
  {
   "metadata": {
    "ExecuteTime": {
     "end_time": "2025-08-23T05:57:38.997917Z",
     "start_time": "2025-08-23T05:57:38.910560Z"
    }
   },
   "cell_type": "code",
   "source": "litres_data.to_csv(\"../data/litres.csv\", index=False)",
   "id": "cbf1f1fa51cd948",
   "outputs": [],
   "execution_count": 53
  },
  {
   "metadata": {},
   "cell_type": "code",
   "outputs": [],
   "execution_count": null,
   "source": "",
   "id": "3e4295a53c673862"
  }
 ],
 "metadata": {
  "kernelspec": {
   "display_name": "Python 3",
   "language": "python",
   "name": "python3"
  },
  "language_info": {
   "codemirror_mode": {
    "name": "ipython",
    "version": 2
   },
   "file_extension": ".py",
   "mimetype": "text/x-python",
   "name": "python",
   "nbconvert_exporter": "python",
   "pygments_lexer": "ipython2",
   "version": "2.7.6"
  }
 },
 "nbformat": 4,
 "nbformat_minor": 5
}
