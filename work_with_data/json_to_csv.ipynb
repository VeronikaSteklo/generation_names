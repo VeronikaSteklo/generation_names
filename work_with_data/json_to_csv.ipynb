{
 "cells": [
  {
   "metadata": {
    "ExecuteTime": {
     "end_time": "2025-08-24T05:18:36.508039Z",
     "start_time": "2025-08-24T05:18:36.168476Z"
    }
   },
   "cell_type": "code",
   "source": [
    "import json\n",
    "import pandas as pd"
   ],
   "id": "a9fc6ae506f496e3",
   "outputs": [],
   "execution_count": 1
  },
  {
   "metadata": {
    "ExecuteTime": {
     "end_time": "2025-08-24T05:18:39.055112Z",
     "start_time": "2025-08-24T05:18:39.050128Z"
    }
   },
   "cell_type": "code",
   "source": [
    "def open_json(input_file: str) -> dict:\n",
    "    with open(input_file) as json_file:\n",
    "        data = json.load(json_file)\n",
    "    return data\n",
    "\n",
    "def merge_json(json_data_1: dict, json_data_2: dict) -> dict:\n",
    "    data = {**json_data_1, **json_data_2}\n",
    "    return data"
   ],
   "id": "bae9e78f7ee5ec9c",
   "outputs": [],
   "execution_count": 2
  },
  {
   "metadata": {},
   "cell_type": "markdown",
   "source": "## Литпричал и Проза.ру",
   "id": "67676b8d5f2db2d1"
  },
  {
   "cell_type": "code",
   "id": "initial_id",
   "metadata": {
    "collapsed": true,
    "ExecuteTime": {
     "end_time": "2025-08-24T05:19:09.743422Z",
     "start_time": "2025-08-24T05:19:09.737841Z"
    }
   },
   "source": [
    "def json_to_csv_lp(json_data: dict, output_file: str = \"../data/data.csv\") -> None:\n",
    "    rows = []\n",
    "    for category, works in json_data.items():\n",
    "        for author, work_data in works.items():\n",
    "            rows.append({\n",
    "                \"genre\": category,\n",
    "                \"title\": work_data.get(\"title\", \"\"),\n",
    "                \"author\": author,\n",
    "                \"link\": work_data.get(\"link\", \"\"),\n",
    "                \"text\": work_data.get(\"text\", \"\")\n",
    "            })\n",
    "\n",
    "    df = pd.DataFrame(rows)\n",
    "    df.to_csv(output_file, index=False, encoding='utf-8')"
   ],
   "outputs": [],
   "execution_count": 6
  },
  {
   "metadata": {
    "ExecuteTime": {
     "end_time": "2025-08-24T05:18:46.277235Z",
     "start_time": "2025-08-24T05:18:44.334354Z"
    }
   },
   "cell_type": "code",
   "source": [
    "data_proza_ru = open_json(\"../data/data_proza_ru.json\")\n",
    "data_litprichal = open_json(\"../data/data_litprichal.json\")\n",
    "all_data = merge_json(data_proza_ru, data_litprichal)"
   ],
   "id": "d89c950756a0146a",
   "outputs": [],
   "execution_count": 4
  },
  {
   "metadata": {
    "ExecuteTime": {
     "end_time": "2025-08-24T05:19:18.046507Z",
     "start_time": "2025-08-24T05:19:14.378976Z"
    }
   },
   "cell_type": "code",
   "source": "json_to_csv_lp(all_data)",
   "id": "589c9c9d8bc46039",
   "outputs": [],
   "execution_count": 7
  },
  {
   "metadata": {},
   "cell_type": "markdown",
   "source": "## Литрес",
   "id": "11f86d06c75d8970"
  },
  {
   "metadata": {
    "ExecuteTime": {
     "end_time": "2025-08-23T05:55:17.039372Z",
     "start_time": "2025-08-23T05:55:17.036692Z"
    }
   },
   "cell_type": "code",
   "source": [
    "def json_to_csv_litres(json_data: dict, output_file: str = \"../data/litres.csv\") -> None:\n",
    "    rows = []\n",
    "    for title, text in json_data.items():\n",
    "        rows.append({\n",
    "            \"title\": title,\n",
    "            \"text\": text\n",
    "        })\n",
    "\n",
    "    df = pd.DataFrame(rows)\n",
    "    df.to_csv(output_file, index=False, encoding='utf-8')"
   ],
   "id": "cedf7686517be170",
   "outputs": [],
   "execution_count": 9
  },
  {
   "metadata": {
    "ExecuteTime": {
     "end_time": "2025-08-23T05:55:17.544021Z",
     "start_time": "2025-08-23T05:55:17.443942Z"
    }
   },
   "cell_type": "code",
   "source": [
    "litres = open_json(\"../data/litres.json\")\n",
    "json_to_csv_litres(litres)"
   ],
   "id": "5e8506b98e07424d",
   "outputs": [],
   "execution_count": 10
  },
  {
   "metadata": {},
   "cell_type": "code",
   "outputs": [],
   "execution_count": null,
   "source": "",
   "id": "54ff6ea4d6c84999"
  }
 ],
 "metadata": {
  "kernelspec": {
   "display_name": "Python 3",
   "language": "python",
   "name": "python3"
  },
  "language_info": {
   "codemirror_mode": {
    "name": "ipython",
    "version": 2
   },
   "file_extension": ".py",
   "mimetype": "text/x-python",
   "name": "python",
   "nbconvert_exporter": "python",
   "pygments_lexer": "ipython2",
   "version": "2.7.6"
  }
 },
 "nbformat": 4,
 "nbformat_minor": 5
}
