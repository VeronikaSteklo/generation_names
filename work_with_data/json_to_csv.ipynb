{
 "cells": [
  {
   "metadata": {
    "ExecuteTime": {
     "end_time": "2025-08-20T05:17:13.946507Z",
     "start_time": "2025-08-20T05:17:12.575811Z"
    }
   },
   "cell_type": "code",
   "source": [
    "import json\n",
    "import pandas as pd"
   ],
   "id": "a9fc6ae506f496e3",
   "outputs": [],
   "execution_count": 1
  },
  {
   "cell_type": "code",
   "id": "initial_id",
   "metadata": {
    "collapsed": true,
    "ExecuteTime": {
     "end_time": "2025-08-20T05:17:14.445829Z",
     "start_time": "2025-08-20T05:17:14.439805Z"
    }
   },
   "source": [
    "def open_json(input_file: str) -> dict:\n",
    "    with open(input_file) as json_file:\n",
    "        data = json.load(json_file)\n",
    "    return data\n",
    "\n",
    "def merge_json(json_data_1: dict, json_data_2: dict) -> dict:\n",
    "    data = {**json_data_1, **json_data_2}\n",
    "    return data\n",
    "\n",
    "def json_to_csv(json_data: dict, output_file: str = \"data/data.csv\") -> None:\n",
    "    rows = []\n",
    "    for category, works in json_data.items():\n",
    "        for author, work_data in works.items():\n",
    "            rows.append({\n",
    "                \"genre\": category,\n",
    "                \"title\": work_data.get(\"title\", \"\"),\n",
    "                \"author\": author,\n",
    "                \"link\": work_data.get(\"link\", \"\"),\n",
    "                \"text\": work_data.get(\"text\", \"\")\n",
    "            })\n",
    "\n",
    "    df = pd.DataFrame(rows)\n",
    "    df.to_csv(output_file, index=False, encoding='utf-8')"
   ],
   "outputs": [],
   "execution_count": 2
  },
  {
   "metadata": {
    "ExecuteTime": {
     "end_time": "2025-08-20T05:17:19.717128Z",
     "start_time": "2025-08-20T05:17:17.636417Z"
    }
   },
   "cell_type": "code",
   "source": [
    "data_proza_ru = open_json(\"../data/data_proza_ru.json\")\n",
    "data_litprichal = open_json(\"../data/data_litprichal.json\")\n",
    "all_data = merge_json(data_proza_ru, data_litprichal)"
   ],
   "id": "d89c950756a0146a",
   "outputs": [],
   "execution_count": 3
  },
  {
   "metadata": {
    "ExecuteTime": {
     "end_time": "2025-08-20T05:17:48.577219Z",
     "start_time": "2025-08-20T05:17:45.024979Z"
    }
   },
   "cell_type": "code",
   "source": "json_to_csv(all_data)",
   "id": "589c9c9d8bc46039",
   "outputs": [],
   "execution_count": 4
  }
 ],
 "metadata": {
  "kernelspec": {
   "display_name": "Python 3",
   "language": "python",
   "name": "python3"
  },
  "language_info": {
   "codemirror_mode": {
    "name": "ipython",
    "version": 2
   },
   "file_extension": ".py",
   "mimetype": "text/x-python",
   "name": "python",
   "nbconvert_exporter": "python",
   "pygments_lexer": "ipython2",
   "version": "2.7.6"
  }
 },
 "nbformat": 4,
 "nbformat_minor": 5
}
