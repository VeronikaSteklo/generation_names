{
 "cells": [
  {
   "cell_type": "code",
   "id": "initial_id",
   "metadata": {
    "collapsed": true,
    "ExecuteTime": {
     "end_time": "2025-08-26T05:57:16.030456Z",
     "start_time": "2025-08-26T05:57:15.861499Z"
    }
   },
   "source": "import pandas as pd",
   "outputs": [],
   "execution_count": 1
  },
  {
   "metadata": {
    "ExecuteTime": {
     "end_time": "2025-08-26T05:57:33.745365Z",
     "start_time": "2025-08-26T05:57:33.543725Z"
    }
   },
   "cell_type": "code",
   "source": [
    "briefly_data = pd.read_csv(\"../data/briefly.csv\")\n",
    "briefly_data.head()"
   ],
   "id": "676cb365152d71ca",
   "outputs": [
    {
     "data": {
      "text/plain": [
       "                                           title  \\\n",
       "0  Житие протопопа Аввакума, им самим написанное   \n",
       "1    Переписка Андрея Курбского с Иваном Грозным   \n",
       "2                      Житие Сергия Радонежского   \n",
       "3           Повесть о Петре и Февронии Муромских   \n",
       "4                      Моление Даниила Заточника   \n",
       "\n",
       "                                                text  \n",
       "0  Протопоп Аввакум написал житие по благословени...  \n",
       "1  Князь Андрей Курбский — один из лучших воевод ...  \n",
       "2  Преподобный Сергий родился в Тверской земле, в...  \n",
       "3  В городе Муроме правил князь Павел. К его жене...  \n",
       "4  «Моление», как и многие другие произведения др...  "
      ],
      "text/html": [
       "<div>\n",
       "<style scoped>\n",
       "    .dataframe tbody tr th:only-of-type {\n",
       "        vertical-align: middle;\n",
       "    }\n",
       "\n",
       "    .dataframe tbody tr th {\n",
       "        vertical-align: top;\n",
       "    }\n",
       "\n",
       "    .dataframe thead th {\n",
       "        text-align: right;\n",
       "    }\n",
       "</style>\n",
       "<table border=\"1\" class=\"dataframe\">\n",
       "  <thead>\n",
       "    <tr style=\"text-align: right;\">\n",
       "      <th></th>\n",
       "      <th>title</th>\n",
       "      <th>text</th>\n",
       "    </tr>\n",
       "  </thead>\n",
       "  <tbody>\n",
       "    <tr>\n",
       "      <th>0</th>\n",
       "      <td>Житие протопопа Аввакума, им самим написанное</td>\n",
       "      <td>Протопоп Аввакум написал житие по благословени...</td>\n",
       "    </tr>\n",
       "    <tr>\n",
       "      <th>1</th>\n",
       "      <td>Переписка Андрея Курбского с Иваном Грозным</td>\n",
       "      <td>Князь Андрей Курбский — один из лучших воевод ...</td>\n",
       "    </tr>\n",
       "    <tr>\n",
       "      <th>2</th>\n",
       "      <td>Житие Сергия Радонежского</td>\n",
       "      <td>Преподобный Сергий родился в Тверской земле, в...</td>\n",
       "    </tr>\n",
       "    <tr>\n",
       "      <th>3</th>\n",
       "      <td>Повесть о Петре и Февронии Муромских</td>\n",
       "      <td>В городе Муроме правил князь Павел. К его жене...</td>\n",
       "    </tr>\n",
       "    <tr>\n",
       "      <th>4</th>\n",
       "      <td>Моление Даниила Заточника</td>\n",
       "      <td>«Моление», как и многие другие произведения др...</td>\n",
       "    </tr>\n",
       "  </tbody>\n",
       "</table>\n",
       "</div>"
      ]
     },
     "execution_count": 2,
     "metadata": {},
     "output_type": "execute_result"
    }
   ],
   "execution_count": 2
  },
  {
   "metadata": {
    "ExecuteTime": {
     "end_time": "2025-08-26T05:57:44.575307Z",
     "start_time": "2025-08-26T05:57:44.556082Z"
    }
   },
   "cell_type": "code",
   "source": "briefly_data.describe()",
   "id": "558415b390515635",
   "outputs": [
    {
     "data": {
      "text/plain": [
       "                                                title                  text\n",
       "count                                            4355                  4355\n",
       "unique                                           4355                  4232\n",
       "top     Житие протопопа Аввакума, им самим написанное  Описание отсутствует\n",
       "freq                                                1                   124"
      ],
      "text/html": [
       "<div>\n",
       "<style scoped>\n",
       "    .dataframe tbody tr th:only-of-type {\n",
       "        vertical-align: middle;\n",
       "    }\n",
       "\n",
       "    .dataframe tbody tr th {\n",
       "        vertical-align: top;\n",
       "    }\n",
       "\n",
       "    .dataframe thead th {\n",
       "        text-align: right;\n",
       "    }\n",
       "</style>\n",
       "<table border=\"1\" class=\"dataframe\">\n",
       "  <thead>\n",
       "    <tr style=\"text-align: right;\">\n",
       "      <th></th>\n",
       "      <th>title</th>\n",
       "      <th>text</th>\n",
       "    </tr>\n",
       "  </thead>\n",
       "  <tbody>\n",
       "    <tr>\n",
       "      <th>count</th>\n",
       "      <td>4355</td>\n",
       "      <td>4355</td>\n",
       "    </tr>\n",
       "    <tr>\n",
       "      <th>unique</th>\n",
       "      <td>4355</td>\n",
       "      <td>4232</td>\n",
       "    </tr>\n",
       "    <tr>\n",
       "      <th>top</th>\n",
       "      <td>Житие протопопа Аввакума, им самим написанное</td>\n",
       "      <td>Описание отсутствует</td>\n",
       "    </tr>\n",
       "    <tr>\n",
       "      <th>freq</th>\n",
       "      <td>1</td>\n",
       "      <td>124</td>\n",
       "    </tr>\n",
       "  </tbody>\n",
       "</table>\n",
       "</div>"
      ]
     },
     "execution_count": 3,
     "metadata": {},
     "output_type": "execute_result"
    }
   ],
   "execution_count": 3
  },
  {
   "metadata": {
    "ExecuteTime": {
     "end_time": "2025-08-26T05:58:28.310759Z",
     "start_time": "2025-08-26T05:58:28.247573Z"
    }
   },
   "cell_type": "code",
   "source": [
    "briefly_data.title = briefly_data.title.str.lower()\n",
    "briefly_data.text = briefly_data.text.str.lower()\n",
    "briefly_data.head()"
   ],
   "id": "c2e43925bf0cd710",
   "outputs": [
    {
     "data": {
      "text/plain": [
       "                                           title  \\\n",
       "0  житие протопопа аввакума, им самим написанное   \n",
       "1    переписка андрея курбского с иваном грозным   \n",
       "2                      житие сергия радонежского   \n",
       "3           повесть о петре и февронии муромских   \n",
       "4                      моление даниила заточника   \n",
       "\n",
       "                                                text  \n",
       "0  протопоп аввакум написал житие по благословени...  \n",
       "1  князь андрей курбский — один из лучших воевод ...  \n",
       "2  преподобный сергий родился в тверской земле, в...  \n",
       "3  в городе муроме правил князь павел. к его жене...  \n",
       "4  «моление», как и многие другие произведения др...  "
      ],
      "text/html": [
       "<div>\n",
       "<style scoped>\n",
       "    .dataframe tbody tr th:only-of-type {\n",
       "        vertical-align: middle;\n",
       "    }\n",
       "\n",
       "    .dataframe tbody tr th {\n",
       "        vertical-align: top;\n",
       "    }\n",
       "\n",
       "    .dataframe thead th {\n",
       "        text-align: right;\n",
       "    }\n",
       "</style>\n",
       "<table border=\"1\" class=\"dataframe\">\n",
       "  <thead>\n",
       "    <tr style=\"text-align: right;\">\n",
       "      <th></th>\n",
       "      <th>title</th>\n",
       "      <th>text</th>\n",
       "    </tr>\n",
       "  </thead>\n",
       "  <tbody>\n",
       "    <tr>\n",
       "      <th>0</th>\n",
       "      <td>житие протопопа аввакума, им самим написанное</td>\n",
       "      <td>протопоп аввакум написал житие по благословени...</td>\n",
       "    </tr>\n",
       "    <tr>\n",
       "      <th>1</th>\n",
       "      <td>переписка андрея курбского с иваном грозным</td>\n",
       "      <td>князь андрей курбский — один из лучших воевод ...</td>\n",
       "    </tr>\n",
       "    <tr>\n",
       "      <th>2</th>\n",
       "      <td>житие сергия радонежского</td>\n",
       "      <td>преподобный сергий родился в тверской земле, в...</td>\n",
       "    </tr>\n",
       "    <tr>\n",
       "      <th>3</th>\n",
       "      <td>повесть о петре и февронии муромских</td>\n",
       "      <td>в городе муроме правил князь павел. к его жене...</td>\n",
       "    </tr>\n",
       "    <tr>\n",
       "      <th>4</th>\n",
       "      <td>моление даниила заточника</td>\n",
       "      <td>«моление», как и многие другие произведения др...</td>\n",
       "    </tr>\n",
       "  </tbody>\n",
       "</table>\n",
       "</div>"
      ]
     },
     "execution_count": 4,
     "metadata": {},
     "output_type": "execute_result"
    }
   ],
   "execution_count": 4
  },
  {
   "metadata": {
    "ExecuteTime": {
     "end_time": "2025-08-26T05:58:34.624554Z",
     "start_time": "2025-08-26T05:58:34.600909Z"
    }
   },
   "cell_type": "code",
   "source": "briefly_data.describe()",
   "id": "cbb4bb67a85a2055",
   "outputs": [
    {
     "data": {
      "text/plain": [
       "                                                title                  text\n",
       "count                                            4355                  4355\n",
       "unique                                           4355                  4232\n",
       "top     житие протопопа аввакума, им самим написанное  описание отсутствует\n",
       "freq                                                1                   124"
      ],
      "text/html": [
       "<div>\n",
       "<style scoped>\n",
       "    .dataframe tbody tr th:only-of-type {\n",
       "        vertical-align: middle;\n",
       "    }\n",
       "\n",
       "    .dataframe tbody tr th {\n",
       "        vertical-align: top;\n",
       "    }\n",
       "\n",
       "    .dataframe thead th {\n",
       "        text-align: right;\n",
       "    }\n",
       "</style>\n",
       "<table border=\"1\" class=\"dataframe\">\n",
       "  <thead>\n",
       "    <tr style=\"text-align: right;\">\n",
       "      <th></th>\n",
       "      <th>title</th>\n",
       "      <th>text</th>\n",
       "    </tr>\n",
       "  </thead>\n",
       "  <tbody>\n",
       "    <tr>\n",
       "      <th>count</th>\n",
       "      <td>4355</td>\n",
       "      <td>4355</td>\n",
       "    </tr>\n",
       "    <tr>\n",
       "      <th>unique</th>\n",
       "      <td>4355</td>\n",
       "      <td>4232</td>\n",
       "    </tr>\n",
       "    <tr>\n",
       "      <th>top</th>\n",
       "      <td>житие протопопа аввакума, им самим написанное</td>\n",
       "      <td>описание отсутствует</td>\n",
       "    </tr>\n",
       "    <tr>\n",
       "      <th>freq</th>\n",
       "      <td>1</td>\n",
       "      <td>124</td>\n",
       "    </tr>\n",
       "  </tbody>\n",
       "</table>\n",
       "</div>"
      ]
     },
     "execution_count": 5,
     "metadata": {},
     "output_type": "execute_result"
    }
   ],
   "execution_count": 5
  },
  {
   "metadata": {
    "ExecuteTime": {
     "end_time": "2025-08-26T05:58:52.855878Z",
     "start_time": "2025-08-26T05:58:52.847591Z"
    }
   },
   "cell_type": "code",
   "source": "briefly_data.info()",
   "id": "9d4330db38ed5fcd",
   "outputs": [
    {
     "name": "stdout",
     "output_type": "stream",
     "text": [
      "<class 'pandas.core.frame.DataFrame'>\n",
      "RangeIndex: 4355 entries, 0 to 4354\n",
      "Data columns (total 2 columns):\n",
      " #   Column  Non-Null Count  Dtype \n",
      "---  ------  --------------  ----- \n",
      " 0   title   4355 non-null   object\n",
      " 1   text    4355 non-null   object\n",
      "dtypes: object(2)\n",
      "memory usage: 68.2+ KB\n"
     ]
    }
   ],
   "execution_count": 6
  },
  {
   "metadata": {
    "ExecuteTime": {
     "end_time": "2025-08-26T05:59:45.627066Z",
     "start_time": "2025-08-26T05:59:45.618844Z"
    }
   },
   "cell_type": "code",
   "source": [
    "briefly_data = briefly_data[briefly_data.text != \"описание отсутствует\"].reset_index(drop=True)\n",
    "briefly_data.describe()"
   ],
   "id": "defd7aefb5e3f2da",
   "outputs": [
    {
     "data": {
      "text/plain": [
       "                                                title  \\\n",
       "count                                            4231   \n",
       "unique                                           4231   \n",
       "top     житие протопопа аввакума, им самим написанное   \n",
       "freq                                                1   \n",
       "\n",
       "                                                     text  \n",
       "count                                                4231  \n",
       "unique                                               4231  \n",
       "top     протопоп аввакум написал житие по благословени...  \n",
       "freq                                                    1  "
      ],
      "text/html": [
       "<div>\n",
       "<style scoped>\n",
       "    .dataframe tbody tr th:only-of-type {\n",
       "        vertical-align: middle;\n",
       "    }\n",
       "\n",
       "    .dataframe tbody tr th {\n",
       "        vertical-align: top;\n",
       "    }\n",
       "\n",
       "    .dataframe thead th {\n",
       "        text-align: right;\n",
       "    }\n",
       "</style>\n",
       "<table border=\"1\" class=\"dataframe\">\n",
       "  <thead>\n",
       "    <tr style=\"text-align: right;\">\n",
       "      <th></th>\n",
       "      <th>title</th>\n",
       "      <th>text</th>\n",
       "    </tr>\n",
       "  </thead>\n",
       "  <tbody>\n",
       "    <tr>\n",
       "      <th>count</th>\n",
       "      <td>4231</td>\n",
       "      <td>4231</td>\n",
       "    </tr>\n",
       "    <tr>\n",
       "      <th>unique</th>\n",
       "      <td>4231</td>\n",
       "      <td>4231</td>\n",
       "    </tr>\n",
       "    <tr>\n",
       "      <th>top</th>\n",
       "      <td>житие протопопа аввакума, им самим написанное</td>\n",
       "      <td>протопоп аввакум написал житие по благословени...</td>\n",
       "    </tr>\n",
       "    <tr>\n",
       "      <th>freq</th>\n",
       "      <td>1</td>\n",
       "      <td>1</td>\n",
       "    </tr>\n",
       "  </tbody>\n",
       "</table>\n",
       "</div>"
      ]
     },
     "execution_count": 7,
     "metadata": {},
     "output_type": "execute_result"
    }
   ],
   "execution_count": 7
  },
  {
   "metadata": {
    "ExecuteTime": {
     "end_time": "2025-08-26T05:59:57.865473Z",
     "start_time": "2025-08-26T05:59:57.860538Z"
    }
   },
   "cell_type": "code",
   "source": "briefly_data.head()",
   "id": "6fd0316b596cb4dd",
   "outputs": [
    {
     "data": {
      "text/plain": [
       "                                           title  \\\n",
       "0  житие протопопа аввакума, им самим написанное   \n",
       "1    переписка андрея курбского с иваном грозным   \n",
       "2                      житие сергия радонежского   \n",
       "3           повесть о петре и февронии муромских   \n",
       "4                      моление даниила заточника   \n",
       "\n",
       "                                                text  \n",
       "0  протопоп аввакум написал житие по благословени...  \n",
       "1  князь андрей курбский — один из лучших воевод ...  \n",
       "2  преподобный сергий родился в тверской земле, в...  \n",
       "3  в городе муроме правил князь павел. к его жене...  \n",
       "4  «моление», как и многие другие произведения др...  "
      ],
      "text/html": [
       "<div>\n",
       "<style scoped>\n",
       "    .dataframe tbody tr th:only-of-type {\n",
       "        vertical-align: middle;\n",
       "    }\n",
       "\n",
       "    .dataframe tbody tr th {\n",
       "        vertical-align: top;\n",
       "    }\n",
       "\n",
       "    .dataframe thead th {\n",
       "        text-align: right;\n",
       "    }\n",
       "</style>\n",
       "<table border=\"1\" class=\"dataframe\">\n",
       "  <thead>\n",
       "    <tr style=\"text-align: right;\">\n",
       "      <th></th>\n",
       "      <th>title</th>\n",
       "      <th>text</th>\n",
       "    </tr>\n",
       "  </thead>\n",
       "  <tbody>\n",
       "    <tr>\n",
       "      <th>0</th>\n",
       "      <td>житие протопопа аввакума, им самим написанное</td>\n",
       "      <td>протопоп аввакум написал житие по благословени...</td>\n",
       "    </tr>\n",
       "    <tr>\n",
       "      <th>1</th>\n",
       "      <td>переписка андрея курбского с иваном грозным</td>\n",
       "      <td>князь андрей курбский — один из лучших воевод ...</td>\n",
       "    </tr>\n",
       "    <tr>\n",
       "      <th>2</th>\n",
       "      <td>житие сергия радонежского</td>\n",
       "      <td>преподобный сергий родился в тверской земле, в...</td>\n",
       "    </tr>\n",
       "    <tr>\n",
       "      <th>3</th>\n",
       "      <td>повесть о петре и февронии муромских</td>\n",
       "      <td>в городе муроме правил князь павел. к его жене...</td>\n",
       "    </tr>\n",
       "    <tr>\n",
       "      <th>4</th>\n",
       "      <td>моление даниила заточника</td>\n",
       "      <td>«моление», как и многие другие произведения др...</td>\n",
       "    </tr>\n",
       "  </tbody>\n",
       "</table>\n",
       "</div>"
      ]
     },
     "execution_count": 8,
     "metadata": {},
     "output_type": "execute_result"
    }
   ],
   "execution_count": 8
  },
  {
   "metadata": {
    "ExecuteTime": {
     "end_time": "2025-08-26T06:02:46.581909Z",
     "start_time": "2025-08-26T06:02:46.560204Z"
    }
   },
   "cell_type": "code",
   "source": [
    "briefly_data.title = briefly_data.title.str.replace(\" \", \" \")\n",
    "briefly_data.text = briefly_data.text.str.replace(\" \", \" \")"
   ],
   "id": "d3a059d77e0de7ff",
   "outputs": [],
   "execution_count": 9
  },
  {
   "metadata": {
    "ExecuteTime": {
     "end_time": "2025-08-26T06:03:46.753948Z",
     "start_time": "2025-08-26T06:03:46.604207Z"
    }
   },
   "cell_type": "code",
   "source": "briefly_data.to_csv(\"../data/briefly.csv\", index=False)",
   "id": "e665fc73b622eae",
   "outputs": [],
   "execution_count": 13
  },
  {
   "metadata": {
    "ExecuteTime": {
     "end_time": "2025-08-26T06:05:10.630638Z",
     "start_time": "2025-08-26T06:05:05.911553Z"
    }
   },
   "cell_type": "code",
   "source": [
    "all_data = pd.read_csv(\"../data/all_data.csv\")\n",
    "all_data = pd.concat([briefly_data, all_data])\n",
    "all_data.reset_index(drop=True, inplace=True)\n",
    "all_data"
   ],
   "id": "fa269936a5fbf848",
   "outputs": [
    {
     "data": {
      "text/plain": [
       "                                               title  \\\n",
       "0      житие протопопа аввакума, им самим написанное   \n",
       "1        переписка андрея курбского с иваном грозным   \n",
       "2                          житие сергия радонежского   \n",
       "3               повесть о петре и февронии муромских   \n",
       "4                          моление даниила заточника   \n",
       "...                                              ...   \n",
       "31117                                       подтяжки   \n",
       "31118                     как хорошо быть человеком!   \n",
       "31119                                      глава№18.   \n",
       "31120             приложение v к снг-овому словарику   \n",
       "31121                                красивые письма   \n",
       "\n",
       "                                                    text  \n",
       "0      протопоп аввакум написал житие по благословени...  \n",
       "1      князь андрей курбский — один из лучших воевод ...  \n",
       "2      преподобный сергий родился в тверской земле, в...  \n",
       "3      в городе муроме правил князь павел. к его жене...  \n",
       "4      «моление», как и многие другие произведения др...  \n",
       "...                                                  ...  \n",
       "31117  это произошло на именинах. пока жена хлопотала...  \n",
       "31118  в тот вечер я приехал домой рано. припарковавш...  \n",
       "31119  глава№18. [серж юрецкий]  версия для печати ре...  \n",
       "31120  российская демократическая мода 1. демосезонны...  \n",
       "31121  это случай из молодости, когда я дружил со сво...  \n",
       "\n",
       "[31122 rows x 2 columns]"
      ],
      "text/html": [
       "<div>\n",
       "<style scoped>\n",
       "    .dataframe tbody tr th:only-of-type {\n",
       "        vertical-align: middle;\n",
       "    }\n",
       "\n",
       "    .dataframe tbody tr th {\n",
       "        vertical-align: top;\n",
       "    }\n",
       "\n",
       "    .dataframe thead th {\n",
       "        text-align: right;\n",
       "    }\n",
       "</style>\n",
       "<table border=\"1\" class=\"dataframe\">\n",
       "  <thead>\n",
       "    <tr style=\"text-align: right;\">\n",
       "      <th></th>\n",
       "      <th>title</th>\n",
       "      <th>text</th>\n",
       "    </tr>\n",
       "  </thead>\n",
       "  <tbody>\n",
       "    <tr>\n",
       "      <th>0</th>\n",
       "      <td>житие протопопа аввакума, им самим написанное</td>\n",
       "      <td>протопоп аввакум написал житие по благословени...</td>\n",
       "    </tr>\n",
       "    <tr>\n",
       "      <th>1</th>\n",
       "      <td>переписка андрея курбского с иваном грозным</td>\n",
       "      <td>князь андрей курбский — один из лучших воевод ...</td>\n",
       "    </tr>\n",
       "    <tr>\n",
       "      <th>2</th>\n",
       "      <td>житие сергия радонежского</td>\n",
       "      <td>преподобный сергий родился в тверской земле, в...</td>\n",
       "    </tr>\n",
       "    <tr>\n",
       "      <th>3</th>\n",
       "      <td>повесть о петре и февронии муромских</td>\n",
       "      <td>в городе муроме правил князь павел. к его жене...</td>\n",
       "    </tr>\n",
       "    <tr>\n",
       "      <th>4</th>\n",
       "      <td>моление даниила заточника</td>\n",
       "      <td>«моление», как и многие другие произведения др...</td>\n",
       "    </tr>\n",
       "    <tr>\n",
       "      <th>...</th>\n",
       "      <td>...</td>\n",
       "      <td>...</td>\n",
       "    </tr>\n",
       "    <tr>\n",
       "      <th>31117</th>\n",
       "      <td>подтяжки</td>\n",
       "      <td>это произошло на именинах. пока жена хлопотала...</td>\n",
       "    </tr>\n",
       "    <tr>\n",
       "      <th>31118</th>\n",
       "      <td>как хорошо быть человеком!</td>\n",
       "      <td>в тот вечер я приехал домой рано. припарковавш...</td>\n",
       "    </tr>\n",
       "    <tr>\n",
       "      <th>31119</th>\n",
       "      <td>глава№18.</td>\n",
       "      <td>глава№18. [серж юрецкий]  версия для печати ре...</td>\n",
       "    </tr>\n",
       "    <tr>\n",
       "      <th>31120</th>\n",
       "      <td>приложение v к снг-овому словарику</td>\n",
       "      <td>российская демократическая мода 1. демосезонны...</td>\n",
       "    </tr>\n",
       "    <tr>\n",
       "      <th>31121</th>\n",
       "      <td>красивые письма</td>\n",
       "      <td>это случай из молодости, когда я дружил со сво...</td>\n",
       "    </tr>\n",
       "  </tbody>\n",
       "</table>\n",
       "<p>31122 rows × 2 columns</p>\n",
       "</div>"
      ]
     },
     "execution_count": 14,
     "metadata": {},
     "output_type": "execute_result"
    }
   ],
   "execution_count": 14
  },
  {
   "metadata": {
    "ExecuteTime": {
     "end_time": "2025-08-26T06:08:07.799348Z",
     "start_time": "2025-08-26T06:08:07.783489Z"
    }
   },
   "cell_type": "code",
   "source": [
    "all_data = all_data.sample(frac=1).reset_index(drop=True)\n",
    "all_data"
   ],
   "id": "165c2f707020ec36",
   "outputs": [
    {
     "data": {
      "text/plain": [
       "                                                   title  \\\n",
       "0                                     время - октябрь...   \n",
       "1                                              переписка   \n",
       "2      айвенго (спектакль) часть 3-я. ричард – львино...   \n",
       "3                                               калевала   \n",
       "4           янки из коннектикута при дворе короля артура   \n",
       "...                                                  ...   \n",
       "31117                                         что бывало   \n",
       "31118                                         сон макара   \n",
       "31119                   финал. золотое солнце правосудия   \n",
       "31120                                  святочные истории   \n",
       "31121                           краткий снговый словарик   \n",
       "\n",
       "                                                    text  \n",
       "0      ­­… сказки осенних вечеров ...  монохромные во...  \n",
       "1      здравствуйте, вы установили мессенджер max, по...  \n",
       "2      радиоспектакль по роману.англия времен царство...  \n",
       "3      где можно найти наиболее полный литературный о...  \n",
       "4      новый, адаптированный перевод алексея козлова ...  \n",
       "...                                                  ...  \n",
       "31117  борис житков увлекался астрономией и фотографи...  \n",
       "31118  «этот сон видел бедный макар, который загнал с...  \n",
       "31119  раннее утро предвещало жаркий день. солнечные ...  \n",
       "31120  святки – удивительный период времени: один год...  \n",
       "31121  авантюрист - передовой юрист бредакция - руков...  \n",
       "\n",
       "[31122 rows x 2 columns]"
      ],
      "text/html": [
       "<div>\n",
       "<style scoped>\n",
       "    .dataframe tbody tr th:only-of-type {\n",
       "        vertical-align: middle;\n",
       "    }\n",
       "\n",
       "    .dataframe tbody tr th {\n",
       "        vertical-align: top;\n",
       "    }\n",
       "\n",
       "    .dataframe thead th {\n",
       "        text-align: right;\n",
       "    }\n",
       "</style>\n",
       "<table border=\"1\" class=\"dataframe\">\n",
       "  <thead>\n",
       "    <tr style=\"text-align: right;\">\n",
       "      <th></th>\n",
       "      <th>title</th>\n",
       "      <th>text</th>\n",
       "    </tr>\n",
       "  </thead>\n",
       "  <tbody>\n",
       "    <tr>\n",
       "      <th>0</th>\n",
       "      <td>время - октябрь...</td>\n",
       "      <td>­­… сказки осенних вечеров ...  монохромные во...</td>\n",
       "    </tr>\n",
       "    <tr>\n",
       "      <th>1</th>\n",
       "      <td>переписка</td>\n",
       "      <td>здравствуйте, вы установили мессенджер max, по...</td>\n",
       "    </tr>\n",
       "    <tr>\n",
       "      <th>2</th>\n",
       "      <td>айвенго (спектакль) часть 3-я. ричард – львино...</td>\n",
       "      <td>радиоспектакль по роману.англия времен царство...</td>\n",
       "    </tr>\n",
       "    <tr>\n",
       "      <th>3</th>\n",
       "      <td>калевала</td>\n",
       "      <td>где можно найти наиболее полный литературный о...</td>\n",
       "    </tr>\n",
       "    <tr>\n",
       "      <th>4</th>\n",
       "      <td>янки из коннектикута при дворе короля артура</td>\n",
       "      <td>новый, адаптированный перевод алексея козлова ...</td>\n",
       "    </tr>\n",
       "    <tr>\n",
       "      <th>...</th>\n",
       "      <td>...</td>\n",
       "      <td>...</td>\n",
       "    </tr>\n",
       "    <tr>\n",
       "      <th>31117</th>\n",
       "      <td>что бывало</td>\n",
       "      <td>борис житков увлекался астрономией и фотографи...</td>\n",
       "    </tr>\n",
       "    <tr>\n",
       "      <th>31118</th>\n",
       "      <td>сон макара</td>\n",
       "      <td>«этот сон видел бедный макар, который загнал с...</td>\n",
       "    </tr>\n",
       "    <tr>\n",
       "      <th>31119</th>\n",
       "      <td>финал. золотое солнце правосудия</td>\n",
       "      <td>раннее утро предвещало жаркий день. солнечные ...</td>\n",
       "    </tr>\n",
       "    <tr>\n",
       "      <th>31120</th>\n",
       "      <td>святочные истории</td>\n",
       "      <td>святки – удивительный период времени: один год...</td>\n",
       "    </tr>\n",
       "    <tr>\n",
       "      <th>31121</th>\n",
       "      <td>краткий снговый словарик</td>\n",
       "      <td>авантюрист - передовой юрист бредакция - руков...</td>\n",
       "    </tr>\n",
       "  </tbody>\n",
       "</table>\n",
       "<p>31122 rows × 2 columns</p>\n",
       "</div>"
      ]
     },
     "execution_count": 16,
     "metadata": {},
     "output_type": "execute_result"
    }
   ],
   "execution_count": 16
  },
  {
   "metadata": {
    "ExecuteTime": {
     "end_time": "2025-08-26T06:08:35.377082Z",
     "start_time": "2025-08-26T06:08:31.603259Z"
    }
   },
   "cell_type": "code",
   "source": "all_data.to_csv(\"../data/all_data.csv\", index=False)",
   "id": "c1aff8252d31e4ed",
   "outputs": [],
   "execution_count": 17
  },
  {
   "metadata": {},
   "cell_type": "code",
   "outputs": [],
   "execution_count": null,
   "source": "",
   "id": "29009179daec148"
  }
 ],
 "metadata": {
  "kernelspec": {
   "display_name": "Python 3",
   "language": "python",
   "name": "python3"
  },
  "language_info": {
   "codemirror_mode": {
    "name": "ipython",
    "version": 2
   },
   "file_extension": ".py",
   "mimetype": "text/x-python",
   "name": "python",
   "nbconvert_exporter": "python",
   "pygments_lexer": "ipython2",
   "version": "2.7.6"
  }
 },
 "nbformat": 4,
 "nbformat_minor": 5
}
