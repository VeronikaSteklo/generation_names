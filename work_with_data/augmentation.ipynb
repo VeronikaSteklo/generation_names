{
 "cells": [
  {
   "metadata": {},
   "cell_type": "markdown",
   "source": "# Аугументация датасета, состоящего из данных с сайтов: Проза.ру, ЛитПричал, Брифли, Литрес",
   "id": "6470a3f17c036ab9"
  },
  {
   "cell_type": "code",
   "id": "initial_id",
   "metadata": {
    "collapsed": true,
    "ExecuteTime": {
     "end_time": "2025-08-29T05:53:19.851946Z",
     "start_time": "2025-08-29T05:53:19.103220Z"
    }
   },
   "source": [
    "import re\n",
    "\n",
    "import pandas as pd\n",
    "import nltk\n",
    "nltk.download(\"punkt\")\n",
    "\n",
    "from nltk.tokenize import sent_tokenize"
   ],
   "outputs": [
    {
     "name": "stderr",
     "output_type": "stream",
     "text": [
      "[nltk_data] Downloading package punkt to\n",
      "[nltk_data]     /Users/veronika_steklo/nltk_data...\n",
      "[nltk_data]   Package punkt is already up-to-date!\n"
     ]
    }
   ],
   "execution_count": 76
  },
  {
   "metadata": {
    "ExecuteTime": {
     "end_time": "2025-08-28T17:04:56.104979Z",
     "start_time": "2025-08-28T17:04:51.008373Z"
    }
   },
   "cell_type": "code",
   "source": "dataset = pd.read_csv(\"../data/all_data.csv\")",
   "id": "2ff2525546518ea2",
   "outputs": [],
   "execution_count": 41
  },
  {
   "metadata": {
    "ExecuteTime": {
     "end_time": "2025-08-28T17:04:56.267446Z",
     "start_time": "2025-08-28T17:04:56.108701Z"
    }
   },
   "cell_type": "code",
   "source": "dataset.describe()",
   "id": "45bb2f2da88c2c79",
   "outputs": [
    {
     "data": {
      "text/plain": [
       "                                     title  \\\n",
       "count                                31122   \n",
       "unique                               28839   \n",
       "top     латырь-камень бел-горюч... сказка?   \n",
       "freq                                    38   \n",
       "\n",
       "                                                     text  \n",
       "count                                               31101  \n",
       "unique                                              30640  \n",
       "top     ; ; «энцикловикипедия»- -имена. посвящается ми...  \n",
       "freq                                                   38  "
      ],
      "text/html": [
       "<div>\n",
       "<style scoped>\n",
       "    .dataframe tbody tr th:only-of-type {\n",
       "        vertical-align: middle;\n",
       "    }\n",
       "\n",
       "    .dataframe tbody tr th {\n",
       "        vertical-align: top;\n",
       "    }\n",
       "\n",
       "    .dataframe thead th {\n",
       "        text-align: right;\n",
       "    }\n",
       "</style>\n",
       "<table border=\"1\" class=\"dataframe\">\n",
       "  <thead>\n",
       "    <tr style=\"text-align: right;\">\n",
       "      <th></th>\n",
       "      <th>title</th>\n",
       "      <th>text</th>\n",
       "    </tr>\n",
       "  </thead>\n",
       "  <tbody>\n",
       "    <tr>\n",
       "      <th>count</th>\n",
       "      <td>31122</td>\n",
       "      <td>31101</td>\n",
       "    </tr>\n",
       "    <tr>\n",
       "      <th>unique</th>\n",
       "      <td>28839</td>\n",
       "      <td>30640</td>\n",
       "    </tr>\n",
       "    <tr>\n",
       "      <th>top</th>\n",
       "      <td>латырь-камень бел-горюч... сказка?</td>\n",
       "      <td>; ; «энцикловикипедия»- -имена. посвящается ми...</td>\n",
       "    </tr>\n",
       "    <tr>\n",
       "      <th>freq</th>\n",
       "      <td>38</td>\n",
       "      <td>38</td>\n",
       "    </tr>\n",
       "  </tbody>\n",
       "</table>\n",
       "</div>"
      ]
     },
     "execution_count": 42,
     "metadata": {},
     "output_type": "execute_result"
    }
   ],
   "execution_count": 42
  },
  {
   "metadata": {
    "ExecuteTime": {
     "end_time": "2025-08-28T17:04:56.279332Z",
     "start_time": "2025-08-28T17:04:56.273980Z"
    }
   },
   "cell_type": "code",
   "source": "dataset.dropna(inplace=True)",
   "id": "f8b7b06e668d7105",
   "outputs": [],
   "execution_count": 43
  },
  {
   "metadata": {
    "ExecuteTime": {
     "end_time": "2025-08-28T17:04:56.302525Z",
     "start_time": "2025-08-28T17:04:56.284375Z"
    }
   },
   "cell_type": "code",
   "source": "dataset.describe()",
   "id": "57fd887ac6cb3da5",
   "outputs": [
    {
     "data": {
      "text/plain": [
       "                     title                                               text\n",
       "count                31101                                              31101\n",
       "unique               28818                                              30640\n",
       "top     из жизни графомана  ; ; «энцикловикипедия»- -имена. посвящается ми...\n",
       "freq                    38                                                 38"
      ],
      "text/html": [
       "<div>\n",
       "<style scoped>\n",
       "    .dataframe tbody tr th:only-of-type {\n",
       "        vertical-align: middle;\n",
       "    }\n",
       "\n",
       "    .dataframe tbody tr th {\n",
       "        vertical-align: top;\n",
       "    }\n",
       "\n",
       "    .dataframe thead th {\n",
       "        text-align: right;\n",
       "    }\n",
       "</style>\n",
       "<table border=\"1\" class=\"dataframe\">\n",
       "  <thead>\n",
       "    <tr style=\"text-align: right;\">\n",
       "      <th></th>\n",
       "      <th>title</th>\n",
       "      <th>text</th>\n",
       "    </tr>\n",
       "  </thead>\n",
       "  <tbody>\n",
       "    <tr>\n",
       "      <th>count</th>\n",
       "      <td>31101</td>\n",
       "      <td>31101</td>\n",
       "    </tr>\n",
       "    <tr>\n",
       "      <th>unique</th>\n",
       "      <td>28818</td>\n",
       "      <td>30640</td>\n",
       "    </tr>\n",
       "    <tr>\n",
       "      <th>top</th>\n",
       "      <td>из жизни графомана</td>\n",
       "      <td>; ; «энцикловикипедия»- -имена. посвящается ми...</td>\n",
       "    </tr>\n",
       "    <tr>\n",
       "      <th>freq</th>\n",
       "      <td>38</td>\n",
       "      <td>38</td>\n",
       "    </tr>\n",
       "  </tbody>\n",
       "</table>\n",
       "</div>"
      ]
     },
     "execution_count": 44,
     "metadata": {},
     "output_type": "execute_result"
    }
   ],
   "execution_count": 44
  },
  {
   "metadata": {
    "ExecuteTime": {
     "end_time": "2025-08-28T17:04:56.325104Z",
     "start_time": "2025-08-28T17:04:56.307630Z"
    }
   },
   "cell_type": "code",
   "source": [
    "dataset = dataset[dataset.text != \"\"].reset_index(drop=True)\n",
    "dataset.describe()"
   ],
   "id": "857ef79f0d64dea",
   "outputs": [
    {
     "data": {
      "text/plain": [
       "                     title                                               text\n",
       "count                31101                                              31101\n",
       "unique               28818                                              30640\n",
       "top     из жизни графомана  ; ; «энцикловикипедия»- -имена. посвящается ми...\n",
       "freq                    38                                                 38"
      ],
      "text/html": [
       "<div>\n",
       "<style scoped>\n",
       "    .dataframe tbody tr th:only-of-type {\n",
       "        vertical-align: middle;\n",
       "    }\n",
       "\n",
       "    .dataframe tbody tr th {\n",
       "        vertical-align: top;\n",
       "    }\n",
       "\n",
       "    .dataframe thead th {\n",
       "        text-align: right;\n",
       "    }\n",
       "</style>\n",
       "<table border=\"1\" class=\"dataframe\">\n",
       "  <thead>\n",
       "    <tr style=\"text-align: right;\">\n",
       "      <th></th>\n",
       "      <th>title</th>\n",
       "      <th>text</th>\n",
       "    </tr>\n",
       "  </thead>\n",
       "  <tbody>\n",
       "    <tr>\n",
       "      <th>count</th>\n",
       "      <td>31101</td>\n",
       "      <td>31101</td>\n",
       "    </tr>\n",
       "    <tr>\n",
       "      <th>unique</th>\n",
       "      <td>28818</td>\n",
       "      <td>30640</td>\n",
       "    </tr>\n",
       "    <tr>\n",
       "      <th>top</th>\n",
       "      <td>из жизни графомана</td>\n",
       "      <td>; ; «энцикловикипедия»- -имена. посвящается ми...</td>\n",
       "    </tr>\n",
       "    <tr>\n",
       "      <th>freq</th>\n",
       "      <td>38</td>\n",
       "      <td>38</td>\n",
       "    </tr>\n",
       "  </tbody>\n",
       "</table>\n",
       "</div>"
      ]
     },
     "execution_count": 45,
     "metadata": {},
     "output_type": "execute_result"
    }
   ],
   "execution_count": 45
  },
  {
   "metadata": {
    "ExecuteTime": {
     "end_time": "2025-08-28T17:04:57.962800Z",
     "start_time": "2025-08-28T17:04:56.328237Z"
    }
   },
   "cell_type": "code",
   "source": "dataset[dataset.duplicated(keep=False)]",
   "id": "825c209fa231ab53",
   "outputs": [
    {
     "data": {
      "text/plain": [
       "                                          title  \\\n",
       "28           латырь-камень бел-горюч... сказка?   \n",
       "40       на распутина мессмера серебряного века   \n",
       "146                  энцикловикипедия. топонимы   \n",
       "251    три поколения швондеров и мы выбираем...   \n",
       "258           просыпаюсь, а ты рядом! дню семьи   \n",
       "...                                         ...   \n",
       "30682        таёжный глаз шерхана с гарью каина   \n",
       "30871                   энцикловикипедия. имена   \n",
       "30970         просыпаюсь, а ты рядом! дню семьи   \n",
       "31011                   корнеслов. история слов   \n",
       "31017                        из жизни графомана   \n",
       "\n",
       "                                                    text  \n",
       "28     домашняя диссертация любознательного обывателя...  \n",
       "40     \"распутин в кровавом поту молился и спасал\" пи...  \n",
       "146    ; «энцикловикипедия». топонимы. история соврем...  \n",
       "251    в повести булгакова \"собачье сердце\" есть домо...  \n",
       "258    постоянное место публикации:  сборник \"о любви...  \n",
       "...                                                  ...  \n",
       "30682  она заступалась за коллективного папика, подош...  \n",
       "30871  ; ; «энцикловикипедия»- -имена. посвящается ми...  \n",
       "30970  постоянное место публикации:  сборник \"о любви...  \n",
       "31011  ; ; -история слов. «энцикловикипедия» посвящае...  \n",
       "31017  время скачет как ненормальное,  ребята. ладно ...  \n",
       "\n",
       "[457 rows x 2 columns]"
      ],
      "text/html": [
       "<div>\n",
       "<style scoped>\n",
       "    .dataframe tbody tr th:only-of-type {\n",
       "        vertical-align: middle;\n",
       "    }\n",
       "\n",
       "    .dataframe tbody tr th {\n",
       "        vertical-align: top;\n",
       "    }\n",
       "\n",
       "    .dataframe thead th {\n",
       "        text-align: right;\n",
       "    }\n",
       "</style>\n",
       "<table border=\"1\" class=\"dataframe\">\n",
       "  <thead>\n",
       "    <tr style=\"text-align: right;\">\n",
       "      <th></th>\n",
       "      <th>title</th>\n",
       "      <th>text</th>\n",
       "    </tr>\n",
       "  </thead>\n",
       "  <tbody>\n",
       "    <tr>\n",
       "      <th>28</th>\n",
       "      <td>латырь-камень бел-горюч... сказка?</td>\n",
       "      <td>домашняя диссертация любознательного обывателя...</td>\n",
       "    </tr>\n",
       "    <tr>\n",
       "      <th>40</th>\n",
       "      <td>на распутина мессмера серебряного века</td>\n",
       "      <td>\"распутин в кровавом поту молился и спасал\" пи...</td>\n",
       "    </tr>\n",
       "    <tr>\n",
       "      <th>146</th>\n",
       "      <td>энцикловикипедия. топонимы</td>\n",
       "      <td>; «энцикловикипедия». топонимы. история соврем...</td>\n",
       "    </tr>\n",
       "    <tr>\n",
       "      <th>251</th>\n",
       "      <td>три поколения швондеров и мы выбираем...</td>\n",
       "      <td>в повести булгакова \"собачье сердце\" есть домо...</td>\n",
       "    </tr>\n",
       "    <tr>\n",
       "      <th>258</th>\n",
       "      <td>просыпаюсь, а ты рядом! дню семьи</td>\n",
       "      <td>постоянное место публикации:  сборник \"о любви...</td>\n",
       "    </tr>\n",
       "    <tr>\n",
       "      <th>...</th>\n",
       "      <td>...</td>\n",
       "      <td>...</td>\n",
       "    </tr>\n",
       "    <tr>\n",
       "      <th>30682</th>\n",
       "      <td>таёжный глаз шерхана с гарью каина</td>\n",
       "      <td>она заступалась за коллективного папика, подош...</td>\n",
       "    </tr>\n",
       "    <tr>\n",
       "      <th>30871</th>\n",
       "      <td>энцикловикипедия. имена</td>\n",
       "      <td>; ; «энцикловикипедия»- -имена. посвящается ми...</td>\n",
       "    </tr>\n",
       "    <tr>\n",
       "      <th>30970</th>\n",
       "      <td>просыпаюсь, а ты рядом! дню семьи</td>\n",
       "      <td>постоянное место публикации:  сборник \"о любви...</td>\n",
       "    </tr>\n",
       "    <tr>\n",
       "      <th>31011</th>\n",
       "      <td>корнеслов. история слов</td>\n",
       "      <td>; ; -история слов. «энцикловикипедия» посвящае...</td>\n",
       "    </tr>\n",
       "    <tr>\n",
       "      <th>31017</th>\n",
       "      <td>из жизни графомана</td>\n",
       "      <td>время скачет как ненормальное,  ребята. ладно ...</td>\n",
       "    </tr>\n",
       "  </tbody>\n",
       "</table>\n",
       "<p>457 rows × 2 columns</p>\n",
       "</div>"
      ]
     },
     "execution_count": 46,
     "metadata": {},
     "output_type": "execute_result"
    }
   ],
   "execution_count": 46
  },
  {
   "metadata": {
    "ExecuteTime": {
     "end_time": "2025-08-28T17:04:57.972009Z",
     "start_time": "2025-08-28T17:04:57.966892Z"
    }
   },
   "cell_type": "code",
   "source": "dataset[dataset.text == \"описание отсутствует\"]",
   "id": "baccf9a934fa5334",
   "outputs": [
    {
     "data": {
      "text/plain": [
       "Empty DataFrame\n",
       "Columns: [title, text]\n",
       "Index: []"
      ],
      "text/html": [
       "<div>\n",
       "<style scoped>\n",
       "    .dataframe tbody tr th:only-of-type {\n",
       "        vertical-align: middle;\n",
       "    }\n",
       "\n",
       "    .dataframe tbody tr th {\n",
       "        vertical-align: top;\n",
       "    }\n",
       "\n",
       "    .dataframe thead th {\n",
       "        text-align: right;\n",
       "    }\n",
       "</style>\n",
       "<table border=\"1\" class=\"dataframe\">\n",
       "  <thead>\n",
       "    <tr style=\"text-align: right;\">\n",
       "      <th></th>\n",
       "      <th>title</th>\n",
       "      <th>text</th>\n",
       "    </tr>\n",
       "  </thead>\n",
       "  <tbody>\n",
       "  </tbody>\n",
       "</table>\n",
       "</div>"
      ]
     },
     "execution_count": 47,
     "metadata": {},
     "output_type": "execute_result"
    }
   ],
   "execution_count": 47
  },
  {
   "metadata": {
    "ExecuteTime": {
     "end_time": "2025-08-28T17:04:59.078576Z",
     "start_time": "2025-08-28T17:04:57.976801Z"
    }
   },
   "cell_type": "code",
   "source": "dataset = dataset.drop_duplicates()",
   "id": "bb265b8462ed2dab",
   "outputs": [],
   "execution_count": 48
  },
  {
   "metadata": {
    "ExecuteTime": {
     "end_time": "2025-08-28T17:04:59.098519Z",
     "start_time": "2025-08-28T17:04:59.082016Z"
    }
   },
   "cell_type": "code",
   "source": "dataset.describe()",
   "id": "9b03d47eeb88f7d",
   "outputs": [
    {
     "data": {
      "text/plain": [
       "        title   text\n",
       "count   30679  30679\n",
       "unique  28818  30640\n",
       "top       ***      ­\n",
       "freq       20     19"
      ],
      "text/html": [
       "<div>\n",
       "<style scoped>\n",
       "    .dataframe tbody tr th:only-of-type {\n",
       "        vertical-align: middle;\n",
       "    }\n",
       "\n",
       "    .dataframe tbody tr th {\n",
       "        vertical-align: top;\n",
       "    }\n",
       "\n",
       "    .dataframe thead th {\n",
       "        text-align: right;\n",
       "    }\n",
       "</style>\n",
       "<table border=\"1\" class=\"dataframe\">\n",
       "  <thead>\n",
       "    <tr style=\"text-align: right;\">\n",
       "      <th></th>\n",
       "      <th>title</th>\n",
       "      <th>text</th>\n",
       "    </tr>\n",
       "  </thead>\n",
       "  <tbody>\n",
       "    <tr>\n",
       "      <th>count</th>\n",
       "      <td>30679</td>\n",
       "      <td>30679</td>\n",
       "    </tr>\n",
       "    <tr>\n",
       "      <th>unique</th>\n",
       "      <td>28818</td>\n",
       "      <td>30640</td>\n",
       "    </tr>\n",
       "    <tr>\n",
       "      <th>top</th>\n",
       "      <td>***</td>\n",
       "      <td>­</td>\n",
       "    </tr>\n",
       "    <tr>\n",
       "      <th>freq</th>\n",
       "      <td>20</td>\n",
       "      <td>19</td>\n",
       "    </tr>\n",
       "  </tbody>\n",
       "</table>\n",
       "</div>"
      ]
     },
     "execution_count": 49,
     "metadata": {},
     "output_type": "execute_result"
    }
   ],
   "execution_count": 49
  },
  {
   "metadata": {
    "ExecuteTime": {
     "end_time": "2025-08-28T17:04:59.105245Z",
     "start_time": "2025-08-28T17:04:59.101864Z"
    }
   },
   "cell_type": "code",
   "source": "dataset.loc[195].text",
   "id": "742262c6c5fa766c",
   "outputs": [
    {
     "data": {
      "text/plain": [
       "'\\xad'"
      ]
     },
     "execution_count": 50,
     "metadata": {},
     "output_type": "execute_result"
    }
   ],
   "execution_count": 50
  },
  {
   "metadata": {
    "ExecuteTime": {
     "end_time": "2025-08-28T17:04:59.117966Z",
     "start_time": "2025-08-28T17:04:59.112907Z"
    }
   },
   "cell_type": "code",
   "source": "dataset = dataset[dataset.text != \"\\xad\"].reset_index(drop=True)",
   "id": "abecf997b955b05c",
   "outputs": [],
   "execution_count": 51
  },
  {
   "metadata": {
    "ExecuteTime": {
     "end_time": "2025-08-28T17:04:59.137988Z",
     "start_time": "2025-08-28T17:04:59.124649Z"
    }
   },
   "cell_type": "code",
   "source": "dataset.describe()",
   "id": "b9bf2184091b452d",
   "outputs": [
    {
     "data": {
      "text/plain": [
       "        title                                               text\n",
       "count   30660                                              30660\n",
       "unique  28800                                              30639\n",
       "top       ***  стихотворение ищите в рецензии, поскольку тата...\n",
       "freq       20                                                  4"
      ],
      "text/html": [
       "<div>\n",
       "<style scoped>\n",
       "    .dataframe tbody tr th:only-of-type {\n",
       "        vertical-align: middle;\n",
       "    }\n",
       "\n",
       "    .dataframe tbody tr th {\n",
       "        vertical-align: top;\n",
       "    }\n",
       "\n",
       "    .dataframe thead th {\n",
       "        text-align: right;\n",
       "    }\n",
       "</style>\n",
       "<table border=\"1\" class=\"dataframe\">\n",
       "  <thead>\n",
       "    <tr style=\"text-align: right;\">\n",
       "      <th></th>\n",
       "      <th>title</th>\n",
       "      <th>text</th>\n",
       "    </tr>\n",
       "  </thead>\n",
       "  <tbody>\n",
       "    <tr>\n",
       "      <th>count</th>\n",
       "      <td>30660</td>\n",
       "      <td>30660</td>\n",
       "    </tr>\n",
       "    <tr>\n",
       "      <th>unique</th>\n",
       "      <td>28800</td>\n",
       "      <td>30639</td>\n",
       "    </tr>\n",
       "    <tr>\n",
       "      <th>top</th>\n",
       "      <td>***</td>\n",
       "      <td>стихотворение ищите в рецензии, поскольку тата...</td>\n",
       "    </tr>\n",
       "    <tr>\n",
       "      <th>freq</th>\n",
       "      <td>20</td>\n",
       "      <td>4</td>\n",
       "    </tr>\n",
       "  </tbody>\n",
       "</table>\n",
       "</div>"
      ]
     },
     "execution_count": 52,
     "metadata": {},
     "output_type": "execute_result"
    }
   ],
   "execution_count": 52
  },
  {
   "metadata": {
    "ExecuteTime": {
     "end_time": "2025-08-28T17:04:59.152329Z",
     "start_time": "2025-08-28T17:04:59.147883Z"
    }
   },
   "cell_type": "code",
   "source": "dataset = dataset[~dataset.duplicated(subset=[\"text\"], keep=False)]",
   "id": "ccbd331647c9b09",
   "outputs": [],
   "execution_count": 53
  },
  {
   "metadata": {
    "ExecuteTime": {
     "end_time": "2025-08-28T17:04:59.169085Z",
     "start_time": "2025-08-28T17:04:59.156316Z"
    }
   },
   "cell_type": "code",
   "source": "dataset.describe()",
   "id": "53dc6ec363f24843",
   "outputs": [
    {
     "data": {
      "text/plain": [
       "        title                                               text\n",
       "count   30623                                              30623\n",
       "unique  28763                                              30623\n",
       "top       ***  ­­… сказки осенних вечеров ...  монохромные во...\n",
       "freq       20                                                  1"
      ],
      "text/html": [
       "<div>\n",
       "<style scoped>\n",
       "    .dataframe tbody tr th:only-of-type {\n",
       "        vertical-align: middle;\n",
       "    }\n",
       "\n",
       "    .dataframe tbody tr th {\n",
       "        vertical-align: top;\n",
       "    }\n",
       "\n",
       "    .dataframe thead th {\n",
       "        text-align: right;\n",
       "    }\n",
       "</style>\n",
       "<table border=\"1\" class=\"dataframe\">\n",
       "  <thead>\n",
       "    <tr style=\"text-align: right;\">\n",
       "      <th></th>\n",
       "      <th>title</th>\n",
       "      <th>text</th>\n",
       "    </tr>\n",
       "  </thead>\n",
       "  <tbody>\n",
       "    <tr>\n",
       "      <th>count</th>\n",
       "      <td>30623</td>\n",
       "      <td>30623</td>\n",
       "    </tr>\n",
       "    <tr>\n",
       "      <th>unique</th>\n",
       "      <td>28763</td>\n",
       "      <td>30623</td>\n",
       "    </tr>\n",
       "    <tr>\n",
       "      <th>top</th>\n",
       "      <td>***</td>\n",
       "      <td>­­… сказки осенних вечеров ...  монохромные во...</td>\n",
       "    </tr>\n",
       "    <tr>\n",
       "      <th>freq</th>\n",
       "      <td>20</td>\n",
       "      <td>1</td>\n",
       "    </tr>\n",
       "  </tbody>\n",
       "</table>\n",
       "</div>"
      ]
     },
     "execution_count": 54,
     "metadata": {},
     "output_type": "execute_result"
    }
   ],
   "execution_count": 54
  },
  {
   "metadata": {
    "ExecuteTime": {
     "end_time": "2025-08-28T17:05:32.536898Z",
     "start_time": "2025-08-28T17:05:32.534334Z"
    }
   },
   "cell_type": "code",
   "source": "dataset.reset_index(drop=True, inplace=True)",
   "id": "e30ce0689e01293b",
   "outputs": [],
   "execution_count": 56
  },
  {
   "metadata": {
    "ExecuteTime": {
     "end_time": "2025-08-28T17:05:34.791356Z",
     "start_time": "2025-08-28T17:05:34.785204Z"
    }
   },
   "cell_type": "code",
   "source": "dataset",
   "id": "6f3f000648a11b09",
   "outputs": [
    {
     "data": {
      "text/plain": [
       "                                                   title  \\\n",
       "0                                     время - октябрь...   \n",
       "1                                              переписка   \n",
       "2      айвенго (спектакль) часть 3-я. ричард – львино...   \n",
       "3                                               калевала   \n",
       "4           янки из коннектикута при дворе короля артура   \n",
       "...                                                  ...   \n",
       "30618                                         что бывало   \n",
       "30619                                         сон макара   \n",
       "30620                   финал. золотое солнце правосудия   \n",
       "30621                                  святочные истории   \n",
       "30622                           краткий снговый словарик   \n",
       "\n",
       "                                                    text  \n",
       "0      ­­… сказки осенних вечеров ...  монохромные во...  \n",
       "1      здравствуйте, вы установили мессенджер max, по...  \n",
       "2      радиоспектакль по роману.англия времен царство...  \n",
       "3      где можно найти наиболее полный литературный о...  \n",
       "4      новый, адаптированный перевод алексея козлова ...  \n",
       "...                                                  ...  \n",
       "30618  борис житков увлекался астрономией и фотографи...  \n",
       "30619  «этот сон видел бедный макар, который загнал с...  \n",
       "30620  раннее утро предвещало жаркий день. солнечные ...  \n",
       "30621  святки – удивительный период времени: один год...  \n",
       "30622  авантюрист - передовой юрист бредакция - руков...  \n",
       "\n",
       "[30623 rows x 2 columns]"
      ],
      "text/html": [
       "<div>\n",
       "<style scoped>\n",
       "    .dataframe tbody tr th:only-of-type {\n",
       "        vertical-align: middle;\n",
       "    }\n",
       "\n",
       "    .dataframe tbody tr th {\n",
       "        vertical-align: top;\n",
       "    }\n",
       "\n",
       "    .dataframe thead th {\n",
       "        text-align: right;\n",
       "    }\n",
       "</style>\n",
       "<table border=\"1\" class=\"dataframe\">\n",
       "  <thead>\n",
       "    <tr style=\"text-align: right;\">\n",
       "      <th></th>\n",
       "      <th>title</th>\n",
       "      <th>text</th>\n",
       "    </tr>\n",
       "  </thead>\n",
       "  <tbody>\n",
       "    <tr>\n",
       "      <th>0</th>\n",
       "      <td>время - октябрь...</td>\n",
       "      <td>­­… сказки осенних вечеров ...  монохромные во...</td>\n",
       "    </tr>\n",
       "    <tr>\n",
       "      <th>1</th>\n",
       "      <td>переписка</td>\n",
       "      <td>здравствуйте, вы установили мессенджер max, по...</td>\n",
       "    </tr>\n",
       "    <tr>\n",
       "      <th>2</th>\n",
       "      <td>айвенго (спектакль) часть 3-я. ричард – львино...</td>\n",
       "      <td>радиоспектакль по роману.англия времен царство...</td>\n",
       "    </tr>\n",
       "    <tr>\n",
       "      <th>3</th>\n",
       "      <td>калевала</td>\n",
       "      <td>где можно найти наиболее полный литературный о...</td>\n",
       "    </tr>\n",
       "    <tr>\n",
       "      <th>4</th>\n",
       "      <td>янки из коннектикута при дворе короля артура</td>\n",
       "      <td>новый, адаптированный перевод алексея козлова ...</td>\n",
       "    </tr>\n",
       "    <tr>\n",
       "      <th>...</th>\n",
       "      <td>...</td>\n",
       "      <td>...</td>\n",
       "    </tr>\n",
       "    <tr>\n",
       "      <th>30618</th>\n",
       "      <td>что бывало</td>\n",
       "      <td>борис житков увлекался астрономией и фотографи...</td>\n",
       "    </tr>\n",
       "    <tr>\n",
       "      <th>30619</th>\n",
       "      <td>сон макара</td>\n",
       "      <td>«этот сон видел бедный макар, который загнал с...</td>\n",
       "    </tr>\n",
       "    <tr>\n",
       "      <th>30620</th>\n",
       "      <td>финал. золотое солнце правосудия</td>\n",
       "      <td>раннее утро предвещало жаркий день. солнечные ...</td>\n",
       "    </tr>\n",
       "    <tr>\n",
       "      <th>30621</th>\n",
       "      <td>святочные истории</td>\n",
       "      <td>святки – удивительный период времени: один год...</td>\n",
       "    </tr>\n",
       "    <tr>\n",
       "      <th>30622</th>\n",
       "      <td>краткий снговый словарик</td>\n",
       "      <td>авантюрист - передовой юрист бредакция - руков...</td>\n",
       "    </tr>\n",
       "  </tbody>\n",
       "</table>\n",
       "<p>30623 rows × 2 columns</p>\n",
       "</div>"
      ]
     },
     "execution_count": 57,
     "metadata": {},
     "output_type": "execute_result"
    }
   ],
   "execution_count": 57
  },
  {
   "metadata": {
    "ExecuteTime": {
     "end_time": "2025-08-28T17:06:24.010728Z",
     "start_time": "2025-08-28T17:06:24.007092Z"
    }
   },
   "cell_type": "code",
   "source": [
    "def split_text_into_chunks(text, sentences_per_chunk=3):\n",
    "    sentences = sent_tokenize(text, language=\"russian\")\n",
    "    chunks = []\n",
    "    for i in range(0, len(sentences), sentences_per_chunk):\n",
    "        chunk = \" \".join(sentences[i:i+sentences_per_chunk])\n",
    "        chunks.append(chunk)\n",
    "    return chunks"
   ],
   "id": "3f8f80ede483fa3a",
   "outputs": [],
   "execution_count": 58
  },
  {
   "metadata": {
    "ExecuteTime": {
     "end_time": "2025-08-28T17:08:39.993919Z",
     "start_time": "2025-08-28T17:08:10.100341Z"
    }
   },
   "cell_type": "code",
   "source": [
    "from tqdm import tqdm\n",
    "\n",
    "augmented_rows = []\n",
    "for _, row in tqdm(dataset.iterrows(), total=len(dataset)):\n",
    "    chunks = split_text_into_chunks(row.text, sentences_per_chunk=3)\n",
    "    for chunk in chunks:\n",
    "        augmented_rows.append({\"text\": chunk, \"title\": row.title})\n",
    "\n",
    "augmented_dataset = pd.DataFrame(augmented_rows)"
   ],
   "id": "4eb3833df9c0acc1",
   "outputs": [
    {
     "name": "stderr",
     "output_type": "stream",
     "text": [
      "100%|██████████| 30623/30623 [00:29<00:00, 1036.64it/s]\n"
     ]
    }
   ],
   "execution_count": 64
  },
  {
   "metadata": {
    "ExecuteTime": {
     "end_time": "2025-08-28T17:08:55.590474Z",
     "start_time": "2025-08-28T17:08:54.563641Z"
    }
   },
   "cell_type": "code",
   "source": "augmented_dataset.describe()",
   "id": "ad913ba8ea0d86a0",
   "outputs": [
    {
     "data": {
      "text/plain": [
       "           text                            title\n",
       "count   1682857                          1682857\n",
       "unique  1649981                            28763\n",
       "top       . . .  чистый хозяин собственного мира\n",
       "freq        306                            13958"
      ],
      "text/html": [
       "<div>\n",
       "<style scoped>\n",
       "    .dataframe tbody tr th:only-of-type {\n",
       "        vertical-align: middle;\n",
       "    }\n",
       "\n",
       "    .dataframe tbody tr th {\n",
       "        vertical-align: top;\n",
       "    }\n",
       "\n",
       "    .dataframe thead th {\n",
       "        text-align: right;\n",
       "    }\n",
       "</style>\n",
       "<table border=\"1\" class=\"dataframe\">\n",
       "  <thead>\n",
       "    <tr style=\"text-align: right;\">\n",
       "      <th></th>\n",
       "      <th>text</th>\n",
       "      <th>title</th>\n",
       "    </tr>\n",
       "  </thead>\n",
       "  <tbody>\n",
       "    <tr>\n",
       "      <th>count</th>\n",
       "      <td>1682857</td>\n",
       "      <td>1682857</td>\n",
       "    </tr>\n",
       "    <tr>\n",
       "      <th>unique</th>\n",
       "      <td>1649981</td>\n",
       "      <td>28763</td>\n",
       "    </tr>\n",
       "    <tr>\n",
       "      <th>top</th>\n",
       "      <td>. . .</td>\n",
       "      <td>чистый хозяин собственного мира</td>\n",
       "    </tr>\n",
       "    <tr>\n",
       "      <th>freq</th>\n",
       "      <td>306</td>\n",
       "      <td>13958</td>\n",
       "    </tr>\n",
       "  </tbody>\n",
       "</table>\n",
       "</div>"
      ]
     },
     "execution_count": 65,
     "metadata": {},
     "output_type": "execute_result"
    }
   ],
   "execution_count": 65
  },
  {
   "metadata": {
    "ExecuteTime": {
     "end_time": "2025-08-28T17:19:45.169970Z",
     "start_time": "2025-08-28T17:19:44.477824Z"
    }
   },
   "cell_type": "code",
   "source": [
    "augmented_dataset = augmented_dataset[augmented_dataset.text.str.strip().str.len() > 10]\n",
    "augmented_dataset = augmented_dataset[augmented_dataset.text != \". . .\"]\n",
    "\n",
    "max_per_title = 1000\n",
    "augmented_dataset = augmented_dataset.groupby(\"title\").head(max_per_title).reset_index(drop=True)\n",
    "\n",
    "print(augmented_dataset.title.value_counts().head(10))"
   ],
   "id": "cd4860175c4e294c",
   "outputs": [
    {
     "name": "stdout",
     "output_type": "stream",
     "text": [
      "title\n",
      "тайна пяти печатей.                               1000\n",
      "лекарство от старости                             1000\n",
      "грибник                                           1000\n",
      "небесный град (историко-фантастический роман)     1000\n",
      "саркома                                           1000\n",
      "подлунное  княжество                              1000\n",
      "не могу молчать! вспоминая и переосмысливая...    1000\n",
      "откровения каскадёра                              1000\n",
      "завещание или почти бескорыстные мистификаторы    1000\n",
      "пособие для начинающей проститутки                1000\n",
      "Name: count, dtype: int64\n"
     ]
    }
   ],
   "execution_count": 67
  },
  {
   "metadata": {
    "ExecuteTime": {
     "end_time": "2025-08-28T17:19:59.645608Z",
     "start_time": "2025-08-28T17:19:59.117384Z"
    }
   },
   "cell_type": "code",
   "source": "augmented_dataset.describe()",
   "id": "cc10100f897cba34",
   "outputs": [
    {
     "data": {
      "text/plain": [
       "                                                     text                title\n",
       "count                                             1313423              1313423\n",
       "unique                                            1282668                28755\n",
       "top     если же кого-то заинтересует более подробно то...  тайна пяти печатей.\n",
       "freq                                                   63                 1000"
      ],
      "text/html": [
       "<div>\n",
       "<style scoped>\n",
       "    .dataframe tbody tr th:only-of-type {\n",
       "        vertical-align: middle;\n",
       "    }\n",
       "\n",
       "    .dataframe tbody tr th {\n",
       "        vertical-align: top;\n",
       "    }\n",
       "\n",
       "    .dataframe thead th {\n",
       "        text-align: right;\n",
       "    }\n",
       "</style>\n",
       "<table border=\"1\" class=\"dataframe\">\n",
       "  <thead>\n",
       "    <tr style=\"text-align: right;\">\n",
       "      <th></th>\n",
       "      <th>text</th>\n",
       "      <th>title</th>\n",
       "    </tr>\n",
       "  </thead>\n",
       "  <tbody>\n",
       "    <tr>\n",
       "      <th>count</th>\n",
       "      <td>1313423</td>\n",
       "      <td>1313423</td>\n",
       "    </tr>\n",
       "    <tr>\n",
       "      <th>unique</th>\n",
       "      <td>1282668</td>\n",
       "      <td>28755</td>\n",
       "    </tr>\n",
       "    <tr>\n",
       "      <th>top</th>\n",
       "      <td>если же кого-то заинтересует более подробно то...</td>\n",
       "      <td>тайна пяти печатей.</td>\n",
       "    </tr>\n",
       "    <tr>\n",
       "      <th>freq</th>\n",
       "      <td>63</td>\n",
       "      <td>1000</td>\n",
       "    </tr>\n",
       "  </tbody>\n",
       "</table>\n",
       "</div>"
      ]
     },
     "execution_count": 68,
     "metadata": {},
     "output_type": "execute_result"
    }
   ],
   "execution_count": 68
  },
  {
   "metadata": {
    "ExecuteTime": {
     "end_time": "2025-08-28T17:22:43.774451Z",
     "start_time": "2025-08-28T17:22:42.784155Z"
    }
   },
   "cell_type": "code",
   "source": "augmented_dataset = augmented_dataset.drop_duplicates().reset_index(drop=True)",
   "id": "a2dad8eeb90a0c65",
   "outputs": [],
   "execution_count": 70
  },
  {
   "metadata": {
    "ExecuteTime": {
     "end_time": "2025-08-28T17:22:50.813200Z",
     "start_time": "2025-08-28T17:22:50.264331Z"
    }
   },
   "cell_type": "code",
   "source": "augmented_dataset.describe()",
   "id": "4821aa22abe02009",
   "outputs": [
    {
     "data": {
      "text/plain": [
       "                                                     text                title\n",
       "count                                             1309490              1309490\n",
       "unique                                            1282668                28755\n",
       "top     это не значит, что остальным жителям планеты н...  экологическая тропа\n",
       "freq                                                   63                 1000"
      ],
      "text/html": [
       "<div>\n",
       "<style scoped>\n",
       "    .dataframe tbody tr th:only-of-type {\n",
       "        vertical-align: middle;\n",
       "    }\n",
       "\n",
       "    .dataframe tbody tr th {\n",
       "        vertical-align: top;\n",
       "    }\n",
       "\n",
       "    .dataframe thead th {\n",
       "        text-align: right;\n",
       "    }\n",
       "</style>\n",
       "<table border=\"1\" class=\"dataframe\">\n",
       "  <thead>\n",
       "    <tr style=\"text-align: right;\">\n",
       "      <th></th>\n",
       "      <th>text</th>\n",
       "      <th>title</th>\n",
       "    </tr>\n",
       "  </thead>\n",
       "  <tbody>\n",
       "    <tr>\n",
       "      <th>count</th>\n",
       "      <td>1309490</td>\n",
       "      <td>1309490</td>\n",
       "    </tr>\n",
       "    <tr>\n",
       "      <th>unique</th>\n",
       "      <td>1282668</td>\n",
       "      <td>28755</td>\n",
       "    </tr>\n",
       "    <tr>\n",
       "      <th>top</th>\n",
       "      <td>это не значит, что остальным жителям планеты н...</td>\n",
       "      <td>экологическая тропа</td>\n",
       "    </tr>\n",
       "    <tr>\n",
       "      <th>freq</th>\n",
       "      <td>63</td>\n",
       "      <td>1000</td>\n",
       "    </tr>\n",
       "  </tbody>\n",
       "</table>\n",
       "</div>"
      ]
     },
     "execution_count": 71,
     "metadata": {},
     "output_type": "execute_result"
    }
   ],
   "execution_count": 71
  },
  {
   "metadata": {
    "ExecuteTime": {
     "end_time": "2025-08-28T17:23:55.365270Z",
     "start_time": "2025-08-28T17:23:53.326760Z"
    }
   },
   "cell_type": "code",
   "source": [
    "dup_titles = (\n",
    "    augmented_dataset.groupby(\"text\")[\"title\"]\n",
    "    .nunique()\n",
    "    .reset_index()\n",
    "    .query(\"title > 1\")\n",
    ")\n",
    "\n",
    "print(f\"Текстов с одинаковыми содержаниями, но разными названиями: {len(dup_titles)}\")"
   ],
   "id": "e0ae8de4c71bd7d7",
   "outputs": [
    {
     "name": "stdout",
     "output_type": "stream",
     "text": [
      "Таких текстов: 5799\n"
     ]
    }
   ],
   "execution_count": 72
  },
  {
   "metadata": {
    "ExecuteTime": {
     "end_time": "2025-08-28T17:25:29.786764Z",
     "start_time": "2025-08-28T17:24:41.715360Z"
    }
   },
   "cell_type": "code",
   "source": "augmented_dataset = augmented_dataset.groupby(\"text\").agg(lambda x: x.value_counts().index[0]).reset_index()",
   "id": "781f1ef923e5cce7",
   "outputs": [],
   "execution_count": 73
  },
  {
   "metadata": {
    "ExecuteTime": {
     "end_time": "2025-08-28T17:25:30.338118Z",
     "start_time": "2025-08-28T17:25:29.791033Z"
    }
   },
   "cell_type": "code",
   "source": "augmented_dataset.describe()",
   "id": "e80af32644ccdc4d",
   "outputs": [
    {
     "data": {
      "text/plain": [
       "                                                     text              title\n",
       "count                                             1282668            1282668\n",
       "unique                                            1282668              28735\n",
       "top       как любому живому организму, организации нуж...  сто блюд из кошки\n",
       "freq                                                    1               1000"
      ],
      "text/html": [
       "<div>\n",
       "<style scoped>\n",
       "    .dataframe tbody tr th:only-of-type {\n",
       "        vertical-align: middle;\n",
       "    }\n",
       "\n",
       "    .dataframe tbody tr th {\n",
       "        vertical-align: top;\n",
       "    }\n",
       "\n",
       "    .dataframe thead th {\n",
       "        text-align: right;\n",
       "    }\n",
       "</style>\n",
       "<table border=\"1\" class=\"dataframe\">\n",
       "  <thead>\n",
       "    <tr style=\"text-align: right;\">\n",
       "      <th></th>\n",
       "      <th>text</th>\n",
       "      <th>title</th>\n",
       "    </tr>\n",
       "  </thead>\n",
       "  <tbody>\n",
       "    <tr>\n",
       "      <th>count</th>\n",
       "      <td>1282668</td>\n",
       "      <td>1282668</td>\n",
       "    </tr>\n",
       "    <tr>\n",
       "      <th>unique</th>\n",
       "      <td>1282668</td>\n",
       "      <td>28735</td>\n",
       "    </tr>\n",
       "    <tr>\n",
       "      <th>top</th>\n",
       "      <td>как любому живому организму, организации нуж...</td>\n",
       "      <td>сто блюд из кошки</td>\n",
       "    </tr>\n",
       "    <tr>\n",
       "      <th>freq</th>\n",
       "      <td>1</td>\n",
       "      <td>1000</td>\n",
       "    </tr>\n",
       "  </tbody>\n",
       "</table>\n",
       "</div>"
      ]
     },
     "execution_count": 74,
     "metadata": {},
     "output_type": "execute_result"
    }
   ],
   "execution_count": 74
  },
  {
   "metadata": {
    "ExecuteTime": {
     "end_time": "2025-08-29T05:53:22.715150Z",
     "start_time": "2025-08-29T05:53:22.710583Z"
    }
   },
   "cell_type": "code",
   "source": [
    "def is_meaningful(text):\n",
    "    return bool(re.search(r\"[А-Яа-яA-Za-z0-9]\", text))"
   ],
   "id": "bc32bc02e0eb5d0f",
   "outputs": [],
   "execution_count": 77
  },
  {
   "metadata": {
    "ExecuteTime": {
     "end_time": "2025-08-29T05:53:48.943894Z",
     "start_time": "2025-08-29T05:53:48.291740Z"
    }
   },
   "cell_type": "code",
   "source": "augmented_dataset = augmented_dataset[augmented_dataset.text.apply(is_meaningful)].reset_index(drop=True)",
   "id": "21ec57e32015bfdc",
   "outputs": [],
   "execution_count": 78
  },
  {
   "metadata": {
    "ExecuteTime": {
     "end_time": "2025-08-29T05:53:56.169456Z",
     "start_time": "2025-08-29T05:53:55.588647Z"
    }
   },
   "cell_type": "code",
   "source": "augmented_dataset.describe()",
   "id": "efb7f18ed2278b15",
   "outputs": [
    {
     "data": {
      "text/plain": [
       "                                                     text     title\n",
       "count                                             1281911   1281911\n",
       "unique                                            1281911     28733\n",
       "top       как любому живому организму, организации нуж...  пандемия\n",
       "freq                                                    1      1000"
      ],
      "text/html": [
       "<div>\n",
       "<style scoped>\n",
       "    .dataframe tbody tr th:only-of-type {\n",
       "        vertical-align: middle;\n",
       "    }\n",
       "\n",
       "    .dataframe tbody tr th {\n",
       "        vertical-align: top;\n",
       "    }\n",
       "\n",
       "    .dataframe thead th {\n",
       "        text-align: right;\n",
       "    }\n",
       "</style>\n",
       "<table border=\"1\" class=\"dataframe\">\n",
       "  <thead>\n",
       "    <tr style=\"text-align: right;\">\n",
       "      <th></th>\n",
       "      <th>text</th>\n",
       "      <th>title</th>\n",
       "    </tr>\n",
       "  </thead>\n",
       "  <tbody>\n",
       "    <tr>\n",
       "      <th>count</th>\n",
       "      <td>1281911</td>\n",
       "      <td>1281911</td>\n",
       "    </tr>\n",
       "    <tr>\n",
       "      <th>unique</th>\n",
       "      <td>1281911</td>\n",
       "      <td>28733</td>\n",
       "    </tr>\n",
       "    <tr>\n",
       "      <th>top</th>\n",
       "      <td>как любому живому организму, организации нуж...</td>\n",
       "      <td>пандемия</td>\n",
       "    </tr>\n",
       "    <tr>\n",
       "      <th>freq</th>\n",
       "      <td>1</td>\n",
       "      <td>1000</td>\n",
       "    </tr>\n",
       "  </tbody>\n",
       "</table>\n",
       "</div>"
      ]
     },
     "execution_count": 79,
     "metadata": {},
     "output_type": "execute_result"
    }
   ],
   "execution_count": 79
  },
  {
   "metadata": {
    "ExecuteTime": {
     "end_time": "2025-08-29T05:55:35.298127Z",
     "start_time": "2025-08-29T05:55:30.372825Z"
    }
   },
   "cell_type": "code",
   "source": [
    "augmented_dataset = augmented_dataset[augmented_dataset.text.str.len() > 10]\n",
    "augmented_dataset = augmented_dataset[augmented_dataset.text.str.split().str.len() > 5]"
   ],
   "id": "89af1d33ffb007db",
   "outputs": [],
   "execution_count": 80
  },
  {
   "metadata": {
    "ExecuteTime": {
     "end_time": "2025-08-29T05:57:00.725094Z",
     "start_time": "2025-08-29T05:57:00.722705Z"
    }
   },
   "cell_type": "code",
   "source": "augmented_dataset.reset_index(inplace=True, drop=True)",
   "id": "acbcd0f8e2bb0e1d",
   "outputs": [],
   "execution_count": 82
  },
  {
   "metadata": {
    "ExecuteTime": {
     "end_time": "2025-08-29T05:57:01.919240Z",
     "start_time": "2025-08-29T05:57:01.366436Z"
    }
   },
   "cell_type": "code",
   "source": "augmented_dataset.describe()",
   "id": "5261d6ec9d627173",
   "outputs": [
    {
     "data": {
      "text/plain": [
       "                                                     text  \\\n",
       "count                                             1274717   \n",
       "unique                                            1274717   \n",
       "top       как любому живому организму, организации нуж...   \n",
       "freq                                                    1   \n",
       "\n",
       "                       title  \n",
       "count                1274717  \n",
       "unique                 28650  \n",
       "top     откровения каскадёра  \n",
       "freq                    1000  "
      ],
      "text/html": [
       "<div>\n",
       "<style scoped>\n",
       "    .dataframe tbody tr th:only-of-type {\n",
       "        vertical-align: middle;\n",
       "    }\n",
       "\n",
       "    .dataframe tbody tr th {\n",
       "        vertical-align: top;\n",
       "    }\n",
       "\n",
       "    .dataframe thead th {\n",
       "        text-align: right;\n",
       "    }\n",
       "</style>\n",
       "<table border=\"1\" class=\"dataframe\">\n",
       "  <thead>\n",
       "    <tr style=\"text-align: right;\">\n",
       "      <th></th>\n",
       "      <th>text</th>\n",
       "      <th>title</th>\n",
       "    </tr>\n",
       "  </thead>\n",
       "  <tbody>\n",
       "    <tr>\n",
       "      <th>count</th>\n",
       "      <td>1274717</td>\n",
       "      <td>1274717</td>\n",
       "    </tr>\n",
       "    <tr>\n",
       "      <th>unique</th>\n",
       "      <td>1274717</td>\n",
       "      <td>28650</td>\n",
       "    </tr>\n",
       "    <tr>\n",
       "      <th>top</th>\n",
       "      <td>как любому живому организму, организации нуж...</td>\n",
       "      <td>откровения каскадёра</td>\n",
       "    </tr>\n",
       "    <tr>\n",
       "      <th>freq</th>\n",
       "      <td>1</td>\n",
       "      <td>1000</td>\n",
       "    </tr>\n",
       "  </tbody>\n",
       "</table>\n",
       "</div>"
      ]
     },
     "execution_count": 83,
     "metadata": {},
     "output_type": "execute_result"
    }
   ],
   "execution_count": 83
  },
  {
   "metadata": {
    "ExecuteTime": {
     "end_time": "2025-08-29T05:57:14.619411Z",
     "start_time": "2025-08-29T05:57:06.416702Z"
    }
   },
   "cell_type": "code",
   "source": [
    "augmented_dataset.text = augmented_dataset.text.str.replace(r\"[^\\w\\s,.!?-]\", \" \", regex=True)\n",
    "augmented_dataset.text = augmented_dataset.text.str.replace(r\"\\s+\", \" \", regex=True).str.strip()"
   ],
   "id": "b52466d8c92687f2",
   "outputs": [],
   "execution_count": 84
  },
  {
   "metadata": {
    "ExecuteTime": {
     "end_time": "2025-08-29T05:57:15.253049Z",
     "start_time": "2025-08-29T05:57:14.624796Z"
    }
   },
   "cell_type": "code",
   "source": "augmented_dataset.describe()",
   "id": "c6dc4ae6d3bad933",
   "outputs": [
    {
     "data": {
      "text/plain": [
       "                                                     text  \\\n",
       "count                                             1274717   \n",
       "unique                                            1274405   \n",
       "top     привыкли добрыми. происшествие в моей нелегкой...   \n",
       "freq                                                    2   \n",
       "\n",
       "                       title  \n",
       "count                1274717  \n",
       "unique                 28650  \n",
       "top     откровения каскадёра  \n",
       "freq                    1000  "
      ],
      "text/html": [
       "<div>\n",
       "<style scoped>\n",
       "    .dataframe tbody tr th:only-of-type {\n",
       "        vertical-align: middle;\n",
       "    }\n",
       "\n",
       "    .dataframe tbody tr th {\n",
       "        vertical-align: top;\n",
       "    }\n",
       "\n",
       "    .dataframe thead th {\n",
       "        text-align: right;\n",
       "    }\n",
       "</style>\n",
       "<table border=\"1\" class=\"dataframe\">\n",
       "  <thead>\n",
       "    <tr style=\"text-align: right;\">\n",
       "      <th></th>\n",
       "      <th>text</th>\n",
       "      <th>title</th>\n",
       "    </tr>\n",
       "  </thead>\n",
       "  <tbody>\n",
       "    <tr>\n",
       "      <th>count</th>\n",
       "      <td>1274717</td>\n",
       "      <td>1274717</td>\n",
       "    </tr>\n",
       "    <tr>\n",
       "      <th>unique</th>\n",
       "      <td>1274405</td>\n",
       "      <td>28650</td>\n",
       "    </tr>\n",
       "    <tr>\n",
       "      <th>top</th>\n",
       "      <td>привыкли добрыми. происшествие в моей нелегкой...</td>\n",
       "      <td>откровения каскадёра</td>\n",
       "    </tr>\n",
       "    <tr>\n",
       "      <th>freq</th>\n",
       "      <td>2</td>\n",
       "      <td>1000</td>\n",
       "    </tr>\n",
       "  </tbody>\n",
       "</table>\n",
       "</div>"
      ]
     },
     "execution_count": 85,
     "metadata": {},
     "output_type": "execute_result"
    }
   ],
   "execution_count": 85
  },
  {
   "metadata": {
    "ExecuteTime": {
     "end_time": "2025-08-29T06:02:09.835857Z",
     "start_time": "2025-08-29T06:02:09.831778Z"
    }
   },
   "cell_type": "code",
   "source": [
    "def clean_leading_punct(text):\n",
    "    return re.sub(r\"^[^\\wА-Яа-я0-9]+\", \"\", text).strip()"
   ],
   "id": "a20295f946b153c4",
   "outputs": [],
   "execution_count": 92
  },
  {
   "metadata": {
    "ExecuteTime": {
     "end_time": "2025-08-29T06:02:39.441233Z",
     "start_time": "2025-08-29T06:02:38.933699Z"
    }
   },
   "cell_type": "code",
   "source": "augmented_dataset.text = augmented_dataset.text.apply(clean_leading_punct)",
   "id": "ed7de1e366f29ffa",
   "outputs": [],
   "execution_count": 93
  },
  {
   "metadata": {
    "ExecuteTime": {
     "end_time": "2025-08-29T06:02:46.136086Z",
     "start_time": "2025-08-29T06:02:45.573458Z"
    }
   },
   "cell_type": "code",
   "source": "augmented_dataset.describe()",
   "id": "bfca9206eea67c0c",
   "outputs": [
    {
     "data": {
      "text/plain": [
       "                                                     text       title\n",
       "count                                             1274093     1274093\n",
       "unique                                            1274080       28600\n",
       "top     и пони, и дерьмо, и даже сигареты с шишкой на ...  пифагореец\n",
       "freq                                                    2        1000"
      ],
      "text/html": [
       "<div>\n",
       "<style scoped>\n",
       "    .dataframe tbody tr th:only-of-type {\n",
       "        vertical-align: middle;\n",
       "    }\n",
       "\n",
       "    .dataframe tbody tr th {\n",
       "        vertical-align: top;\n",
       "    }\n",
       "\n",
       "    .dataframe thead th {\n",
       "        text-align: right;\n",
       "    }\n",
       "</style>\n",
       "<table border=\"1\" class=\"dataframe\">\n",
       "  <thead>\n",
       "    <tr style=\"text-align: right;\">\n",
       "      <th></th>\n",
       "      <th>text</th>\n",
       "      <th>title</th>\n",
       "    </tr>\n",
       "  </thead>\n",
       "  <tbody>\n",
       "    <tr>\n",
       "      <th>count</th>\n",
       "      <td>1274093</td>\n",
       "      <td>1274093</td>\n",
       "    </tr>\n",
       "    <tr>\n",
       "      <th>unique</th>\n",
       "      <td>1274080</td>\n",
       "      <td>28600</td>\n",
       "    </tr>\n",
       "    <tr>\n",
       "      <th>top</th>\n",
       "      <td>и пони, и дерьмо, и даже сигареты с шишкой на ...</td>\n",
       "      <td>пифагореец</td>\n",
       "    </tr>\n",
       "    <tr>\n",
       "      <th>freq</th>\n",
       "      <td>2</td>\n",
       "      <td>1000</td>\n",
       "    </tr>\n",
       "  </tbody>\n",
       "</table>\n",
       "</div>"
      ]
     },
     "execution_count": 94,
     "metadata": {},
     "output_type": "execute_result"
    }
   ],
   "execution_count": 94
  },
  {
   "metadata": {
    "ExecuteTime": {
     "end_time": "2025-08-29T06:03:03.315418Z",
     "start_time": "2025-08-29T06:03:03.185926Z"
    }
   },
   "cell_type": "code",
   "source": "augmented_dataset = augmented_dataset[~augmented_dataset.duplicated(subset=[\"text\"], keep=False)]",
   "id": "8980df1670ea8520",
   "outputs": [],
   "execution_count": 95
  },
  {
   "metadata": {
    "ExecuteTime": {
     "end_time": "2025-08-29T06:03:08.355093Z",
     "start_time": "2025-08-29T06:03:07.803075Z"
    }
   },
   "cell_type": "code",
   "source": "augmented_dataset.describe()",
   "id": "9045b61d9e84d00a",
   "outputs": [
    {
     "data": {
      "text/plain": [
       "                                                     text                title\n",
       "count                                             1274067              1274067\n",
       "unique                                            1274067                28600\n",
       "top     как любому живому организму, организации нужна...  дорога цвета собаки\n",
       "freq                                                    1                 1000"
      ],
      "text/html": [
       "<div>\n",
       "<style scoped>\n",
       "    .dataframe tbody tr th:only-of-type {\n",
       "        vertical-align: middle;\n",
       "    }\n",
       "\n",
       "    .dataframe tbody tr th {\n",
       "        vertical-align: top;\n",
       "    }\n",
       "\n",
       "    .dataframe thead th {\n",
       "        text-align: right;\n",
       "    }\n",
       "</style>\n",
       "<table border=\"1\" class=\"dataframe\">\n",
       "  <thead>\n",
       "    <tr style=\"text-align: right;\">\n",
       "      <th></th>\n",
       "      <th>text</th>\n",
       "      <th>title</th>\n",
       "    </tr>\n",
       "  </thead>\n",
       "  <tbody>\n",
       "    <tr>\n",
       "      <th>count</th>\n",
       "      <td>1274067</td>\n",
       "      <td>1274067</td>\n",
       "    </tr>\n",
       "    <tr>\n",
       "      <th>unique</th>\n",
       "      <td>1274067</td>\n",
       "      <td>28600</td>\n",
       "    </tr>\n",
       "    <tr>\n",
       "      <th>top</th>\n",
       "      <td>как любому живому организму, организации нужна...</td>\n",
       "      <td>дорога цвета собаки</td>\n",
       "    </tr>\n",
       "    <tr>\n",
       "      <th>freq</th>\n",
       "      <td>1</td>\n",
       "      <td>1000</td>\n",
       "    </tr>\n",
       "  </tbody>\n",
       "</table>\n",
       "</div>"
      ]
     },
     "execution_count": 96,
     "metadata": {},
     "output_type": "execute_result"
    }
   ],
   "execution_count": 96
  },
  {
   "metadata": {
    "ExecuteTime": {
     "end_time": "2025-08-29T06:03:23.979795Z",
     "start_time": "2025-08-29T06:03:20.667141Z"
    }
   },
   "cell_type": "code",
   "source": "augmented_dataset.to_csv(\"../data/augmented_dataset.csv\", index=False)",
   "id": "5df47ab453024249",
   "outputs": [],
   "execution_count": 97
  },
  {
   "metadata": {},
   "cell_type": "code",
   "outputs": [],
   "execution_count": null,
   "source": "",
   "id": "cffb2828fa975129"
  }
 ],
 "metadata": {
  "kernelspec": {
   "display_name": "Python 3",
   "language": "python",
   "name": "python3"
  },
  "language_info": {
   "codemirror_mode": {
    "name": "ipython",
    "version": 2
   },
   "file_extension": ".py",
   "mimetype": "text/x-python",
   "name": "python",
   "nbconvert_exporter": "python",
   "pygments_lexer": "ipython2",
   "version": "2.7.6"
  }
 },
 "nbformat": 4,
 "nbformat_minor": 5
}
