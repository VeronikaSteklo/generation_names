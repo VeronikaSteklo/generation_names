{
 "cells": [
  {
   "metadata": {},
   "cell_type": "markdown",
   "source": "# Аугументация датасета, состоящего из данных с сайтов: Проза.ру, ЛитПричал, Брифли, Литрес",
   "id": "6470a3f17c036ab9"
  },
  {
   "cell_type": "code",
   "id": "initial_id",
   "metadata": {
    "collapsed": true,
    "ExecuteTime": {
     "end_time": "2025-08-29T10:19:56.936112Z",
     "start_time": "2025-08-29T10:19:56.931539Z"
    }
   },
   "source": [
    "import re\n",
    "\n",
    "import pandas as pd\n",
    "import nltk\n",
    "from sklearn.model_selection import train_test_split\n",
    "\n",
    "nltk.download(\"punkt\")\n",
    "\n",
    "from nltk.tokenize import sent_tokenize"
   ],
   "outputs": [
    {
     "name": "stderr",
     "output_type": "stream",
     "text": [
      "[nltk_data] Downloading package punkt to\n",
      "[nltk_data]     /Users/veronika_steklo/nltk_data...\n",
      "[nltk_data]   Package punkt is already up-to-date!\n"
     ]
    }
   ],
   "execution_count": 120
  },
  {
   "metadata": {
    "ExecuteTime": {
     "end_time": "2025-08-29T10:09:49.844467Z",
     "start_time": "2025-08-29T10:09:44.471517Z"
    }
   },
   "cell_type": "code",
   "source": "dataset = pd.read_csv(\"../data/temp_data/all_data.csv\")",
   "id": "2ff2525546518ea2",
   "outputs": [],
   "execution_count": 100
  },
  {
   "metadata": {
    "ExecuteTime": {
     "end_time": "2025-08-29T10:09:50.030855Z",
     "start_time": "2025-08-29T10:09:49.849667Z"
    }
   },
   "cell_type": "code",
   "source": "dataset.describe()",
   "id": "45bb2f2da88c2c79",
   "outputs": [
    {
     "data": {
      "text/plain": [
       "                                     title  \\\n",
       "count                                31122   \n",
       "unique                               28839   \n",
       "top     латырь-камень бел-горюч... сказка?   \n",
       "freq                                    38   \n",
       "\n",
       "                                                     text  \n",
       "count                                               31101  \n",
       "unique                                              30640  \n",
       "top     ; ; «энцикловикипедия»- -имена. посвящается ми...  \n",
       "freq                                                   38  "
      ],
      "text/html": [
       "<div>\n",
       "<style scoped>\n",
       "    .dataframe tbody tr th:only-of-type {\n",
       "        vertical-align: middle;\n",
       "    }\n",
       "\n",
       "    .dataframe tbody tr th {\n",
       "        vertical-align: top;\n",
       "    }\n",
       "\n",
       "    .dataframe thead th {\n",
       "        text-align: right;\n",
       "    }\n",
       "</style>\n",
       "<table border=\"1\" class=\"dataframe\">\n",
       "  <thead>\n",
       "    <tr style=\"text-align: right;\">\n",
       "      <th></th>\n",
       "      <th>title</th>\n",
       "      <th>text</th>\n",
       "    </tr>\n",
       "  </thead>\n",
       "  <tbody>\n",
       "    <tr>\n",
       "      <th>count</th>\n",
       "      <td>31122</td>\n",
       "      <td>31101</td>\n",
       "    </tr>\n",
       "    <tr>\n",
       "      <th>unique</th>\n",
       "      <td>28839</td>\n",
       "      <td>30640</td>\n",
       "    </tr>\n",
       "    <tr>\n",
       "      <th>top</th>\n",
       "      <td>латырь-камень бел-горюч... сказка?</td>\n",
       "      <td>; ; «энцикловикипедия»- -имена. посвящается ми...</td>\n",
       "    </tr>\n",
       "    <tr>\n",
       "      <th>freq</th>\n",
       "      <td>38</td>\n",
       "      <td>38</td>\n",
       "    </tr>\n",
       "  </tbody>\n",
       "</table>\n",
       "</div>"
      ]
     },
     "execution_count": 101,
     "metadata": {},
     "output_type": "execute_result"
    }
   ],
   "execution_count": 101
  },
  {
   "metadata": {
    "ExecuteTime": {
     "end_time": "2025-08-29T10:09:50.042913Z",
     "start_time": "2025-08-29T10:09:50.034965Z"
    }
   },
   "cell_type": "code",
   "source": "dataset.dropna(inplace=True)",
   "id": "f8b7b06e668d7105",
   "outputs": [],
   "execution_count": 102
  },
  {
   "metadata": {
    "ExecuteTime": {
     "end_time": "2025-08-29T10:09:50.064748Z",
     "start_time": "2025-08-29T10:09:50.048004Z"
    }
   },
   "cell_type": "code",
   "source": "dataset.describe()",
   "id": "57fd887ac6cb3da5",
   "outputs": [
    {
     "data": {
      "text/plain": [
       "                     title                                               text\n",
       "count                31101                                              31101\n",
       "unique               28818                                              30640\n",
       "top     из жизни графомана  ; ; «энцикловикипедия»- -имена. посвящается ми...\n",
       "freq                    38                                                 38"
      ],
      "text/html": [
       "<div>\n",
       "<style scoped>\n",
       "    .dataframe tbody tr th:only-of-type {\n",
       "        vertical-align: middle;\n",
       "    }\n",
       "\n",
       "    .dataframe tbody tr th {\n",
       "        vertical-align: top;\n",
       "    }\n",
       "\n",
       "    .dataframe thead th {\n",
       "        text-align: right;\n",
       "    }\n",
       "</style>\n",
       "<table border=\"1\" class=\"dataframe\">\n",
       "  <thead>\n",
       "    <tr style=\"text-align: right;\">\n",
       "      <th></th>\n",
       "      <th>title</th>\n",
       "      <th>text</th>\n",
       "    </tr>\n",
       "  </thead>\n",
       "  <tbody>\n",
       "    <tr>\n",
       "      <th>count</th>\n",
       "      <td>31101</td>\n",
       "      <td>31101</td>\n",
       "    </tr>\n",
       "    <tr>\n",
       "      <th>unique</th>\n",
       "      <td>28818</td>\n",
       "      <td>30640</td>\n",
       "    </tr>\n",
       "    <tr>\n",
       "      <th>top</th>\n",
       "      <td>из жизни графомана</td>\n",
       "      <td>; ; «энцикловикипедия»- -имена. посвящается ми...</td>\n",
       "    </tr>\n",
       "    <tr>\n",
       "      <th>freq</th>\n",
       "      <td>38</td>\n",
       "      <td>38</td>\n",
       "    </tr>\n",
       "  </tbody>\n",
       "</table>\n",
       "</div>"
      ]
     },
     "execution_count": 103,
     "metadata": {},
     "output_type": "execute_result"
    }
   ],
   "execution_count": 103
  },
  {
   "metadata": {
    "ExecuteTime": {
     "end_time": "2025-08-29T10:09:51.768507Z",
     "start_time": "2025-08-29T10:09:51.739115Z"
    }
   },
   "cell_type": "code",
   "source": [
    "dataset = dataset[dataset.text != \"\"].reset_index(drop=True)\n",
    "dataset.describe()"
   ],
   "id": "857ef79f0d64dea",
   "outputs": [
    {
     "data": {
      "text/plain": [
       "                     title                                               text\n",
       "count                31101                                              31101\n",
       "unique               28818                                              30640\n",
       "top     из жизни графомана  ; ; «энцикловикипедия»- -имена. посвящается ми...\n",
       "freq                    38                                                 38"
      ],
      "text/html": [
       "<div>\n",
       "<style scoped>\n",
       "    .dataframe tbody tr th:only-of-type {\n",
       "        vertical-align: middle;\n",
       "    }\n",
       "\n",
       "    .dataframe tbody tr th {\n",
       "        vertical-align: top;\n",
       "    }\n",
       "\n",
       "    .dataframe thead th {\n",
       "        text-align: right;\n",
       "    }\n",
       "</style>\n",
       "<table border=\"1\" class=\"dataframe\">\n",
       "  <thead>\n",
       "    <tr style=\"text-align: right;\">\n",
       "      <th></th>\n",
       "      <th>title</th>\n",
       "      <th>text</th>\n",
       "    </tr>\n",
       "  </thead>\n",
       "  <tbody>\n",
       "    <tr>\n",
       "      <th>count</th>\n",
       "      <td>31101</td>\n",
       "      <td>31101</td>\n",
       "    </tr>\n",
       "    <tr>\n",
       "      <th>unique</th>\n",
       "      <td>28818</td>\n",
       "      <td>30640</td>\n",
       "    </tr>\n",
       "    <tr>\n",
       "      <th>top</th>\n",
       "      <td>из жизни графомана</td>\n",
       "      <td>; ; «энцикловикипедия»- -имена. посвящается ми...</td>\n",
       "    </tr>\n",
       "    <tr>\n",
       "      <th>freq</th>\n",
       "      <td>38</td>\n",
       "      <td>38</td>\n",
       "    </tr>\n",
       "  </tbody>\n",
       "</table>\n",
       "</div>"
      ]
     },
     "execution_count": 104,
     "metadata": {},
     "output_type": "execute_result"
    }
   ],
   "execution_count": 104
  },
  {
   "metadata": {
    "ExecuteTime": {
     "end_time": "2025-08-29T10:09:56.878858Z",
     "start_time": "2025-08-29T10:09:55.204861Z"
    }
   },
   "cell_type": "code",
   "source": "dataset[dataset.duplicated(keep=False)]",
   "id": "825c209fa231ab53",
   "outputs": [
    {
     "data": {
      "text/plain": [
       "                                          title  \\\n",
       "28           латырь-камень бел-горюч... сказка?   \n",
       "40       на распутина мессмера серебряного века   \n",
       "146                  энцикловикипедия. топонимы   \n",
       "251    три поколения швондеров и мы выбираем...   \n",
       "258           просыпаюсь, а ты рядом! дню семьи   \n",
       "...                                         ...   \n",
       "30682        таёжный глаз шерхана с гарью каина   \n",
       "30871                   энцикловикипедия. имена   \n",
       "30970         просыпаюсь, а ты рядом! дню семьи   \n",
       "31011                   корнеслов. история слов   \n",
       "31017                        из жизни графомана   \n",
       "\n",
       "                                                    text  \n",
       "28     домашняя диссертация любознательного обывателя...  \n",
       "40     \"распутин в кровавом поту молился и спасал\" пи...  \n",
       "146    ; «энцикловикипедия». топонимы. история соврем...  \n",
       "251    в повести булгакова \"собачье сердце\" есть домо...  \n",
       "258    постоянное место публикации:  сборник \"о любви...  \n",
       "...                                                  ...  \n",
       "30682  она заступалась за коллективного папика, подош...  \n",
       "30871  ; ; «энцикловикипедия»- -имена. посвящается ми...  \n",
       "30970  постоянное место публикации:  сборник \"о любви...  \n",
       "31011  ; ; -история слов. «энцикловикипедия» посвящае...  \n",
       "31017  время скачет как ненормальное,  ребята. ладно ...  \n",
       "\n",
       "[457 rows x 2 columns]"
      ],
      "text/html": [
       "<div>\n",
       "<style scoped>\n",
       "    .dataframe tbody tr th:only-of-type {\n",
       "        vertical-align: middle;\n",
       "    }\n",
       "\n",
       "    .dataframe tbody tr th {\n",
       "        vertical-align: top;\n",
       "    }\n",
       "\n",
       "    .dataframe thead th {\n",
       "        text-align: right;\n",
       "    }\n",
       "</style>\n",
       "<table border=\"1\" class=\"dataframe\">\n",
       "  <thead>\n",
       "    <tr style=\"text-align: right;\">\n",
       "      <th></th>\n",
       "      <th>title</th>\n",
       "      <th>text</th>\n",
       "    </tr>\n",
       "  </thead>\n",
       "  <tbody>\n",
       "    <tr>\n",
       "      <th>28</th>\n",
       "      <td>латырь-камень бел-горюч... сказка?</td>\n",
       "      <td>домашняя диссертация любознательного обывателя...</td>\n",
       "    </tr>\n",
       "    <tr>\n",
       "      <th>40</th>\n",
       "      <td>на распутина мессмера серебряного века</td>\n",
       "      <td>\"распутин в кровавом поту молился и спасал\" пи...</td>\n",
       "    </tr>\n",
       "    <tr>\n",
       "      <th>146</th>\n",
       "      <td>энцикловикипедия. топонимы</td>\n",
       "      <td>; «энцикловикипедия». топонимы. история соврем...</td>\n",
       "    </tr>\n",
       "    <tr>\n",
       "      <th>251</th>\n",
       "      <td>три поколения швондеров и мы выбираем...</td>\n",
       "      <td>в повести булгакова \"собачье сердце\" есть домо...</td>\n",
       "    </tr>\n",
       "    <tr>\n",
       "      <th>258</th>\n",
       "      <td>просыпаюсь, а ты рядом! дню семьи</td>\n",
       "      <td>постоянное место публикации:  сборник \"о любви...</td>\n",
       "    </tr>\n",
       "    <tr>\n",
       "      <th>...</th>\n",
       "      <td>...</td>\n",
       "      <td>...</td>\n",
       "    </tr>\n",
       "    <tr>\n",
       "      <th>30682</th>\n",
       "      <td>таёжный глаз шерхана с гарью каина</td>\n",
       "      <td>она заступалась за коллективного папика, подош...</td>\n",
       "    </tr>\n",
       "    <tr>\n",
       "      <th>30871</th>\n",
       "      <td>энцикловикипедия. имена</td>\n",
       "      <td>; ; «энцикловикипедия»- -имена. посвящается ми...</td>\n",
       "    </tr>\n",
       "    <tr>\n",
       "      <th>30970</th>\n",
       "      <td>просыпаюсь, а ты рядом! дню семьи</td>\n",
       "      <td>постоянное место публикации:  сборник \"о любви...</td>\n",
       "    </tr>\n",
       "    <tr>\n",
       "      <th>31011</th>\n",
       "      <td>корнеслов. история слов</td>\n",
       "      <td>; ; -история слов. «энцикловикипедия» посвящае...</td>\n",
       "    </tr>\n",
       "    <tr>\n",
       "      <th>31017</th>\n",
       "      <td>из жизни графомана</td>\n",
       "      <td>время скачет как ненормальное,  ребята. ладно ...</td>\n",
       "    </tr>\n",
       "  </tbody>\n",
       "</table>\n",
       "<p>457 rows × 2 columns</p>\n",
       "</div>"
      ]
     },
     "execution_count": 105,
     "metadata": {},
     "output_type": "execute_result"
    }
   ],
   "execution_count": 105
  },
  {
   "metadata": {
    "ExecuteTime": {
     "end_time": "2025-08-29T10:09:56.902333Z",
     "start_time": "2025-08-29T10:09:56.894893Z"
    }
   },
   "cell_type": "code",
   "source": "dataset[dataset.text == \"описание отсутствует\"]",
   "id": "baccf9a934fa5334",
   "outputs": [
    {
     "data": {
      "text/plain": [
       "Empty DataFrame\n",
       "Columns: [title, text]\n",
       "Index: []"
      ],
      "text/html": [
       "<div>\n",
       "<style scoped>\n",
       "    .dataframe tbody tr th:only-of-type {\n",
       "        vertical-align: middle;\n",
       "    }\n",
       "\n",
       "    .dataframe tbody tr th {\n",
       "        vertical-align: top;\n",
       "    }\n",
       "\n",
       "    .dataframe thead th {\n",
       "        text-align: right;\n",
       "    }\n",
       "</style>\n",
       "<table border=\"1\" class=\"dataframe\">\n",
       "  <thead>\n",
       "    <tr style=\"text-align: right;\">\n",
       "      <th></th>\n",
       "      <th>title</th>\n",
       "      <th>text</th>\n",
       "    </tr>\n",
       "  </thead>\n",
       "  <tbody>\n",
       "  </tbody>\n",
       "</table>\n",
       "</div>"
      ]
     },
     "execution_count": 106,
     "metadata": {},
     "output_type": "execute_result"
    }
   ],
   "execution_count": 106
  },
  {
   "metadata": {
    "ExecuteTime": {
     "end_time": "2025-08-29T10:09:59.798437Z",
     "start_time": "2025-08-29T10:09:58.662758Z"
    }
   },
   "cell_type": "code",
   "source": "dataset = dataset.drop_duplicates()",
   "id": "bb265b8462ed2dab",
   "outputs": [],
   "execution_count": 107
  },
  {
   "metadata": {
    "ExecuteTime": {
     "end_time": "2025-08-29T10:09:59.819341Z",
     "start_time": "2025-08-29T10:09:59.803259Z"
    }
   },
   "cell_type": "code",
   "source": "dataset.describe()",
   "id": "9b03d47eeb88f7d",
   "outputs": [
    {
     "data": {
      "text/plain": [
       "        title   text\n",
       "count   30679  30679\n",
       "unique  28818  30640\n",
       "top       ***      ­\n",
       "freq       20     19"
      ],
      "text/html": [
       "<div>\n",
       "<style scoped>\n",
       "    .dataframe tbody tr th:only-of-type {\n",
       "        vertical-align: middle;\n",
       "    }\n",
       "\n",
       "    .dataframe tbody tr th {\n",
       "        vertical-align: top;\n",
       "    }\n",
       "\n",
       "    .dataframe thead th {\n",
       "        text-align: right;\n",
       "    }\n",
       "</style>\n",
       "<table border=\"1\" class=\"dataframe\">\n",
       "  <thead>\n",
       "    <tr style=\"text-align: right;\">\n",
       "      <th></th>\n",
       "      <th>title</th>\n",
       "      <th>text</th>\n",
       "    </tr>\n",
       "  </thead>\n",
       "  <tbody>\n",
       "    <tr>\n",
       "      <th>count</th>\n",
       "      <td>30679</td>\n",
       "      <td>30679</td>\n",
       "    </tr>\n",
       "    <tr>\n",
       "      <th>unique</th>\n",
       "      <td>28818</td>\n",
       "      <td>30640</td>\n",
       "    </tr>\n",
       "    <tr>\n",
       "      <th>top</th>\n",
       "      <td>***</td>\n",
       "      <td>­</td>\n",
       "    </tr>\n",
       "    <tr>\n",
       "      <th>freq</th>\n",
       "      <td>20</td>\n",
       "      <td>19</td>\n",
       "    </tr>\n",
       "  </tbody>\n",
       "</table>\n",
       "</div>"
      ]
     },
     "execution_count": 108,
     "metadata": {},
     "output_type": "execute_result"
    }
   ],
   "execution_count": 108
  },
  {
   "metadata": {
    "ExecuteTime": {
     "end_time": "2025-08-29T10:10:01.193252Z",
     "start_time": "2025-08-29T10:10:01.188525Z"
    }
   },
   "cell_type": "code",
   "source": "dataset.loc[195].text",
   "id": "742262c6c5fa766c",
   "outputs": [
    {
     "data": {
      "text/plain": [
       "'\\xad'"
      ]
     },
     "execution_count": 109,
     "metadata": {},
     "output_type": "execute_result"
    }
   ],
   "execution_count": 109
  },
  {
   "metadata": {
    "ExecuteTime": {
     "end_time": "2025-08-29T10:10:02.277841Z",
     "start_time": "2025-08-29T10:10:02.269291Z"
    }
   },
   "cell_type": "code",
   "source": "dataset = dataset[dataset.text != \"\\xad\"].reset_index(drop=True)",
   "id": "abecf997b955b05c",
   "outputs": [],
   "execution_count": 110
  },
  {
   "metadata": {
    "ExecuteTime": {
     "end_time": "2025-08-28T17:04:59.137988Z",
     "start_time": "2025-08-28T17:04:59.124649Z"
    }
   },
   "cell_type": "code",
   "source": "dataset.describe()",
   "id": "b9bf2184091b452d",
   "outputs": [
    {
     "data": {
      "text/plain": [
       "        title                                               text\n",
       "count   30660                                              30660\n",
       "unique  28800                                              30639\n",
       "top       ***  стихотворение ищите в рецензии, поскольку тата...\n",
       "freq       20                                                  4"
      ],
      "text/html": [
       "<div>\n",
       "<style scoped>\n",
       "    .dataframe tbody tr th:only-of-type {\n",
       "        vertical-align: middle;\n",
       "    }\n",
       "\n",
       "    .dataframe tbody tr th {\n",
       "        vertical-align: top;\n",
       "    }\n",
       "\n",
       "    .dataframe thead th {\n",
       "        text-align: right;\n",
       "    }\n",
       "</style>\n",
       "<table border=\"1\" class=\"dataframe\">\n",
       "  <thead>\n",
       "    <tr style=\"text-align: right;\">\n",
       "      <th></th>\n",
       "      <th>title</th>\n",
       "      <th>text</th>\n",
       "    </tr>\n",
       "  </thead>\n",
       "  <tbody>\n",
       "    <tr>\n",
       "      <th>count</th>\n",
       "      <td>30660</td>\n",
       "      <td>30660</td>\n",
       "    </tr>\n",
       "    <tr>\n",
       "      <th>unique</th>\n",
       "      <td>28800</td>\n",
       "      <td>30639</td>\n",
       "    </tr>\n",
       "    <tr>\n",
       "      <th>top</th>\n",
       "      <td>***</td>\n",
       "      <td>стихотворение ищите в рецензии, поскольку тата...</td>\n",
       "    </tr>\n",
       "    <tr>\n",
       "      <th>freq</th>\n",
       "      <td>20</td>\n",
       "      <td>4</td>\n",
       "    </tr>\n",
       "  </tbody>\n",
       "</table>\n",
       "</div>"
      ]
     },
     "execution_count": 52,
     "metadata": {},
     "output_type": "execute_result"
    }
   ],
   "execution_count": 52
  },
  {
   "metadata": {
    "ExecuteTime": {
     "end_time": "2025-08-28T17:04:59.152329Z",
     "start_time": "2025-08-28T17:04:59.147883Z"
    }
   },
   "cell_type": "code",
   "source": "dataset = dataset[~dataset.duplicated(subset=[\"text\"], keep=False)]",
   "id": "ccbd331647c9b09",
   "outputs": [],
   "execution_count": 53
  },
  {
   "metadata": {
    "ExecuteTime": {
     "end_time": "2025-08-28T17:04:59.169085Z",
     "start_time": "2025-08-28T17:04:59.156316Z"
    }
   },
   "cell_type": "code",
   "source": "dataset.describe()",
   "id": "53dc6ec363f24843",
   "outputs": [
    {
     "data": {
      "text/plain": [
       "        title                                               text\n",
       "count   30623                                              30623\n",
       "unique  28763                                              30623\n",
       "top       ***  ­­… сказки осенних вечеров ...  монохромные во...\n",
       "freq       20                                                  1"
      ],
      "text/html": [
       "<div>\n",
       "<style scoped>\n",
       "    .dataframe tbody tr th:only-of-type {\n",
       "        vertical-align: middle;\n",
       "    }\n",
       "\n",
       "    .dataframe tbody tr th {\n",
       "        vertical-align: top;\n",
       "    }\n",
       "\n",
       "    .dataframe thead th {\n",
       "        text-align: right;\n",
       "    }\n",
       "</style>\n",
       "<table border=\"1\" class=\"dataframe\">\n",
       "  <thead>\n",
       "    <tr style=\"text-align: right;\">\n",
       "      <th></th>\n",
       "      <th>title</th>\n",
       "      <th>text</th>\n",
       "    </tr>\n",
       "  </thead>\n",
       "  <tbody>\n",
       "    <tr>\n",
       "      <th>count</th>\n",
       "      <td>30623</td>\n",
       "      <td>30623</td>\n",
       "    </tr>\n",
       "    <tr>\n",
       "      <th>unique</th>\n",
       "      <td>28763</td>\n",
       "      <td>30623</td>\n",
       "    </tr>\n",
       "    <tr>\n",
       "      <th>top</th>\n",
       "      <td>***</td>\n",
       "      <td>­­… сказки осенних вечеров ...  монохромные во...</td>\n",
       "    </tr>\n",
       "    <tr>\n",
       "      <th>freq</th>\n",
       "      <td>20</td>\n",
       "      <td>1</td>\n",
       "    </tr>\n",
       "  </tbody>\n",
       "</table>\n",
       "</div>"
      ]
     },
     "execution_count": 54,
     "metadata": {},
     "output_type": "execute_result"
    }
   ],
   "execution_count": 54
  },
  {
   "metadata": {
    "ExecuteTime": {
     "end_time": "2025-08-28T17:05:32.536898Z",
     "start_time": "2025-08-28T17:05:32.534334Z"
    }
   },
   "cell_type": "code",
   "source": "dataset.reset_index(drop=True, inplace=True)",
   "id": "e30ce0689e01293b",
   "outputs": [],
   "execution_count": 56
  },
  {
   "metadata": {
    "ExecuteTime": {
     "end_time": "2025-08-28T17:05:34.791356Z",
     "start_time": "2025-08-28T17:05:34.785204Z"
    }
   },
   "cell_type": "code",
   "source": "dataset",
   "id": "6f3f000648a11b09",
   "outputs": [
    {
     "data": {
      "text/plain": [
       "                                                   title  \\\n",
       "0                                     время - октябрь...   \n",
       "1                                              переписка   \n",
       "2      айвенго (спектакль) часть 3-я. ричард – львино...   \n",
       "3                                               калевала   \n",
       "4           янки из коннектикута при дворе короля артура   \n",
       "...                                                  ...   \n",
       "30618                                         что бывало   \n",
       "30619                                         сон макара   \n",
       "30620                   финал. золотое солнце правосудия   \n",
       "30621                                  святочные истории   \n",
       "30622                           краткий снговый словарик   \n",
       "\n",
       "                                                    text  \n",
       "0      ­­… сказки осенних вечеров ...  монохромные во...  \n",
       "1      здравствуйте, вы установили мессенджер max, по...  \n",
       "2      радиоспектакль по роману.англия времен царство...  \n",
       "3      где можно найти наиболее полный литературный о...  \n",
       "4      новый, адаптированный перевод алексея козлова ...  \n",
       "...                                                  ...  \n",
       "30618  борис житков увлекался астрономией и фотографи...  \n",
       "30619  «этот сон видел бедный макар, который загнал с...  \n",
       "30620  раннее утро предвещало жаркий день. солнечные ...  \n",
       "30621  святки – удивительный период времени: один год...  \n",
       "30622  авантюрист - передовой юрист бредакция - руков...  \n",
       "\n",
       "[30623 rows x 2 columns]"
      ],
      "text/html": [
       "<div>\n",
       "<style scoped>\n",
       "    .dataframe tbody tr th:only-of-type {\n",
       "        vertical-align: middle;\n",
       "    }\n",
       "\n",
       "    .dataframe tbody tr th {\n",
       "        vertical-align: top;\n",
       "    }\n",
       "\n",
       "    .dataframe thead th {\n",
       "        text-align: right;\n",
       "    }\n",
       "</style>\n",
       "<table border=\"1\" class=\"dataframe\">\n",
       "  <thead>\n",
       "    <tr style=\"text-align: right;\">\n",
       "      <th></th>\n",
       "      <th>title</th>\n",
       "      <th>text</th>\n",
       "    </tr>\n",
       "  </thead>\n",
       "  <tbody>\n",
       "    <tr>\n",
       "      <th>0</th>\n",
       "      <td>время - октябрь...</td>\n",
       "      <td>­­… сказки осенних вечеров ...  монохромные во...</td>\n",
       "    </tr>\n",
       "    <tr>\n",
       "      <th>1</th>\n",
       "      <td>переписка</td>\n",
       "      <td>здравствуйте, вы установили мессенджер max, по...</td>\n",
       "    </tr>\n",
       "    <tr>\n",
       "      <th>2</th>\n",
       "      <td>айвенго (спектакль) часть 3-я. ричард – львино...</td>\n",
       "      <td>радиоспектакль по роману.англия времен царство...</td>\n",
       "    </tr>\n",
       "    <tr>\n",
       "      <th>3</th>\n",
       "      <td>калевала</td>\n",
       "      <td>где можно найти наиболее полный литературный о...</td>\n",
       "    </tr>\n",
       "    <tr>\n",
       "      <th>4</th>\n",
       "      <td>янки из коннектикута при дворе короля артура</td>\n",
       "      <td>новый, адаптированный перевод алексея козлова ...</td>\n",
       "    </tr>\n",
       "    <tr>\n",
       "      <th>...</th>\n",
       "      <td>...</td>\n",
       "      <td>...</td>\n",
       "    </tr>\n",
       "    <tr>\n",
       "      <th>30618</th>\n",
       "      <td>что бывало</td>\n",
       "      <td>борис житков увлекался астрономией и фотографи...</td>\n",
       "    </tr>\n",
       "    <tr>\n",
       "      <th>30619</th>\n",
       "      <td>сон макара</td>\n",
       "      <td>«этот сон видел бедный макар, который загнал с...</td>\n",
       "    </tr>\n",
       "    <tr>\n",
       "      <th>30620</th>\n",
       "      <td>финал. золотое солнце правосудия</td>\n",
       "      <td>раннее утро предвещало жаркий день. солнечные ...</td>\n",
       "    </tr>\n",
       "    <tr>\n",
       "      <th>30621</th>\n",
       "      <td>святочные истории</td>\n",
       "      <td>святки – удивительный период времени: один год...</td>\n",
       "    </tr>\n",
       "    <tr>\n",
       "      <th>30622</th>\n",
       "      <td>краткий снговый словарик</td>\n",
       "      <td>авантюрист - передовой юрист бредакция - руков...</td>\n",
       "    </tr>\n",
       "  </tbody>\n",
       "</table>\n",
       "<p>30623 rows × 2 columns</p>\n",
       "</div>"
      ]
     },
     "execution_count": 57,
     "metadata": {},
     "output_type": "execute_result"
    }
   ],
   "execution_count": 57
  },
  {
   "metadata": {
    "ExecuteTime": {
     "end_time": "2025-08-29T10:10:35.554251Z",
     "start_time": "2025-08-29T10:10:34.520721Z"
    }
   },
   "cell_type": "code",
   "source": [
    "dup_titles = (\n",
    "    dataset.groupby(\"text\")[\"title\"]\n",
    "    .nunique()\n",
    "    .reset_index()\n",
    "    .query(\"title > 1\")\n",
    ")\n",
    "\n",
    "print(f\"Текстов с одинаковыми содержаниями, но разными названиями: {len(dup_titles)}\")"
   ],
   "id": "c054973011a621ae",
   "outputs": [
    {
     "name": "stdout",
     "output_type": "stream",
     "text": [
      "Текстов с одинаковыми содержаниями, но разными названиями: 16\n"
     ]
    }
   ],
   "execution_count": 111
  },
  {
   "metadata": {
    "ExecuteTime": {
     "end_time": "2025-08-29T10:11:00.842171Z",
     "start_time": "2025-08-29T10:10:58.708074Z"
    }
   },
   "cell_type": "code",
   "source": [
    "dataset = dataset.groupby(\"text\").agg(lambda x: x.value_counts().index[0]).reset_index()\n",
    "dataset.describe()"
   ],
   "id": "88cd86c938c9ae78",
   "outputs": [
    {
     "data": {
      "text/plain": [
       "                                                     text  title\n",
       "count                                               30639  30639\n",
       "unique                                              30639  28779\n",
       "top       как любому живому организму, организации нуж...    ***\n",
       "freq                                                    1     20"
      ],
      "text/html": [
       "<div>\n",
       "<style scoped>\n",
       "    .dataframe tbody tr th:only-of-type {\n",
       "        vertical-align: middle;\n",
       "    }\n",
       "\n",
       "    .dataframe tbody tr th {\n",
       "        vertical-align: top;\n",
       "    }\n",
       "\n",
       "    .dataframe thead th {\n",
       "        text-align: right;\n",
       "    }\n",
       "</style>\n",
       "<table border=\"1\" class=\"dataframe\">\n",
       "  <thead>\n",
       "    <tr style=\"text-align: right;\">\n",
       "      <th></th>\n",
       "      <th>text</th>\n",
       "      <th>title</th>\n",
       "    </tr>\n",
       "  </thead>\n",
       "  <tbody>\n",
       "    <tr>\n",
       "      <th>count</th>\n",
       "      <td>30639</td>\n",
       "      <td>30639</td>\n",
       "    </tr>\n",
       "    <tr>\n",
       "      <th>unique</th>\n",
       "      <td>30639</td>\n",
       "      <td>28779</td>\n",
       "    </tr>\n",
       "    <tr>\n",
       "      <th>top</th>\n",
       "      <td>как любому живому организму, организации нуж...</td>\n",
       "      <td>***</td>\n",
       "    </tr>\n",
       "    <tr>\n",
       "      <th>freq</th>\n",
       "      <td>1</td>\n",
       "      <td>20</td>\n",
       "    </tr>\n",
       "  </tbody>\n",
       "</table>\n",
       "</div>"
      ]
     },
     "execution_count": 112,
     "metadata": {},
     "output_type": "execute_result"
    }
   ],
   "execution_count": 112
  },
  {
   "metadata": {
    "ExecuteTime": {
     "end_time": "2025-08-29T10:11:54.268676Z",
     "start_time": "2025-08-29T10:11:54.264650Z"
    }
   },
   "cell_type": "code",
   "source": [
    "def is_meaningful(text):\n",
    "    return bool(re.search(r\"[А-Яа-яA-Za-z0-9]\", text))\n",
    "\n",
    "def clean_leading_punct(text):\n",
    "    return re.sub(r\"^[^\\wА-Яа-я0-9]+\", \"\", text).strip()"
   ],
   "id": "f67459ffb3573e3",
   "outputs": [],
   "execution_count": 113
  },
  {
   "metadata": {
    "ExecuteTime": {
     "end_time": "2025-08-29T10:12:31.443204Z",
     "start_time": "2025-08-29T10:12:31.409699Z"
    }
   },
   "cell_type": "code",
   "source": [
    "dataset = dataset[dataset.text.apply(is_meaningful)].reset_index(drop=True)\n",
    "dataset.describe()"
   ],
   "id": "5e4340a5c7913c0f",
   "outputs": [
    {
     "data": {
      "text/plain": [
       "                                                     text  title\n",
       "count                                               30634  30634\n",
       "unique                                              30634  28774\n",
       "top       как любому живому организму, организации нуж...    ***\n",
       "freq                                                    1     20"
      ],
      "text/html": [
       "<div>\n",
       "<style scoped>\n",
       "    .dataframe tbody tr th:only-of-type {\n",
       "        vertical-align: middle;\n",
       "    }\n",
       "\n",
       "    .dataframe tbody tr th {\n",
       "        vertical-align: top;\n",
       "    }\n",
       "\n",
       "    .dataframe thead th {\n",
       "        text-align: right;\n",
       "    }\n",
       "</style>\n",
       "<table border=\"1\" class=\"dataframe\">\n",
       "  <thead>\n",
       "    <tr style=\"text-align: right;\">\n",
       "      <th></th>\n",
       "      <th>text</th>\n",
       "      <th>title</th>\n",
       "    </tr>\n",
       "  </thead>\n",
       "  <tbody>\n",
       "    <tr>\n",
       "      <th>count</th>\n",
       "      <td>30634</td>\n",
       "      <td>30634</td>\n",
       "    </tr>\n",
       "    <tr>\n",
       "      <th>unique</th>\n",
       "      <td>30634</td>\n",
       "      <td>28774</td>\n",
       "    </tr>\n",
       "    <tr>\n",
       "      <th>top</th>\n",
       "      <td>как любому живому организму, организации нуж...</td>\n",
       "      <td>***</td>\n",
       "    </tr>\n",
       "    <tr>\n",
       "      <th>freq</th>\n",
       "      <td>1</td>\n",
       "      <td>20</td>\n",
       "    </tr>\n",
       "  </tbody>\n",
       "</table>\n",
       "</div>"
      ]
     },
     "execution_count": 114,
     "metadata": {},
     "output_type": "execute_result"
    }
   ],
   "execution_count": 114
  },
  {
   "metadata": {
    "ExecuteTime": {
     "end_time": "2025-08-29T10:14:06.986746Z",
     "start_time": "2025-08-29T10:14:03.977715Z"
    }
   },
   "cell_type": "code",
   "source": [
    "dataset = dataset[dataset.text.str.len() > 10]\n",
    "dataset = dataset[dataset.text.str.split().str.len() > 5]"
   ],
   "id": "681a09351e358aea",
   "outputs": [],
   "execution_count": 116
  },
  {
   "metadata": {
    "ExecuteTime": {
     "end_time": "2025-08-29T10:14:16.811630Z",
     "start_time": "2025-08-29T10:14:07.007157Z"
    }
   },
   "cell_type": "code",
   "source": [
    "dataset.text = dataset.text.str.replace(r\"[^\\w\\s,.!?-]\", \" \", regex=True)\n",
    "dataset.text = dataset.text.str.replace(r\"\\s+\", \" \", regex=True).str.strip()"
   ],
   "id": "25340fa26876af23",
   "outputs": [],
   "execution_count": 117
  },
  {
   "metadata": {
    "ExecuteTime": {
     "end_time": "2025-08-29T10:14:17.057040Z",
     "start_time": "2025-08-29T10:14:16.817077Z"
    }
   },
   "cell_type": "code",
   "source": [
    "dataset.text = dataset.text.apply(clean_leading_punct)\n",
    "dataset.describe()"
   ],
   "id": "e5940e25056d858f",
   "outputs": [
    {
     "data": {
      "text/plain": [
       "                                                     text  title\n",
       "count                                               30533  30533\n",
       "unique                                              30488  28685\n",
       "top     адам бид дебютный роман знаменитой английской ...    ***\n",
       "freq                                                    3     20"
      ],
      "text/html": [
       "<div>\n",
       "<style scoped>\n",
       "    .dataframe tbody tr th:only-of-type {\n",
       "        vertical-align: middle;\n",
       "    }\n",
       "\n",
       "    .dataframe tbody tr th {\n",
       "        vertical-align: top;\n",
       "    }\n",
       "\n",
       "    .dataframe thead th {\n",
       "        text-align: right;\n",
       "    }\n",
       "</style>\n",
       "<table border=\"1\" class=\"dataframe\">\n",
       "  <thead>\n",
       "    <tr style=\"text-align: right;\">\n",
       "      <th></th>\n",
       "      <th>text</th>\n",
       "      <th>title</th>\n",
       "    </tr>\n",
       "  </thead>\n",
       "  <tbody>\n",
       "    <tr>\n",
       "      <th>count</th>\n",
       "      <td>30533</td>\n",
       "      <td>30533</td>\n",
       "    </tr>\n",
       "    <tr>\n",
       "      <th>unique</th>\n",
       "      <td>30488</td>\n",
       "      <td>28685</td>\n",
       "    </tr>\n",
       "    <tr>\n",
       "      <th>top</th>\n",
       "      <td>адам бид дебютный роман знаменитой английской ...</td>\n",
       "      <td>***</td>\n",
       "    </tr>\n",
       "    <tr>\n",
       "      <th>freq</th>\n",
       "      <td>3</td>\n",
       "      <td>20</td>\n",
       "    </tr>\n",
       "  </tbody>\n",
       "</table>\n",
       "</div>"
      ]
     },
     "execution_count": 118,
     "metadata": {},
     "output_type": "execute_result"
    }
   ],
   "execution_count": 118
  },
  {
   "metadata": {
    "ExecuteTime": {
     "end_time": "2025-08-29T10:14:57.563844Z",
     "start_time": "2025-08-29T10:14:57.532234Z"
    }
   },
   "cell_type": "code",
   "source": [
    "dataset.reset_index(drop=True, inplace=True)\n",
    "dataset = dataset[~dataset.duplicated(subset=[\"text\"], keep=False)].reset_index(drop=True)\n",
    "dataset.describe()"
   ],
   "id": "1d465e825d13f802",
   "outputs": [
    {
     "data": {
      "text/plain": [
       "                                                     text  title\n",
       "count                                               30444  30444\n",
       "unique                                              30444  28601\n",
       "top     как любому живому организму, организации нужна...    ***\n",
       "freq                                                    1     20"
      ],
      "text/html": [
       "<div>\n",
       "<style scoped>\n",
       "    .dataframe tbody tr th:only-of-type {\n",
       "        vertical-align: middle;\n",
       "    }\n",
       "\n",
       "    .dataframe tbody tr th {\n",
       "        vertical-align: top;\n",
       "    }\n",
       "\n",
       "    .dataframe thead th {\n",
       "        text-align: right;\n",
       "    }\n",
       "</style>\n",
       "<table border=\"1\" class=\"dataframe\">\n",
       "  <thead>\n",
       "    <tr style=\"text-align: right;\">\n",
       "      <th></th>\n",
       "      <th>text</th>\n",
       "      <th>title</th>\n",
       "    </tr>\n",
       "  </thead>\n",
       "  <tbody>\n",
       "    <tr>\n",
       "      <th>count</th>\n",
       "      <td>30444</td>\n",
       "      <td>30444</td>\n",
       "    </tr>\n",
       "    <tr>\n",
       "      <th>unique</th>\n",
       "      <td>30444</td>\n",
       "      <td>28601</td>\n",
       "    </tr>\n",
       "    <tr>\n",
       "      <th>top</th>\n",
       "      <td>как любому живому организму, организации нужна...</td>\n",
       "      <td>***</td>\n",
       "    </tr>\n",
       "    <tr>\n",
       "      <th>freq</th>\n",
       "      <td>1</td>\n",
       "      <td>20</td>\n",
       "    </tr>\n",
       "  </tbody>\n",
       "</table>\n",
       "</div>"
      ]
     },
     "execution_count": 119,
     "metadata": {},
     "output_type": "execute_result"
    }
   ],
   "execution_count": 119
  },
  {
   "metadata": {},
   "cell_type": "markdown",
   "source": "## Разделение на выборки",
   "id": "6ed60958b34a2c57"
  },
  {
   "metadata": {
    "ExecuteTime": {
     "end_time": "2025-08-29T10:51:40.373953Z",
     "start_time": "2025-08-29T10:51:40.322034Z"
    }
   },
   "cell_type": "code",
   "source": [
    "train_df, val_df = train_test_split(\n",
    "    dataset, test_size=0.2, random_state=42, shuffle=True\n",
    ")"
   ],
   "id": "841e1b60c4188bf2",
   "outputs": [],
   "execution_count": 147
  },
  {
   "metadata": {
    "ExecuteTime": {
     "end_time": "2025-08-29T10:52:09.946569Z",
     "start_time": "2025-08-29T10:52:09.939889Z"
    }
   },
   "cell_type": "code",
   "source": "len(train_df), len(val_df)",
   "id": "7714c279ef065714",
   "outputs": [
    {
     "data": {
      "text/plain": [
       "(24355, 6089)"
      ]
     },
     "execution_count": 149,
     "metadata": {},
     "output_type": "execute_result"
    }
   ],
   "execution_count": 149
  },
  {
   "metadata": {
    "ExecuteTime": {
     "end_time": "2025-08-29T10:51:42.414789Z",
     "start_time": "2025-08-29T10:51:41.067406Z"
    }
   },
   "cell_type": "code",
   "source": "val_df.to_csv(\"../data/val_df.csv\", index=False)",
   "id": "eb2fd3b2e3e89e45",
   "outputs": [],
   "execution_count": 148
  },
  {
   "metadata": {},
   "cell_type": "markdown",
   "source": "## Аугментация тренировочной выборки",
   "id": "3a35a50046f1c874"
  },
  {
   "metadata": {
    "ExecuteTime": {
     "end_time": "2025-08-29T10:23:05.231007Z",
     "start_time": "2025-08-29T10:23:05.225045Z"
    }
   },
   "cell_type": "code",
   "source": [
    "def split_text_into_chunks(text, sentences_per_chunk=3):\n",
    "    sentences = sent_tokenize(text, language=\"russian\")\n",
    "    chunks = []\n",
    "    for i in range(0, len(sentences), sentences_per_chunk):\n",
    "        chunk = \" \".join(sentences[i:i+sentences_per_chunk])\n",
    "        chunks.append(chunk)\n",
    "    return chunks"
   ],
   "id": "3f8f80ede483fa3a",
   "outputs": [],
   "execution_count": 126
  },
  {
   "metadata": {
    "ExecuteTime": {
     "end_time": "2025-08-29T10:23:31.113124Z",
     "start_time": "2025-08-29T10:23:06.078662Z"
    }
   },
   "cell_type": "code",
   "source": [
    "from tqdm import tqdm\n",
    "\n",
    "augmented_rows = []\n",
    "for _, row in tqdm(train_df.iterrows(), total=len(train_df)):\n",
    "    chunks = split_text_into_chunks(row.text, sentences_per_chunk=3)\n",
    "    for chunk in chunks:\n",
    "        augmented_rows.append({\"text\": chunk, \"title\": row.title})\n",
    "\n",
    "augmented_dataset = pd.DataFrame(augmented_rows)"
   ],
   "id": "4eb3833df9c0acc1",
   "outputs": [
    {
     "name": "stderr",
     "output_type": "stream",
     "text": [
      "100%|██████████| 24355/24355 [00:24<00:00, 1003.24it/s]\n"
     ]
    }
   ],
   "execution_count": 127
  },
  {
   "metadata": {
    "ExecuteTime": {
     "end_time": "2025-08-29T10:24:40.446921Z",
     "start_time": "2025-08-29T10:24:39.774481Z"
    }
   },
   "cell_type": "code",
   "source": "augmented_dataset.describe()",
   "id": "ad913ba8ea0d86a0",
   "outputs": [
    {
     "data": {
      "text/plain": [
       "           text                            title\n",
       "count   1346212                          1346212\n",
       "unique  1318194                            23154\n",
       "top       . . .  чистый хозяин собственного мира\n",
       "freq        247                            13972"
      ],
      "text/html": [
       "<div>\n",
       "<style scoped>\n",
       "    .dataframe tbody tr th:only-of-type {\n",
       "        vertical-align: middle;\n",
       "    }\n",
       "\n",
       "    .dataframe tbody tr th {\n",
       "        vertical-align: top;\n",
       "    }\n",
       "\n",
       "    .dataframe thead th {\n",
       "        text-align: right;\n",
       "    }\n",
       "</style>\n",
       "<table border=\"1\" class=\"dataframe\">\n",
       "  <thead>\n",
       "    <tr style=\"text-align: right;\">\n",
       "      <th></th>\n",
       "      <th>text</th>\n",
       "      <th>title</th>\n",
       "    </tr>\n",
       "  </thead>\n",
       "  <tbody>\n",
       "    <tr>\n",
       "      <th>count</th>\n",
       "      <td>1346212</td>\n",
       "      <td>1346212</td>\n",
       "    </tr>\n",
       "    <tr>\n",
       "      <th>unique</th>\n",
       "      <td>1318194</td>\n",
       "      <td>23154</td>\n",
       "    </tr>\n",
       "    <tr>\n",
       "      <th>top</th>\n",
       "      <td>. . .</td>\n",
       "      <td>чистый хозяин собственного мира</td>\n",
       "    </tr>\n",
       "    <tr>\n",
       "      <th>freq</th>\n",
       "      <td>247</td>\n",
       "      <td>13972</td>\n",
       "    </tr>\n",
       "  </tbody>\n",
       "</table>\n",
       "</div>"
      ]
     },
     "execution_count": 128,
     "metadata": {},
     "output_type": "execute_result"
    }
   ],
   "execution_count": 128
  },
  {
   "metadata": {
    "ExecuteTime": {
     "end_time": "2025-08-29T10:24:53.055167Z",
     "start_time": "2025-08-29T10:24:52.524266Z"
    }
   },
   "cell_type": "code",
   "source": [
    "augmented_dataset = augmented_dataset[augmented_dataset.text.str.strip().str.len() > 10]\n",
    "augmented_dataset = augmented_dataset[augmented_dataset.text != \". . .\"]\n",
    "\n",
    "max_per_title = 500\n",
    "augmented_dataset = augmented_dataset.groupby(\"title\").head(max_per_title).reset_index(drop=True)\n",
    "\n",
    "print(augmented_dataset.title.value_counts().head(10))"
   ],
   "id": "cd4860175c4e294c",
   "outputs": [
    {
     "name": "stdout",
     "output_type": "stream",
     "text": [
      "title\n",
      "пророку ев ап иоанну богослову чудотв!              500\n",
      "тайна зеленой молнии                                500\n",
      "если солнечные часы отстают…                        500\n",
      "любовь или свобода 3: второй шанс                   500\n",
      "привет от сведенборга                               500\n",
      "азбука жизни книга 5 иначе жить нельзя!             500\n",
      "прошёл все пути                                     500\n",
      "легенды айстауна                                    500\n",
      "дорога в никуда? часть 2. звёздные разборки.        500\n",
      "священная миссия, или как ощипать падшего ангела    500\n",
      "Name: count, dtype: int64\n"
     ]
    }
   ],
   "execution_count": 129
  },
  {
   "metadata": {
    "ExecuteTime": {
     "end_time": "2025-08-29T10:25:00.150441Z",
     "start_time": "2025-08-29T10:24:59.723322Z"
    }
   },
   "cell_type": "code",
   "source": "augmented_dataset.describe()",
   "id": "cc10100f897cba34",
   "outputs": [
    {
     "data": {
      "text/plain": [
       "                                                     text  \\\n",
       "count                                              868595   \n",
       "unique                                             851894   \n",
       "top     это не значит, что остальным жителям планеты н...   \n",
       "freq                                                   52   \n",
       "\n",
       "                                         title  \n",
       "count                                   868595  \n",
       "unique                                   23154  \n",
       "top     пророку ев ап иоанну богослову чудотв!  \n",
       "freq                                       500  "
      ],
      "text/html": [
       "<div>\n",
       "<style scoped>\n",
       "    .dataframe tbody tr th:only-of-type {\n",
       "        vertical-align: middle;\n",
       "    }\n",
       "\n",
       "    .dataframe tbody tr th {\n",
       "        vertical-align: top;\n",
       "    }\n",
       "\n",
       "    .dataframe thead th {\n",
       "        text-align: right;\n",
       "    }\n",
       "</style>\n",
       "<table border=\"1\" class=\"dataframe\">\n",
       "  <thead>\n",
       "    <tr style=\"text-align: right;\">\n",
       "      <th></th>\n",
       "      <th>text</th>\n",
       "      <th>title</th>\n",
       "    </tr>\n",
       "  </thead>\n",
       "  <tbody>\n",
       "    <tr>\n",
       "      <th>count</th>\n",
       "      <td>868595</td>\n",
       "      <td>868595</td>\n",
       "    </tr>\n",
       "    <tr>\n",
       "      <th>unique</th>\n",
       "      <td>851894</td>\n",
       "      <td>23154</td>\n",
       "    </tr>\n",
       "    <tr>\n",
       "      <th>top</th>\n",
       "      <td>это не значит, что остальным жителям планеты н...</td>\n",
       "      <td>пророку ев ап иоанну богослову чудотв!</td>\n",
       "    </tr>\n",
       "    <tr>\n",
       "      <th>freq</th>\n",
       "      <td>52</td>\n",
       "      <td>500</td>\n",
       "    </tr>\n",
       "  </tbody>\n",
       "</table>\n",
       "</div>"
      ]
     },
     "execution_count": 130,
     "metadata": {},
     "output_type": "execute_result"
    }
   ],
   "execution_count": 130
  },
  {
   "metadata": {
    "ExecuteTime": {
     "end_time": "2025-08-29T10:25:04.457912Z",
     "start_time": "2025-08-29T10:25:03.481683Z"
    }
   },
   "cell_type": "code",
   "source": "augmented_dataset = augmented_dataset.drop_duplicates().reset_index(drop=True)",
   "id": "a2dad8eeb90a0c65",
   "outputs": [],
   "execution_count": 131
  },
  {
   "metadata": {
    "ExecuteTime": {
     "end_time": "2025-08-29T10:25:06.251452Z",
     "start_time": "2025-08-29T10:25:05.846411Z"
    }
   },
   "cell_type": "code",
   "source": "augmented_dataset.describe()",
   "id": "4821aa22abe02009",
   "outputs": [
    {
     "data": {
      "text/plain": [
       "                                                     text  \\\n",
       "count                                              866772   \n",
       "unique                                             851894   \n",
       "top     если же кого-то заинтересует более подробно то...   \n",
       "freq                                                   52   \n",
       "\n",
       "                                         title  \n",
       "count                                   866772  \n",
       "unique                                   23154  \n",
       "top     пророку ев ап иоанну богослову чудотв!  \n",
       "freq                                       500  "
      ],
      "text/html": [
       "<div>\n",
       "<style scoped>\n",
       "    .dataframe tbody tr th:only-of-type {\n",
       "        vertical-align: middle;\n",
       "    }\n",
       "\n",
       "    .dataframe tbody tr th {\n",
       "        vertical-align: top;\n",
       "    }\n",
       "\n",
       "    .dataframe thead th {\n",
       "        text-align: right;\n",
       "    }\n",
       "</style>\n",
       "<table border=\"1\" class=\"dataframe\">\n",
       "  <thead>\n",
       "    <tr style=\"text-align: right;\">\n",
       "      <th></th>\n",
       "      <th>text</th>\n",
       "      <th>title</th>\n",
       "    </tr>\n",
       "  </thead>\n",
       "  <tbody>\n",
       "    <tr>\n",
       "      <th>count</th>\n",
       "      <td>866772</td>\n",
       "      <td>866772</td>\n",
       "    </tr>\n",
       "    <tr>\n",
       "      <th>unique</th>\n",
       "      <td>851894</td>\n",
       "      <td>23154</td>\n",
       "    </tr>\n",
       "    <tr>\n",
       "      <th>top</th>\n",
       "      <td>если же кого-то заинтересует более подробно то...</td>\n",
       "      <td>пророку ев ап иоанну богослову чудотв!</td>\n",
       "    </tr>\n",
       "    <tr>\n",
       "      <th>freq</th>\n",
       "      <td>52</td>\n",
       "      <td>500</td>\n",
       "    </tr>\n",
       "  </tbody>\n",
       "</table>\n",
       "</div>"
      ]
     },
     "execution_count": 132,
     "metadata": {},
     "output_type": "execute_result"
    }
   ],
   "execution_count": 132
  },
  {
   "metadata": {
    "ExecuteTime": {
     "end_time": "2025-08-29T10:25:10.721013Z",
     "start_time": "2025-08-29T10:25:09.431680Z"
    }
   },
   "cell_type": "code",
   "source": [
    "dup_titles = (\n",
    "    augmented_dataset.groupby(\"text\")[\"title\"]\n",
    "    .nunique()\n",
    "    .reset_index()\n",
    "    .query(\"title > 1\")\n",
    ")\n",
    "\n",
    "print(f\"Текстов с одинаковыми содержаниями, но разными названиями: {len(dup_titles)}\")"
   ],
   "id": "e0ae8de4c71bd7d7",
   "outputs": [
    {
     "name": "stdout",
     "output_type": "stream",
     "text": [
      "Текстов с одинаковыми содержаниями, но разными названиями: 3630\n"
     ]
    }
   ],
   "execution_count": 133
  },
  {
   "metadata": {
    "ExecuteTime": {
     "end_time": "2025-08-29T10:25:46.456627Z",
     "start_time": "2025-08-29T10:25:14.478510Z"
    }
   },
   "cell_type": "code",
   "source": "augmented_dataset = augmented_dataset.groupby(\"text\").agg(lambda x: x.value_counts().index[0]).reset_index()",
   "id": "781f1ef923e5cce7",
   "outputs": [],
   "execution_count": 134
  },
  {
   "metadata": {
    "ExecuteTime": {
     "end_time": "2025-08-28T17:25:30.338118Z",
     "start_time": "2025-08-28T17:25:29.791033Z"
    }
   },
   "cell_type": "code",
   "source": "augmented_dataset.describe()",
   "id": "e80af32644ccdc4d",
   "outputs": [
    {
     "data": {
      "text/plain": [
       "                                                     text              title\n",
       "count                                             1282668            1282668\n",
       "unique                                            1282668              28735\n",
       "top       как любому живому организму, организации нуж...  сто блюд из кошки\n",
       "freq                                                    1               1000"
      ],
      "text/html": [
       "<div>\n",
       "<style scoped>\n",
       "    .dataframe tbody tr th:only-of-type {\n",
       "        vertical-align: middle;\n",
       "    }\n",
       "\n",
       "    .dataframe tbody tr th {\n",
       "        vertical-align: top;\n",
       "    }\n",
       "\n",
       "    .dataframe thead th {\n",
       "        text-align: right;\n",
       "    }\n",
       "</style>\n",
       "<table border=\"1\" class=\"dataframe\">\n",
       "  <thead>\n",
       "    <tr style=\"text-align: right;\">\n",
       "      <th></th>\n",
       "      <th>text</th>\n",
       "      <th>title</th>\n",
       "    </tr>\n",
       "  </thead>\n",
       "  <tbody>\n",
       "    <tr>\n",
       "      <th>count</th>\n",
       "      <td>1282668</td>\n",
       "      <td>1282668</td>\n",
       "    </tr>\n",
       "    <tr>\n",
       "      <th>unique</th>\n",
       "      <td>1282668</td>\n",
       "      <td>28735</td>\n",
       "    </tr>\n",
       "    <tr>\n",
       "      <th>top</th>\n",
       "      <td>как любому живому организму, организации нуж...</td>\n",
       "      <td>сто блюд из кошки</td>\n",
       "    </tr>\n",
       "    <tr>\n",
       "      <th>freq</th>\n",
       "      <td>1</td>\n",
       "      <td>1000</td>\n",
       "    </tr>\n",
       "  </tbody>\n",
       "</table>\n",
       "</div>"
      ]
     },
     "execution_count": 74,
     "metadata": {},
     "output_type": "execute_result"
    }
   ],
   "execution_count": 74
  },
  {
   "metadata": {
    "ExecuteTime": {
     "end_time": "2025-08-29T10:25:58.869271Z",
     "start_time": "2025-08-29T10:25:58.522552Z"
    }
   },
   "cell_type": "code",
   "source": "augmented_dataset = augmented_dataset[augmented_dataset.text.apply(is_meaningful)].reset_index(drop=True)",
   "id": "21ec57e32015bfdc",
   "outputs": [],
   "execution_count": 135
  },
  {
   "metadata": {
    "ExecuteTime": {
     "end_time": "2025-08-29T10:25:59.814014Z",
     "start_time": "2025-08-29T10:25:59.383670Z"
    }
   },
   "cell_type": "code",
   "source": "augmented_dataset.describe()",
   "id": "efb7f18ed2278b15",
   "outputs": [
    {
     "data": {
      "text/plain": [
       "                                                     text  \\\n",
       "count                                              851528   \n",
       "unique                                             851528   \n",
       "top     ! ! если ссылка неактивна, просто вставьте в а...   \n",
       "freq                                                    1   \n",
       "\n",
       "                       title  \n",
       "count                 851528  \n",
       "unique                 23145  \n",
       "top     сильнее жизни (1-25)  \n",
       "freq                     500  "
      ],
      "text/html": [
       "<div>\n",
       "<style scoped>\n",
       "    .dataframe tbody tr th:only-of-type {\n",
       "        vertical-align: middle;\n",
       "    }\n",
       "\n",
       "    .dataframe tbody tr th {\n",
       "        vertical-align: top;\n",
       "    }\n",
       "\n",
       "    .dataframe thead th {\n",
       "        text-align: right;\n",
       "    }\n",
       "</style>\n",
       "<table border=\"1\" class=\"dataframe\">\n",
       "  <thead>\n",
       "    <tr style=\"text-align: right;\">\n",
       "      <th></th>\n",
       "      <th>text</th>\n",
       "      <th>title</th>\n",
       "    </tr>\n",
       "  </thead>\n",
       "  <tbody>\n",
       "    <tr>\n",
       "      <th>count</th>\n",
       "      <td>851528</td>\n",
       "      <td>851528</td>\n",
       "    </tr>\n",
       "    <tr>\n",
       "      <th>unique</th>\n",
       "      <td>851528</td>\n",
       "      <td>23145</td>\n",
       "    </tr>\n",
       "    <tr>\n",
       "      <th>top</th>\n",
       "      <td>! ! если ссылка неактивна, просто вставьте в а...</td>\n",
       "      <td>сильнее жизни (1-25)</td>\n",
       "    </tr>\n",
       "    <tr>\n",
       "      <th>freq</th>\n",
       "      <td>1</td>\n",
       "      <td>500</td>\n",
       "    </tr>\n",
       "  </tbody>\n",
       "</table>\n",
       "</div>"
      ]
     },
     "execution_count": 136,
     "metadata": {},
     "output_type": "execute_result"
    }
   ],
   "execution_count": 136
  },
  {
   "metadata": {
    "ExecuteTime": {
     "end_time": "2025-08-29T10:26:08.145369Z",
     "start_time": "2025-08-29T10:26:05.178286Z"
    }
   },
   "cell_type": "code",
   "source": [
    "augmented_dataset = augmented_dataset[augmented_dataset.text.str.len() > 10]\n",
    "augmented_dataset = augmented_dataset[augmented_dataset.text.str.split().str.len() > 5]"
   ],
   "id": "89af1d33ffb007db",
   "outputs": [],
   "execution_count": 137
  },
  {
   "metadata": {
    "ExecuteTime": {
     "end_time": "2025-08-29T10:26:08.291476Z",
     "start_time": "2025-08-29T10:26:08.289362Z"
    }
   },
   "cell_type": "code",
   "source": "augmented_dataset.reset_index(inplace=True, drop=True)",
   "id": "acbcd0f8e2bb0e1d",
   "outputs": [],
   "execution_count": 138
  },
  {
   "metadata": {
    "ExecuteTime": {
     "end_time": "2025-08-29T10:26:09.622592Z",
     "start_time": "2025-08-29T10:26:09.208176Z"
    }
   },
   "cell_type": "code",
   "source": "augmented_dataset.describe()",
   "id": "5261d6ec9d627173",
   "outputs": [
    {
     "data": {
      "text/plain": [
       "                                                     text  \\\n",
       "count                                              845871   \n",
       "unique                                             845871   \n",
       "top     ! ! если ссылка неактивна, просто вставьте в а...   \n",
       "freq                                                    1   \n",
       "\n",
       "                                      title  \n",
       "count                                845871  \n",
       "unique                                23142  \n",
       "top     вопреки всему (роман о суини тодде)  \n",
       "freq                                    500  "
      ],
      "text/html": [
       "<div>\n",
       "<style scoped>\n",
       "    .dataframe tbody tr th:only-of-type {\n",
       "        vertical-align: middle;\n",
       "    }\n",
       "\n",
       "    .dataframe tbody tr th {\n",
       "        vertical-align: top;\n",
       "    }\n",
       "\n",
       "    .dataframe thead th {\n",
       "        text-align: right;\n",
       "    }\n",
       "</style>\n",
       "<table border=\"1\" class=\"dataframe\">\n",
       "  <thead>\n",
       "    <tr style=\"text-align: right;\">\n",
       "      <th></th>\n",
       "      <th>text</th>\n",
       "      <th>title</th>\n",
       "    </tr>\n",
       "  </thead>\n",
       "  <tbody>\n",
       "    <tr>\n",
       "      <th>count</th>\n",
       "      <td>845871</td>\n",
       "      <td>845871</td>\n",
       "    </tr>\n",
       "    <tr>\n",
       "      <th>unique</th>\n",
       "      <td>845871</td>\n",
       "      <td>23142</td>\n",
       "    </tr>\n",
       "    <tr>\n",
       "      <th>top</th>\n",
       "      <td>! ! если ссылка неактивна, просто вставьте в а...</td>\n",
       "      <td>вопреки всему (роман о суини тодде)</td>\n",
       "    </tr>\n",
       "    <tr>\n",
       "      <th>freq</th>\n",
       "      <td>1</td>\n",
       "      <td>500</td>\n",
       "    </tr>\n",
       "  </tbody>\n",
       "</table>\n",
       "</div>"
      ]
     },
     "execution_count": 139,
     "metadata": {},
     "output_type": "execute_result"
    }
   ],
   "execution_count": 139
  },
  {
   "metadata": {
    "ExecuteTime": {
     "end_time": "2025-08-29T10:26:17.269037Z",
     "start_time": "2025-08-29T10:26:11.954529Z"
    }
   },
   "cell_type": "code",
   "source": [
    "augmented_dataset.text = augmented_dataset.text.str.replace(r\"[^\\w\\s,.!?-]\", \" \", regex=True)\n",
    "augmented_dataset.text = augmented_dataset.text.str.replace(r\"\\s+\", \" \", regex=True).str.strip()"
   ],
   "id": "b52466d8c92687f2",
   "outputs": [],
   "execution_count": 140
  },
  {
   "metadata": {
    "ExecuteTime": {
     "end_time": "2025-08-29T10:26:17.708786Z",
     "start_time": "2025-08-29T10:26:17.272637Z"
    }
   },
   "cell_type": "code",
   "source": "augmented_dataset.describe()",
   "id": "c6dc4ae6d3bad933",
   "outputs": [
    {
     "data": {
      "text/plain": [
       "                                                     text  \\\n",
       "count                                              845871   \n",
       "unique                                             845871   \n",
       "top     ! ! если ссылка неактивна, просто вставьте в а...   \n",
       "freq                                                    1   \n",
       "\n",
       "                                      title  \n",
       "count                                845871  \n",
       "unique                                23142  \n",
       "top     вопреки всему (роман о суини тодде)  \n",
       "freq                                    500  "
      ],
      "text/html": [
       "<div>\n",
       "<style scoped>\n",
       "    .dataframe tbody tr th:only-of-type {\n",
       "        vertical-align: middle;\n",
       "    }\n",
       "\n",
       "    .dataframe tbody tr th {\n",
       "        vertical-align: top;\n",
       "    }\n",
       "\n",
       "    .dataframe thead th {\n",
       "        text-align: right;\n",
       "    }\n",
       "</style>\n",
       "<table border=\"1\" class=\"dataframe\">\n",
       "  <thead>\n",
       "    <tr style=\"text-align: right;\">\n",
       "      <th></th>\n",
       "      <th>text</th>\n",
       "      <th>title</th>\n",
       "    </tr>\n",
       "  </thead>\n",
       "  <tbody>\n",
       "    <tr>\n",
       "      <th>count</th>\n",
       "      <td>845871</td>\n",
       "      <td>845871</td>\n",
       "    </tr>\n",
       "    <tr>\n",
       "      <th>unique</th>\n",
       "      <td>845871</td>\n",
       "      <td>23142</td>\n",
       "    </tr>\n",
       "    <tr>\n",
       "      <th>top</th>\n",
       "      <td>! ! если ссылка неактивна, просто вставьте в а...</td>\n",
       "      <td>вопреки всему (роман о суини тодде)</td>\n",
       "    </tr>\n",
       "    <tr>\n",
       "      <th>freq</th>\n",
       "      <td>1</td>\n",
       "      <td>500</td>\n",
       "    </tr>\n",
       "  </tbody>\n",
       "</table>\n",
       "</div>"
      ]
     },
     "execution_count": 141,
     "metadata": {},
     "output_type": "execute_result"
    }
   ],
   "execution_count": 141
  },
  {
   "metadata": {
    "ExecuteTime": {
     "end_time": "2025-08-29T10:26:21.751410Z",
     "start_time": "2025-08-29T10:26:21.477260Z"
    }
   },
   "cell_type": "code",
   "source": "augmented_dataset.text = augmented_dataset.text.apply(clean_leading_punct)",
   "id": "ed7de1e366f29ffa",
   "outputs": [],
   "execution_count": 142
  },
  {
   "metadata": {
    "ExecuteTime": {
     "end_time": "2025-08-29T10:26:23.180018Z",
     "start_time": "2025-08-29T10:26:22.791259Z"
    }
   },
   "cell_type": "code",
   "source": "augmented_dataset.describe()",
   "id": "bfca9206eea67c0c",
   "outputs": [
    {
     "data": {
      "text/plain": [
       "                                                     text  \\\n",
       "count                                              845871   \n",
       "unique                                             845859   \n",
       "top     она решила покарать меня за то, что я возвелич...   \n",
       "freq                                                    2   \n",
       "\n",
       "                                      title  \n",
       "count                                845871  \n",
       "unique                                23142  \n",
       "top     вопреки всему (роман о суини тодде)  \n",
       "freq                                    500  "
      ],
      "text/html": [
       "<div>\n",
       "<style scoped>\n",
       "    .dataframe tbody tr th:only-of-type {\n",
       "        vertical-align: middle;\n",
       "    }\n",
       "\n",
       "    .dataframe tbody tr th {\n",
       "        vertical-align: top;\n",
       "    }\n",
       "\n",
       "    .dataframe thead th {\n",
       "        text-align: right;\n",
       "    }\n",
       "</style>\n",
       "<table border=\"1\" class=\"dataframe\">\n",
       "  <thead>\n",
       "    <tr style=\"text-align: right;\">\n",
       "      <th></th>\n",
       "      <th>text</th>\n",
       "      <th>title</th>\n",
       "    </tr>\n",
       "  </thead>\n",
       "  <tbody>\n",
       "    <tr>\n",
       "      <th>count</th>\n",
       "      <td>845871</td>\n",
       "      <td>845871</td>\n",
       "    </tr>\n",
       "    <tr>\n",
       "      <th>unique</th>\n",
       "      <td>845859</td>\n",
       "      <td>23142</td>\n",
       "    </tr>\n",
       "    <tr>\n",
       "      <th>top</th>\n",
       "      <td>она решила покарать меня за то, что я возвелич...</td>\n",
       "      <td>вопреки всему (роман о суини тодде)</td>\n",
       "    </tr>\n",
       "    <tr>\n",
       "      <th>freq</th>\n",
       "      <td>2</td>\n",
       "      <td>500</td>\n",
       "    </tr>\n",
       "  </tbody>\n",
       "</table>\n",
       "</div>"
      ]
     },
     "execution_count": 143,
     "metadata": {},
     "output_type": "execute_result"
    }
   ],
   "execution_count": 143
  },
  {
   "metadata": {
    "ExecuteTime": {
     "end_time": "2025-08-29T10:26:26.072090Z",
     "start_time": "2025-08-29T10:26:25.968471Z"
    }
   },
   "cell_type": "code",
   "source": "augmented_dataset = augmented_dataset[~augmented_dataset.duplicated(subset=[\"text\"], keep=False)]",
   "id": "8980df1670ea8520",
   "outputs": [],
   "execution_count": 144
  },
  {
   "metadata": {
    "ExecuteTime": {
     "end_time": "2025-08-29T10:26:27.591386Z",
     "start_time": "2025-08-29T10:26:27.187345Z"
    }
   },
   "cell_type": "code",
   "source": "augmented_dataset.describe()",
   "id": "9045b61d9e84d00a",
   "outputs": [
    {
     "data": {
      "text/plain": [
       "                                                     text                title\n",
       "count                                              845847               845847\n",
       "unique                                             845847                23142\n",
       "top     если ссылка неактивна, просто вставьте в адрес...  без чувств. книга 1\n",
       "freq                                                    1                  500"
      ],
      "text/html": [
       "<div>\n",
       "<style scoped>\n",
       "    .dataframe tbody tr th:only-of-type {\n",
       "        vertical-align: middle;\n",
       "    }\n",
       "\n",
       "    .dataframe tbody tr th {\n",
       "        vertical-align: top;\n",
       "    }\n",
       "\n",
       "    .dataframe thead th {\n",
       "        text-align: right;\n",
       "    }\n",
       "</style>\n",
       "<table border=\"1\" class=\"dataframe\">\n",
       "  <thead>\n",
       "    <tr style=\"text-align: right;\">\n",
       "      <th></th>\n",
       "      <th>text</th>\n",
       "      <th>title</th>\n",
       "    </tr>\n",
       "  </thead>\n",
       "  <tbody>\n",
       "    <tr>\n",
       "      <th>count</th>\n",
       "      <td>845847</td>\n",
       "      <td>845847</td>\n",
       "    </tr>\n",
       "    <tr>\n",
       "      <th>unique</th>\n",
       "      <td>845847</td>\n",
       "      <td>23142</td>\n",
       "    </tr>\n",
       "    <tr>\n",
       "      <th>top</th>\n",
       "      <td>если ссылка неактивна, просто вставьте в адрес...</td>\n",
       "      <td>без чувств. книга 1</td>\n",
       "    </tr>\n",
       "    <tr>\n",
       "      <th>freq</th>\n",
       "      <td>1</td>\n",
       "      <td>500</td>\n",
       "    </tr>\n",
       "  </tbody>\n",
       "</table>\n",
       "</div>"
      ]
     },
     "execution_count": 145,
     "metadata": {},
     "output_type": "execute_result"
    }
   ],
   "execution_count": 145
  },
  {
   "metadata": {
    "ExecuteTime": {
     "end_time": "2025-08-29T10:27:13.672836Z",
     "start_time": "2025-08-29T10:27:11.626126Z"
    }
   },
   "cell_type": "code",
   "source": "augmented_dataset.to_csv(\"../data/all_data_augmented/train_df.csv\", index=False)",
   "id": "5df47ab453024249",
   "outputs": [],
   "execution_count": 146
  },
  {
   "metadata": {},
   "cell_type": "code",
   "outputs": [],
   "execution_count": null,
   "source": "",
   "id": "cffb2828fa975129"
  }
 ],
 "metadata": {
  "kernelspec": {
   "display_name": "Python 3",
   "language": "python",
   "name": "python3"
  },
  "language_info": {
   "codemirror_mode": {
    "name": "ipython",
    "version": 2
   },
   "file_extension": ".py",
   "mimetype": "text/x-python",
   "name": "python",
   "nbconvert_exporter": "python",
   "pygments_lexer": "ipython2",
   "version": "2.7.6"
  }
 },
 "nbformat": 4,
 "nbformat_minor": 5
}
